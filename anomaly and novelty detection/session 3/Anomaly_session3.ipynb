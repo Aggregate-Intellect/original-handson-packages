{
  "nbformat": 4,
  "nbformat_minor": 0,
  "metadata": {
    "colab": {
      "name": "Copy of Anomaly_session3_V2.ipynb",
      "provenance": [],
      "collapsed_sections": []
    },
    "kernelspec": {
      "name": "python3",
      "display_name": "Python 3"
    }
  },
  "cells": [
    {
      "cell_type": "markdown",
      "metadata": {
        "id": "4-6VFT_Z3-CM"
      },
      "source": [
        "#### Import libraries"
      ]
    },
    {
      "cell_type": "code",
      "metadata": {
        "id": "bVkqGKrkJIad"
      },
      "source": [
        "import math\n",
        "import numpy as np\n",
        "import pandas as pd\n",
        "import seaborn as sns\n",
        "from collections import Counter\n",
        "import random\n",
        "import sys\n",
        "from sklearn.datasets import make_moons, make_blobs\n",
        "from sklearn.covariance import EllipticEnvelope\n",
        "from sklearn.metrics import classification_report,accuracy_score, f1_score, confusion_matrix, roc_auc_score, average_precision_score\n",
        "\n",
        "import tensorflow\n",
        "from keras.layers import Input, Dense, Lambda, Flatten, Reshape\n",
        "from keras.models import Model\n",
        "from keras.losses import mse, binary_crossentropy\n",
        "from tensorflow.keras.utils import plot_model\n",
        "from keras import backend as K\n",
        "from keras import metrics\n",
        "import matplotlib.pyplot as plt\n",
        "from sklearn.preprocessing import MinMaxScaler\n",
        "\n",
        "# from tf.keras.layers import Dense"
      ],
      "execution_count": 1,
      "outputs": []
    },
    {
      "cell_type": "code",
      "metadata": {
        "colab": {
          "base_uri": "https://localhost:8080/"
        },
        "id": "CStLhAgG3Lhg",
        "outputId": "0833660c-e08c-451e-c629-8c380a4f0ea8"
      },
      "source": [
        "#  Mount the drive to load datasets\n",
        "from google.colab import drive\n",
        "drive.mount('/drive')"
      ],
      "execution_count": 2,
      "outputs": [
        {
          "output_type": "stream",
          "text": [
            "Mounted at /drive\n"
          ],
          "name": "stdout"
        }
      ]
    },
    {
      "cell_type": "markdown",
      "metadata": {
        "id": "DSmLZSTsKGLg"
      },
      "source": [
        "#Data"
      ]
    },
    {
      "cell_type": "markdown",
      "metadata": {
        "id": "NLuWqCl2KJ7C"
      },
      "source": [
        "## Synthetic data"
      ]
    },
    {
      "cell_type": "code",
      "metadata": {
        "id": "vWRyFz675EFB"
      },
      "source": [
        "# Creating synthetic data for testing the models\n",
        "syntetic_dataset = {}\n",
        "syntetic_dataset['num'] = [[-1.1], [0.2], [101.1], [0.3], [1], [0.5]]\n",
        "n_samples = 300\n",
        "outliers_fraction = 0.15\n",
        "n_outliers = int(outliers_fraction * n_samples)\n",
        "n_inliers = n_samples - n_outliers\n",
        "rng = np.random.RandomState(42)\n",
        "blobs_params = dict(random_state=0, n_samples=n_inliers, n_features=2)\n",
        "syntetic_dataset['norm'] = make_blobs(centers=[[0, 0], [0, 0]],\n",
        "                                      cluster_std=0.5,\n",
        "                                      **blobs_params)[0]\n",
        "syntetic_dataset['2cluster'] = make_blobs(centers=[[2, 2], [-2, -2]],\n",
        "                                          cluster_std=[0.5, 0.5],\n",
        "                                          **blobs_params)[0]\n",
        "syntetic_dataset['2moon'] = 4. * (make_moons(n_samples=n_samples,\n",
        "                                             noise=.05,\n",
        "                                             random_state=0)[0] \n",
        "                                  - np.array([0.5, 0.25]))\n",
        "\n",
        "for dataset in syntetic_dataset.keys():\n",
        "    # Add outliers\n",
        "    if dataset == 'num':\n",
        "      continue\n",
        "    syntetic_dataset[dataset] = np.concatenate([syntetic_dataset[dataset],\n",
        "                                                rng.uniform(low=-6, high=6, \n",
        "                                                size=(n_outliers, 2))],\n",
        "                                                axis=0)"
      ],
      "execution_count": 3,
      "outputs": []
    },
    {
      "cell_type": "markdown",
      "metadata": {
        "id": "QEA-xK0tKU88"
      },
      "source": [
        "## MNIST"
      ]
    },
    {
      "cell_type": "code",
      "metadata": {
        "id": "GObQLfI0J1EM",
        "colab": {
          "base_uri": "https://localhost:8080/"
        },
        "outputId": "76b917c0-6504-4c97-855d-2f61e9bd8312"
      },
      "source": [
        "# Load MNIST dataset\n",
        "from keras.datasets import mnist\n",
        "import numpy as np\n",
        "(x_train, y_train), (x_test, y_test) = mnist.load_data()"
      ],
      "execution_count": 4,
      "outputs": [
        {
          "output_type": "stream",
          "text": [
            "Downloading data from https://storage.googleapis.com/tensorflow/tf-keras-datasets/mnist.npz\n",
            "11493376/11490434 [==============================] - 0s 0us/step\n",
            "11501568/11490434 [==============================] - 0s 0us/step\n"
          ],
          "name": "stdout"
        }
      ]
    },
    {
      "cell_type": "code",
      "metadata": {
        "id": "ZDooY5hZJ44E",
        "colab": {
          "base_uri": "https://localhost:8080/"
        },
        "outputId": "dc6ebb8b-f442-4e02-cb4c-5e43d25f35a0"
      },
      "source": [
        "#  Normalize the data\n",
        "x_train = x_train.astype('float32') / 255.\n",
        "x_test = x_test.astype('float32') / 255.\n",
        "\n",
        "# Reshape the data to run the NN models\n",
        "x_train = x_train.reshape((len(x_train), np.prod(x_train.shape[1:])))\n",
        "x_test = x_test.reshape((len(x_test), np.prod(x_test.shape[1:])))\n",
        "print(x_train.shape)\n",
        "print(x_test.shape)"
      ],
      "execution_count": 5,
      "outputs": [
        {
          "output_type": "stream",
          "text": [
            "(60000, 784)\n",
            "(10000, 784)\n"
          ],
          "name": "stdout"
        }
      ]
    },
    {
      "cell_type": "markdown",
      "metadata": {
        "id": "4TJFFjKpW8vC"
      },
      "source": [
        "#### Label Anamoly vs. Normal classes"
      ]
    },
    {
      "cell_type": "code",
      "metadata": {
        "id": "knp027iFM87b"
      },
      "source": [
        "# Treating [7,8,9] as the anamoly classes and all others as normal classes\n",
        "anomalous_classes = [7,8,9]\n",
        "mnist_anomaly = []\n",
        "mnist_data=[]\n",
        "for i, (image, label) in enumerate(zip(x_train, y_train)):\n",
        "    if label in anomalous_classes:\n",
        "        mnist_anomaly.append(image)\n",
        "    else:\n",
        "      mnist_data.append(image),\n",
        "mnist_data = np.array(mnist_data)\n",
        "mnist_anomaly = np.array(mnist_anomaly)"
      ],
      "execution_count": 6,
      "outputs": []
    },
    {
      "cell_type": "markdown",
      "metadata": {
        "id": "pkDTrqA1KYJi"
      },
      "source": [
        "##Credit Card Fraud Detection"
      ]
    },
    {
      "cell_type": "code",
      "metadata": {
        "id": "IfJ5Xe-R3Aya",
        "colab": {
          "base_uri": "https://localhost:8080/"
        },
        "outputId": "1b72660a-5518-4665-e97e-83e2a7c8b2e1"
      },
      "source": [
        "#  Load the credit card dataset\n",
        "creditcard_df = pd.read_csv('/drive/My Drive/Data_colab/creditcard.csv')\n",
        "print(creditcard_df.columns)\n",
        "creditcard_df.fillna(0, inplace=True)\n",
        "columns = [c for c in creditcard_df.columns if c not in [\"Class\"]]\n",
        "\n",
        "# Store the variable we are predicting \n",
        "target = \"Class\"\n",
        "\n",
        "# Define a random state \n",
        "state = np.random.RandomState(42)\n",
        "creditcard_X = creditcard_df[columns]\n",
        "creditcard_Y = creditcard_df[target]\n",
        "\n",
        "# Print the shapes of X & Y\n",
        "print(creditcard_X.shape)\n",
        "print(creditcard_Y.shape)\n",
        "np.unique(np.array(creditcard_Y), return_counts=True)\n",
        "\n",
        "#  Scale the data to train the model\n",
        "scaler = MinMaxScaler()\n",
        "creditcard_X_scaled = scaler.fit_transform(creditcard_X)\n",
        "creditcard_fraud = scaler.fit_transform(creditcard_df[creditcard_df['Class']==1][columns])\n",
        "creditcard_normal = scaler.fit_transform(creditcard_df[creditcard_df['Class']==0][columns])"
      ],
      "execution_count": 7,
      "outputs": [
        {
          "output_type": "stream",
          "text": [
            "Index(['Time', 'V1', 'V2', 'V3', 'V4', 'V5', 'V6', 'V7', 'V8', 'V9', 'V10',\n",
            "       'V11', 'V12', 'V13', 'V14', 'V15', 'V16', 'V17', 'V18', 'V19', 'V20',\n",
            "       'V21', 'V22', 'V23', 'V24', 'V25', 'V26', 'V27', 'V28', 'Amount',\n",
            "       'Class'],\n",
            "      dtype='object')\n",
            "(284807, 30)\n",
            "(284807,)\n"
          ],
          "name": "stdout"
        }
      ]
    },
    {
      "cell_type": "markdown",
      "metadata": {
        "id": "NZ__1N90SdWA"
      },
      "source": [
        "## Utility functions for building the model"
      ]
    },
    {
      "cell_type": "code",
      "metadata": {
        "id": "vuIN33VJShFU"
      },
      "source": [
        "def evaluation(lab, pred):\n",
        "  c = Counter()\n",
        "  c.update(pred.round())\n",
        "  print('prediction frequency: ')\n",
        "  print(c)\n",
        "  print(f\"Accuracy Score: {accuracy_score(lab, pred.round())}\")\n",
        "  print(f\"F1 Score: {f1_score(lab, pred.round())}\")\n",
        "  print(f\"Average Precision Score: {average_precision_score(lab, pred.round())}\")\n",
        "  print(f\"AUROC Score: {roc_auc_score(lab, pred)}\")\n",
        "  print(f\"Confusion Matrix:\\n {confusion_matrix(lab, pred.round())}\")\n",
        "  print(\"Classification Report :\")\n",
        "  print(classification_report(lab,pred.round()))"
      ],
      "execution_count": 8,
      "outputs": []
    },
    {
      "cell_type": "code",
      "metadata": {
        "id": "DLR_sL_BSwPG"
      },
      "source": [
        "def visualization(X,p,threshold=0.5):\n",
        "    plt.figure(figsize=(10,10))\n",
        "\n",
        "    plt.scatter(X[:,0],X[:,1],c=p,cmap='viridis',marker='x')\n",
        "    outliers = np.nonzero(p<threshold)[0]\n",
        "    plt.scatter(X[outliers,0],X[outliers,1],marker=\"o\",facecolor=\"none\",edgecolor=\"r\",s=70);\n",
        "    plt.colorbar();"
      ],
      "execution_count": 9,
      "outputs": []
    },
    {
      "cell_type": "markdown",
      "metadata": {
        "id": "dSlimNlSKc25"
      },
      "source": [
        "#Models"
      ]
    },
    {
      "cell_type": "markdown",
      "metadata": {
        "id": "8MAbrNg-KfiW"
      },
      "source": [
        "## Feedforward Neural Network"
      ]
    },
    {
      "cell_type": "code",
      "metadata": {
        "id": "h8zLmlQ7GDbL"
      },
      "source": [
        "#  Defining the layers for the NN model\n",
        "\n",
        "def NN_model(layer_widths=[784,10],activation='relu',final_activation='sigmoid'):\n",
        "  input_layer = Input(shape=(layer_widths[0],))\n",
        "  layer = input_layer\n",
        "  for width in layer_widths[1:-1]:\n",
        "      layer = Dense(\n",
        "          units=width,\n",
        "          activation=activation\n",
        "      )(layer)\n",
        "  output_layer = Dense(\n",
        "          units=layer_widths[-1],\n",
        "          activation=final_activation\n",
        "      )(layer)\n",
        "  nn = Model(input_layer, output_layer)\n",
        "  nn.summary()\n",
        "  return nn\n"
      ],
      "execution_count": 10,
      "outputs": []
    },
    {
      "cell_type": "markdown",
      "metadata": {
        "id": "tL8exgvtKmkz"
      },
      "source": [
        "## Auto Encoder NN"
      ]
    },
    {
      "cell_type": "code",
      "metadata": {
        "id": "nmdWN2kG577q"
      },
      "source": [
        "# Defining the architecture for the Autoencoder\n",
        "\n",
        "def AE_model(layer_widths=[784,10],activation='relu',final_activation='sigmoid'):\n",
        "  input_layer = Input(shape=(layer_widths[0],))\n",
        "  layer = input_layer\n",
        "  \n",
        "  #Encoder\n",
        "  for width in layer_widths[1:]:\n",
        "      layer = Dense(\n",
        "          units=width,\n",
        "          activation=activation\n",
        "      )(layer)\n",
        "  \n",
        "  #Decoder\n",
        "  for width in layer_widths[-2:0:-1]:\n",
        "      layer = Dense(\n",
        "          units=width,\n",
        "          activation=activation\n",
        "      )(layer)\n",
        "  output_layer = Dense(\n",
        "          units=layer_widths[0],\n",
        "          activation=final_activation\n",
        "      )(layer)\n",
        "  autoencoder = Model(input_layer, output_layer)\n",
        "  autoencoder.summary()\n",
        "  return autoencoder\n"
      ],
      "execution_count": 11,
      "outputs": []
    },
    {
      "cell_type": "markdown",
      "metadata": {
        "id": "bFOZvsWqKvhB"
      },
      "source": [
        "##Testing AutoEncoders for anomaly detection"
      ]
    },
    {
      "cell_type": "code",
      "metadata": {
        "id": "zVoaA25PXwBh",
        "colab": {
          "base_uri": "https://localhost:8080/",
          "height": 1000
        },
        "outputId": "0254e7cb-25d9-4bf8-9565-28f7df648330"
      },
      "source": [
        "synt_data = syntetic_dataset['norm']\n",
        "ae_synt = AE_model([2,1])\n",
        "ae_synt.compile(optimizer='adam', loss='binary_crossentropy')\n",
        "ae_synt.fit(synt_data, synt_data,\n",
        "                epochs=30,\n",
        "                batch_size=5,\n",
        "                shuffle=True)\n",
        "\n",
        "# Check the diff in value btw the original data and the generated data from Autoencoder --> reconstruction error\n",
        "pred_synt = np.mean(np.square(synt_data-ae_synt.predict(synt_data)),axis=1)\n",
        "visualization(synt_data,pred_synt<pred_synt.mean())"
      ],
      "execution_count": 12,
      "outputs": [
        {
          "output_type": "stream",
          "text": [
            "Model: \"model\"\n",
            "_________________________________________________________________\n",
            "Layer (type)                 Output Shape              Param #   \n",
            "=================================================================\n",
            "input_1 (InputLayer)         [(None, 2)]               0         \n",
            "_________________________________________________________________\n",
            "dense (Dense)                (None, 1)                 3         \n",
            "_________________________________________________________________\n",
            "dense_1 (Dense)              (None, 2)                 4         \n",
            "=================================================================\n",
            "Total params: 7\n",
            "Trainable params: 7\n",
            "Non-trainable params: 0\n",
            "_________________________________________________________________\n",
            "Epoch 1/30\n",
            "60/60 [==============================] - 13s 1ms/step - loss: 0.8249\n",
            "Epoch 2/30\n",
            "60/60 [==============================] - 0s 1ms/step - loss: 0.7689\n",
            "Epoch 3/30\n",
            "60/60 [==============================] - 0s 1ms/step - loss: 0.7699\n",
            "Epoch 4/30\n",
            "60/60 [==============================] - 0s 1ms/step - loss: 0.6418\n",
            "Epoch 5/30\n",
            "60/60 [==============================] - 0s 1ms/step - loss: 0.9321\n",
            "Epoch 6/30\n",
            "60/60 [==============================] - 0s 1ms/step - loss: 1.0637\n",
            "Epoch 7/30\n",
            "60/60 [==============================] - 0s 1ms/step - loss: 0.6304\n",
            "Epoch 8/30\n",
            "60/60 [==============================] - 0s 1ms/step - loss: 0.4281\n",
            "Epoch 9/30\n",
            "60/60 [==============================] - 0s 1ms/step - loss: 0.5906\n",
            "Epoch 10/30\n",
            "60/60 [==============================] - 0s 1ms/step - loss: 0.4043\n",
            "Epoch 11/30\n",
            "60/60 [==============================] - 0s 1ms/step - loss: 0.2743\n",
            "Epoch 12/30\n",
            "60/60 [==============================] - 0s 1ms/step - loss: 0.3995\n",
            "Epoch 13/30\n",
            "60/60 [==============================] - 0s 1ms/step - loss: 0.3565\n",
            "Epoch 14/30\n",
            "60/60 [==============================] - 0s 1ms/step - loss: 0.3282\n",
            "Epoch 15/30\n",
            "60/60 [==============================] - 0s 1ms/step - loss: 0.3219\n",
            "Epoch 16/30\n",
            "60/60 [==============================] - 0s 1ms/step - loss: 0.1937\n",
            "Epoch 17/30\n",
            "60/60 [==============================] - 0s 1ms/step - loss: -0.2531\n",
            "Epoch 18/30\n",
            "60/60 [==============================] - 0s 1ms/step - loss: -0.0738\n",
            "Epoch 19/30\n",
            "60/60 [==============================] - 0s 1ms/step - loss: -0.2918\n",
            "Epoch 20/30\n",
            "60/60 [==============================] - 0s 1ms/step - loss: -0.2466\n",
            "Epoch 21/30\n",
            "60/60 [==============================] - 0s 1ms/step - loss: -0.5619\n",
            "Epoch 22/30\n",
            "60/60 [==============================] - 0s 1ms/step - loss: -0.3430\n",
            "Epoch 23/30\n",
            "60/60 [==============================] - 0s 1ms/step - loss: -0.7039\n",
            "Epoch 24/30\n",
            "60/60 [==============================] - 0s 1ms/step - loss: -0.7768\n",
            "Epoch 25/30\n",
            "60/60 [==============================] - 0s 1ms/step - loss: -0.8305\n",
            "Epoch 26/30\n",
            "60/60 [==============================] - 0s 1ms/step - loss: -0.4703\n",
            "Epoch 27/30\n",
            "60/60 [==============================] - 0s 1ms/step - loss: -0.5101\n",
            "Epoch 28/30\n",
            "60/60 [==============================] - 0s 1ms/step - loss: -1.3987\n",
            "Epoch 29/30\n",
            "60/60 [==============================] - 0s 1ms/step - loss: -0.8873\n",
            "Epoch 30/30\n",
            "60/60 [==============================] - 0s 1ms/step - loss: -0.9769\n"
          ],
          "name": "stdout"
        },
        {
          "output_type": "display_data",
          "data": {
            "image/png": "[encoded data removed]",
            "text/plain": [
              "<Figure size 720x720 with 2 Axes>"
            ]
          },
          "metadata": {
            "tags": [],
            "needs_background": "light"
          }
        }
      ]
    },
    {
      "cell_type": "markdown",
      "metadata": {
        "id": "iUg6azkR6bWr"
      },
      "source": [
        "### Autoencoder on the MNIST dataset"
      ]
    },
    {
      "cell_type": "code",
      "metadata": {
        "id": "Fyktufu57lVD",
        "colab": {
          "base_uri": "https://localhost:8080/",
          "height": 837
        },
        "outputId": "bdd33756-553d-44e1-f151-b2317e7813e3"
      },
      "source": [
        "autoencoder = AE_model([784,30,10])\n",
        "autoencoder.compile(optimizer='adam', loss='binary_crossentropy')\n",
        "plot_model(autoencoder,show_shapes=True)"
      ],
      "execution_count": 13,
      "outputs": [
        {
          "output_type": "stream",
          "text": [
            "Model: \"model_1\"\n",
            "_________________________________________________________________\n",
            "Layer (type)                 Output Shape              Param #   \n",
            "=================================================================\n",
            "input_2 (InputLayer)         [(None, 784)]             0         \n",
            "_________________________________________________________________\n",
            "dense_2 (Dense)              (None, 30)                23550     \n",
            "_________________________________________________________________\n",
            "dense_3 (Dense)              (None, 10)                310       \n",
            "_________________________________________________________________\n",
            "dense_4 (Dense)              (None, 30)                330       \n",
            "_________________________________________________________________\n",
            "dense_5 (Dense)              (None, 784)               24304     \n",
            "=================================================================\n",
            "Total params: 48,494\n",
            "Trainable params: 48,494\n",
            "Non-trainable params: 0\n",
            "_________________________________________________________________\n"
          ],
          "name": "stdout"
        },
        {
          "output_type": "execute_result",
          "data": {
            "image/png": "[encoded data removed]",
            "text/plain": [
              "<IPython.core.display.Image object>"
            ]
          },
          "metadata": {
            "tags": []
          },
          "execution_count": 13
        }
      ]
    },
    {
      "cell_type": "code",
      "metadata": {
        "id": "p4zHCVkiJ9n5",
        "colab": {
          "base_uri": "https://localhost:8080/"
        },
        "outputId": "69368adf-96a1-4964-afd1-588db21a3631"
      },
      "source": [
        "# Autoencoder is modeled on the Normal/non anamoly data\n",
        "autoencoder.fit(mnist_data, mnist_data,\n",
        "                epochs=30,\n",
        "                batch_size=256,\n",
        "                shuffle=True)"
      ],
      "execution_count": 14,
      "outputs": [
        {
          "output_type": "stream",
          "text": [
            "Epoch 1/30\n",
            "164/164 [==============================] - 3s 11ms/step - loss: 0.4222\n",
            "Epoch 2/30\n",
            "164/164 [==============================] - 2s 11ms/step - loss: 0.2096\n",
            "Epoch 3/30\n",
            "164/164 [==============================] - 2s 11ms/step - loss: 0.1865\n",
            "Epoch 4/30\n",
            "164/164 [==============================] - 2s 10ms/step - loss: 0.1727\n",
            "Epoch 5/30\n",
            "164/164 [==============================] - 2s 11ms/step - loss: 0.1660\n",
            "Epoch 6/30\n",
            "164/164 [==============================] - 2s 11ms/step - loss: 0.1621\n",
            "Epoch 7/30\n",
            "164/164 [==============================] - 2s 11ms/step - loss: 0.1588\n",
            "Epoch 8/30\n",
            "164/164 [==============================] - 2s 10ms/step - loss: 0.1561\n",
            "Epoch 9/30\n",
            "164/164 [==============================] - 2s 11ms/step - loss: 0.1532\n",
            "Epoch 10/30\n",
            "164/164 [==============================] - 2s 10ms/step - loss: 0.1517\n",
            "Epoch 11/30\n",
            "164/164 [==============================] - 2s 11ms/step - loss: 0.1505\n",
            "Epoch 12/30\n",
            "164/164 [==============================] - 2s 10ms/step - loss: 0.1491\n",
            "Epoch 13/30\n",
            "164/164 [==============================] - 2s 11ms/step - loss: 0.1478\n",
            "Epoch 14/30\n",
            "164/164 [==============================] - 2s 11ms/step - loss: 0.1470\n",
            "Epoch 15/30\n",
            "164/164 [==============================] - 2s 10ms/step - loss: 0.1463\n",
            "Epoch 16/30\n",
            "164/164 [==============================] - 2s 11ms/step - loss: 0.1456\n",
            "Epoch 17/30\n",
            "164/164 [==============================] - 2s 11ms/step - loss: 0.1450\n",
            "Epoch 18/30\n",
            "164/164 [==============================] - 2s 11ms/step - loss: 0.1444\n",
            "Epoch 19/30\n",
            "164/164 [==============================] - 2s 11ms/step - loss: 0.1439\n",
            "Epoch 20/30\n",
            "164/164 [==============================] - 2s 10ms/step - loss: 0.1429\n",
            "Epoch 21/30\n",
            "164/164 [==============================] - 2s 10ms/step - loss: 0.1410\n",
            "Epoch 22/30\n",
            "164/164 [==============================] - 2s 11ms/step - loss: 0.1398\n",
            "Epoch 23/30\n",
            "164/164 [==============================] - 2s 11ms/step - loss: 0.1391\n",
            "Epoch 24/30\n",
            "164/164 [==============================] - 2s 11ms/step - loss: 0.1381\n",
            "Epoch 25/30\n",
            "164/164 [==============================] - 2s 10ms/step - loss: 0.1379\n",
            "Epoch 26/30\n",
            "164/164 [==============================] - 2s 11ms/step - loss: 0.1375\n",
            "Epoch 27/30\n",
            "164/164 [==============================] - 2s 10ms/step - loss: 0.1372\n",
            "Epoch 28/30\n",
            "164/164 [==============================] - 2s 11ms/step - loss: 0.1364\n",
            "Epoch 29/30\n",
            "164/164 [==============================] - 2s 10ms/step - loss: 0.1364\n",
            "Epoch 30/30\n",
            "164/164 [==============================] - 2s 10ms/step - loss: 0.1362\n"
          ],
          "name": "stdout"
        },
        {
          "output_type": "execute_result",
          "data": {
            "text/plain": [
              "<keras.callbacks.History at 0x7f9043305290>"
            ]
          },
          "metadata": {
            "tags": []
          },
          "execution_count": 14
        }
      ]
    },
    {
      "cell_type": "code",
      "metadata": {
        "id": "27Ge7mfyKmmY"
      },
      "source": [
        "# Trained AE is tested on the test set (with both anamoly and normal data points)\n",
        "decoded_imgs = autoencoder.predict(x_test)"
      ],
      "execution_count": 15,
      "outputs": []
    },
    {
      "cell_type": "code",
      "metadata": {
        "id": "cPdh7LMqKkzU",
        "colab": {
          "base_uri": "https://localhost:8080/",
          "height": 248
        },
        "outputId": "cf5ddc97-ba7a-4628-be65-019835d1c2c4"
      },
      "source": [
        "n = 10  # how many digits we will display\n",
        "plt.figure(figsize=(20, 4))\n",
        "for i in range(n):\n",
        "    # display original\n",
        "    ax = plt.subplot(2, n, i + 1)\n",
        "    plt.imshow(x_test[i].reshape(28, 28))\n",
        "    plt.gray()\n",
        "    ax.get_xaxis().set_visible(False)\n",
        "    ax.get_yaxis().set_visible(False)\n",
        "\n",
        "    # display reconstruction\n",
        "    ax = plt.subplot(2, n, i + 1 + n)\n",
        "    plt.imshow(decoded_imgs[i].reshape(28, 28))\n",
        "    plt.gray()\n",
        "    ax.get_xaxis().set_visible(False)\n",
        "    ax.get_yaxis().set_visible(False)\n",
        "plt.show()"
      ],
      "execution_count": 16,
      "outputs": [
        {
          "output_type": "display_data",
          "data": {
            "image/png": "[encoded data removed]",
            "text/plain": [
              "<Figure size 1440x288 with 20 Axes>"
            ]
          },
          "metadata": {
            "tags": [],
            "needs_background": "light"
          }
        }
      ]
    },
    {
      "cell_type": "code",
      "metadata": {
        "id": "hD-5Cw4B7l7R",
        "colab": {
          "base_uri": "https://localhost:8080/"
        },
        "outputId": "f71cb969-ec3a-4e15-ef1d-b28937c42312"
      },
      "source": [
        "threashold = np.max(np.mean(np.square(x_test-autoencoder.predict(x_test)),axis=0))\n",
        "print(\"threashold:%f\" % threashold)"
      ],
      "execution_count": 17,
      "outputs": [
        {
          "output_type": "stream",
          "text": [
            "threashold:0.117244\n"
          ],
          "name": "stdout"
        }
      ]
    },
    {
      "cell_type": "code",
      "metadata": {
        "id": "ND7NB97aq3dW",
        "colab": {
          "base_uri": "https://localhost:8080/",
          "height": 497
        },
        "outputId": "ff633b97-fc1c-40b5-832e-759f5c4caab0"
      },
      "source": [
        "# Reconstruction error is calculated and it is observed that the reconstruction error is more for the anamoly digits\n",
        "model_mse = lambda x: np.mean(np.square(x-autoencoder.predict(x)),axis=0)\n",
        "fig, ax1 = plt.subplots(1,1, figsize = (8,8))\n",
        "ax1.hist(model_mse(mnist_data), bins = np.linspace(0, 0.25, 40), label = 'Training Digits', density = True, alpha = 1.0)\n",
        "ax1.hist(model_mse(mnist_anomaly), bins = np.linspace(0, 0.25, 40), label = 'Anomaly Digits', density = True, alpha = 0.5)\n",
        "# ax1.hist(model_mse(), bins = np.linspace(0, .1, 50), label = 'Anomaly Digits', density = True, alpha = 0.5)\n",
        "ax1.legend()\n",
        "ax1.set_xlabel('Reconstruction Error');"
      ],
      "execution_count": 18,
      "outputs": [
        {
          "output_type": "display_data",
          "data": {
            "image/png": "[encoded data removed]",
            "text/plain": [
              "<Figure size 576x576 with 1 Axes>"
            ]
          },
          "metadata": {
            "tags": [],
            "needs_background": "light"
          }
        }
      ]
    },
    {
      "cell_type": "markdown",
      "metadata": {
        "id": "IggRipeaP2KU"
      },
      "source": [
        "##Credit card dataset"
      ]
    },
    {
      "cell_type": "markdown",
      "metadata": {
        "id": "k_4NEoN5hPWm"
      },
      "source": [
        "## **Exercise** Train the AE model for CCF dataset\n",
        "Please report you best f1 score result on slack! :-)\n",
        "\n",
        "Test different number of layers, layer size, number of batchs and number of epochs to see their effect!\n",
        "\n",
        "call you model *autoencoder_ccf*\n",
        "\n",
        "Once the model is trained run the next 2 cell to see its performance!\n"
      ]
    },
    {
      "cell_type": "code",
      "metadata": {
        "id": "O2Wwo5Dokq0a"
      },
      "source": [
        "#Exercise - Write the code required for using AE yo detect anamolies in the Credit card fraud data"
      ],
      "execution_count": 19,
      "outputs": []
    },
    {
      "cell_type": "code",
      "metadata": {
        "id": "yysbPabHLIwQ",
        "colab": {
          "base_uri": "https://localhost:8080/"
        },
        "outputId": "8e6c141b-c26d-4af9-b64d-f49f509db42f"
      },
      "source": [
        "autoencoder_ccf = AE_model([30,20,5])\n",
        "autoencoder_ccf.compile(optimizer='adam', loss='binary_crossentropy')\n",
        "autoencoder_ccf.fit(creditcard_normal, creditcard_normal,\n",
        "                epochs=30,\n",
        "                batch_size=256)"
      ],
      "execution_count": 20,
      "outputs": [
        {
          "output_type": "stream",
          "text": [
            "Model: \"model_2\"\n",
            "_________________________________________________________________\n",
            "Layer (type)                 Output Shape              Param #   \n",
            "=================================================================\n",
            "input_3 (InputLayer)         [(None, 30)]              0         \n",
            "_________________________________________________________________\n",
            "dense_6 (Dense)              (None, 20)                620       \n",
            "_________________________________________________________________\n",
            "dense_7 (Dense)              (None, 5)                 105       \n",
            "_________________________________________________________________\n",
            "dense_8 (Dense)              (None, 20)                120       \n",
            "_________________________________________________________________\n",
            "dense_9 (Dense)              (None, 30)                630       \n",
            "=================================================================\n",
            "Total params: 1,475\n",
            "Trainable params: 1,475\n",
            "Non-trainable params: 0\n",
            "_________________________________________________________________\n",
            "Epoch 1/30\n",
            "1111/1111 [==============================] - 3s 2ms/step - loss: 0.6073\n",
            "Epoch 2/30\n",
            "1111/1111 [==============================] - 2s 2ms/step - loss: 0.5858\n",
            "Epoch 3/30\n",
            "1111/1111 [==============================] - 2s 2ms/step - loss: 0.5857\n",
            "Epoch 4/30\n",
            "1111/1111 [==============================] - 2s 2ms/step - loss: 0.5857\n",
            "Epoch 5/30\n",
            "1111/1111 [==============================] - 2s 2ms/step - loss: 0.5856\n",
            "Epoch 6/30\n",
            "1111/1111 [==============================] - 2s 2ms/step - loss: 0.5854\n",
            "Epoch 7/30\n",
            "1111/1111 [==============================] - 2s 2ms/step - loss: 0.5853\n",
            "Epoch 8/30\n",
            "1111/1111 [==============================] - 2s 2ms/step - loss: 0.5852\n",
            "Epoch 9/30\n",
            "1111/1111 [==============================] - 2s 2ms/step - loss: 0.5852\n",
            "Epoch 10/30\n",
            "1111/1111 [==============================] - 2s 2ms/step - loss: 0.5852\n",
            "Epoch 11/30\n",
            "1111/1111 [==============================] - 2s 2ms/step - loss: 0.5852\n",
            "Epoch 12/30\n",
            "1111/1111 [==============================] - 2s 2ms/step - loss: 0.5852\n",
            "Epoch 13/30\n",
            "1111/1111 [==============================] - 2s 2ms/step - loss: 0.5851\n",
            "Epoch 14/30\n",
            "1111/1111 [==============================] - 2s 2ms/step - loss: 0.5851\n",
            "Epoch 15/30\n",
            "1111/1111 [==============================] - 2s 2ms/step - loss: 0.5851\n",
            "Epoch 16/30\n",
            "1111/1111 [==============================] - 2s 2ms/step - loss: 0.5852\n",
            "Epoch 17/30\n",
            "1111/1111 [==============================] - 2s 2ms/step - loss: 0.5852\n",
            "Epoch 18/30\n",
            "1111/1111 [==============================] - 2s 2ms/step - loss: 0.5852\n",
            "Epoch 19/30\n",
            "1111/1111 [==============================] - 2s 2ms/step - loss: 0.5851\n",
            "Epoch 20/30\n",
            "1111/1111 [==============================] - 2s 2ms/step - loss: 0.5852\n",
            "Epoch 21/30\n",
            "1111/1111 [==============================] - 2s 2ms/step - loss: 0.5851\n",
            "Epoch 22/30\n",
            "1111/1111 [==============================] - 2s 2ms/step - loss: 0.5851\n",
            "Epoch 23/30\n",
            "1111/1111 [==============================] - 2s 2ms/step - loss: 0.5851\n",
            "Epoch 24/30\n",
            "1111/1111 [==============================] - 2s 2ms/step - loss: 0.5851\n",
            "Epoch 25/30\n",
            "1111/1111 [==============================] - 2s 2ms/step - loss: 0.5851\n",
            "Epoch 26/30\n",
            "1111/1111 [==============================] - 2s 2ms/step - loss: 0.5851\n",
            "Epoch 27/30\n",
            "1111/1111 [==============================] - 3s 2ms/step - loss: 0.5851\n",
            "Epoch 28/30\n",
            "1111/1111 [==============================] - 2s 2ms/step - loss: 0.5851\n",
            "Epoch 29/30\n",
            "1111/1111 [==============================] - 2s 2ms/step - loss: 0.5851\n",
            "Epoch 30/30\n",
            "1111/1111 [==============================] - 2s 2ms/step - loss: 0.5851\n"
          ],
          "name": "stdout"
        },
        {
          "output_type": "execute_result",
          "data": {
            "text/plain": [
              "<keras.callbacks.History at 0x7f903f5b8910>"
            ]
          },
          "metadata": {
            "tags": []
          },
          "execution_count": 20
        }
      ]
    },
    {
      "cell_type": "code",
      "metadata": {
        "id": "ciO_A9qCQCbm",
        "colab": {
          "base_uri": "https://localhost:8080/",
          "height": 497
        },
        "outputId": "58498579-62f0-4a2f-c318-9d102923a94c"
      },
      "source": [
        "# Reconstruction error is calculated and it is observed that the reconstruction error is more for the fraud/anamoly transactions\n",
        "model_mse = lambda x: np.mean(np.square(x-autoencoder_ccf.predict(x)),axis=0)\n",
        "fig, ax1 = plt.subplots(1,1, figsize = (8,8))\n",
        "ax1.hist(model_mse(creditcard_normal), bins = np.linspace(0, 0.2, 40), label = 'Training Digits', density = True, alpha = 1.0)\n",
        "ax1.hist(model_mse(creditcard_fraud), bins = np.linspace(0, 0.2, 40), label = 'Testing Digits', density = True, alpha = 0.5)\n",
        "# ax1.hist(model_mse(), bins = np.linspace(0, .1, 50), label = 'Anomaly Digits', density = True, alpha = 0.5)\n",
        "ax1.legend()\n",
        "ax1.set_xlabel('Reconstruction Error');"
      ],
      "execution_count": 24,
      "outputs": [
        {
          "output_type": "display_data",
          "data": {
            "image/png": "[encoded data removed]",
            "text/plain": [
              "<Figure size 576x576 with 1 Axes>"
            ]
          },
          "metadata": {
            "tags": [],
            "needs_background": "light"
          }
        }
      ]
    },
    {
      "cell_type": "code",
      "metadata": {
        "id": "7oboeQDoTY8S",
        "colab": {
          "base_uri": "https://localhost:8080/"
        },
        "outputId": "0eedb985-f4ca-4d0d-9881-6be02c838a27"
      },
      "source": [
        "# Using the reconstruction error and a threshold anamoly points can be identified\n",
        "pred_ccf = np.mean(np.square(creditcard_X_scaled-autoencoder_ccf.predict(creditcard_X_scaled)),axis=1)\n",
        "Threshold = pred_ccf.mean() # what is the best threshold ?! 0.015?\n",
        "evaluation(creditcard_Y, pred_ccf>Threshold)"
      ],
      "execution_count": 25,
      "outputs": [
        {
          "output_type": "stream",
          "text": [
            "prediction frequency: \n",
            "Counter({0.0: 171254, 1.0: 113553})\n",
            "Accuracy Score: 0.6025483924201301\n",
            "F1 Score: 0.0074356613617431715\n",
            "Average Precision Score: 0.0034566244943774003\n",
            "AUROC Score: 0.7319442007884018\n",
            "Confusion Matrix:\n",
            " [[171186 113129]\n",
            " [    68    424]]\n",
            "Classification Report :\n",
            "              precision    recall  f1-score   support\n",
            "\n",
            "           0       1.00      0.60      0.75    284315\n",
            "           1       0.00      0.86      0.01       492\n",
            "\n",
            "    accuracy                           0.60    284807\n",
            "   macro avg       0.50      0.73      0.38    284807\n",
            "weighted avg       1.00      0.60      0.75    284807\n",
            "\n"
          ],
          "name": "stdout"
        }
      ]
    },
    {
      "cell_type": "markdown",
      "metadata": {
        "id": "cecK9-5HLRpj"
      },
      "source": [
        "#Variational Autoencoder (VAE)"
      ]
    },
    {
      "cell_type": "code",
      "metadata": {
        "id": "QiAgTGelrGS1"
      },
      "source": [
        "# Import the below to use the custom loss function\n",
        "from tensorflow.python.framework.ops import disable_eager_execution\n",
        "disable_eager_execution()\n",
        "\n",
        "from tensorflow import keras\n",
        "### hack tf-keras to appear as top level keras\n",
        "import sys\n",
        "sys.modules['keras'] = keras\n",
        "import horovod.tensorflow.keras as hvd\n",
        "### end of hack\n",
        "\n",
        "def sampling(args):\n",
        "    z_mean, z_log_var = args\n",
        "    batch = K.shape(z_mean)[0]\n",
        "    dim = K.int_shape(z_mean)[1]\n",
        "    # by default, random_normal has mean = 0 and std = 1.0\n",
        "    epsilon = K.random_normal(shape=(batch, dim)) # , mean=0., stddev=epsilon_std)\n",
        "    return z_mean + K.exp(0.5 * z_log_var) * epsilon\n",
        "\n",
        "def VAE_model(layer_widths=[784,10],activation='relu',final_activation='sigmoid', loss_func='mse'):\n",
        "  original_dim = layer_widths[0]\n",
        "  latent_dim = layer_widths[-1]\n",
        "  #Encoder\n",
        "  input_layer = Input(shape=(original_dim,))\n",
        "  layer = input_layer\n",
        "  for width in layer_widths[1:-1]:\n",
        "      layer = Dense(\n",
        "          units=width,\n",
        "          activation=activation\n",
        "      )(layer)\n",
        "\n",
        "  z_mean = Dense(latent_dim, name='z_mean')(layer)\n",
        "  z_log_var = Dense(latent_dim, name='z_log_var')(layer)\n",
        "\n",
        "  z = Lambda(sampling, output_shape=(latent_dim,))([z_mean, z_log_var])\n",
        "\n",
        "  #Decoder\n",
        "  layer = z\n",
        "  for width in layer_widths[-2:0:-1]:\n",
        "      layer = Dense(\n",
        "          units=width,\n",
        "          activation=activation\n",
        "      )(layer)\n",
        "  output_layer = Dense(\n",
        "            units=original_dim,\n",
        "            activation=final_activation\n",
        "        )(layer)\n",
        "\n",
        "  # instantiate VAE model\n",
        "  vae = Model(input_layer, output_layer)\n",
        "\n",
        "  def my_vae_loss(y_true, y_pred):\n",
        "    if loss_func == 'mse':\n",
        "      reconstruction_loss = mse(input_layer, output_layer)\n",
        "    else:\n",
        "      reconstruction_loss = binary_crossentropy(input_layer, output_layer)\n",
        "    reconstruction_loss *= original_dim\n",
        "    kl_loss = - 0.5 * K.sum(1 + z_log_var - K.square(z_mean) - K.exp(z_log_var), axis=-1)\n",
        "    vae_loss = K.mean(reconstruction_loss + kl_loss)\n",
        "    return vae_loss\n",
        "\n",
        "  vae.compile(optimizer='adam',loss=my_vae_loss, experimental_run_tf_function=False)\n",
        "  vae.summary()\n",
        "  return vae"
      ],
      "execution_count": 61,
      "outputs": []
    },
    {
      "cell_type": "markdown",
      "metadata": {
        "id": "WD3fT85gLUVi"
      },
      "source": [
        "## Testing VAE"
      ]
    },
    {
      "cell_type": "code",
      "metadata": {
        "id": "wb2zqAZdwI8m",
        "colab": {
          "base_uri": "https://localhost:8080/"
        },
        "outputId": "ee2a42d5-791e-4f80-b584-ca2b16655db8"
      },
      "source": [
        "vae = VAE_model([784,30,10])"
      ],
      "execution_count": 62,
      "outputs": [
        {
          "output_type": "stream",
          "text": [
            "Model: \"model_11\"\n",
            "__________________________________________________________________________________________________\n",
            "Layer (type)                    Output Shape         Param #     Connected to                     \n",
            "==================================================================================================\n",
            "input_7 (InputLayer)            [(None, 784)]        0                                            \n",
            "__________________________________________________________________________________________________\n",
            "dense_34 (Dense)                (None, 30)           23550       input_7[0][0]                    \n",
            "__________________________________________________________________________________________________\n",
            "z_mean (Dense)                  (None, 10)           310         dense_34[0][0]                   \n",
            "__________________________________________________________________________________________________\n",
            "z_log_var (Dense)               (None, 10)           310         dense_34[0][0]                   \n",
            "__________________________________________________________________________________________________\n",
            "lambda_8 (Lambda)               (None, 10)           0           z_mean[0][0]                     \n",
            "                                                                 z_log_var[0][0]                  \n",
            "__________________________________________________________________________________________________\n",
            "dense_35 (Dense)                (None, 30)           330         lambda_8[0][0]                   \n",
            "__________________________________________________________________________________________________\n",
            "dense_36 (Dense)                (None, 784)          24304       dense_35[0][0]                   \n",
            "==================================================================================================\n",
            "Total params: 48,804\n",
            "Trainable params: 48,804\n",
            "Non-trainable params: 0\n",
            "__________________________________________________________________________________________________\n"
          ],
          "name": "stdout"
        }
      ]
    },
    {
      "cell_type": "code",
      "metadata": {
        "id": "YMkFrknZtOZo"
      },
      "source": [
        "vae.fit(mnist_data, mnist_data,\n",
        "                epochs=25,\n",
        "                batch_size=256,\n",
        "                shuffle=True)"
      ],
      "execution_count": 63,
      "outputs": []
    },
    {
      "cell_type": "code",
      "metadata": {
        "id": "8vjL9BtVRIRX"
      },
      "source": [
        "vae_decoded_imgs = vae.predict(x_test)"
      ],
      "execution_count": null,
      "outputs": []
    },
    {
      "cell_type": "code",
      "metadata": {
        "id": "i4W6EDN6RDMk"
      },
      "source": [
        "n = 10  # how many digits we will display\n",
        "plt.figure(figsize=(20, 4))\n",
        "for i in range(n):\n",
        "    # display original\n",
        "    ax = plt.subplot(2, n, i + 1)\n",
        "    plt.imshow(x_test[i].reshape(28, 28))\n",
        "    plt.gray()\n",
        "    ax.get_xaxis().set_visible(False)\n",
        "    ax.get_yaxis().set_visible(False)\n",
        "\n",
        "    # display reconstruction\n",
        "    ax = plt.subplot(2, n, i + 1 + n)\n",
        "    plt.imshow(vae_decoded_imgs[i].reshape(28, 28))\n",
        "    plt.gray()\n",
        "    ax.get_xaxis().set_visible(False)\n",
        "    ax.get_yaxis().set_visible(False)\n",
        "plt.show()"
      ],
      "execution_count": null,
      "outputs": []
    },
    {
      "cell_type": "code",
      "metadata": {
        "id": "X-h1JrsVTEyH",
        "colab": {
          "base_uri": "https://localhost:8080/",
          "height": 599
        },
        "outputId": "55168bf3-6ea5-462e-8671-aefc6cd57cb3"
      },
      "source": [
        "model_mse = lambda x: np.mean(np.square(x-vae.predict(x)),axis=0)\n",
        "fig, ax1 = plt.subplots(1,1, figsize = (8,8))\n",
        "ax1.hist(model_mse(mnist_data), bins = np.linspace(0, 0.15, 40), label = 'Training Digits', density = True, alpha = 1.0)\n",
        "ax1.hist(model_mse(mnist_anomaly), bins = np.linspace(0, 0.15, 40), label = 'Anomaly Digits', density = True, alpha = 0.5)\n",
        "# ax1.hist(model_mse(anomaly_test), bins = np.linspace(0, .1, 50), label = 'Anomaly Digits', normed = True, alpha = 0.5)\n",
        "ax1.legend()\n",
        "ax1.set_xlabel('Reconstruction Error');"
      ],
      "execution_count": null,
      "outputs": [
        {
          "output_type": "stream",
          "text": [
            "/usr/local/lib/python3.6/dist-packages/ipykernel_launcher.py:3: MatplotlibDeprecationWarning: \n",
            "The 'normed' kwarg was deprecated in Matplotlib 2.1 and will be removed in 3.1. Use 'density' instead.\n",
            "  This is separate from the ipykernel package so we can avoid doing imports until\n",
            "/usr/local/lib/python3.6/dist-packages/ipykernel_launcher.py:4: MatplotlibDeprecationWarning: \n",
            "The 'normed' kwarg was deprecated in Matplotlib 2.1 and will be removed in 3.1. Use 'density' instead.\n",
            "  after removing the cwd from sys.path.\n"
          ],
          "name": "stderr"
        },
        {
          "output_type": "display_data",
          "data": {
            "image/png": "[encoded data removed]",
            "text/plain": [
              "<Figure size 576x576 with 1 Axes>"
            ]
          },
          "metadata": {
            "tags": []
          }
        }
      ]
    },
    {
      "cell_type": "markdown",
      "metadata": {
        "id": "v0-_jkCvU6x2"
      },
      "source": [
        "##Credit card dataset"
      ]
    },
    {
      "cell_type": "markdown",
      "metadata": {
        "id": "d5cRcOd8jRfl"
      },
      "source": [
        "## **Exercise** Train the VAE model for CCF dataset\n",
        "Please report you best f1 score result on slack! :-)\n",
        "\n",
        "Test different number of layers, layer size, number of batchs and number of epochs to see their effect!\n",
        "\n",
        "call you model *vae_ccf*\n",
        "\n",
        "Once the model is trained run the next 2 cell to see its performance!\n"
      ]
    },
    {
      "cell_type": "code",
      "metadata": {
        "id": "MHTo2LTgjJEO"
      },
      "source": [
        "#Exercise"
      ],
      "execution_count": null,
      "outputs": []
    },
    {
      "cell_type": "code",
      "metadata": {
        "id": "rvkIOYkTVAUa",
        "colab": {
          "base_uri": "https://localhost:8080/",
          "height": 1000
        },
        "outputId": "604ed933-c223-4589-d916-11d35c00eb34"
      },
      "source": [
        "vae_ccf = VAE_model([30,20,5])\n",
        "vae_ccf.compile(optimizer='adam', loss='binary_crossentropy')\n",
        "vae_ccf.fit(creditcard_normal, creditcard_normal,\n",
        "                epochs=30,\n",
        "                batch_size=256)"
      ],
      "execution_count": null,
      "outputs": [
        {
          "output_type": "stream",
          "text": [
            "Model: \"model_45\"\n",
            "__________________________________________________________________________________________________\n",
            "Layer (type)                    Output Shape         Param #     Connected to                     \n",
            "==================================================================================================\n",
            "input_46 (InputLayer)           (None, 30)           0                                            \n",
            "__________________________________________________________________________________________________\n",
            "dense_105 (Dense)               (None, 20)           620         input_46[0][0]                   \n",
            "__________________________________________________________________________________________________\n",
            "z_mean (Dense)                  (None, 5)            105         dense_105[0][0]                  \n",
            "__________________________________________________________________________________________________\n",
            "z_log_var (Dense)               (None, 5)            105         dense_105[0][0]                  \n",
            "__________________________________________________________________________________________________\n",
            "lambda_4 (Lambda)               (None, 5)            0           z_mean[0][0]                     \n",
            "                                                                 z_log_var[0][0]                  \n",
            "__________________________________________________________________________________________________\n",
            "dense_106 (Dense)               (None, 20)           120         lambda_4[0][0]                   \n",
            "__________________________________________________________________________________________________\n",
            "dense_107 (Dense)               (None, 30)           630         dense_106[0][0]                  \n",
            "==================================================================================================\n",
            "Total params: 1,580\n",
            "Trainable params: 1,580\n",
            "Non-trainable params: 0\n",
            "__________________________________________________________________________________________________\n",
            "Epoch 1/30\n",
            "284315/284315 [==============================] - 6s 20us/step - loss: 0.5966\n",
            "Epoch 2/30\n",
            "284315/284315 [==============================] - 3s 10us/step - loss: 0.5856\n",
            "Epoch 3/30\n",
            "284315/284315 [==============================] - 3s 10us/step - loss: 0.5850\n",
            "Epoch 4/30\n",
            "284315/284315 [==============================] - 3s 11us/step - loss: 0.5846\n",
            "Epoch 5/30\n",
            "284315/284315 [==============================] - 3s 10us/step - loss: 0.5844\n",
            "Epoch 6/30\n",
            "284315/284315 [==============================] - 3s 10us/step - loss: 0.5843\n",
            "Epoch 7/30\n",
            "284315/284315 [==============================] - 3s 10us/step - loss: 0.5842\n",
            "Epoch 8/30\n",
            "284315/284315 [==============================] - 3s 10us/step - loss: 0.5842\n",
            "Epoch 9/30\n",
            "284315/284315 [==============================] - 3s 11us/step - loss: 0.5841\n",
            "Epoch 10/30\n",
            "284315/284315 [==============================] - 3s 10us/step - loss: 0.5841\n",
            "Epoch 11/30\n",
            "284315/284315 [==============================] - 3s 10us/step - loss: 0.5840\n",
            "Epoch 12/30\n",
            "284315/284315 [==============================] - 3s 10us/step - loss: 0.5840\n",
            "Epoch 13/30\n",
            "284315/284315 [==============================] - 3s 10us/step - loss: 0.5840\n",
            "Epoch 14/30\n",
            "284315/284315 [==============================] - 3s 11us/step - loss: 0.5839\n",
            "Epoch 15/30\n",
            "284315/284315 [==============================] - 3s 10us/step - loss: 0.5839\n",
            "Epoch 16/30\n",
            "284315/284315 [==============================] - 3s 10us/step - loss: 0.5839\n",
            "Epoch 17/30\n",
            "284315/284315 [==============================] - 3s 11us/step - loss: 0.5839\n",
            "Epoch 18/30\n",
            "284315/284315 [==============================] - 3s 10us/step - loss: 0.5839\n",
            "Epoch 19/30\n",
            "284315/284315 [==============================] - 3s 11us/step - loss: 0.5838\n",
            "Epoch 20/30\n",
            "284315/284315 [==============================] - 3s 11us/step - loss: 0.5838\n",
            "Epoch 21/30\n",
            "284315/284315 [==============================] - 3s 10us/step - loss: 0.5838\n",
            "Epoch 22/30\n",
            "284315/284315 [==============================] - 3s 10us/step - loss: 0.5838\n",
            "Epoch 23/30\n",
            "284315/284315 [==============================] - 3s 10us/step - loss: 0.5838\n",
            "Epoch 24/30\n",
            "284315/284315 [==============================] - 3s 11us/step - loss: 0.5838\n",
            "Epoch 25/30\n",
            "284315/284315 [==============================] - 3s 11us/step - loss: 0.5838\n",
            "Epoch 26/30\n",
            "284315/284315 [==============================] - 3s 11us/step - loss: 0.5838\n",
            "Epoch 27/30\n",
            "284315/284315 [==============================] - 4s 15us/step - loss: 0.5838\n",
            "Epoch 28/30\n",
            "284315/284315 [==============================] - 4s 13us/step - loss: 0.5838\n",
            "Epoch 29/30\n",
            "284315/284315 [==============================] - 3s 12us/step - loss: 0.5838\n",
            "Epoch 30/30\n",
            "284315/284315 [==============================] - 3s 12us/step - loss: 0.5837\n"
          ],
          "name": "stdout"
        },
        {
          "output_type": "execute_result",
          "data": {
            "text/plain": [
              "<keras.callbacks.History at 0x7f970c9f8dd8>"
            ]
          },
          "metadata": {
            "tags": []
          },
          "execution_count": 184
        }
      ]
    },
    {
      "cell_type": "code",
      "metadata": {
        "id": "bF1wPteOVQOV",
        "colab": {
          "base_uri": "https://localhost:8080/",
          "height": 599
        },
        "outputId": "65e133ef-c75d-45fd-8178-822fc90a1142"
      },
      "source": [
        "model_mse = lambda x: np.mean(np.square(x-vae_ccf.predict(x)),axis=0)\n",
        "fig, ax1 = plt.subplots(1,1, figsize = (8,8))\n",
        "ax1.hist(model_mse(creditcard_normal), bins = np.linspace(0, 0.2, 40), label = 'Normal cases', normed = True, alpha = 1.0)\n",
        "ax1.hist(model_mse(creditcard_fraud), bins = np.linspace(0, 0.2, 40), label = 'Anomaly cases', normed = True, alpha = 0.5)\n",
        "# ax1.hist(model_mse(), bins = np.linspace(0, .1, 50), label = 'Anomaly Digits', normed = True, alpha = 0.5)\n",
        "ax1.legend()\n",
        "ax1.set_xlabel('Reconstruction Error');"
      ],
      "execution_count": null,
      "outputs": [
        {
          "output_type": "stream",
          "text": [
            "/usr/local/lib/python3.6/dist-packages/ipykernel_launcher.py:3: MatplotlibDeprecationWarning: \n",
            "The 'normed' kwarg was deprecated in Matplotlib 2.1 and will be removed in 3.1. Use 'density' instead.\n",
            "  This is separate from the ipykernel package so we can avoid doing imports until\n",
            "/usr/local/lib/python3.6/dist-packages/ipykernel_launcher.py:4: MatplotlibDeprecationWarning: \n",
            "The 'normed' kwarg was deprecated in Matplotlib 2.1 and will be removed in 3.1. Use 'density' instead.\n",
            "  after removing the cwd from sys.path.\n"
          ],
          "name": "stderr"
        },
        {
          "output_type": "display_data",
          "data": {
            "image/png": "[encoded data removed]",
            "text/plain": [
              "<Figure size 576x576 with 1 Axes>"
            ]
          },
          "metadata": {
            "tags": []
          }
        }
      ]
    },
    {
      "cell_type": "code",
      "metadata": {
        "id": "GpdgQhFnVXO0",
        "colab": {
          "base_uri": "https://localhost:8080/",
          "height": 340
        },
        "outputId": "2aa10bcd-b25f-409b-b17b-887d3341a1b9"
      },
      "source": [
        "pred_ccf = np.mean(np.square(creditcard_X_scaled-vae_ccf.predict(creditcard_X_scaled)),axis=1)\n",
        "evaluation(creditcard_Y,pred_ccf>0.015)"
      ],
      "execution_count": null,
      "outputs": [
        {
          "output_type": "stream",
          "text": [
            "prediction frequency: \n",
            "Counter({0.0: 284603, 1.0: 204})\n",
            "Accuracy Score: 0.9983708265597404\n",
            "F1 Score: 0.3333333333333333\n",
            "Average Precision Score: 0.13538682705455005\n",
            "AUROC Score: 0.6177314209348415\n",
            "Confusion Matrix:\n",
            " [[284227     88]\n",
            " [   376    116]]\n",
            "Classification Report :\n",
            "              precision    recall  f1-score   support\n",
            "\n",
            "           0       1.00      1.00      1.00    284315\n",
            "           1       0.57      0.24      0.33       492\n",
            "\n",
            "    accuracy                           1.00    284807\n",
            "   macro avg       0.78      0.62      0.67    284807\n",
            "weighted avg       1.00      1.00      1.00    284807\n",
            "\n"
          ],
          "name": "stdout"
        }
      ]
    },
    {
      "cell_type": "markdown",
      "metadata": {
        "id": "NwRcW2vaLezs"
      },
      "source": [
        "#Generative Adversarial Network (GAN)"
      ]
    },
    {
      "cell_type": "code",
      "metadata": {
        "id": "hf9V7RWQICKD"
      },
      "source": [
        "def gan_model(layer_widths=[784,30,10],r_alpha=0.5):\n",
        "  generator = AE_model(layer_widths=layer_widths,activation='relu',final_activation='sigmoid')\n",
        "\n",
        "  discriminator = NN_model(layer_widths=layer_widths+[1],activation='relu',final_activation='sigmoid')\n",
        "  discriminator.compile(optimizer='adam', loss='binary_crossentropy')\n",
        "\n",
        "  img = Input(shape=(input_dim,))\n",
        "  reconstructed_img = generator(img)\n",
        "  discriminator.trainable = False\n",
        "  validity = discriminator(reconstructed_img)\n",
        "\n",
        "  # Model to train Generator/R to minimize reconstruction loss and trick D to see generated images as real ones.\n",
        "  adversarial_model = Model(img, [reconstructed_img, validity])\n",
        "  adversarial_model.compile(loss=['binary_crossentropy', 'binary_crossentropy'],\n",
        "      loss_weights=[r_alpha, 1],\n",
        "      optimizer='adam')\n",
        "  adversarial_model.summary()\n",
        "  plot_model(adversarial_model,show_shapes=True,expand_nested=True)\n",
        "  return [generator,discriminator,adversarial_model]"
      ],
      "execution_count": 64,
      "outputs": []
    },
    {
      "cell_type": "markdown",
      "metadata": {
        "id": "1hCj2u1YLyAq"
      },
      "source": [
        "##Training GAN"
      ]
    },
    {
      "cell_type": "code",
      "metadata": {
        "id": "fwwcCd2SI-dS"
      },
      "source": [
        "def train_gan(generator,discriminator,adversarial_model,data = mnist_data,epochs = 10,batch_size = 128 ):\n",
        "  counter = 1\n",
        "  # Record generator/R network reconstruction training losses.\n",
        "  plot_epochs = []\n",
        "  plot_g_recon_losses = []\n",
        "  ones = np.ones((batch_size, 1))\n",
        "  zeros = np.zeros((batch_size, 1))\n",
        "  # training\n",
        "  for epoch in range(epochs):\n",
        "    print('Epoch ({}/{})-------------------------------------------------'.format(epoch,epochs))\n",
        "    batch_idxs = len(data) // batch_size\n",
        "    for idx in range(0, batch_idxs):\n",
        "      batch = data[idx * batch_size:(idx + 1) * batch_size]\n",
        "      batch_images = np.array(batch).astype(np.float32)\n",
        "      batch_fake_images = generator.predict(batch_images)\n",
        "      # Update D network, minimize real images inputs->D-> ones, noisy z->R->D->zeros loss.\n",
        "      d_loss_real = discriminator.train_on_batch(batch_images, ones)\n",
        "      d_loss_fake = discriminator.train_on_batch(batch_fake_images, zeros)\n",
        "\n",
        "      # Update R network twice, minimize noisy z->R->D->ones and reconstruction loss.\n",
        "      adversarial_model.train_on_batch(batch_images, [batch_images, ones])\n",
        "      g_loss = adversarial_model.train_on_batch(batch_images, [batch_images, ones])    \n",
        "      plot_epochs.append(epoch+idx/batch_idxs)\n",
        "      plot_g_recon_losses.append(g_loss[1])\n",
        "      counter += 1\n",
        "      msg = 'Epoch:[{0}]-[{1}/{2}] --> d_loss: {3:>0.3f}, g_loss:{4:>0.3f}, g_recon_loss:{4:>0.3f}'.format(epoch, idx, batch_idxs, d_loss_real+d_loss_fake, g_loss[0], g_loss[1])\n",
        "      if idx%50==0:\n",
        "        print(msg)\n",
        "\n",
        "  plt.title('Generator/R network reconstruction losses')\n",
        "  plt.xlabel('Epoch')\n",
        "  plt.ylabel('training loss')\n",
        "  plt.grid()\n",
        "  plt.plot(plot_epochs,plot_g_recon_losses)\n",
        "  # plt.savefig('plot_g_recon_losses.png')"
      ],
      "execution_count": 65,
      "outputs": []
    },
    {
      "cell_type": "markdown",
      "metadata": {
        "id": "H8BDX8HLL28x"
      },
      "source": [
        "##Testing GAN"
      ]
    },
    {
      "cell_type": "code",
      "metadata": {
        "id": "m2PpU4BcJLHz"
      },
      "source": [
        "# data = x_train\n",
        "data = mnist_data\n",
        "input_dim = 784\n",
        "layer_widths =[784,40,10]\n",
        "generator,discriminator,adversarial_model=gan_model(layer_widths=layer_widths,r_alpha=0.8)\n",
        "train_gan(generator,discriminator,adversarial_model,data = data,epochs = 10,batch_size = 128 )"
      ],
      "execution_count": 67,
      "outputs": []
    },
    {
      "cell_type": "code",
      "metadata": {
        "id": "TXOwmLYJTdGi"
      },
      "source": [
        "def test_reconstruction(label, data_index = 11):\n",
        "    specific_idx = np.where(y_train == label)[0]\n",
        "    if data_index >= len(x_train):\n",
        "        data_index = 0\n",
        "    data = x_train[specific_idx][data_index:data_index+1]\n",
        "    model_predicts = adversarial_model.predict(data)\n",
        "    \n",
        "    fig= plt.figure(figsize=(8, 8))\n",
        "    columns = 1\n",
        "    rows = 2\n",
        "    fig.add_subplot(rows, columns, 1)\n",
        "    input_image = data.reshape((28, 28))\n",
        "    reconstructed_image = model_predicts[0].reshape((28, 28))\n",
        "    plt.title('Input')\n",
        "    plt.imshow(input_image, label='Input')\n",
        "    fig.add_subplot(rows, columns, 2)\n",
        "    plt.title('Reconstruction')\n",
        "    plt.imshow(reconstructed_image, label='Reconstructed')\n",
        "    plt.show()\n",
        "    # Compute the mean binary_crossentropy loss of reconstructed image.\n",
        "    y_true = K.variable(reconstructed_image)\n",
        "    y_pred = K.variable(input_image)\n",
        "    error = K.eval(binary_crossentropy(y_true, y_pred)).mean()\n",
        "    print('Reconstruction loss:', error)\n",
        "    print('Discriminator Output:', model_predicts[1][0][0])"
      ],
      "execution_count": null,
      "outputs": []
    },
    {
      "cell_type": "code",
      "metadata": {
        "id": "UoQb8eQXUxjp",
        "colab": {
          "base_uri": "https://localhost:8080/",
          "height": 533
        },
        "outputId": "fbf04f84-d090-43d3-f499-e4cffac7b956"
      },
      "source": [
        "test_reconstruction(7)"
      ],
      "execution_count": null,
      "outputs": [
        {
          "output_type": "display_data",
          "data": {
            "image/png": "[encoded data removed]",
            "text/plain": [
              "<Figure size 576x576 with 2 Axes>"
            ]
          },
          "metadata": {
            "tags": []
          }
        },
        {
          "output_type": "stream",
          "text": [
            "Reconstruction loss: 0.8858302\n",
            "Discriminator Output: 0.50147927\n"
          ],
          "name": "stdout"
        }
      ]
    },
    {
      "cell_type": "markdown",
      "metadata": {
        "id": "XkaR9E6dVjK1"
      },
      "source": [
        "##Credit card dataset"
      ]
    },
    {
      "cell_type": "markdown",
      "metadata": {
        "id": "QkWt8kx_Z1Sz"
      },
      "source": [
        "###**Exercise**: Implement GAN Anomaly detection model for CCF\n",
        "Write the evaluation function and test your model\n",
        "\n",
        "Please report you best f1 score result on slack! :-)\n",
        "\n",
        "Test different number of layers, layer size,alpha, number of batchs and number of epochs to see their effect!\n"
      ]
    },
    {
      "cell_type": "code",
      "metadata": {
        "id": "9TNRvGMWVpOp"
      },
      "source": [
        "data = creditcard_X_scaled\n",
        "input_dim = 30\n",
        "layer_widths =[30,20,10]\n",
        "generator,discriminator,adversarial_model=gan_model(layer_widths=layer_widths,r_alpha=0.5)\n",
        "train_gan(generator,discriminator,adversarial_model,data = data, epochs = 10,batch_size = 256 )"
      ],
      "execution_count": null,
      "outputs": []
    },
    {
      "cell_type": "markdown",
      "metadata": {
        "id": "L1Gaf7miYsVD"
      },
      "source": [
        "Some links for your development:\n",
        "\n",
        "https://github.com/matken11235/keras-anogan\n",
        "\n",
        "https://github.com/bumuckl/AutoencodersForUnsupervisedAnomalyDetection\n"
      ]
    }
  ]
}