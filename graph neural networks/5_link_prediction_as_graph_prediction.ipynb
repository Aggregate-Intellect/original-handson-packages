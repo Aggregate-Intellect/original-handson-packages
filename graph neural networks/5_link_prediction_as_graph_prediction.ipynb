{
  "nbformat": 4,
  "nbformat_minor": 0,
  "metadata": {
    "colab": {
      "name": "Copy of 5_link_prediction_as_graph_prediction.ipynb",
      "provenance": [],
      "collapsed_sections": []
    },
    "kernelspec": {
      "name": "python3",
      "display_name": "Python 3"
    },
    "accelerator": "GPU",
    "widgets": {
      "application/vnd.jupyter.widget-state+json": {
        "62ed622335ac4de6b450efbead09b7b9": {
          "model_module": "@jupyter-widgets/controls",
          "model_name": "HBoxModel",
          "state": {
            "_view_name": "HBoxView",
            "_dom_classes": [],
            "_model_name": "HBoxModel",
            "_view_module": "@jupyter-widgets/controls",
            "_model_module_version": "1.5.0",
            "_view_count": null,
            "_view_module_version": "1.5.0",
            "box_style": "",
            "layout": "IPY_MODEL_177c6f0e2a314f5d9ddb68738f3e8d86",
            "_model_module": "@jupyter-widgets/controls",
            "children": [
              "IPY_MODEL_7df490f1c0ea4883a7a748125fb74f44",
              "IPY_MODEL_bc70a7ee504f4ccaadd932e9920ddd9b"
            ]
          }
        },
        "177c6f0e2a314f5d9ddb68738f3e8d86": {
          "model_module": "@jupyter-widgets/base",
          "model_name": "LayoutModel",
          "state": {
            "_view_name": "LayoutView",
            "grid_template_rows": null,
            "right": null,
            "justify_content": null,
            "_view_module": "@jupyter-widgets/base",
            "overflow": null,
            "_model_module_version": "1.2.0",
            "_view_count": null,
            "flex_flow": null,
            "width": null,
            "min_width": null,
            "border": null,
            "align_items": null,
            "bottom": null,
            "_model_module": "@jupyter-widgets/base",
            "top": null,
            "grid_column": null,
            "overflow_y": null,
            "overflow_x": null,
            "grid_auto_flow": null,
            "grid_area": null,
            "grid_template_columns": null,
            "flex": null,
            "_model_name": "LayoutModel",
            "justify_items": null,
            "grid_row": null,
            "max_height": null,
            "align_content": null,
            "visibility": null,
            "align_self": null,
            "height": null,
            "min_height": null,
            "padding": null,
            "grid_auto_rows": null,
            "grid_gap": null,
            "max_width": null,
            "order": null,
            "_view_module_version": "1.2.0",
            "grid_template_areas": null,
            "object_position": null,
            "object_fit": null,
            "grid_auto_columns": null,
            "margin": null,
            "display": null,
            "left": null
          }
        },
        "7df490f1c0ea4883a7a748125fb74f44": {
          "model_module": "@jupyter-widgets/controls",
          "model_name": "FloatProgressModel",
          "state": {
            "_view_name": "ProgressView",
            "style": "IPY_MODEL_2fc9fea6729545b09bb14a872266d3df",
            "_dom_classes": [],
            "description": "100%",
            "_model_name": "FloatProgressModel",
            "bar_style": "success",
            "max": 26704,
            "_view_module": "@jupyter-widgets/controls",
            "_model_module_version": "1.5.0",
            "value": 26704,
            "_view_count": null,
            "_view_module_version": "1.5.0",
            "orientation": "horizontal",
            "min": 0,
            "description_tooltip": null,
            "_model_module": "@jupyter-widgets/controls",
            "layout": "IPY_MODEL_27d20be4193648a29c78a07a8c8a99fc"
          }
        },
        "bc70a7ee504f4ccaadd932e9920ddd9b": {
          "model_module": "@jupyter-widgets/controls",
          "model_name": "HTMLModel",
          "state": {
            "_view_name": "HTMLView",
            "style": "IPY_MODEL_8a466cd800824130a4ae23e3416daf72",
            "_dom_classes": [],
            "description": "",
            "_model_name": "HTMLModel",
            "placeholder": "​",
            "_view_module": "@jupyter-widgets/controls",
            "_model_module_version": "1.5.0",
            "value": " 26704/26704 [02:09&lt;00:00, 206.39it/s]",
            "_view_count": null,
            "_view_module_version": "1.5.0",
            "description_tooltip": null,
            "_model_module": "@jupyter-widgets/controls",
            "layout": "IPY_MODEL_f75d0641598646e5a24f85976fa0be57"
          }
        },
        "2fc9fea6729545b09bb14a872266d3df": {
          "model_module": "@jupyter-widgets/controls",
          "model_name": "ProgressStyleModel",
          "state": {
            "_view_name": "StyleView",
            "_model_name": "ProgressStyleModel",
            "description_width": "initial",
            "_view_module": "@jupyter-widgets/base",
            "_model_module_version": "1.5.0",
            "_view_count": null,
            "_view_module_version": "1.2.0",
            "bar_color": null,
            "_model_module": "@jupyter-widgets/controls"
          }
        },
        "27d20be4193648a29c78a07a8c8a99fc": {
          "model_module": "@jupyter-widgets/base",
          "model_name": "LayoutModel",
          "state": {
            "_view_name": "LayoutView",
            "grid_template_rows": null,
            "right": null,
            "justify_content": null,
            "_view_module": "@jupyter-widgets/base",
            "overflow": null,
            "_model_module_version": "1.2.0",
            "_view_count": null,
            "flex_flow": null,
            "width": null,
            "min_width": null,
            "border": null,
            "align_items": null,
            "bottom": null,
            "_model_module": "@jupyter-widgets/base",
            "top": null,
            "grid_column": null,
            "overflow_y": null,
            "overflow_x": null,
            "grid_auto_flow": null,
            "grid_area": null,
            "grid_template_columns": null,
            "flex": null,
            "_model_name": "LayoutModel",
            "justify_items": null,
            "grid_row": null,
            "max_height": null,
            "align_content": null,
            "visibility": null,
            "align_self": null,
            "height": null,
            "min_height": null,
            "padding": null,
            "grid_auto_rows": null,
            "grid_gap": null,
            "max_width": null,
            "order": null,
            "_view_module_version": "1.2.0",
            "grid_template_areas": null,
            "object_position": null,
            "object_fit": null,
            "grid_auto_columns": null,
            "margin": null,
            "display": null,
            "left": null
          }
        },
        "8a466cd800824130a4ae23e3416daf72": {
          "model_module": "@jupyter-widgets/controls",
          "model_name": "DescriptionStyleModel",
          "state": {
            "_view_name": "StyleView",
            "_model_name": "DescriptionStyleModel",
            "description_width": "",
            "_view_module": "@jupyter-widgets/base",
            "_model_module_version": "1.5.0",
            "_view_count": null,
            "_view_module_version": "1.2.0",
            "_model_module": "@jupyter-widgets/controls"
          }
        },
        "f75d0641598646e5a24f85976fa0be57": {
          "model_module": "@jupyter-widgets/base",
          "model_name": "LayoutModel",
          "state": {
            "_view_name": "LayoutView",
            "grid_template_rows": null,
            "right": null,
            "justify_content": null,
            "_view_module": "@jupyter-widgets/base",
            "overflow": null,
            "_model_module_version": "1.2.0",
            "_view_count": null,
            "flex_flow": null,
            "width": null,
            "min_width": null,
            "border": null,
            "align_items": null,
            "bottom": null,
            "_model_module": "@jupyter-widgets/base",
            "top": null,
            "grid_column": null,
            "overflow_y": null,
            "overflow_x": null,
            "grid_auto_flow": null,
            "grid_area": null,
            "grid_template_columns": null,
            "flex": null,
            "_model_name": "LayoutModel",
            "justify_items": null,
            "grid_row": null,
            "max_height": null,
            "align_content": null,
            "visibility": null,
            "align_self": null,
            "height": null,
            "min_height": null,
            "padding": null,
            "grid_auto_rows": null,
            "grid_gap": null,
            "max_width": null,
            "order": null,
            "_view_module_version": "1.2.0",
            "grid_template_areas": null,
            "object_position": null,
            "object_fit": null,
            "grid_auto_columns": null,
            "margin": null,
            "display": null,
            "left": null
          }
        },
        "897ba88177a0484591bd436f6705876b": {
          "model_module": "@jupyter-widgets/controls",
          "model_name": "HBoxModel",
          "state": {
            "_view_name": "HBoxView",
            "_dom_classes": [],
            "_model_name": "HBoxModel",
            "_view_module": "@jupyter-widgets/controls",
            "_model_module_version": "1.5.0",
            "_view_count": null,
            "_view_module_version": "1.5.0",
            "box_style": "",
            "layout": "IPY_MODEL_23c016c94f92482c9466b496472656de",
            "_model_module": "@jupyter-widgets/controls",
            "children": [
              "IPY_MODEL_49ff4c192402431c986cda873ae4e26a",
              "IPY_MODEL_bb22290b53f741c98e96c313fdfbe7f5"
            ]
          }
        },
        "23c016c94f92482c9466b496472656de": {
          "model_module": "@jupyter-widgets/base",
          "model_name": "LayoutModel",
          "state": {
            "_view_name": "LayoutView",
            "grid_template_rows": null,
            "right": null,
            "justify_content": null,
            "_view_module": "@jupyter-widgets/base",
            "overflow": null,
            "_model_module_version": "1.2.0",
            "_view_count": null,
            "flex_flow": null,
            "width": null,
            "min_width": null,
            "border": null,
            "align_items": null,
            "bottom": null,
            "_model_module": "@jupyter-widgets/base",
            "top": null,
            "grid_column": null,
            "overflow_y": null,
            "overflow_x": null,
            "grid_auto_flow": null,
            "grid_area": null,
            "grid_template_columns": null,
            "flex": null,
            "_model_name": "LayoutModel",
            "justify_items": null,
            "grid_row": null,
            "max_height": null,
            "align_content": null,
            "visibility": null,
            "align_self": null,
            "height": null,
            "min_height": null,
            "padding": null,
            "grid_auto_rows": null,
            "grid_gap": null,
            "max_width": null,
            "order": null,
            "_view_module_version": "1.2.0",
            "grid_template_areas": null,
            "object_position": null,
            "object_fit": null,
            "grid_auto_columns": null,
            "margin": null,
            "display": null,
            "left": null
          }
        },
        "49ff4c192402431c986cda873ae4e26a": {
          "model_module": "@jupyter-widgets/controls",
          "model_name": "FloatProgressModel",
          "state": {
            "_view_name": "ProgressView",
            "style": "IPY_MODEL_3b1f45e4333a41039fce5941f81d9e30",
            "_dom_classes": [],
            "description": "100%",
            "_model_name": "FloatProgressModel",
            "bar_style": "success",
            "max": 26689,
            "_view_module": "@jupyter-widgets/controls",
            "_model_module_version": "1.5.0",
            "value": 26689,
            "_view_count": null,
            "_view_module_version": "1.5.0",
            "orientation": "horizontal",
            "min": 0,
            "description_tooltip": null,
            "_model_module": "@jupyter-widgets/controls",
            "layout": "IPY_MODEL_e0447f4f2bac4e7d999c15185c763796"
          }
        },
        "bb22290b53f741c98e96c313fdfbe7f5": {
          "model_module": "@jupyter-widgets/controls",
          "model_name": "HTMLModel",
          "state": {
            "_view_name": "HTMLView",
            "style": "IPY_MODEL_cfa5031e591446c38c1a766663307844",
            "_dom_classes": [],
            "description": "",
            "_model_name": "HTMLModel",
            "placeholder": "​",
            "_view_module": "@jupyter-widgets/controls",
            "_model_module_version": "1.5.0",
            "value": " 26689/26689 [01:44&lt;00:00, 255.44it/s]",
            "_view_count": null,
            "_view_module_version": "1.5.0",
            "description_tooltip": null,
            "_model_module": "@jupyter-widgets/controls",
            "layout": "IPY_MODEL_0c61c8c6e1f14853881557561effd595"
          }
        },
        "3b1f45e4333a41039fce5941f81d9e30": {
          "model_module": "@jupyter-widgets/controls",
          "model_name": "ProgressStyleModel",
          "state": {
            "_view_name": "StyleView",
            "_model_name": "ProgressStyleModel",
            "description_width": "initial",
            "_view_module": "@jupyter-widgets/base",
            "_model_module_version": "1.5.0",
            "_view_count": null,
            "_view_module_version": "1.2.0",
            "bar_color": null,
            "_model_module": "@jupyter-widgets/controls"
          }
        },
        "e0447f4f2bac4e7d999c15185c763796": {
          "model_module": "@jupyter-widgets/base",
          "model_name": "LayoutModel",
          "state": {
            "_view_name": "LayoutView",
            "grid_template_rows": null,
            "right": null,
            "justify_content": null,
            "_view_module": "@jupyter-widgets/base",
            "overflow": null,
            "_model_module_version": "1.2.0",
            "_view_count": null,
            "flex_flow": null,
            "width": null,
            "min_width": null,
            "border": null,
            "align_items": null,
            "bottom": null,
            "_model_module": "@jupyter-widgets/base",
            "top": null,
            "grid_column": null,
            "overflow_y": null,
            "overflow_x": null,
            "grid_auto_flow": null,
            "grid_area": null,
            "grid_template_columns": null,
            "flex": null,
            "_model_name": "LayoutModel",
            "justify_items": null,
            "grid_row": null,
            "max_height": null,
            "align_content": null,
            "visibility": null,
            "align_self": null,
            "height": null,
            "min_height": null,
            "padding": null,
            "grid_auto_rows": null,
            "grid_gap": null,
            "max_width": null,
            "order": null,
            "_view_module_version": "1.2.0",
            "grid_template_areas": null,
            "object_position": null,
            "object_fit": null,
            "grid_auto_columns": null,
            "margin": null,
            "display": null,
            "left": null
          }
        },
        "cfa5031e591446c38c1a766663307844": {
          "model_module": "@jupyter-widgets/controls",
          "model_name": "DescriptionStyleModel",
          "state": {
            "_view_name": "StyleView",
            "_model_name": "DescriptionStyleModel",
            "description_width": "",
            "_view_module": "@jupyter-widgets/base",
            "_model_module_version": "1.5.0",
            "_view_count": null,
            "_view_module_version": "1.2.0",
            "_model_module": "@jupyter-widgets/controls"
          }
        },
        "0c61c8c6e1f14853881557561effd595": {
          "model_module": "@jupyter-widgets/base",
          "model_name": "LayoutModel",
          "state": {
            "_view_name": "LayoutView",
            "grid_template_rows": null,
            "right": null,
            "justify_content": null,
            "_view_module": "@jupyter-widgets/base",
            "overflow": null,
            "_model_module_version": "1.2.0",
            "_view_count": null,
            "flex_flow": null,
            "width": null,
            "min_width": null,
            "border": null,
            "align_items": null,
            "bottom": null,
            "_model_module": "@jupyter-widgets/base",
            "top": null,
            "grid_column": null,
            "overflow_y": null,
            "overflow_x": null,
            "grid_auto_flow": null,
            "grid_area": null,
            "grid_template_columns": null,
            "flex": null,
            "_model_name": "LayoutModel",
            "justify_items": null,
            "grid_row": null,
            "max_height": null,
            "align_content": null,
            "visibility": null,
            "align_self": null,
            "height": null,
            "min_height": null,
            "padding": null,
            "grid_auto_rows": null,
            "grid_gap": null,
            "max_width": null,
            "order": null,
            "_view_module_version": "1.2.0",
            "grid_template_areas": null,
            "object_position": null,
            "object_fit": null,
            "grid_auto_columns": null,
            "margin": null,
            "display": null,
            "left": null
          }
        },
        "25531f8e38964a75b6db32b744ce3c21": {
          "model_module": "@jupyter-widgets/controls",
          "model_name": "HBoxModel",
          "state": {
            "_view_name": "HBoxView",
            "_dom_classes": [],
            "_model_name": "HBoxModel",
            "_view_module": "@jupyter-widgets/controls",
            "_model_module_version": "1.5.0",
            "_view_count": null,
            "_view_module_version": "1.5.0",
            "box_style": "",
            "layout": "IPY_MODEL_a55f87515c384eada079796545667414",
            "_model_module": "@jupyter-widgets/controls",
            "children": [
              "IPY_MODEL_cdf07703c9b84fc5b0ea5e39dd0314e1",
              "IPY_MODEL_ce4d0418e2574466936f75924d94af89"
            ]
          }
        },
        "a55f87515c384eada079796545667414": {
          "model_module": "@jupyter-widgets/base",
          "model_name": "LayoutModel",
          "state": {
            "_view_name": "LayoutView",
            "grid_template_rows": null,
            "right": null,
            "justify_content": null,
            "_view_module": "@jupyter-widgets/base",
            "overflow": null,
            "_model_module_version": "1.2.0",
            "_view_count": null,
            "flex_flow": null,
            "width": null,
            "min_width": null,
            "border": null,
            "align_items": null,
            "bottom": null,
            "_model_module": "@jupyter-widgets/base",
            "top": null,
            "grid_column": null,
            "overflow_y": null,
            "overflow_x": null,
            "grid_auto_flow": null,
            "grid_area": null,
            "grid_template_columns": null,
            "flex": null,
            "_model_name": "LayoutModel",
            "justify_items": null,
            "grid_row": null,
            "max_height": null,
            "align_content": null,
            "visibility": null,
            "align_self": null,
            "height": null,
            "min_height": null,
            "padding": null,
            "grid_auto_rows": null,
            "grid_gap": null,
            "max_width": null,
            "order": null,
            "_view_module_version": "1.2.0",
            "grid_template_areas": null,
            "object_position": null,
            "object_fit": null,
            "grid_auto_columns": null,
            "margin": null,
            "display": null,
            "left": null
          }
        },
        "cdf07703c9b84fc5b0ea5e39dd0314e1": {
          "model_module": "@jupyter-widgets/controls",
          "model_name": "FloatProgressModel",
          "state": {
            "_view_name": "ProgressView",
            "style": "IPY_MODEL_39e9018c73474f9badae4003522a463f",
            "_dom_classes": [],
            "description": "100%",
            "_model_name": "FloatProgressModel",
            "bar_style": "success",
            "max": 13344,
            "_view_module": "@jupyter-widgets/controls",
            "_model_module_version": "1.5.0",
            "value": 13344,
            "_view_count": null,
            "_view_module_version": "1.5.0",
            "orientation": "horizontal",
            "min": 0,
            "description_tooltip": null,
            "_model_module": "@jupyter-widgets/controls",
            "layout": "IPY_MODEL_9c622ede69004b68863a5a4654e89e15"
          }
        },
        "ce4d0418e2574466936f75924d94af89": {
          "model_module": "@jupyter-widgets/controls",
          "model_name": "HTMLModel",
          "state": {
            "_view_name": "HTMLView",
            "style": "IPY_MODEL_1dc73897e0ef4977bc1eb1fb9b07ae28",
            "_dom_classes": [],
            "description": "",
            "_model_name": "HTMLModel",
            "placeholder": "​",
            "_view_module": "@jupyter-widgets/controls",
            "_model_module_version": "1.5.0",
            "value": " 13344/13344 [00:35&lt;00:00, 379.58it/s]",
            "_view_count": null,
            "_view_module_version": "1.5.0",
            "description_tooltip": null,
            "_model_module": "@jupyter-widgets/controls",
            "layout": "IPY_MODEL_51f1ffed009c424e83731a75d103d234"
          }
        },
        "39e9018c73474f9badae4003522a463f": {
          "model_module": "@jupyter-widgets/controls",
          "model_name": "ProgressStyleModel",
          "state": {
            "_view_name": "StyleView",
            "_model_name": "ProgressStyleModel",
            "description_width": "initial",
            "_view_module": "@jupyter-widgets/base",
            "_model_module_version": "1.5.0",
            "_view_count": null,
            "_view_module_version": "1.2.0",
            "bar_color": null,
            "_model_module": "@jupyter-widgets/controls"
          }
        },
        "9c622ede69004b68863a5a4654e89e15": {
          "model_module": "@jupyter-widgets/base",
          "model_name": "LayoutModel",
          "state": {
            "_view_name": "LayoutView",
            "grid_template_rows": null,
            "right": null,
            "justify_content": null,
            "_view_module": "@jupyter-widgets/base",
            "overflow": null,
            "_model_module_version": "1.2.0",
            "_view_count": null,
            "flex_flow": null,
            "width": null,
            "min_width": null,
            "border": null,
            "align_items": null,
            "bottom": null,
            "_model_module": "@jupyter-widgets/base",
            "top": null,
            "grid_column": null,
            "overflow_y": null,
            "overflow_x": null,
            "grid_auto_flow": null,
            "grid_area": null,
            "grid_template_columns": null,
            "flex": null,
            "_model_name": "LayoutModel",
            "justify_items": null,
            "grid_row": null,
            "max_height": null,
            "align_content": null,
            "visibility": null,
            "align_self": null,
            "height": null,
            "min_height": null,
            "padding": null,
            "grid_auto_rows": null,
            "grid_gap": null,
            "max_width": null,
            "order": null,
            "_view_module_version": "1.2.0",
            "grid_template_areas": null,
            "object_position": null,
            "object_fit": null,
            "grid_auto_columns": null,
            "margin": null,
            "display": null,
            "left": null
          }
        },
        "1dc73897e0ef4977bc1eb1fb9b07ae28": {
          "model_module": "@jupyter-widgets/controls",
          "model_name": "DescriptionStyleModel",
          "state": {
            "_view_name": "StyleView",
            "_model_name": "DescriptionStyleModel",
            "description_width": "",
            "_view_module": "@jupyter-widgets/base",
            "_model_module_version": "1.5.0",
            "_view_count": null,
            "_view_module_version": "1.2.0",
            "_model_module": "@jupyter-widgets/controls"
          }
        },
        "51f1ffed009c424e83731a75d103d234": {
          "model_module": "@jupyter-widgets/base",
          "model_name": "LayoutModel",
          "state": {
            "_view_name": "LayoutView",
            "grid_template_rows": null,
            "right": null,
            "justify_content": null,
            "_view_module": "@jupyter-widgets/base",
            "overflow": null,
            "_model_module_version": "1.2.0",
            "_view_count": null,
            "flex_flow": null,
            "width": null,
            "min_width": null,
            "border": null,
            "align_items": null,
            "bottom": null,
            "_model_module": "@jupyter-widgets/base",
            "top": null,
            "grid_column": null,
            "overflow_y": null,
            "overflow_x": null,
            "grid_auto_flow": null,
            "grid_area": null,
            "grid_template_columns": null,
            "flex": null,
            "_model_name": "LayoutModel",
            "justify_items": null,
            "grid_row": null,
            "max_height": null,
            "align_content": null,
            "visibility": null,
            "align_self": null,
            "height": null,
            "min_height": null,
            "padding": null,
            "grid_auto_rows": null,
            "grid_gap": null,
            "max_width": null,
            "order": null,
            "_view_module_version": "1.2.0",
            "grid_template_areas": null,
            "object_position": null,
            "object_fit": null,
            "grid_auto_columns": null,
            "margin": null,
            "display": null,
            "left": null
          }
        },
        "55f17bf8d7514cb683fedbb0a630e785": {
          "model_module": "@jupyter-widgets/controls",
          "model_name": "HBoxModel",
          "state": {
            "_view_name": "HBoxView",
            "_dom_classes": [],
            "_model_name": "HBoxModel",
            "_view_module": "@jupyter-widgets/controls",
            "_model_module_version": "1.5.0",
            "_view_count": null,
            "_view_module_version": "1.5.0",
            "box_style": "",
            "layout": "IPY_MODEL_2e4598238884443c89d0b2fda1048c60",
            "_model_module": "@jupyter-widgets/controls",
            "children": [
              "IPY_MODEL_a848da27d00c49f4b444cf6352e087c9",
              "IPY_MODEL_41ec9282c198447184167ab36d202d2c"
            ]
          }
        },
        "2e4598238884443c89d0b2fda1048c60": {
          "model_module": "@jupyter-widgets/base",
          "model_name": "LayoutModel",
          "state": {
            "_view_name": "LayoutView",
            "grid_template_rows": null,
            "right": null,
            "justify_content": null,
            "_view_module": "@jupyter-widgets/base",
            "overflow": null,
            "_model_module_version": "1.2.0",
            "_view_count": null,
            "flex_flow": null,
            "width": null,
            "min_width": null,
            "border": null,
            "align_items": null,
            "bottom": null,
            "_model_module": "@jupyter-widgets/base",
            "top": null,
            "grid_column": null,
            "overflow_y": null,
            "overflow_x": null,
            "grid_auto_flow": null,
            "grid_area": null,
            "grid_template_columns": null,
            "flex": null,
            "_model_name": "LayoutModel",
            "justify_items": null,
            "grid_row": null,
            "max_height": null,
            "align_content": null,
            "visibility": null,
            "align_self": null,
            "height": null,
            "min_height": null,
            "padding": null,
            "grid_auto_rows": null,
            "grid_gap": null,
            "max_width": null,
            "order": null,
            "_view_module_version": "1.2.0",
            "grid_template_areas": null,
            "object_position": null,
            "object_fit": null,
            "grid_auto_columns": null,
            "margin": null,
            "display": null,
            "left": null
          }
        },
        "a848da27d00c49f4b444cf6352e087c9": {
          "model_module": "@jupyter-widgets/controls",
          "model_name": "FloatProgressModel",
          "state": {
            "_view_name": "ProgressView",
            "style": "IPY_MODEL_9a60dacfb2fc41dc8219b15307808a7c",
            "_dom_classes": [],
            "description": "100%",
            "_model_name": "FloatProgressModel",
            "bar_style": "success",
            "max": 13344,
            "_view_module": "@jupyter-widgets/controls",
            "_model_module_version": "1.5.0",
            "value": 13344,
            "_view_count": null,
            "_view_module_version": "1.5.0",
            "orientation": "horizontal",
            "min": 0,
            "description_tooltip": null,
            "_model_module": "@jupyter-widgets/controls",
            "layout": "IPY_MODEL_8ab4279c660948b488ecfb4e108026df"
          }
        },
        "41ec9282c198447184167ab36d202d2c": {
          "model_module": "@jupyter-widgets/controls",
          "model_name": "HTMLModel",
          "state": {
            "_view_name": "HTMLView",
            "style": "IPY_MODEL_de5c5aa9c02441e98274eb620c19e2cc",
            "_dom_classes": [],
            "description": "",
            "_model_name": "HTMLModel",
            "placeholder": "​",
            "_view_module": "@jupyter-widgets/controls",
            "_model_module_version": "1.5.0",
            "value": " 13344/13344 [01:17&lt;00:00, 173.25it/s]",
            "_view_count": null,
            "_view_module_version": "1.5.0",
            "description_tooltip": null,
            "_model_module": "@jupyter-widgets/controls",
            "layout": "IPY_MODEL_6c04b0b827774f6eb72f5e1e80ddb4cf"
          }
        },
        "9a60dacfb2fc41dc8219b15307808a7c": {
          "model_module": "@jupyter-widgets/controls",
          "model_name": "ProgressStyleModel",
          "state": {
            "_view_name": "StyleView",
            "_model_name": "ProgressStyleModel",
            "description_width": "initial",
            "_view_module": "@jupyter-widgets/base",
            "_model_module_version": "1.5.0",
            "_view_count": null,
            "_view_module_version": "1.2.0",
            "bar_color": null,
            "_model_module": "@jupyter-widgets/controls"
          }
        },
        "8ab4279c660948b488ecfb4e108026df": {
          "model_module": "@jupyter-widgets/base",
          "model_name": "LayoutModel",
          "state": {
            "_view_name": "LayoutView",
            "grid_template_rows": null,
            "right": null,
            "justify_content": null,
            "_view_module": "@jupyter-widgets/base",
            "overflow": null,
            "_model_module_version": "1.2.0",
            "_view_count": null,
            "flex_flow": null,
            "width": null,
            "min_width": null,
            "border": null,
            "align_items": null,
            "bottom": null,
            "_model_module": "@jupyter-widgets/base",
            "top": null,
            "grid_column": null,
            "overflow_y": null,
            "overflow_x": null,
            "grid_auto_flow": null,
            "grid_area": null,
            "grid_template_columns": null,
            "flex": null,
            "_model_name": "LayoutModel",
            "justify_items": null,
            "grid_row": null,
            "max_height": null,
            "align_content": null,
            "visibility": null,
            "align_self": null,
            "height": null,
            "min_height": null,
            "padding": null,
            "grid_auto_rows": null,
            "grid_gap": null,
            "max_width": null,
            "order": null,
            "_view_module_version": "1.2.0",
            "grid_template_areas": null,
            "object_position": null,
            "object_fit": null,
            "grid_auto_columns": null,
            "margin": null,
            "display": null,
            "left": null
          }
        },
        "de5c5aa9c02441e98274eb620c19e2cc": {
          "model_module": "@jupyter-widgets/controls",
          "model_name": "DescriptionStyleModel",
          "state": {
            "_view_name": "StyleView",
            "_model_name": "DescriptionStyleModel",
            "description_width": "",
            "_view_module": "@jupyter-widgets/base",
            "_model_module_version": "1.5.0",
            "_view_count": null,
            "_view_module_version": "1.2.0",
            "_model_module": "@jupyter-widgets/controls"
          }
        },
        "6c04b0b827774f6eb72f5e1e80ddb4cf": {
          "model_module": "@jupyter-widgets/base",
          "model_name": "LayoutModel",
          "state": {
            "_view_name": "LayoutView",
            "grid_template_rows": null,
            "right": null,
            "justify_content": null,
            "_view_module": "@jupyter-widgets/base",
            "overflow": null,
            "_model_module_version": "1.2.0",
            "_view_count": null,
            "flex_flow": null,
            "width": null,
            "min_width": null,
            "border": null,
            "align_items": null,
            "bottom": null,
            "_model_module": "@jupyter-widgets/base",
            "top": null,
            "grid_column": null,
            "overflow_y": null,
            "overflow_x": null,
            "grid_auto_flow": null,
            "grid_area": null,
            "grid_template_columns": null,
            "flex": null,
            "_model_name": "LayoutModel",
            "justify_items": null,
            "grid_row": null,
            "max_height": null,
            "align_content": null,
            "visibility": null,
            "align_self": null,
            "height": null,
            "min_height": null,
            "padding": null,
            "grid_auto_rows": null,
            "grid_gap": null,
            "max_width": null,
            "order": null,
            "_view_module_version": "1.2.0",
            "grid_template_areas": null,
            "object_position": null,
            "object_fit": null,
            "grid_auto_columns": null,
            "margin": null,
            "display": null,
            "left": null
          }
        },
        "d0332373d21940a382efb0b223474a7e": {
          "model_module": "@jupyter-widgets/controls",
          "model_name": "HBoxModel",
          "state": {
            "_view_name": "HBoxView",
            "_dom_classes": [],
            "_model_name": "HBoxModel",
            "_view_module": "@jupyter-widgets/controls",
            "_model_module_version": "1.5.0",
            "_view_count": null,
            "_view_module_version": "1.5.0",
            "box_style": "",
            "layout": "IPY_MODEL_ae4b45b79fe344eba16cc25c736ce4a5",
            "_model_module": "@jupyter-widgets/controls",
            "children": [
              "IPY_MODEL_d249c33a3aac453d9dea02fc0a01ad00",
              "IPY_MODEL_e27065f4e2f647c8bbcfba61683e5df6"
            ]
          }
        },
        "ae4b45b79fe344eba16cc25c736ce4a5": {
          "model_module": "@jupyter-widgets/base",
          "model_name": "LayoutModel",
          "state": {
            "_view_name": "LayoutView",
            "grid_template_rows": null,
            "right": null,
            "justify_content": null,
            "_view_module": "@jupyter-widgets/base",
            "overflow": null,
            "_model_module_version": "1.2.0",
            "_view_count": null,
            "flex_flow": null,
            "width": null,
            "min_width": null,
            "border": null,
            "align_items": null,
            "bottom": null,
            "_model_module": "@jupyter-widgets/base",
            "top": null,
            "grid_column": null,
            "overflow_y": null,
            "overflow_x": null,
            "grid_auto_flow": null,
            "grid_area": null,
            "grid_template_columns": null,
            "flex": null,
            "_model_name": "LayoutModel",
            "justify_items": null,
            "grid_row": null,
            "max_height": null,
            "align_content": null,
            "visibility": null,
            "align_self": null,
            "height": null,
            "min_height": null,
            "padding": null,
            "grid_auto_rows": null,
            "grid_gap": null,
            "max_width": null,
            "order": null,
            "_view_module_version": "1.2.0",
            "grid_template_areas": null,
            "object_position": null,
            "object_fit": null,
            "grid_auto_columns": null,
            "margin": null,
            "display": null,
            "left": null
          }
        },
        "d249c33a3aac453d9dea02fc0a01ad00": {
          "model_module": "@jupyter-widgets/controls",
          "model_name": "FloatProgressModel",
          "state": {
            "_view_name": "ProgressView",
            "style": "IPY_MODEL_b0af20282e6f4483bf3fd8f83d71f5d7",
            "_dom_classes": [],
            "description": "100%",
            "_model_name": "FloatProgressModel",
            "bar_style": "success",
            "max": 13344,
            "_view_module": "@jupyter-widgets/controls",
            "_model_module_version": "1.5.0",
            "value": 13344,
            "_view_count": null,
            "_view_module_version": "1.5.0",
            "orientation": "horizontal",
            "min": 0,
            "description_tooltip": null,
            "_model_module": "@jupyter-widgets/controls",
            "layout": "IPY_MODEL_a8586320976b41e49d297bf72c8b4b59"
          }
        },
        "e27065f4e2f647c8bbcfba61683e5df6": {
          "model_module": "@jupyter-widgets/controls",
          "model_name": "HTMLModel",
          "state": {
            "_view_name": "HTMLView",
            "style": "IPY_MODEL_1e77895f2dca4d29a8cc365d7eba6476",
            "_dom_classes": [],
            "description": "",
            "_model_name": "HTMLModel",
            "placeholder": "​",
            "_view_module": "@jupyter-widgets/controls",
            "_model_module_version": "1.5.0",
            "value": " 13344/13344 [00:48&lt;00:00, 276.14it/s]",
            "_view_count": null,
            "_view_module_version": "1.5.0",
            "description_tooltip": null,
            "_model_module": "@jupyter-widgets/controls",
            "layout": "IPY_MODEL_96971c0efb2e40e79b28457bce074702"
          }
        },
        "b0af20282e6f4483bf3fd8f83d71f5d7": {
          "model_module": "@jupyter-widgets/controls",
          "model_name": "ProgressStyleModel",
          "state": {
            "_view_name": "StyleView",
            "_model_name": "ProgressStyleModel",
            "description_width": "initial",
            "_view_module": "@jupyter-widgets/base",
            "_model_module_version": "1.5.0",
            "_view_count": null,
            "_view_module_version": "1.2.0",
            "bar_color": null,
            "_model_module": "@jupyter-widgets/controls"
          }
        },
        "a8586320976b41e49d297bf72c8b4b59": {
          "model_module": "@jupyter-widgets/base",
          "model_name": "LayoutModel",
          "state": {
            "_view_name": "LayoutView",
            "grid_template_rows": null,
            "right": null,
            "justify_content": null,
            "_view_module": "@jupyter-widgets/base",
            "overflow": null,
            "_model_module_version": "1.2.0",
            "_view_count": null,
            "flex_flow": null,
            "width": null,
            "min_width": null,
            "border": null,
            "align_items": null,
            "bottom": null,
            "_model_module": "@jupyter-widgets/base",
            "top": null,
            "grid_column": null,
            "overflow_y": null,
            "overflow_x": null,
            "grid_auto_flow": null,
            "grid_area": null,
            "grid_template_columns": null,
            "flex": null,
            "_model_name": "LayoutModel",
            "justify_items": null,
            "grid_row": null,
            "max_height": null,
            "align_content": null,
            "visibility": null,
            "align_self": null,
            "height": null,
            "min_height": null,
            "padding": null,
            "grid_auto_rows": null,
            "grid_gap": null,
            "max_width": null,
            "order": null,
            "_view_module_version": "1.2.0",
            "grid_template_areas": null,
            "object_position": null,
            "object_fit": null,
            "grid_auto_columns": null,
            "margin": null,
            "display": null,
            "left": null
          }
        },
        "1e77895f2dca4d29a8cc365d7eba6476": {
          "model_module": "@jupyter-widgets/controls",
          "model_name": "DescriptionStyleModel",
          "state": {
            "_view_name": "StyleView",
            "_model_name": "DescriptionStyleModel",
            "description_width": "",
            "_view_module": "@jupyter-widgets/base",
            "_model_module_version": "1.5.0",
            "_view_count": null,
            "_view_module_version": "1.2.0",
            "_model_module": "@jupyter-widgets/controls"
          }
        },
        "96971c0efb2e40e79b28457bce074702": {
          "model_module": "@jupyter-widgets/base",
          "model_name": "LayoutModel",
          "state": {
            "_view_name": "LayoutView",
            "grid_template_rows": null,
            "right": null,
            "justify_content": null,
            "_view_module": "@jupyter-widgets/base",
            "overflow": null,
            "_model_module_version": "1.2.0",
            "_view_count": null,
            "flex_flow": null,
            "width": null,
            "min_width": null,
            "border": null,
            "align_items": null,
            "bottom": null,
            "_model_module": "@jupyter-widgets/base",
            "top": null,
            "grid_column": null,
            "overflow_y": null,
            "overflow_x": null,
            "grid_auto_flow": null,
            "grid_area": null,
            "grid_template_columns": null,
            "flex": null,
            "_model_name": "LayoutModel",
            "justify_items": null,
            "grid_row": null,
            "max_height": null,
            "align_content": null,
            "visibility": null,
            "align_self": null,
            "height": null,
            "min_height": null,
            "padding": null,
            "grid_auto_rows": null,
            "grid_gap": null,
            "max_width": null,
            "order": null,
            "_view_module_version": "1.2.0",
            "grid_template_areas": null,
            "object_position": null,
            "object_fit": null,
            "grid_auto_columns": null,
            "margin": null,
            "display": null,
            "left": null
          }
        },
        "a9fd82ed31f74df585368b7ee61bc1c6": {
          "model_module": "@jupyter-widgets/controls",
          "model_name": "HBoxModel",
          "state": {
            "_view_name": "HBoxView",
            "_dom_classes": [],
            "_model_name": "HBoxModel",
            "_view_module": "@jupyter-widgets/controls",
            "_model_module_version": "1.5.0",
            "_view_count": null,
            "_view_module_version": "1.5.0",
            "box_style": "",
            "layout": "IPY_MODEL_f7e06b5e514a422e9aead8798a7bf620",
            "_model_module": "@jupyter-widgets/controls",
            "children": [
              "IPY_MODEL_7d922d1ae88843298b5945c9b0c4628c",
              "IPY_MODEL_824682ed0a864fc0875a27030abefa7c"
            ]
          }
        },
        "f7e06b5e514a422e9aead8798a7bf620": {
          "model_module": "@jupyter-widgets/base",
          "model_name": "LayoutModel",
          "state": {
            "_view_name": "LayoutView",
            "grid_template_rows": null,
            "right": null,
            "justify_content": null,
            "_view_module": "@jupyter-widgets/base",
            "overflow": null,
            "_model_module_version": "1.2.0",
            "_view_count": null,
            "flex_flow": null,
            "width": null,
            "min_width": null,
            "border": null,
            "align_items": null,
            "bottom": null,
            "_model_module": "@jupyter-widgets/base",
            "top": null,
            "grid_column": null,
            "overflow_y": null,
            "overflow_x": null,
            "grid_auto_flow": null,
            "grid_area": null,
            "grid_template_columns": null,
            "flex": null,
            "_model_name": "LayoutModel",
            "justify_items": null,
            "grid_row": null,
            "max_height": null,
            "align_content": null,
            "visibility": null,
            "align_self": null,
            "height": null,
            "min_height": null,
            "padding": null,
            "grid_auto_rows": null,
            "grid_gap": null,
            "max_width": null,
            "order": null,
            "_view_module_version": "1.2.0",
            "grid_template_areas": null,
            "object_position": null,
            "object_fit": null,
            "grid_auto_columns": null,
            "margin": null,
            "display": null,
            "left": null
          }
        },
        "7d922d1ae88843298b5945c9b0c4628c": {
          "model_module": "@jupyter-widgets/controls",
          "model_name": "FloatProgressModel",
          "state": {
            "_view_name": "ProgressView",
            "style": "IPY_MODEL_4f2de539f01b4860a7e0427cea61a9c2",
            "_dom_classes": [],
            "description": "100%",
            "_model_name": "FloatProgressModel",
            "bar_style": "success",
            "max": 13344,
            "_view_module": "@jupyter-widgets/controls",
            "_model_module_version": "1.5.0",
            "value": 13344,
            "_view_count": null,
            "_view_module_version": "1.5.0",
            "orientation": "horizontal",
            "min": 0,
            "description_tooltip": null,
            "_model_module": "@jupyter-widgets/controls",
            "layout": "IPY_MODEL_8c4af0324b624a97beaeebf17a018672"
          }
        },
        "824682ed0a864fc0875a27030abefa7c": {
          "model_module": "@jupyter-widgets/controls",
          "model_name": "HTMLModel",
          "state": {
            "_view_name": "HTMLView",
            "style": "IPY_MODEL_0116a914e9c04106b1c931525a7ae2ea",
            "_dom_classes": [],
            "description": "",
            "_model_name": "HTMLModel",
            "placeholder": "​",
            "_view_module": "@jupyter-widgets/controls",
            "_model_module_version": "1.5.0",
            "value": " 13344/13344 [00:41&lt;00:00, 322.95it/s]",
            "_view_count": null,
            "_view_module_version": "1.5.0",
            "description_tooltip": null,
            "_model_module": "@jupyter-widgets/controls",
            "layout": "IPY_MODEL_6c7e6f4a6e1f482fa35b6cc9843ebe50"
          }
        },
        "4f2de539f01b4860a7e0427cea61a9c2": {
          "model_module": "@jupyter-widgets/controls",
          "model_name": "ProgressStyleModel",
          "state": {
            "_view_name": "StyleView",
            "_model_name": "ProgressStyleModel",
            "description_width": "initial",
            "_view_module": "@jupyter-widgets/base",
            "_model_module_version": "1.5.0",
            "_view_count": null,
            "_view_module_version": "1.2.0",
            "bar_color": null,
            "_model_module": "@jupyter-widgets/controls"
          }
        },
        "8c4af0324b624a97beaeebf17a018672": {
          "model_module": "@jupyter-widgets/base",
          "model_name": "LayoutModel",
          "state": {
            "_view_name": "LayoutView",
            "grid_template_rows": null,
            "right": null,
            "justify_content": null,
            "_view_module": "@jupyter-widgets/base",
            "overflow": null,
            "_model_module_version": "1.2.0",
            "_view_count": null,
            "flex_flow": null,
            "width": null,
            "min_width": null,
            "border": null,
            "align_items": null,
            "bottom": null,
            "_model_module": "@jupyter-widgets/base",
            "top": null,
            "grid_column": null,
            "overflow_y": null,
            "overflow_x": null,
            "grid_auto_flow": null,
            "grid_area": null,
            "grid_template_columns": null,
            "flex": null,
            "_model_name": "LayoutModel",
            "justify_items": null,
            "grid_row": null,
            "max_height": null,
            "align_content": null,
            "visibility": null,
            "align_self": null,
            "height": null,
            "min_height": null,
            "padding": null,
            "grid_auto_rows": null,
            "grid_gap": null,
            "max_width": null,
            "order": null,
            "_view_module_version": "1.2.0",
            "grid_template_areas": null,
            "object_position": null,
            "object_fit": null,
            "grid_auto_columns": null,
            "margin": null,
            "display": null,
            "left": null
          }
        },
        "0116a914e9c04106b1c931525a7ae2ea": {
          "model_module": "@jupyter-widgets/controls",
          "model_name": "DescriptionStyleModel",
          "state": {
            "_view_name": "StyleView",
            "_model_name": "DescriptionStyleModel",
            "description_width": "",
            "_view_module": "@jupyter-widgets/base",
            "_model_module_version": "1.5.0",
            "_view_count": null,
            "_view_module_version": "1.2.0",
            "_model_module": "@jupyter-widgets/controls"
          }
        },
        "6c7e6f4a6e1f482fa35b6cc9843ebe50": {
          "model_module": "@jupyter-widgets/base",
          "model_name": "LayoutModel",
          "state": {
            "_view_name": "LayoutView",
            "grid_template_rows": null,
            "right": null,
            "justify_content": null,
            "_view_module": "@jupyter-widgets/base",
            "overflow": null,
            "_model_module_version": "1.2.0",
            "_view_count": null,
            "flex_flow": null,
            "width": null,
            "min_width": null,
            "border": null,
            "align_items": null,
            "bottom": null,
            "_model_module": "@jupyter-widgets/base",
            "top": null,
            "grid_column": null,
            "overflow_y": null,
            "overflow_x": null,
            "grid_auto_flow": null,
            "grid_area": null,
            "grid_template_columns": null,
            "flex": null,
            "_model_name": "LayoutModel",
            "justify_items": null,
            "grid_row": null,
            "max_height": null,
            "align_content": null,
            "visibility": null,
            "align_self": null,
            "height": null,
            "min_height": null,
            "padding": null,
            "grid_auto_rows": null,
            "grid_gap": null,
            "max_width": null,
            "order": null,
            "_view_module_version": "1.2.0",
            "grid_template_areas": null,
            "object_position": null,
            "object_fit": null,
            "grid_auto_columns": null,
            "margin": null,
            "display": null,
            "left": null
          }
        },
        "01cdd5ea59cb4ffb8afc7a3dc4bdc68b": {
          "model_module": "@jupyter-widgets/controls",
          "model_name": "HBoxModel",
          "state": {
            "_view_name": "HBoxView",
            "_dom_classes": [],
            "_model_name": "HBoxModel",
            "_view_module": "@jupyter-widgets/controls",
            "_model_module_version": "1.5.0",
            "_view_count": null,
            "_view_module_version": "1.5.0",
            "box_style": "",
            "layout": "IPY_MODEL_287a934a9d3b4546a9c581c40f3837fe",
            "_model_module": "@jupyter-widgets/controls",
            "children": [
              "IPY_MODEL_1ad1ccf4e3854db69dd7f72b28fe6774",
              "IPY_MODEL_73f1fd38140e45829306694eb1b626b7"
            ]
          }
        },
        "287a934a9d3b4546a9c581c40f3837fe": {
          "model_module": "@jupyter-widgets/base",
          "model_name": "LayoutModel",
          "state": {
            "_view_name": "LayoutView",
            "grid_template_rows": null,
            "right": null,
            "justify_content": null,
            "_view_module": "@jupyter-widgets/base",
            "overflow": null,
            "_model_module_version": "1.2.0",
            "_view_count": null,
            "flex_flow": null,
            "width": null,
            "min_width": null,
            "border": null,
            "align_items": null,
            "bottom": null,
            "_model_module": "@jupyter-widgets/base",
            "top": null,
            "grid_column": null,
            "overflow_y": null,
            "overflow_x": null,
            "grid_auto_flow": null,
            "grid_area": null,
            "grid_template_columns": null,
            "flex": null,
            "_model_name": "LayoutModel",
            "justify_items": null,
            "grid_row": null,
            "max_height": null,
            "align_content": null,
            "visibility": null,
            "align_self": null,
            "height": null,
            "min_height": null,
            "padding": null,
            "grid_auto_rows": null,
            "grid_gap": null,
            "max_width": null,
            "order": null,
            "_view_module_version": "1.2.0",
            "grid_template_areas": null,
            "object_position": null,
            "object_fit": null,
            "grid_auto_columns": null,
            "margin": null,
            "display": null,
            "left": null
          }
        },
        "1ad1ccf4e3854db69dd7f72b28fe6774": {
          "model_module": "@jupyter-widgets/controls",
          "model_name": "FloatProgressModel",
          "state": {
            "_view_name": "ProgressView",
            "style": "IPY_MODEL_f84c4132d53145e48dac5d8b81f249c4",
            "_dom_classes": [],
            "description": "100%",
            "_model_name": "FloatProgressModel",
            "bar_style": "success",
            "max": 20,
            "_view_module": "@jupyter-widgets/controls",
            "_model_module_version": "1.5.0",
            "value": 20,
            "_view_count": null,
            "_view_module_version": "1.5.0",
            "orientation": "horizontal",
            "min": 0,
            "description_tooltip": null,
            "_model_module": "@jupyter-widgets/controls",
            "layout": "IPY_MODEL_9815023a1b3d4bd787cdf957b0093b31"
          }
        },
        "73f1fd38140e45829306694eb1b626b7": {
          "model_module": "@jupyter-widgets/controls",
          "model_name": "HTMLModel",
          "state": {
            "_view_name": "HTMLView",
            "style": "IPY_MODEL_e902da6354f74f418105aa48dc9c8602",
            "_dom_classes": [],
            "description": "",
            "_model_name": "HTMLModel",
            "placeholder": "​",
            "_view_module": "@jupyter-widgets/controls",
            "_model_module_version": "1.5.0",
            "value": " 20/20 [02:26&lt;00:00,  7.33s/it]",
            "_view_count": null,
            "_view_module_version": "1.5.0",
            "description_tooltip": null,
            "_model_module": "@jupyter-widgets/controls",
            "layout": "IPY_MODEL_f3da2e879c8e4b0d8b24aaad8c15fc7c"
          }
        },
        "f84c4132d53145e48dac5d8b81f249c4": {
          "model_module": "@jupyter-widgets/controls",
          "model_name": "ProgressStyleModel",
          "state": {
            "_view_name": "StyleView",
            "_model_name": "ProgressStyleModel",
            "description_width": "initial",
            "_view_module": "@jupyter-widgets/base",
            "_model_module_version": "1.5.0",
            "_view_count": null,
            "_view_module_version": "1.2.0",
            "bar_color": null,
            "_model_module": "@jupyter-widgets/controls"
          }
        },
        "9815023a1b3d4bd787cdf957b0093b31": {
          "model_module": "@jupyter-widgets/base",
          "model_name": "LayoutModel",
          "state": {
            "_view_name": "LayoutView",
            "grid_template_rows": null,
            "right": null,
            "justify_content": null,
            "_view_module": "@jupyter-widgets/base",
            "overflow": null,
            "_model_module_version": "1.2.0",
            "_view_count": null,
            "flex_flow": null,
            "width": null,
            "min_width": null,
            "border": null,
            "align_items": null,
            "bottom": null,
            "_model_module": "@jupyter-widgets/base",
            "top": null,
            "grid_column": null,
            "overflow_y": null,
            "overflow_x": null,
            "grid_auto_flow": null,
            "grid_area": null,
            "grid_template_columns": null,
            "flex": null,
            "_model_name": "LayoutModel",
            "justify_items": null,
            "grid_row": null,
            "max_height": null,
            "align_content": null,
            "visibility": null,
            "align_self": null,
            "height": null,
            "min_height": null,
            "padding": null,
            "grid_auto_rows": null,
            "grid_gap": null,
            "max_width": null,
            "order": null,
            "_view_module_version": "1.2.0",
            "grid_template_areas": null,
            "object_position": null,
            "object_fit": null,
            "grid_auto_columns": null,
            "margin": null,
            "display": null,
            "left": null
          }
        },
        "e902da6354f74f418105aa48dc9c8602": {
          "model_module": "@jupyter-widgets/controls",
          "model_name": "DescriptionStyleModel",
          "state": {
            "_view_name": "StyleView",
            "_model_name": "DescriptionStyleModel",
            "description_width": "",
            "_view_module": "@jupyter-widgets/base",
            "_model_module_version": "1.5.0",
            "_view_count": null,
            "_view_module_version": "1.2.0",
            "_model_module": "@jupyter-widgets/controls"
          }
        },
        "f3da2e879c8e4b0d8b24aaad8c15fc7c": {
          "model_module": "@jupyter-widgets/base",
          "model_name": "LayoutModel",
          "state": {
            "_view_name": "LayoutView",
            "grid_template_rows": null,
            "right": null,
            "justify_content": null,
            "_view_module": "@jupyter-widgets/base",
            "overflow": null,
            "_model_module_version": "1.2.0",
            "_view_count": null,
            "flex_flow": null,
            "width": null,
            "min_width": null,
            "border": null,
            "align_items": null,
            "bottom": null,
            "_model_module": "@jupyter-widgets/base",
            "top": null,
            "grid_column": null,
            "overflow_y": null,
            "overflow_x": null,
            "grid_auto_flow": null,
            "grid_area": null,
            "grid_template_columns": null,
            "flex": null,
            "_model_name": "LayoutModel",
            "justify_items": null,
            "grid_row": null,
            "max_height": null,
            "align_content": null,
            "visibility": null,
            "align_self": null,
            "height": null,
            "min_height": null,
            "padding": null,
            "grid_auto_rows": null,
            "grid_gap": null,
            "max_width": null,
            "order": null,
            "_view_module_version": "1.2.0",
            "grid_template_areas": null,
            "object_position": null,
            "object_fit": null,
            "grid_auto_columns": null,
            "margin": null,
            "display": null,
            "left": null
          }
        }
      }
    }
  },
  "cells": [
    {
      "cell_type": "markdown",
      "metadata": {
        "id": "5SJcQdjIEVka"
      },
      "source": [
        "# Installation"
      ]
    },
    {
      "cell_type": "code",
      "metadata": {
        "id": "pyO5xt3jEWP0",
        "colab": {
          "base_uri": "https://localhost:8080/"
        },
        "outputId": "bb16e5e7-fd95-40a8-94e1-9a3398a1c929"
      },
      "source": [
        "!pip install torch-scatter -f https://pytorch-geometric.com/whl/torch-1.8.0+cu101.html\n",
        "!pip install torch-sparse -f https://pytorch-geometric.com/whl/torch-1.8.0+cu101.html\n",
        "!pip install torch-cluster -f https://pytorch-geometric.com/whl/torch-1.8.0+cu101.html\n",
        "!pip install torch-spline-conv -f https://pytorch-geometric.com/whl/torch-1.8.0+cu101.html\n",
        "!pip install torch-geometric"
      ],
      "execution_count": 1,
      "outputs": [
        {
          "output_type": "stream",
          "text": [
            "Looking in links: https://pytorch-geometric.com/whl/torch-1.8.0+cu101.html\n",
            "Collecting torch-scatter\n",
            "\u001b[?25l  Downloading https://pytorch-geometric.com/whl/torch-1.8.0%2Bcu101/torch_scatter-2.0.7-cp37-cp37m-linux_x86_64.whl (2.5MB)\n",
            "\u001b[K     |████████████████████████████████| 2.5MB 3.8MB/s \n",
            "\u001b[?25hInstalling collected packages: torch-scatter\n",
            "Successfully installed torch-scatter-2.0.7\n",
            "Looking in links: https://pytorch-geometric.com/whl/torch-1.8.0+cu101.html\n",
            "Collecting torch-sparse\n",
            "\u001b[?25l  Downloading https://pytorch-geometric.com/whl/torch-1.8.0%2Bcu101/torch_sparse-0.6.9-cp37-cp37m-linux_x86_64.whl (1.5MB)\n",
            "\u001b[K     |████████████████████████████████| 1.5MB 5.2MB/s \n",
            "\u001b[?25hRequirement already satisfied: scipy in /usr/local/lib/python3.7/dist-packages (from torch-sparse) (1.4.1)\n",
            "Requirement already satisfied: numpy>=1.13.3 in /usr/local/lib/python3.7/dist-packages (from scipy->torch-sparse) (1.19.5)\n",
            "Installing collected packages: torch-sparse\n",
            "Successfully installed torch-sparse-0.6.9\n",
            "Looking in links: https://pytorch-geometric.com/whl/torch-1.8.0+cu101.html\n",
            "Collecting torch-cluster\n",
            "\u001b[?25l  Downloading https://pytorch-geometric.com/whl/torch-1.8.0%2Bcu101/torch_cluster-1.5.9-cp37-cp37m-linux_x86_64.whl (1.0MB)\n",
            "\u001b[K     |████████████████████████████████| 1.0MB 4.0MB/s \n",
            "\u001b[?25hInstalling collected packages: torch-cluster\n",
            "Successfully installed torch-cluster-1.5.9\n",
            "Looking in links: https://pytorch-geometric.com/whl/torch-1.8.0+cu101.html\n",
            "Collecting torch-spline-conv\n",
            "\u001b[?25l  Downloading https://pytorch-geometric.com/whl/torch-1.8.0%2Bcu101/torch_spline_conv-1.2.1-cp37-cp37m-linux_x86_64.whl (386kB)\n",
            "\u001b[K     |████████████████████████████████| 389kB 4.1MB/s \n",
            "\u001b[?25hInstalling collected packages: torch-spline-conv\n",
            "Successfully installed torch-spline-conv-1.2.1\n",
            "Collecting torch-geometric\n",
            "\u001b[?25l  Downloading https://files.pythonhosted.org/packages/d9/99/18781f60303b2f7097a13feed0b51e531364251f441bd83e38fac09944bd/torch_geometric-1.7.0.tar.gz (212kB)\n",
            "\u001b[K     |████████████████████████████████| 215kB 4.3MB/s \n",
            "\u001b[?25hRequirement already satisfied: numpy in /usr/local/lib/python3.7/dist-packages (from torch-geometric) (1.19.5)\n",
            "Requirement already satisfied: tqdm in /usr/local/lib/python3.7/dist-packages (from torch-geometric) (4.41.1)\n",
            "Requirement already satisfied: scipy in /usr/local/lib/python3.7/dist-packages (from torch-geometric) (1.4.1)\n",
            "Requirement already satisfied: networkx in /usr/local/lib/python3.7/dist-packages (from torch-geometric) (2.5.1)\n",
            "Requirement already satisfied: python-louvain in /usr/local/lib/python3.7/dist-packages (from torch-geometric) (0.15)\n",
            "Requirement already satisfied: scikit-learn in /usr/local/lib/python3.7/dist-packages (from torch-geometric) (0.22.2.post1)\n",
            "Requirement already satisfied: numba in /usr/local/lib/python3.7/dist-packages (from torch-geometric) (0.51.2)\n",
            "Requirement already satisfied: requests in /usr/local/lib/python3.7/dist-packages (from torch-geometric) (2.23.0)\n",
            "Requirement already satisfied: pandas in /usr/local/lib/python3.7/dist-packages (from torch-geometric) (1.1.5)\n",
            "Collecting rdflib\n",
            "\u001b[?25l  Downloading https://files.pythonhosted.org/packages/d0/6b/6454aa1db753c0f8bc265a5bd5c10b5721a4bb24160fb4faf758cf6be8a1/rdflib-5.0.0-py3-none-any.whl (231kB)\n",
            "\u001b[K     |████████████████████████████████| 235kB 7.4MB/s \n",
            "\u001b[?25hRequirement already satisfied: h5py in /usr/local/lib/python3.7/dist-packages (from torch-geometric) (3.1.0)\n",
            "Requirement already satisfied: googledrivedownloader in /usr/local/lib/python3.7/dist-packages (from torch-geometric) (0.4)\n",
            "Collecting ase\n",
            "\u001b[?25l  Downloading https://files.pythonhosted.org/packages/a5/36/de17e79f29e06d9a92746d0dd9ec4636487ab03f6af10e78586aae533f7a/ase-3.21.1-py3-none-any.whl (2.2MB)\n",
            "\u001b[K     |████████████████████████████████| 2.2MB 8.0MB/s \n",
            "\u001b[?25hRequirement already satisfied: jinja2 in /usr/local/lib/python3.7/dist-packages (from torch-geometric) (2.11.3)\n",
            "Requirement already satisfied: decorator<5,>=4.3 in /usr/local/lib/python3.7/dist-packages (from networkx->torch-geometric) (4.4.2)\n",
            "Requirement already satisfied: joblib>=0.11 in /usr/local/lib/python3.7/dist-packages (from scikit-learn->torch-geometric) (1.0.1)\n",
            "Requirement already satisfied: setuptools in /usr/local/lib/python3.7/dist-packages (from numba->torch-geometric) (57.0.0)\n",
            "Requirement already satisfied: llvmlite<0.35,>=0.34.0.dev0 in /usr/local/lib/python3.7/dist-packages (from numba->torch-geometric) (0.34.0)\n",
            "Requirement already satisfied: idna<3,>=2.5 in /usr/local/lib/python3.7/dist-packages (from requests->torch-geometric) (2.10)\n",
            "Requirement already satisfied: urllib3!=1.25.0,!=1.25.1,<1.26,>=1.21.1 in /usr/local/lib/python3.7/dist-packages (from requests->torch-geometric) (1.24.3)\n",
            "Requirement already satisfied: chardet<4,>=3.0.2 in /usr/local/lib/python3.7/dist-packages (from requests->torch-geometric) (3.0.4)\n",
            "Requirement already satisfied: certifi>=2017.4.17 in /usr/local/lib/python3.7/dist-packages (from requests->torch-geometric) (2021.5.30)\n",
            "Requirement already satisfied: python-dateutil>=2.7.3 in /usr/local/lib/python3.7/dist-packages (from pandas->torch-geometric) (2.8.1)\n",
            "Requirement already satisfied: pytz>=2017.2 in /usr/local/lib/python3.7/dist-packages (from pandas->torch-geometric) (2018.9)\n",
            "Collecting isodate\n",
            "\u001b[?25l  Downloading https://files.pythonhosted.org/packages/9b/9f/b36f7774ff5ea8e428fdcfc4bb332c39ee5b9362ddd3d40d9516a55221b2/isodate-0.6.0-py2.py3-none-any.whl (45kB)\n",
            "\u001b[K     |████████████████████████████████| 51kB 6.7MB/s \n",
            "\u001b[?25hRequirement already satisfied: six in /usr/local/lib/python3.7/dist-packages (from rdflib->torch-geometric) (1.15.0)\n",
            "Requirement already satisfied: pyparsing in /usr/local/lib/python3.7/dist-packages (from rdflib->torch-geometric) (2.4.7)\n",
            "Requirement already satisfied: cached-property; python_version < \"3.8\" in /usr/local/lib/python3.7/dist-packages (from h5py->torch-geometric) (1.5.2)\n",
            "Requirement already satisfied: matplotlib>=2.0.0 in /usr/local/lib/python3.7/dist-packages (from ase->torch-geometric) (3.2.2)\n",
            "Requirement already satisfied: MarkupSafe>=0.23 in /usr/local/lib/python3.7/dist-packages (from jinja2->torch-geometric) (2.0.1)\n",
            "Requirement already satisfied: cycler>=0.10 in /usr/local/lib/python3.7/dist-packages (from matplotlib>=2.0.0->ase->torch-geometric) (0.10.0)\n",
            "Requirement already satisfied: kiwisolver>=1.0.1 in /usr/local/lib/python3.7/dist-packages (from matplotlib>=2.0.0->ase->torch-geometric) (1.3.1)\n",
            "Building wheels for collected packages: torch-geometric\n",
            "  Building wheel for torch-geometric (setup.py) ... \u001b[?25l\u001b[?25hdone\n",
            "  Created wheel for torch-geometric: filename=torch_geometric-1.7.0-cp37-none-any.whl size=365401 sha256=b2adbfc60eec34d0b785bc22fda360e00f1a7f095e8774563c8a1d90cd34b6c4\n",
            "  Stored in directory: /root/.cache/pip/wheels/ce/fb/df/37cd43d1433e65b2d3417a71438404d0eeb4fbbfa40730931c\n",
            "Successfully built torch-geometric\n",
            "Installing collected packages: isodate, rdflib, ase, torch-geometric\n",
            "Successfully installed ase-3.21.1 isodate-0.6.0 rdflib-5.0.0 torch-geometric-1.7.0\n"
          ],
          "name": "stdout"
        }
      ]
    },
    {
      "cell_type": "markdown",
      "metadata": {
        "id": "kF2IXjZICiP4"
      },
      "source": [
        "#  Introduction\n",
        "In the previous notebook we looked at link prediction using an encoder-decoder framework. In this notebook we will consider an alternative, more general approach to link prediction  described in the paper \"[Link Prediction Based on Graph Neural Networks](https://www.researchgate.net/profile/Muhan_Zhang2/publication/323443864_Link_Prediction_Based_on_Graph_Neural_Networks/links/5dc113364585151435e9382a/Link-Prediction-Based-on-Graph-Neural-Networks.pdf)\". \n",
        "\n",
        "The approach is called SEAL (Subgraphs, Embeddings, and Attributes for Link prediction) and is illustrated in the figure below:\n",
        "\n",
        "![alt text](https://ai.science/api/authorized-images/YShW5uEMQ1dJUj1UMyFhsSvYvuzRx2GV0RYXygKPfpoqson6GarYb4%2B8rIDTD%2BRP0NRmOcQ4y2uTzvzTtdYpExjb9X6QQmHbLD%2F5zni0Y4tkszpDqvz4Wn%2FO2L9bP1%2Fgh5sOyDTcsJ3n5nn16MnjGDh%2FwNgd9zpwn3VoA3WFQdBg%2B82QyZn2H1W8uD8j6gOr2BC56qbRwuouhQGmVeCZu5gQoDEztnDvo2qEUclyiTB8svQssa7JO7MuxAa7XR66JIppvj%2FlMdnLadPxWdAkPKL70ENFhjTShmFksRhDGVyccLROaRBNPSjiHcMQTX%2BSFo2XskBzK0P4EFWdwssahwvmbsn0p%2BdGdO0DFFAw4X44pz%2Fqk%2FUeoiNj19cy9FzupHfm%2F1AHOdwNgPFzDnsiCjttp39%2FXDkPr8%2Fy41Y2HaXWJBmBZg%2BFqWuzY49H549slpwfD%2FiQQTsQXTzD1WktDZoyDbfY7OEanaZa5eOlbjJg5pCOc5DFTvUw9p3ILa%2BDIMo7yUey%2FJV%2FdXzxWXCMkwrr4Z4MJ7woWQsq7Zf3abMVWIa2fa%2FROcnbfNxOM1XQTvqyy3JB5xRvARRYOvwygwGYGo6aQlXkQ%2BHweKWiWeFX3MYH7yjVa2IgXGb6dwWmPiSo3HiML5MwPFX7ClU0KMfbkLH0FI8JSwtm2m9hko8%3Dg)\n",
        "\n",
        " The basic idea here is to extract a subgraph around a link to be detected, and then classify the subgraph.  The nodes in these subgraphs can have a feature vector built from attributes or embeddings obtained via an encoder (or both). This effectively translates a link prediction problem into a graph prediction problem."
      ]
    },
    {
      "cell_type": "markdown",
      "metadata": {
        "id": "ANOf7Sc0L9H4"
      },
      "source": [
        "# Dataset\n",
        "We will use the same PPI network as in the previous notebooks"
      ]
    },
    {
      "cell_type": "code",
      "metadata": {
        "id": "LlGpjCj5Escl",
        "colab": {
          "base_uri": "https://localhost:8080/"
        },
        "outputId": "f56dce99-49f5-4055-dab1-005cf1876a7c"
      },
      "source": [
        "import torch\n",
        "from torch_geometric.datasets import PPI\n",
        "from torch_geometric.utils import train_test_split_edges\n",
        "\n",
        "# Load dataset \n",
        "PPI.url = \"https://data.dgl.ai/dataset/ppi.zip\" #  Workaround for wrong URL in pytorch geometric\n",
        "dataset_ppi = PPI(root=\"./tmp/ppi\") \n",
        "\n",
        "# For simplicity, pich the largest graph out of the dataset\n",
        "data = max(dataset_ppi, key= lambda x:x.num_nodes) \n",
        "\n",
        "# Remove properties related to node-labeling (not needed here)\n",
        "data.train_mask = data.val_mask = data.test_mask = data.y = None\n",
        "\n",
        "# Create train/val/test split\n",
        "data = train_test_split_edges(data, val_ratio=0.25, test_ratio=0.25,)\n",
        "#data.x = torch.ones([data.x.shape[0], 2])\n"
      ],
      "execution_count": 2,
      "outputs": [
        {
          "output_type": "stream",
          "text": [
            "Downloading https://data.dgl.ai/dataset/ppi.zip\n",
            "Extracting tmp/ppi/ppi.zip\n",
            "Processing...\n",
            "Done!\n"
          ],
          "name": "stdout"
        }
      ]
    },
    {
      "cell_type": "markdown",
      "metadata": {
        "id": "RW8AK7QHDxIM"
      },
      "source": [
        "# Subgraphs\n",
        "The SEAL algorithm requires the extraction of subgraphs enclosing links, as well as the distance every node in the subgraph to each of the edge nodes. This functionality is not yet provided by Pytorch-Geometric, so we will using networkx for this purpose."
      ]
    },
    {
      "cell_type": "code",
      "metadata": {
        "id": "QTdO8xBGDmxN"
      },
      "source": [
        "import networkx as nx\n",
        "from torch_geometric.data import Data\n",
        "from torch_geometric.utils import to_networkx\n",
        "\n",
        "# Create a Data object using on only the positive training edges\n",
        "data_pos = Data(edge_index=data.train_pos_edge_index, num_nodes=data.num_nodes)\n",
        "\n",
        "# Convert this graph to networkx format\n",
        "G_train_pos=to_networkx(data_pos).to_undirected()\n",
        "\n",
        "\n"
      ],
      "execution_count": 3,
      "outputs": []
    },
    {
      "cell_type": "markdown",
      "metadata": {
        "id": "TRAdBdFkJgo7"
      },
      "source": [
        "In the SEAL link prediction framework, the nodes in the edge-enclosing subgraph are assigned a structural label according to their distance from the node-pair adjacent to the edge being considered. This label, called double radius, for node $i$ in the subgraph is defined by\n",
        "\n",
        "$$ f(i) = 1 + min(d_x,d_y) + (d/2)[(d/2)+(d\\%2)-1]$$\n",
        "\n",
        "where $x$ and $y$ are the nodes adjacent to the considered edge, $d_x$ is the distance of node $i$ to $x$, $d_y$ is the distance of node $i$ to $y$ and $d= d_x+d_y$.  \n",
        "\n",
        "If $d_x = \\infty$ or   $d_y = \\infty$  in the subgraph, they get a label of 0. The double radius of nodes $x$ and $y$ is 1. This helps identify the structural importance of nodes $x$ and $y$."
      ]
    },
    {
      "cell_type": "code",
      "metadata": {
        "id": "d3NymVh7LQ4V"
      },
      "source": [
        "def double_radius(d_x, d_y):\n",
        "    if (d_x==0) or (d_y==0):\n",
        "        return 1\n",
        "    \n",
        "    if np.isinf(d_x) or np.isinf(d_y):\n",
        "        return 0\n",
        "    d = d_x + d_y\n",
        "    dr = 1 + min(d_x,d_y) + (d//2) * ( d//2 + d%2 -1 )\n",
        "    return dr\n"
      ],
      "execution_count": 4,
      "outputs": []
    },
    {
      "cell_type": "markdown",
      "metadata": {
        "id": "aIAlEeCtMEoR"
      },
      "source": [
        "We need to obtain n-hop subgraphs around each node. We will use n_hop=1.\n",
        "\n"
      ]
    },
    {
      "cell_type": "code",
      "metadata": {
        "id": "CQxYTRfQMB2e"
      },
      "source": [
        "def create_ego_graphs(G, n_hops):\n",
        "    dict_ego_graphs= {}\n",
        "    for v in G.nodes():\n",
        "        dict_ego_graphs[v] = nx.ego_graph(G,v, n_hops)\n",
        "    return dict_ego_graphs\n",
        "  \n",
        "node_to_nhop_subgraphs = create_ego_graphs(G=G_train_pos,n_hops=1)"
      ],
      "execution_count": 5,
      "outputs": []
    },
    {
      "cell_type": "markdown",
      "metadata": {
        "id": "NA774xrDO7e2"
      },
      "source": [
        "Once we have the n_hop subgraphs around each node, we can easily compute the double radius of the nodes in each edge-enclosing subgraph. (This is of course trivial for n_hop=1)."
      ]
    },
    {
      "cell_type": "code",
      "metadata": {
        "id": "T7dx77lUD81T"
      },
      "source": [
        "import numpy as np\n",
        "\n",
        "def get_edge_to_double_radii(node_to_nhop_subgraphs, edge, n_hops):\n",
        "    v_x, v_y = edge\n",
        "\n",
        "    # Compute distance from d_x to each node in subgraph\n",
        "    subgraph_x = node_to_nhop_subgraphs[v_x]\n",
        "    d_x = nx.single_source_shortest_path_length(subgraph_x, v_x, cutoff=n_hops)\n",
        "    \n",
        "    # Compute distance from d_y to each node in subgraph\n",
        "    subgraph_y = node_to_nhop_subgraphs[v_y]\n",
        "    d_y = nx.single_source_shortest_path_length(subgraph_y, v_y, cutoff=n_hops)\n",
        "    \n",
        "    # Get the union of the node ids for the two subgraphs\n",
        "    nodes_subgraph = set(d_x.keys()) | set(d_y.keys())\n",
        "\n",
        "    # Compute the double radius for each node in the union of the two subgraphs\n",
        "    double_radii = {}\n",
        "\n",
        "    for v_n in nodes_subgraph:\n",
        "        d_x_to_n = d_x.get(v_n, np.inf)\n",
        "        d_y_to_n = d_y.get(v_n, np.inf)\n",
        "        double_radii[v_n] = double_radius(d_x_to_n, d_y_to_n)\n",
        "    \n",
        "    return double_radii\n"
      ],
      "execution_count": 6,
      "outputs": []
    },
    {
      "cell_type": "markdown",
      "metadata": {
        "id": "gVzYns-SZNLt"
      },
      "source": [
        "We will store the double radii for each edge-enclosing subgraph\n"
      ]
    },
    {
      "cell_type": "code",
      "metadata": {
        "id": "wbA0fEPSBnoI"
      },
      "source": [
        "# helper function to get the double radii\n",
        "def get_double_radii(edge_list, node_to_nhop_subgraph, n_hops):\n",
        "    edge_to_double_radii = {}\n",
        "\n",
        "    for edge in edge_list:\n",
        "        if edge[1]>edge[0]: # Only get enclosing subgraph once\n",
        "            double_radii=get_edge_to_double_radii(node_to_nhop_subgraphs,edge, n_hops=n_hops)\n",
        "            edge_to_double_radii[tuple(edge)] = double_radii\n",
        "    return edge_to_double_radii"
      ],
      "execution_count": 7,
      "outputs": []
    },
    {
      "cell_type": "code",
      "metadata": {
        "id": "IRQ4Xhj7R8vz"
      },
      "source": [
        "edge_to_double_radii_train_pos = get_double_radii(data.train_pos_edge_index.T.numpy(), node_to_nhop_subgraphs, 1)"
      ],
      "execution_count": 8,
      "outputs": []
    },
    {
      "cell_type": "markdown",
      "metadata": {
        "id": "-KN2o4luZbz_"
      },
      "source": [
        "We will now build the same subgraphs for negative samples. For the sake of speed, we will only use one set of negative training edge samples.  We will also have to create subgraphs for the validation and testing sets "
      ]
    },
    {
      "cell_type": "code",
      "metadata": {
        "id": "Emdx6KdkEH5Q"
      },
      "source": [
        "from torch_geometric.utils import negative_sampling\n",
        "neg_edge_index = negative_sampling(edge_index=data.train_pos_edge_index,\n",
        "                                    num_nodes=data.x.size(0))\n",
        "\n",
        "edge_to_double_radii_train_neg = get_double_radii(neg_edge_index.T.numpy(), node_to_nhop_subgraphs, 1)"
      ],
      "execution_count": 9,
      "outputs": []
    },
    {
      "cell_type": "markdown",
      "metadata": {
        "id": "SzjiPmA1bV93"
      },
      "source": [
        "## Exercise 1\n",
        "\n",
        "Compute the map from edge to enclosing-subgraph-nodes double radii for the validation and testing sets\n"
      ]
    },
    {
      "cell_type": "markdown",
      "metadata": {
        "id": "fx8ir6rH91sd"
      },
      "source": [
        "### Reference Solution"
      ]
    },
    {
      "cell_type": "code",
      "metadata": {
        "id": "e-Zmbr4PHy44"
      },
      "source": [
        "edge_to_double_radii_val_pos = get_double_radii(data.val_pos_edge_index.T.numpy(), node_to_nhop_subgraphs, 1)\n",
        "\n",
        "edge_to_double_radii_val_neg = get_double_radii(data.val_neg_edge_index.T.numpy(), node_to_nhop_subgraphs, 1)"
      ],
      "execution_count": 10,
      "outputs": []
    },
    {
      "cell_type": "code",
      "metadata": {
        "id": "-82K-qby99RK"
      },
      "source": [
        "edge_to_double_radii_test_pos = get_double_radii(data.test_pos_edge_index.T.numpy(), node_to_nhop_subgraphs, 1)\n",
        "\n",
        "edge_to_double_radii_test_neg = get_double_radii(data.test_neg_edge_index.T.numpy(), node_to_nhop_subgraphs, 1)"
      ],
      "execution_count": 11,
      "outputs": []
    },
    {
      "cell_type": "markdown",
      "metadata": {
        "id": "GuG-kDeHcDQz"
      },
      "source": [
        "# Converting Networkx subgraphs back to Data Objects\n",
        "\n",
        "Let's recap what we have now. For each edge in the training set, we have extracting an enclosing subgraph. For each node we assigned a structural label called the \"double radius\". Now we need to translate each of these subgraphs to a list of PyG Data objects. We will also assign a feature vector made by concatenating a one-hot encoding of the double-radius to the original features in the dataset. We will record the existance or non-existance of an edge by assigning a label to these Data objects.\n",
        "(Note this may take some time to complete)\n"
      ]
    },
    {
      "cell_type": "code",
      "metadata": {
        "id": "AhyNeMoQC1Ai"
      },
      "source": [
        "# Helper function to create the dataset\n",
        "from torch_geometric.utils import subgraph\n",
        "from sklearn.preprocessing import OneHotEncoder\n",
        "\n",
        "def create_dataset(edge_to_double_radii_pos, edge_to_double_radii_neg, \n",
        "                   max_radius, edge_index, device):\n",
        "    # One-hot encoding to the maximum radius\n",
        "    X = [[i] for i in range(max_radius + 1)] \n",
        "    encoder = OneHotEncoder(sparse=False)\n",
        "    encoder.fit(X)\n",
        "\n",
        "    dataset = []\n",
        "\n",
        "    for graph_label, edge_to_double_radii in [(0, edge_to_double_radii_neg),\n",
        "                                        (1, edge_to_double_radii_pos)]:\n",
        "        for edge in tqdm(edge_to_double_radii):\n",
        "\n",
        "            double_radii_subgraph = edge_to_double_radii[edge] \n",
        "            node_ids_subgraph = sorted(double_radii_subgraph.keys())\n",
        "\n",
        "            # Create subgraph, with nodes relabed to be contiguous\n",
        "            edge_index_subgraph,_ = subgraph(node_ids_subgraph, edge_index,\n",
        "                                            relabel_nodes=True)\n",
        "\n",
        "            # Convert dict to np.array\n",
        "            double_radii_subgraph = np.asarray([double_radii_subgraph[key] \n",
        "                                                for key in node_ids_subgraph])\n",
        "\n",
        "            # Create one-hot encoding of the double-radii.\n",
        "            struct_features = encoder.transform(double_radii_subgraph.reshape(-1,1))\n",
        "\n",
        "            # Concatenate the one-hot encoding with the existing features of the graph\n",
        "            x= torch.cat([torch.tensor(struct_features,dtype=torch.float), \n",
        "                        data.x[node_ids_subgraph]],dim=1)\n",
        "\n",
        "            dataset.append(Data(x=x.to(device), edge_index=edge_index_subgraph.to(device), \n",
        "                            y=torch.tensor([graph_label]).to(device)).to(device))\n",
        "    return dataset"
      ],
      "execution_count": 14,
      "outputs": []
    },
    {
      "cell_type": "code",
      "metadata": {
        "colab": {
          "base_uri": "https://localhost:8080/",
          "height": 116,
          "referenced_widgets": [
            "62ed622335ac4de6b450efbead09b7b9",
            "177c6f0e2a314f5d9ddb68738f3e8d86",
            "7df490f1c0ea4883a7a748125fb74f44",
            "bc70a7ee504f4ccaadd932e9920ddd9b",
            "2fc9fea6729545b09bb14a872266d3df",
            "27d20be4193648a29c78a07a8c8a99fc",
            "8a466cd800824130a4ae23e3416daf72",
            "f75d0641598646e5a24f85976fa0be57",
            "897ba88177a0484591bd436f6705876b",
            "23c016c94f92482c9466b496472656de",
            "49ff4c192402431c986cda873ae4e26a",
            "bb22290b53f741c98e96c313fdfbe7f5",
            "3b1f45e4333a41039fce5941f81d9e30",
            "e0447f4f2bac4e7d999c15185c763796",
            "cfa5031e591446c38c1a766663307844",
            "0c61c8c6e1f14853881557561effd595"
          ]
        },
        "id": "Etk1ZDTID8tv",
        "outputId": "b37473ea-dd08-4541-ccc8-de59b66fd26e"
      },
      "source": [
        "dataset = create_dataset(edge_to_double_radii_train_pos, edge_to_double_radii_train_neg, 2, data_pos.edge_index, 'cuda')"
      ],
      "execution_count": 15,
      "outputs": [
        {
          "output_type": "display_data",
          "data": {
            "application/vnd.jupyter.widget-view+json": {
              "model_id": "62ed622335ac4de6b450efbead09b7b9",
              "version_minor": 0,
              "version_major": 2
            },
            "text/plain": [
              "HBox(children=(FloatProgress(value=0.0, max=26704.0), HTML(value='')))"
            ]
          },
          "metadata": {
            "tags": []
          }
        },
        {
          "output_type": "stream",
          "text": [
            "\n"
          ],
          "name": "stdout"
        },
        {
          "output_type": "display_data",
          "data": {
            "application/vnd.jupyter.widget-view+json": {
              "model_id": "897ba88177a0484591bd436f6705876b",
              "version_minor": 0,
              "version_major": 2
            },
            "text/plain": [
              "HBox(children=(FloatProgress(value=0.0, max=26689.0), HTML(value='')))"
            ]
          },
          "metadata": {
            "tags": []
          }
        },
        {
          "output_type": "stream",
          "text": [
            "\n"
          ],
          "name": "stdout"
        }
      ]
    },
    {
      "cell_type": "markdown",
      "metadata": {
        "id": "qgfNOb9Fhzf6"
      },
      "source": [
        "## Exercise 2\n",
        "The dataset created in the previous cell is the training dataset. Create the validation and testing dataset using the same procedure.\n",
        "(You need the edge_to_double_radii dictionaries created in Exercise 1)"
      ]
    },
    {
      "cell_type": "code",
      "metadata": {
        "id": "RxLgQsc0I6UC",
        "colab": {
          "base_uri": "https://localhost:8080/",
          "height": 215,
          "referenced_widgets": [
            "25531f8e38964a75b6db32b744ce3c21",
            "a55f87515c384eada079796545667414",
            "cdf07703c9b84fc5b0ea5e39dd0314e1",
            "ce4d0418e2574466936f75924d94af89",
            "39e9018c73474f9badae4003522a463f",
            "9c622ede69004b68863a5a4654e89e15",
            "1dc73897e0ef4977bc1eb1fb9b07ae28",
            "51f1ffed009c424e83731a75d103d234",
            "55f17bf8d7514cb683fedbb0a630e785",
            "2e4598238884443c89d0b2fda1048c60",
            "a848da27d00c49f4b444cf6352e087c9",
            "41ec9282c198447184167ab36d202d2c",
            "9a60dacfb2fc41dc8219b15307808a7c",
            "8ab4279c660948b488ecfb4e108026df",
            "de5c5aa9c02441e98274eb620c19e2cc",
            "6c04b0b827774f6eb72f5e1e80ddb4cf",
            "d0332373d21940a382efb0b223474a7e",
            "ae4b45b79fe344eba16cc25c736ce4a5",
            "d249c33a3aac453d9dea02fc0a01ad00",
            "e27065f4e2f647c8bbcfba61683e5df6",
            "b0af20282e6f4483bf3fd8f83d71f5d7",
            "a8586320976b41e49d297bf72c8b4b59",
            "1e77895f2dca4d29a8cc365d7eba6476",
            "96971c0efb2e40e79b28457bce074702",
            "a9fd82ed31f74df585368b7ee61bc1c6",
            "f7e06b5e514a422e9aead8798a7bf620",
            "7d922d1ae88843298b5945c9b0c4628c",
            "824682ed0a864fc0875a27030abefa7c",
            "4f2de539f01b4860a7e0427cea61a9c2",
            "8c4af0324b624a97beaeebf17a018672",
            "0116a914e9c04106b1c931525a7ae2ea",
            "6c7e6f4a6e1f482fa35b6cc9843ebe50"
          ]
        },
        "outputId": "45822ba0-108b-47c5-d196-bdac00be95df"
      },
      "source": [
        "dataset_val = create_dataset(edge_to_double_radii_val_pos, edge_to_double_radii_val_neg, 2, data_pos.edge_index, 'cuda')\n",
        "\n",
        "dataset_test = create_dataset(edge_to_double_radii_test_pos, edge_to_double_radii_test_neg, 2, data_pos.edge_index, 'cuda')"
      ],
      "execution_count": 16,
      "outputs": [
        {
          "output_type": "display_data",
          "data": {
            "application/vnd.jupyter.widget-view+json": {
              "model_id": "25531f8e38964a75b6db32b744ce3c21",
              "version_minor": 0,
              "version_major": 2
            },
            "text/plain": [
              "HBox(children=(FloatProgress(value=0.0, max=13344.0), HTML(value='')))"
            ]
          },
          "metadata": {
            "tags": []
          }
        },
        {
          "output_type": "stream",
          "text": [
            "\n"
          ],
          "name": "stdout"
        },
        {
          "output_type": "display_data",
          "data": {
            "application/vnd.jupyter.widget-view+json": {
              "model_id": "55f17bf8d7514cb683fedbb0a630e785",
              "version_minor": 0,
              "version_major": 2
            },
            "text/plain": [
              "HBox(children=(FloatProgress(value=0.0, max=13344.0), HTML(value='')))"
            ]
          },
          "metadata": {
            "tags": []
          }
        },
        {
          "output_type": "stream",
          "text": [
            "\n"
          ],
          "name": "stdout"
        },
        {
          "output_type": "display_data",
          "data": {
            "application/vnd.jupyter.widget-view+json": {
              "model_id": "d0332373d21940a382efb0b223474a7e",
              "version_minor": 0,
              "version_major": 2
            },
            "text/plain": [
              "HBox(children=(FloatProgress(value=0.0, max=13344.0), HTML(value='')))"
            ]
          },
          "metadata": {
            "tags": []
          }
        },
        {
          "output_type": "stream",
          "text": [
            "\n"
          ],
          "name": "stdout"
        },
        {
          "output_type": "display_data",
          "data": {
            "application/vnd.jupyter.widget-view+json": {
              "model_id": "a9fd82ed31f74df585368b7ee61bc1c6",
              "version_minor": 0,
              "version_major": 2
            },
            "text/plain": [
              "HBox(children=(FloatProgress(value=0.0, max=13344.0), HTML(value='')))"
            ]
          },
          "metadata": {
            "tags": []
          }
        },
        {
          "output_type": "stream",
          "text": [
            "\n"
          ],
          "name": "stdout"
        }
      ]
    },
    {
      "cell_type": "markdown",
      "metadata": {
        "id": "4sNNzvchhE4Y"
      },
      "source": [
        "## Handling multiple graphs in a batch\n",
        "We have created now a list of Data objects called *dataset*. Each Data object contains an edge_list, feature vector and label (check this!). We now need to create a GNN that assigns a label to each subgraph and we will be done with the link-prediction task.\n",
        "\n",
        "In Pytorch Geometric, multiple graphs can be treated as a single large graph when [batching with a DataLoader object](https://pytorch-geometric.readthedocs.io/en/latest/notes/introduction.html?highlight=Batch#mini-batches). Message passing between nodes is not affected, simply because nodes in different graphs will not be connected (PyG takes care of assigning appropriate node-labels during batching). In order to keep track of which graph a node belongs to, a Data object representing a batch has the *.batch* attribute when can be used to , for example, pool all the node features in a graph."
      ]
    },
    {
      "cell_type": "code",
      "metadata": {
        "id": "uZJSPof5FnB2",
        "colab": {
          "base_uri": "https://localhost:8080/"
        },
        "outputId": "28cad285-1fc5-4678-ae9e-53a45e054552"
      },
      "source": [
        "from torch_geometric.data import DataLoader\n",
        "loader = DataLoader(dataset=dataset,batch_size=1000,shuffle=True)\n",
        "\n",
        "# Example\n",
        "for data_batch in loader:\n",
        "  break\n",
        "print(\"Graph labels of each node in the batch: \", data_batch.batch)\n",
        "print(\"Number of nodes in a batch:\", data_batch.num_nodes)\n",
        "print(\"Number of edges in a batch:\", data_batch.num_edges)"
      ],
      "execution_count": 17,
      "outputs": [
        {
          "output_type": "stream",
          "text": [
            "Graph labels of each node in the batch:  tensor([  0,   0,   0,  ..., 999, 999, 999], device='cuda:0')\n",
            "Number of nodes in a batch: 62669\n",
            "Number of edges in a batch: 445566\n"
          ],
          "name": "stdout"
        }
      ]
    },
    {
      "cell_type": "code",
      "metadata": {
        "id": "ijTQ4Q1kKB0q",
        "colab": {
          "base_uri": "https://localhost:8080/"
        },
        "outputId": "6c89b826-90e3-424d-cb4c-6dd0a42e0b0a"
      },
      "source": [
        "len([1 for d in dataset_val if d.y == 1])"
      ],
      "execution_count": 18,
      "outputs": [
        {
          "output_type": "execute_result",
          "data": {
            "text/plain": [
              "13344"
            ]
          },
          "metadata": {
            "tags": []
          },
          "execution_count": 18
        }
      ]
    },
    {
      "cell_type": "code",
      "metadata": {
        "colab": {
          "base_uri": "https://localhost:8080/"
        },
        "id": "IgzW_KD-ZO10",
        "outputId": "3647a557-d6e3-4a5b-c1bf-d3e63fa63fe5"
      },
      "source": [
        "len(dataset)"
      ],
      "execution_count": 19,
      "outputs": [
        {
          "output_type": "execute_result",
          "data": {
            "text/plain": [
              "53393"
            ]
          },
          "metadata": {
            "tags": []
          },
          "execution_count": 19
        }
      ]
    },
    {
      "cell_type": "markdown",
      "metadata": {
        "id": "hHaybtP_mKYv"
      },
      "source": [
        "## Graph Classification GNN\n",
        "\n",
        "We will now define a simple graph classification GNN. This basically consists of one convolutional layer, followed by global mean pooling, and finally a linear layer and log_softmax for classification\n"
      ]
    },
    {
      "cell_type": "code",
      "metadata": {
        "id": "1yNr0KlcGqH_"
      },
      "source": [
        "from torch_geometric.nn import GCNConv, glob\n",
        "import torch.nn.functional as F\n",
        "\n",
        "class GraphClassifierNet(torch.nn.Module):\n",
        "    def __init__(self):\n",
        "        super().__init__()\n",
        "        self.conv1 = GCNConv(dataset[0].num_node_features, 4)\n",
        "        self.lin = torch.nn.Linear(4, 2)\n",
        "\n",
        "    def forward(self, data):\n",
        "        x, edge_index, batch = data.x, data.edge_index, data.batch\n",
        "        x = self.conv1(x, edge_index)\n",
        "        x = F.relu(x)\n",
        "        x = glob.global_mean_pool(x, batch)\n",
        "        x = self.lin(x)\n",
        "        return F.log_softmax(x, dim=1)"
      ],
      "execution_count": 20,
      "outputs": []
    },
    {
      "cell_type": "markdown",
      "metadata": {
        "id": "WFI9v6JQnmOE"
      },
      "source": [
        "## Exercise 3\n",
        "Train the graph network and compute the AUC of the validation and test set (Use results from Exercise 1 and Exercise 2). A sample training script is provided below"
      ]
    },
    {
      "cell_type": "code",
      "metadata": {
        "id": "RQKSsq2oJ19y"
      },
      "source": [
        "from sklearn.metrics import roc_auc_score\n",
        "\n",
        "@torch.no_grad()\n",
        "def test(model, dataset):\n",
        "    model.eval()\n",
        "    loader = DataLoader(dataset=dataset,batch_size=1000,shuffle=False)\n",
        "    labels = []\n",
        "    predicted = []\n",
        "    for data in loader:\n",
        "        preds = torch.argmax(model(data.to('cuda')), dim=1)\n",
        "        labels.extend(data.y.cpu().numpy())\n",
        "        predicted.extend(preds.cpu().numpy())\n",
        "    return roc_auc_score(labels, predicted)\n"
      ],
      "execution_count": 21,
      "outputs": []
    },
    {
      "cell_type": "markdown",
      "metadata": {
        "id": "-U6xwz8eAhtu"
      },
      "source": [
        "## Reference Solution\n",
        "Here we train the model on the training set and show the train, validation and test AUC"
      ]
    },
    {
      "cell_type": "code",
      "metadata": {
        "id": "c5ncyRAFt0d6",
        "colab": {
          "base_uri": "https://localhost:8080/",
          "height": 413,
          "referenced_widgets": [
            "01cdd5ea59cb4ffb8afc7a3dc4bdc68b",
            "287a934a9d3b4546a9c581c40f3837fe",
            "1ad1ccf4e3854db69dd7f72b28fe6774",
            "73f1fd38140e45829306694eb1b626b7",
            "f84c4132d53145e48dac5d8b81f249c4",
            "9815023a1b3d4bd787cdf957b0093b31",
            "e902da6354f74f418105aa48dc9c8602",
            "f3da2e879c8e4b0d8b24aaad8c15fc7c"
          ]
        },
        "outputId": "d6ab6713-d787-4097-f0dc-6e03ad487f98"
      },
      "source": [
        "\n",
        "graph_classifier= GraphClassifierNet().to(\"cuda\")\n",
        "optimizer = torch.optim.Adam(graph_classifier.parameters(), lr=0.01)\n",
        "graph_classifier.train()\n",
        "\n",
        "for epoch in tqdm(range(1, 21)):\n",
        "  for data in loader:\n",
        "    optimizer.zero_grad() \n",
        "    log_softmax = graph_classifier(data.to(\"cuda\")) \n",
        "    nll_loss = F.nll_loss(log_softmax, data.y.cuda())\n",
        "    nll_loss.backward()\n",
        "    optimizer.step()\n",
        "  if epoch % 5 == 0:\n",
        "    print(f'{epoch} epoches......')\n",
        "    print('train auc:', test(graph_classifier, dataset))\n",
        "    print('validation auc:', test(graph_classifier, dataset_val))\n",
        "    print('test auc:', test(graph_classifier, dataset_test))\n",
        "    print('loss:', nll_loss.item())"
      ],
      "execution_count": 22,
      "outputs": [
        {
          "output_type": "display_data",
          "data": {
            "application/vnd.jupyter.widget-view+json": {
              "model_id": "01cdd5ea59cb4ffb8afc7a3dc4bdc68b",
              "version_minor": 0,
              "version_major": 2
            },
            "text/plain": [
              "HBox(children=(FloatProgress(value=0.0, max=20.0), HTML(value='')))"
            ]
          },
          "metadata": {
            "tags": []
          }
        },
        {
          "output_type": "stream",
          "text": [
            "5 epoches......\n",
            "train auc: 0.7799545418253404\n",
            "validation auc: 0.7755170863309352\n",
            "test auc: 0.7791891486810552\n",
            "loss: 0.4622424244880676\n",
            "10 epoches......\n",
            "train auc: 0.7907656172586974\n",
            "validation auc: 0.7867206235011992\n",
            "test auc: 0.7881819544364508\n",
            "loss: 0.4829671084880829\n",
            "15 epoches......\n",
            "train auc: 0.7955166920176641\n",
            "validation auc: 0.7903926858513189\n",
            "test auc: 0.7938024580335732\n",
            "loss: 0.43833380937576294\n",
            "20 epoches......\n",
            "train auc: 0.7961572785791451\n",
            "validation auc: 0.7918540167865706\n",
            "test auc: 0.7936900479616306\n",
            "loss: 0.4544219970703125\n",
            "\n"
          ],
          "name": "stdout"
        }
      ]
    },
    {
      "cell_type": "code",
      "metadata": {
        "id": "hZEG-_uBMQ9X"
      },
      "source": [
        ""
      ],
      "execution_count": null,
      "outputs": []
    }
  ]
}