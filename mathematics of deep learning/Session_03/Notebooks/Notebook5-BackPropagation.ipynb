{
 "cells": [
  {
   "cell_type": "markdown",
   "metadata": {
    "id": "6lIvbPd7lhyg"
   },
   "source": [
    "## Fit a function with PyTorch Backpropagation\n",
    "\n"
   ]
  },
  {
   "cell_type": "markdown",
   "metadata": {
    "id": "RqyrFKxXlhzt"
   },
   "source": [
    "Let's pick a simple function $y$ defined as $y = 2x$ and generate a sample data:\n",
    "\n"
   ]
  },
  {
   "cell_type": "code",
   "execution_count": 1,
   "metadata": {
    "id": "WX53gVHIlh0K"
   },
   "outputs": [],
   "source": [
    "from pylab import *\n",
    "import pandas as pd\n",
    "import torch\n",
    "from torch.autograd import Variable\n",
    "\n",
    "#Create sample data\n",
    "x = [1.0, 2.0, 3.0]\n",
    "y = [2*xx for xx in x]"
   ]
  },
  {
   "cell_type": "markdown",
   "metadata": {},
   "source": [
    "Notice that we are setting True on the ``requires_grad`` parameter. In Pytorch, each tensor has this parameter available since this enable to track the gradients across the network. Here it's in-depth explanation of what requires_grad enables: https://www.youtube.com/watch?v=MswxJw-8PvE"
   ]
  },
  {
   "cell_type": "code",
   "execution_count": 3,
   "metadata": {
    "id": "WX53gVHIlh0K"
   },
   "outputs": [
    {
     "name": "stdout",
     "output_type": "stream",
     "text": [
      "Random initial value for w: tensor(1.)\n",
      "Training Data:\n"
     ]
    },
    {
     "data": {
      "text/html": [
       "<div>\n",
       "<style scoped>\n",
       "    .dataframe tbody tr th:only-of-type {\n",
       "        vertical-align: middle;\n",
       "    }\n",
       "\n",
       "    .dataframe tbody tr th {\n",
       "        vertical-align: top;\n",
       "    }\n",
       "\n",
       "    .dataframe thead th {\n",
       "        text-align: right;\n",
       "    }\n",
       "</style>\n",
       "<table border=\"1\" class=\"dataframe\">\n",
       "  <thead>\n",
       "    <tr style=\"text-align: right;\">\n",
       "      <th></th>\n",
       "      <th>x</th>\n",
       "      <th>y</th>\n",
       "    </tr>\n",
       "  </thead>\n",
       "  <tbody>\n",
       "    <tr>\n",
       "      <th>1.0</th>\n",
       "      <td>1.0</td>\n",
       "      <td>2.0</td>\n",
       "    </tr>\n",
       "    <tr>\n",
       "      <th>2.0</th>\n",
       "      <td>2.0</td>\n",
       "      <td>4.0</td>\n",
       "    </tr>\n",
       "    <tr>\n",
       "      <th>3.0</th>\n",
       "      <td>3.0</td>\n",
       "      <td>6.0</td>\n",
       "    </tr>\n",
       "  </tbody>\n",
       "</table>\n",
       "</div>"
      ],
      "text/plain": [
       "       x    y\n",
       "1.0  1.0  2.0\n",
       "2.0  2.0  4.0\n",
       "3.0  3.0  6.0"
      ]
     },
     "execution_count": 3,
     "metadata": {},
     "output_type": "execute_result"
    }
   ],
   "source": [
    "w = Variable(torch.Tensor([1.0]),  requires_grad=True)  # Any random value for weights\n",
    "print(\"Random initial value for w:\", w.data[0])\n",
    "\n",
    "data = {'x':x, 'y':y}\n",
    "df = pd.DataFrame(data=data, index=x)\n",
    "print(\"Training Data:\")\n",
    "df"
   ]
  },
  {
   "cell_type": "markdown",
   "metadata": {
    "id": "BdD-oRQJlh0S"
   },
   "source": [
    "Now let's pretend we don't know the generating function $y$. All we know\n",
    "about it is that $y$ is a linear function. So we can write it as:\n",
    "\n",
    "$$y_{pred} = w*x$$\n",
    "\n"
   ]
  },
  {
   "cell_type": "code",
   "execution_count": 4,
   "metadata": {
    "id": "O3t0PP4clh0Z"
   },
   "outputs": [],
   "source": [
    "# our model forward pass\n",
    "# this is actually our y_pred as we defined above\n",
    "def forward(x):\n",
    "    return x * w"
   ]
  },
  {
   "cell_type": "markdown",
   "metadata": {
    "id": "lJXYW65zlh0a"
   },
   "source": [
    "**Goal**: use the training data above to find the parameter $w$.\n",
    "\n",
    "**Solution:** Loss function for our problem is:  $loss(w) = (y_{pred}-y)^2$\n",
    "\n",
    "Remembering the definition of $y_{pred} = w*x$ we can rewrite the loss function as $loss(w) = ( w*x-y)^2$\n",
    "\n"
   ]
  },
  {
   "cell_type": "code",
   "execution_count": 5,
   "metadata": {
    "id": "3nsbSvCtlh0b"
   },
   "outputs": [],
   "source": [
    "# Loss function\n",
    "def loss(x, y):\n",
    "    y_pred = forward(x)\n",
    "    return (y_pred - y) * (y_pred - y)"
   ]
  },
  {
   "cell_type": "markdown",
   "metadata": {
    "id": "lGJsYoXFlh0c"
   },
   "source": [
    "To minimize the loss, we should compute the derivative of loss wrt $w$\n",
    "and interatively change $w$ to move in the direction of the descent:\n",
    "\n",
    "![img](http://donsoft.io/deep-learning-with-rnns/images/gradient_descent_cropped.gif \"alt text\")\n",
    "\n",
    "Derivative of loss with respect to $w$ is automatically computed by\n",
    "PyTorch using *autograd* and will be kept automatically in\n",
    "\n",
    "    w.grad.data\n",
    "\n",
    "before we start training let's see how our predictions look with the\n",
    "arbitrary weight $w=1$\n",
    "\n"
   ]
  },
  {
   "cell_type": "code",
   "execution_count": 6,
   "metadata": {
    "id": "lY16lDPglh0f"
   },
   "outputs": [
    {
     "name": "stdout",
     "output_type": "stream",
     "text": [
      "predict (before training)\n",
      "input: 4\n",
      "model prediction (before training):  tensor(4.)  -- correct answer: 2x4 = 8\n"
     ]
    }
   ],
   "source": [
    "# predict the value of the predicted function at x = 4 before training\n",
    "# Before training\n",
    "print(\"predict (before training)\")\n",
    "print(\"input: 4\")\n",
    "print(\"model prediction (before training): \", forward(4).data[0], \" -- correct answer: 2x4 = 8\")"
   ]
  },
  {
   "cell_type": "markdown",
   "metadata": {
    "id": "B9cBYK9Xlh0m"
   },
   "source": [
    "##### Visualize training data vs predicted function values, before training:\n",
    "\n"
   ]
  },
  {
   "cell_type": "code",
   "execution_count": 7,
   "metadata": {
    "id": "VFG9rvUZlh0n"
   },
   "outputs": [
    {
     "data": {
      "text/plain": [
       "<matplotlib.legend.Legend at 0x1a99c70f250>"
      ]
     },
     "execution_count": 7,
     "metadata": {},
     "output_type": "execute_result"
    },
    {
     "data": {
      "image/png": "[encoded data removed]",
      "text/plain": [
       "<Figure size 432x288 with 1 Axes>"
      ]
     },
     "metadata": {
      "needs_background": "light"
     },
     "output_type": "display_data"
    }
   ],
   "source": [
    "x_data = df['x']\n",
    "y_data = df['y']\n",
    "plot(x_data,y_data,'ro', label=\"Training Data\")\n",
    "plot(x_data,[forward(x) for x in x_data], label=\"Model Prediction before training\")\n",
    "legend()"
   ]
  },
  {
   "cell_type": "markdown",
   "metadata": {
    "id": "08C71J5Rlh0p"
   },
   "source": [
    "That's pretty bad! Let's learn the predicting function $y_pred$ by\n",
    "learning the value of $w$.\n",
    "\n",
    "We will move $w$ according to this rule: $w = w - learning\\_rate * grad$\n",
    "\n",
    "where\n",
    "\n",
    "    grad = w.grad.data[0]\n",
    "\n",
    "Remember in Pytorch we can call the ``.backward()`` method on tensors and take the derivative with respect of every parameter which has ``requires_grad = True`` \n",
    "\n",
    "Let's pick a small step size as our learning rate:\n",
    "\n",
    "$learning\\_rate = 0.01$\n",
    "\n",
    "and solve the problem using gradient descent in 10 iterations:"
   ]
  },
  {
   "cell_type": "code",
   "execution_count": 10,
   "metadata": {
    "id": "lC3q0rsklh0s"
   },
   "outputs": [
    {
     "name": "stdout",
     "output_type": "stream",
     "text": [
      "\tgrad:  1.0 2.0 tensor(-2.)\n",
      "\tgrad:  2.0 4.0 tensor(-7.8400)\n",
      "\tgrad:  3.0 6.0 tensor(-16.2288)\n",
      "progress: 0 tensor(7.3159)\n",
      "\tgrad:  1.0 2.0 tensor(-1.4786)\n",
      "\tgrad:  2.0 4.0 tensor(-5.7962)\n",
      "\tgrad:  3.0 6.0 tensor(-11.9981)\n",
      "progress: 1 tensor(3.9988)\n",
      "\tgrad:  1.0 2.0 tensor(-1.0932)\n",
      "\tgrad:  2.0 4.0 tensor(-4.2852)\n",
      "\tgrad:  3.0 6.0 tensor(-8.8704)\n",
      "progress: 2 tensor(2.1857)\n",
      "\tgrad:  1.0 2.0 tensor(-0.8082)\n",
      "\tgrad:  2.0 4.0 tensor(-3.1681)\n",
      "\tgrad:  3.0 6.0 tensor(-6.5580)\n",
      "progress: 3 tensor(1.1946)\n",
      "\tgrad:  1.0 2.0 tensor(-0.5975)\n",
      "\tgrad:  2.0 4.0 tensor(-2.3422)\n",
      "\tgrad:  3.0 6.0 tensor(-4.8484)\n",
      "progress: 4 tensor(0.6530)\n",
      "\tgrad:  1.0 2.0 tensor(-0.4417)\n",
      "\tgrad:  2.0 4.0 tensor(-1.7316)\n",
      "\tgrad:  3.0 6.0 tensor(-3.5845)\n",
      "progress: 5 tensor(0.3569)\n",
      "\tgrad:  1.0 2.0 tensor(-0.3266)\n",
      "\tgrad:  2.0 4.0 tensor(-1.2802)\n",
      "\tgrad:  3.0 6.0 tensor(-2.6500)\n",
      "progress: 6 tensor(0.1951)\n",
      "\tgrad:  1.0 2.0 tensor(-0.2414)\n",
      "\tgrad:  2.0 4.0 tensor(-0.9465)\n",
      "\tgrad:  3.0 6.0 tensor(-1.9592)\n",
      "progress: 7 tensor(0.1066)\n",
      "\tgrad:  1.0 2.0 tensor(-0.1785)\n",
      "\tgrad:  2.0 4.0 tensor(-0.6997)\n",
      "\tgrad:  3.0 6.0 tensor(-1.4485)\n",
      "progress: 8 tensor(0.0583)\n",
      "\tgrad:  1.0 2.0 tensor(-0.1320)\n",
      "\tgrad:  2.0 4.0 tensor(-0.5173)\n",
      "\tgrad:  3.0 6.0 tensor(-1.0709)\n",
      "progress: 9 tensor(0.0319)\n"
     ]
    }
   ],
   "source": [
    "learning_rate = 0.01\n",
    "\n",
    "# Training loop\n",
    "for epoch in range(10): #n_epochs (aka iterations) are 10\n",
    "    for x_val, y_val in zip(x_data, y_data):\n",
    "        #compute loss for this step\n",
    "        l = loss(x_val, y_val)\n",
    "        #backprop\n",
    "        l.backward() \n",
    "        # grad is automatically computed\n",
    "        print(\"\\tgrad: \", x_val, y_val, w.grad.data[0])\n",
    "        # alter w for this step \n",
    "        w.data = w.data - learning_rate * w.grad.data\n",
    "\n",
    "        # Manually zero the gradients after updating weights\n",
    "        w.grad.data.zero_()\n",
    "\n",
    "    print(\"progress:\", epoch, l.data[0])"
   ]
  },
  {
   "cell_type": "markdown",
   "metadata": {
    "id": "--qlcilYlh0t"
   },
   "source": [
    "#### Let's see how well we are doing in prediction a single value of the function after training for 10 steps:"
   ]
  },
  {
   "cell_type": "code",
   "execution_count": 11,
   "metadata": {
    "id": "dNrFVvtolh0t"
   },
   "outputs": [
    {
     "name": "stdout",
     "output_type": "stream",
     "text": [
      "predict (after training)\n",
      "input: 4\n",
      "model prediction (after training):  tensor(7.8049)  -- correct answer: 8\n"
     ]
    }
   ],
   "source": [
    "# After training\n",
    "print(\"predict (after training)\")\n",
    "print(\"input: 4\")\n",
    "print(\"model prediction (after training): \", forward(4).data[0], \" -- correct answer: 8\")"
   ]
  },
  {
   "cell_type": "markdown",
   "metadata": {
    "id": "Zy_kdxJQlh2f"
   },
   "source": [
    "#### Looks really promising! Let's look at the predicted function over all values in the training range:\n",
    "\n"
   ]
  },
  {
   "cell_type": "code",
   "execution_count": 12,
   "metadata": {
    "id": "duiXJ1Lelh2h"
   },
   "outputs": [
    {
     "data": {
      "text/plain": [
       "<matplotlib.legend.Legend at 0x1a99c81a880>"
      ]
     },
     "execution_count": 12,
     "metadata": {},
     "output_type": "execute_result"
    },
    {
     "data": {
      "image/png": "[encoded data removed]",
      "text/plain": [
       "<Figure size 432x288 with 1 Axes>"
      ]
     },
     "metadata": {
      "needs_background": "light"
     },
     "output_type": "display_data"
    }
   ],
   "source": [
    "plot(x_data,y_data,'ro', label=\"Training Data\")\n",
    "plot(x_data,[forward(x) for x in x_data], label=\"Model Prediction after training\")\n",
    "legend()"
   ]
  },
  {
   "cell_type": "markdown",
   "metadata": {
    "id": "dbx0nlDElh2k"
   },
   "source": [
    "Hoorray! We have learned the desired function at a pretty good accuracy!\n",
    "\n"
   ]
  },
  {
   "cell_type": "code",
   "execution_count": 13,
   "metadata": {
    "id": "W2Xxp0jYlh2p"
   },
   "outputs": [
    {
     "name": "stdout",
     "output_type": "stream",
     "text": [
      "Learned function:\n",
      "y_pred = 1.951216 * x\n"
     ]
    }
   ],
   "source": [
    "print(\"Learned function:\")\n",
    "print(\"y_pred = %f * x\"%w )"
   ]
  },
  {
   "cell_type": "markdown",
   "metadata": {
    "id": "WJqVHpQYlh2q"
   },
   "source": [
    "## Exercise I:\n",
    "\n"
   ]
  },
  {
   "cell_type": "markdown",
   "metadata": {
    "id": "E-Rih5cSlh2u"
   },
   "source": [
    "Repeat the above exercise for\n",
    "\n",
    "$y = x^2$\n",
    "\n"
   ]
  },
  {
   "cell_type": "markdown",
   "metadata": {
    "id": "PxVZaD6Klh2v"
   },
   "source": [
    "## Exercise II:\n",
    "\n"
   ]
  },
  {
   "cell_type": "markdown",
   "metadata": {
    "id": "knPfe0vXlh2w"
   },
   "source": [
    "Use the above method for\n",
    "\n",
    "$y = 5x+3$\n",
    "\n",
    "**Hint:** You need to learn two values: $w$ and $b$. And your prediction\n",
    "function is\n",
    "\n",
    "$y_{pred} = w*x + b$\n",
    "\n",
    "and your gradient descent looks something like this:\n",
    "\n",
    "![img](https://media.giphy.com/media/O9rcZVmRcEGqI/giphy.gif \"alt text\")\n",
    "\n"
   ]
  }
 ],
 "metadata": {
  "colab": {
   "name": "BackProp_std.ipynb",
   "provenance": []
  },
  "kernelspec": {
   "display_name": "Python 3",
   "language": "python",
   "name": "python3"
  },
  "language_info": {
   "codemirror_mode": {
    "name": "ipython",
    "version": 3
   },
   "file_extension": ".py",
   "mimetype": "text/x-python",
   "name": "python",
   "nbconvert_exporter": "python",
   "pygments_lexer": "ipython3",
   "version": "3.8.5"
  },
  "org": null
 },
 "nbformat": 4,
 "nbformat_minor": 4
}
