{
  "nbformat": 4,
  "nbformat_minor": 0,
  "metadata": {
    "colab": {
      "name": "c_AISC_Math Session5_Book5_sol.ipynb",
      "provenance": [],
      "collapsed_sections": []
    },
    "kernelspec": {
      "display_name": "Python 3",
      "language": "python",
      "name": "python3"
    },
    "language_info": {
      "codemirror_mode": {
        "name": "ipython",
        "version": 3
      },
      "file_extension": ".py",
      "mimetype": "text/x-python",
      "name": "python",
      "nbconvert_exporter": "python",
      "pygments_lexer": "ipython3",
      "version": "3.8.5"
    },
    "org": null
  },
  "cells": [
    {
      "cell_type": "markdown",
      "metadata": {
        "id": "6lIvbPd7lhyg"
      },
      "source": [
        "## Fit a function with PyTorch Backpropagation\n",
        "\n"
      ]
    },
    {
      "cell_type": "markdown",
      "metadata": {
        "id": "RqyrFKxXlhzt"
      },
      "source": [
        "Let's pick a simple function $y$ defined as \\\\\n",
        "$y = 2x$ \\\\\n",
        "and generate a sample data:\n",
        "\n"
      ]
    },
    {
      "cell_type": "code",
      "metadata": {
        "id": "WX53gVHIlh0K"
      },
      "source": [
        "from pylab import *\n",
        "import pandas as pd\n",
        "import torch\n",
        "from torch.autograd import Variable\n",
        "\n",
        "#Create sample data\n",
        "x = [1.0, 2.0, 3.0]\n",
        "y = [2*xx for xx in x]"
      ],
      "execution_count": 1,
      "outputs": []
    },
    {
      "cell_type": "markdown",
      "metadata": {
        "id": "IQSeUCBnDhTo"
      },
      "source": [
        "Notice that we are setting True on the ``requires_grad`` parameter. In Pytorch, each tensor has this parameter available since this enable to track the gradients across the network. Here it's in-depth explanation of what requires_grad enables: https://www.youtube.com/watch?v=MswxJw-8PvE"
      ]
    },
    {
      "cell_type": "code",
      "metadata": {
        "id": "hjk80ajiDhTq",
        "colab": {
          "base_uri": "https://localhost:8080/",
          "height": 159
        },
        "outputId": "91de0f81-7b3c-4044-9438-b530c7cf343d"
      },
      "source": [
        "data = {'x':x, 'y':y}\n",
        "df = pd.DataFrame(data=data, index=x)\n",
        "print(\"Training Data:\")\n",
        "df"
      ],
      "execution_count": 2,
      "outputs": [
        {
          "output_type": "stream",
          "text": [
            "Training Data:\n"
          ],
          "name": "stdout"
        },
        {
          "output_type": "execute_result",
          "data": {
            "text/html": [
              "<div>\n",
              "<style scoped>\n",
              "    .dataframe tbody tr th:only-of-type {\n",
              "        vertical-align: middle;\n",
              "    }\n",
              "\n",
              "    .dataframe tbody tr th {\n",
              "        vertical-align: top;\n",
              "    }\n",
              "\n",
              "    .dataframe thead th {\n",
              "        text-align: right;\n",
              "    }\n",
              "</style>\n",
              "<table border=\"1\" class=\"dataframe\">\n",
              "  <thead>\n",
              "    <tr style=\"text-align: right;\">\n",
              "      <th></th>\n",
              "      <th>x</th>\n",
              "      <th>y</th>\n",
              "    </tr>\n",
              "  </thead>\n",
              "  <tbody>\n",
              "    <tr>\n",
              "      <th>1.0</th>\n",
              "      <td>1.0</td>\n",
              "      <td>2.0</td>\n",
              "    </tr>\n",
              "    <tr>\n",
              "      <th>2.0</th>\n",
              "      <td>2.0</td>\n",
              "      <td>4.0</td>\n",
              "    </tr>\n",
              "    <tr>\n",
              "      <th>3.0</th>\n",
              "      <td>3.0</td>\n",
              "      <td>6.0</td>\n",
              "    </tr>\n",
              "  </tbody>\n",
              "</table>\n",
              "</div>"
            ],
            "text/plain": [
              "       x    y\n",
              "1.0  1.0  2.0\n",
              "2.0  2.0  4.0\n",
              "3.0  3.0  6.0"
            ]
          },
          "metadata": {
            "tags": []
          },
          "execution_count": 2
        }
      ]
    },
    {
      "cell_type": "markdown",
      "metadata": {
        "id": "BdD-oRQJlh0S"
      },
      "source": [
        "Now let's pretend we don't know the generating function $y$. All we know\n",
        "about it is that $y$ is a linear function. So we can write it as:\n",
        "\n",
        "$y_{pred} = w*x$\n",
        "\n"
      ]
    },
    {
      "cell_type": "code",
      "metadata": {
        "id": "O3t0PP4clh0Z",
        "colab": {
          "base_uri": "https://localhost:8080/"
        },
        "outputId": "0b3cbc17-df77-443e-f56a-1030b5429601"
      },
      "source": [
        "w = Variable(torch.Tensor([1.0]),  requires_grad=True)  # Any random value for weights\n",
        "print(\"Random initial value for w:\", w.data[0])\n",
        "\n",
        "# our model forward pass\n",
        "# this is actually our y_pred as we defined above\n",
        "def forward(x):\n",
        "    return x * w"
      ],
      "execution_count": 3,
      "outputs": [
        {
          "output_type": "stream",
          "text": [
            "Random initial value for w: tensor(1.)\n"
          ],
          "name": "stdout"
        }
      ]
    },
    {
      "cell_type": "markdown",
      "metadata": {
        "id": "lJXYW65zlh0a"
      },
      "source": [
        "**Goal**: use the training data above to find the parameter $w$.\n",
        "\n",
        "**Solution:** Loss function for our problem is: \\\\\n",
        "$loss(w) = (y_{pred}-y)^2$\n",
        "\n",
        "Remembering the definition of $y_{pred} = w*x$ we can rewrite the loss function as \\\\\n",
        " $loss(w) = ( w*x-y)^2$\n",
        "\n"
      ]
    },
    {
      "cell_type": "markdown",
      "metadata": {
        "id": "6mOAoGNdInIv"
      },
      "source": [
        "# Define loss function"
      ]
    },
    {
      "cell_type": "code",
      "metadata": {
        "id": "3nsbSvCtlh0b"
      },
      "source": [
        "# Loss function\n",
        "def loss(x, y):\n",
        "    y_pred = forward(x)\n",
        "    return (y_pred - y) * (y_pred - y)"
      ],
      "execution_count": 4,
      "outputs": []
    },
    {
      "cell_type": "markdown",
      "metadata": {
        "id": "lGJsYoXFlh0c"
      },
      "source": [
        "To minimize the loss, we should compute the derivative of loss wrt $w$\n",
        "and interatively change $w$ to move in the direction of the descent:\n",
        "\n",
        "![img](http://donsoft.io/deep-learning-with-rnns/images/gradient_descent_cropped.gif \"alt text\")\n",
        "\n"
      ]
    },
    {
      "cell_type": "markdown",
      "metadata": {
        "id": "_T9fj8AdL1_q"
      },
      "source": [
        "# Calculate gradient\n",
        "\n",
        "Derivative of loss with respect to $w$ is automatically computed by\n",
        "PyTorch using *autograd* and will be kept automatically in\n",
        "\n",
        "    w.grad.data\n",
        "\n",
        "before we start training let's see how our predictions look with the\n",
        "arbitrary weight $w=1$\n",
        "\n"
      ]
    },
    {
      "cell_type": "markdown",
      "metadata": {
        "id": "RwlLKfCTJJv8"
      },
      "source": [
        "#Before training"
      ]
    },
    {
      "cell_type": "code",
      "metadata": {
        "id": "lY16lDPglh0f",
        "colab": {
          "base_uri": "https://localhost:8080/"
        },
        "outputId": "88ce2c03-6b02-4d72-9620-f3a520aae075"
      },
      "source": [
        "# predict the value of the predicted function at x = 4 before training\n",
        "# Before training\n",
        "print(\"predict (before training)\")\n",
        "print(\"input: 4\")\n",
        "print(\"model prediction (before training): \", forward(4).data[0], \" -- correct answer: 2x4 = 8\")"
      ],
      "execution_count": 5,
      "outputs": [
        {
          "output_type": "stream",
          "text": [
            "predict (before training)\n",
            "input: 4\n",
            "model prediction (before training):  tensor(4.)  -- correct answer: 2x4 = 8\n"
          ],
          "name": "stdout"
        }
      ]
    },
    {
      "cell_type": "markdown",
      "metadata": {
        "id": "B9cBYK9Xlh0m"
      },
      "source": [
        "##### Visualize training data vs predicted function values, before training:\n",
        "\n"
      ]
    },
    {
      "cell_type": "code",
      "metadata": {
        "id": "VFG9rvUZlh0n",
        "colab": {
          "base_uri": "https://localhost:8080/",
          "height": 282
        },
        "outputId": "9ebbc133-2ea6-4839-9ab8-25040b130564"
      },
      "source": [
        "x_data = df['x']\n",
        "y_data = df['y']\n",
        "plot(x_data,y_data,'ro', label=\"Training Data\")\n",
        "plot(x_data,[forward(x) for x in x_data], label=\"Model Prediction before training\")\n",
        "legend()"
      ],
      "execution_count": 6,
      "outputs": [
        {
          "output_type": "execute_result",
          "data": {
            "text/plain": [
              "<matplotlib.legend.Legend at 0x7fc6b39691d0>"
            ]
          },
          "metadata": {
            "tags": []
          },
          "execution_count": 6
        },
        {
          "output_type": "display_data",
          "data": {
            "image/png": "[encoded data removed]",
            "text/plain": [
              "<Figure size 432x288 with 1 Axes>"
            ]
          },
          "metadata": {
            "tags": [],
            "needs_background": "light"
          }
        }
      ]
    },
    {
      "cell_type": "markdown",
      "metadata": {
        "id": "snL3zWdvJ-d0"
      },
      "source": [
        "#Learning"
      ]
    },
    {
      "cell_type": "markdown",
      "metadata": {
        "id": "08C71J5Rlh0p"
      },
      "source": [
        "That's pretty bad! Let's learn the predicting function $y_pred$ by\n",
        "learning the value of $w$.\n",
        "\n",
        "We will move $w$ according to this rule: \\\\\n",
        "$w = w - learning\\_rate * grad$\n",
        "\n",
        "where\n",
        "\n",
        "    grad = w.grad.data[0]\n",
        "\n",
        "Remember in Pytorch we can call the ``.backward()`` method on tensors and take the derivative with respect of every parameter which has ``requires_grad = True`` \n",
        "\n",
        "Let's pick a small step size as our learning rate:\n",
        "\n",
        "$learning\\_rate = 0.01$\n",
        "\n",
        "and solve the problem using gradient descent in 10 iterations:"
      ]
    },
    {
      "cell_type": "code",
      "metadata": {
        "id": "lC3q0rsklh0s",
        "colab": {
          "base_uri": "https://localhost:8080/"
        },
        "outputId": "7895a4e3-1486-43a8-9e8b-f2bea8e3a225"
      },
      "source": [
        "learning_rate = 0.01\n",
        "\n",
        "# Training loop\n",
        "for epoch in range(10): #n_epochs (aka iterations) are 10\n",
        "    for x_val, y_val in zip(x_data, y_data):\n",
        "        #compute loss for this step\n",
        "        l = loss(x_val, y_val)\n",
        "        #backprop\n",
        "        l.backward() \n",
        "        # grad is automatically computed\n",
        "        print(\"\\tgrad: \", x_val, y_val, w.grad.data[0])\n",
        "        # alter w for this step \n",
        "        w.data = w.data - learning_rate * w.grad.data\n",
        "\n",
        "        # Manually zero the gradients after updating weights\n",
        "        w.grad.data.zero_()\n",
        "\n",
        "    print(\"progress:\", epoch, l.data[0])"
      ],
      "execution_count": 7,
      "outputs": [
        {
          "output_type": "stream",
          "text": [
            "\tgrad:  1.0 2.0 tensor(-2.)\n",
            "\tgrad:  2.0 4.0 tensor(-7.8400)\n",
            "\tgrad:  3.0 6.0 tensor(-16.2288)\n",
            "progress: 0 tensor(7.3159)\n",
            "\tgrad:  1.0 2.0 tensor(-1.4786)\n",
            "\tgrad:  2.0 4.0 tensor(-5.7962)\n",
            "\tgrad:  3.0 6.0 tensor(-11.9981)\n",
            "progress: 1 tensor(3.9988)\n",
            "\tgrad:  1.0 2.0 tensor(-1.0932)\n",
            "\tgrad:  2.0 4.0 tensor(-4.2852)\n",
            "\tgrad:  3.0 6.0 tensor(-8.8704)\n",
            "progress: 2 tensor(2.1857)\n",
            "\tgrad:  1.0 2.0 tensor(-0.8082)\n",
            "\tgrad:  2.0 4.0 tensor(-3.1681)\n",
            "\tgrad:  3.0 6.0 tensor(-6.5580)\n",
            "progress: 3 tensor(1.1946)\n",
            "\tgrad:  1.0 2.0 tensor(-0.5975)\n",
            "\tgrad:  2.0 4.0 tensor(-2.3422)\n",
            "\tgrad:  3.0 6.0 tensor(-4.8484)\n",
            "progress: 4 tensor(0.6530)\n",
            "\tgrad:  1.0 2.0 tensor(-0.4417)\n",
            "\tgrad:  2.0 4.0 tensor(-1.7316)\n",
            "\tgrad:  3.0 6.0 tensor(-3.5845)\n",
            "progress: 5 tensor(0.3569)\n",
            "\tgrad:  1.0 2.0 tensor(-0.3266)\n",
            "\tgrad:  2.0 4.0 tensor(-1.2802)\n",
            "\tgrad:  3.0 6.0 tensor(-2.6500)\n",
            "progress: 6 tensor(0.1951)\n",
            "\tgrad:  1.0 2.0 tensor(-0.2414)\n",
            "\tgrad:  2.0 4.0 tensor(-0.9465)\n",
            "\tgrad:  3.0 6.0 tensor(-1.9592)\n",
            "progress: 7 tensor(0.1066)\n",
            "\tgrad:  1.0 2.0 tensor(-0.1785)\n",
            "\tgrad:  2.0 4.0 tensor(-0.6997)\n",
            "\tgrad:  3.0 6.0 tensor(-1.4485)\n",
            "progress: 8 tensor(0.0583)\n",
            "\tgrad:  1.0 2.0 tensor(-0.1320)\n",
            "\tgrad:  2.0 4.0 tensor(-0.5173)\n",
            "\tgrad:  3.0 6.0 tensor(-1.0709)\n",
            "progress: 9 tensor(0.0319)\n"
          ],
          "name": "stdout"
        }
      ]
    },
    {
      "cell_type": "markdown",
      "metadata": {
        "id": "M4KoGErmMF4v"
      },
      "source": [
        "#After learning\n",
        "#### Let's see how well we are doing in prediction a single value of the function after training for 10 steps:"
      ]
    },
    {
      "cell_type": "code",
      "metadata": {
        "id": "dNrFVvtolh0t",
        "colab": {
          "base_uri": "https://localhost:8080/"
        },
        "outputId": "16efcf77-479f-46ce-95f4-3e65abaec890"
      },
      "source": [
        "# After training\n",
        "print(\"predict (after training)\")\n",
        "print(\"input: 4\")\n",
        "print(\"model prediction (after training): \", forward(4).data[0], \" -- correct answer: 8\")"
      ],
      "execution_count": 8,
      "outputs": [
        {
          "output_type": "stream",
          "text": [
            "predict (after training)\n",
            "input: 4\n",
            "model prediction (after training):  tensor(7.8049)  -- correct answer: 8\n"
          ],
          "name": "stdout"
        }
      ]
    },
    {
      "cell_type": "markdown",
      "metadata": {
        "id": "Zy_kdxJQlh2f"
      },
      "source": [
        "#### Looks really promising! Let's look at the predicted function over all values in the training range:\n",
        "\n"
      ]
    },
    {
      "cell_type": "code",
      "metadata": {
        "id": "duiXJ1Lelh2h",
        "colab": {
          "base_uri": "https://localhost:8080/",
          "height": 282
        },
        "outputId": "f3627b23-3ca9-46cc-e71e-519d297cc8e3"
      },
      "source": [
        "plot(x_data,y_data,'ro', label=\"Training Data\")\n",
        "plot(x_data,[forward(x) for x in x_data], label=\"Model Prediction after training\")\n",
        "legend()"
      ],
      "execution_count": 9,
      "outputs": [
        {
          "output_type": "execute_result",
          "data": {
            "text/plain": [
              "<matplotlib.legend.Legend at 0x7fc6b33ecb90>"
            ]
          },
          "metadata": {
            "tags": []
          },
          "execution_count": 9
        },
        {
          "output_type": "display_data",
          "data": {
            "image/png": "[encoded data removed]",
            "text/plain": [
              "<Figure size 432x288 with 1 Axes>"
            ]
          },
          "metadata": {
            "tags": [],
            "needs_background": "light"
          }
        }
      ]
    },
    {
      "cell_type": "markdown",
      "metadata": {
        "id": "dbx0nlDElh2k"
      },
      "source": [
        "Hoorray! We have learned the desired function at a pretty good accuracy!\n",
        "\n"
      ]
    },
    {
      "cell_type": "code",
      "metadata": {
        "id": "W2Xxp0jYlh2p",
        "colab": {
          "base_uri": "https://localhost:8080/"
        },
        "outputId": "ad9829d2-5b70-46da-ec05-8cfe93080266"
      },
      "source": [
        "print(\"Learned function:\")\n",
        "print(\"y_pred = %f * x\"%w )"
      ],
      "execution_count": 10,
      "outputs": [
        {
          "output_type": "stream",
          "text": [
            "Learned function:\n",
            "y_pred = 1.951216 * x\n"
          ],
          "name": "stdout"
        }
      ]
    },
    {
      "cell_type": "markdown",
      "metadata": {
        "id": "WJqVHpQYlh2q"
      },
      "source": [
        "## Exercise I:\n",
        "\n"
      ]
    },
    {
      "cell_type": "markdown",
      "metadata": {
        "id": "E-Rih5cSlh2u"
      },
      "source": [
        "Repeat the above exercise for\n",
        "\n",
        "$y = x^2$\n",
        "\n"
      ]
    },
    {
      "cell_type": "code",
      "metadata": {
        "colab": {
          "base_uri": "https://localhost:8080/"
        },
        "id": "8iGwDLSQLkOz",
        "outputId": "c5be9394-689d-44c8-bccf-b0ea23f56b44"
      },
      "source": [
        "# We know our model is non-linear\n",
        "w = Variable(torch.Tensor([3.0]),  requires_grad=True)  # Any random value for weights\n",
        "print(\"Random initial value for w:\", w.data[0])\n",
        "\n",
        "# our nmodel forward pass\n",
        "# this actually our y_pred aswe defined above\n",
        "def nforward(x):\n",
        "  return x**w"
      ],
      "execution_count": 11,
      "outputs": [
        {
          "output_type": "stream",
          "text": [
            "Random initial value for w: tensor(3.)\n"
          ],
          "name": "stdout"
        }
      ]
    },
    {
      "cell_type": "markdown",
      "metadata": {
        "id": "ARdLFTB5N0VB"
      },
      "source": [
        "#Define *loss* function"
      ]
    },
    {
      "cell_type": "code",
      "metadata": {
        "id": "3SHmXoLqOBfg"
      },
      "source": [
        "import numpy as np\n",
        "# Loss function\n",
        "def nloss(x,y):\n",
        "  y_pred=nforward(x)\n",
        "  return (y_pred-y)*(y_pred -y)"
      ],
      "execution_count": 12,
      "outputs": []
    },
    {
      "cell_type": "markdown",
      "metadata": {
        "id": "7ILTyz3xSREJ"
      },
      "source": [
        "### Generate data"
      ]
    },
    {
      "cell_type": "code",
      "metadata": {
        "colab": {
          "base_uri": "https://localhost:8080/"
        },
        "id": "BoPyHlOOR5Ol",
        "outputId": "3bfbde8f-7c86-45e3-9109-4f953a535815"
      },
      "source": [
        "x = [1.0, 2.0, 3.0, 4.0, 5.0, 6.0]\n",
        "y = [xx**2 for xx in x]\n",
        "\n",
        "data = {'x':x, 'y':y}\n",
        "df = pd.DataFrame(data=data, index=x)\n",
        "print(\"Training Data:\")\n",
        "x_data = df['x']\n",
        "y_data = df['y']\n",
        "\n",
        "print(x_data)\n",
        "print(y_data)"
      ],
      "execution_count": 13,
      "outputs": [
        {
          "output_type": "stream",
          "text": [
            "Training Data:\n",
            "1.0    1.0\n",
            "2.0    2.0\n",
            "3.0    3.0\n",
            "4.0    4.0\n",
            "5.0    5.0\n",
            "6.0    6.0\n",
            "Name: x, dtype: float64\n",
            "1.0     1.0\n",
            "2.0     4.0\n",
            "3.0     9.0\n",
            "4.0    16.0\n",
            "5.0    25.0\n",
            "6.0    36.0\n",
            "Name: y, dtype: float64\n"
          ],
          "name": "stdout"
        }
      ]
    },
    {
      "cell_type": "markdown",
      "metadata": {
        "id": "r_aUTPvGRzwg"
      },
      "source": [
        "#Define gradient"
      ]
    },
    {
      "cell_type": "markdown",
      "metadata": {
        "id": "sTdfAF9fObrh"
      },
      "source": [
        "Derivative of **loss** with respect to $w$ is given by: \\\\\n",
        "\n",
        "`w.grad.data`\n"
      ]
    },
    {
      "cell_type": "markdown",
      "metadata": {
        "id": "XJlR3Z6tSlwX"
      },
      "source": [
        "# Learning"
      ]
    },
    {
      "cell_type": "code",
      "metadata": {
        "colab": {
          "base_uri": "https://localhost:8080/"
        },
        "id": "0aDEl3yUSrU1",
        "outputId": "2871b8bd-7e78-4e6a-b2c8-75450504f045"
      },
      "source": [
        "learning_rate = 0.001\n",
        "\n",
        "# Training loop\n",
        "for epoch in range(10): #n_epochs (aka iterations) are 10\n",
        "    for x_val, y_val in zip(x_data, y_data):\n",
        "        #compute loss for this step\n",
        "        l = nloss(x_val, y_val)\n",
        "        #backprop\n",
        "        l.backward() \n",
        "        # grad is automatically computed\n",
        "        print(\"\\tgrad: \", x_val, y_val, w.grad.data[0])\n",
        "        # alter w for this step \n",
        "        w.data = w.data - (learning_rate * w.grad.data)\n",
        "\n",
        "        # Manually zero the gradients after updating weights\n",
        "        w.grad.data.zero_()\n",
        "\n",
        "    print(\"progress:\", epoch, l.data[0])"
      ],
      "execution_count": 14,
      "outputs": [
        {
          "output_type": "stream",
          "text": [
            "\tgrad:  1.0 1.0 tensor(0.)\n",
            "\tgrad:  2.0 4.0 tensor(44.3614)\n",
            "\tgrad:  3.0 9.0 tensor(944.4883)\n",
            "\tgrad:  4.0 16.0 tensor(11.2291)\n",
            "\tgrad:  5.0 25.0 tensor(-0.2548)\n",
            "\tgrad:  6.0 36.0 tensor(1.4670)\n",
            "progress: 0 tensor(0.0001)\n",
            "\tgrad:  1.0 1.0 tensor(0.)\n",
            "\tgrad:  2.0 4.0 tensor(-0.0198)\n",
            "\tgrad:  3.0 9.0 tensor(-0.2480)\n",
            "\tgrad:  4.0 16.0 tensor(-1.0045)\n",
            "\tgrad:  5.0 25.0 tensor(-0.0602)\n",
            "\tgrad:  6.0 36.0 tensor(0.3455)\n",
            "progress: 1 tensor(7.1712e-06)\n",
            "\tgrad:  1.0 1.0 tensor(0.)\n",
            "\tgrad:  2.0 4.0 tensor(-0.0047)\n",
            "\tgrad:  3.0 9.0 tensor(-0.0585)\n",
            "\tgrad:  4.0 16.0 tensor(-0.2368)\n",
            "\tgrad:  5.0 25.0 tensor(-0.0127)\n",
            "\tgrad:  6.0 36.0 tensor(0.0733)\n",
            "progress: 2 tensor(3.2307e-07)\n",
            "\tgrad:  1.0 1.0 tensor(0.)\n",
            "\tgrad:  2.0 4.0 tensor(-0.0010)\n",
            "\tgrad:  3.0 9.0 tensor(-0.0124)\n",
            "\tgrad:  4.0 16.0 tensor(-0.0503)\n",
            "\tgrad:  5.0 25.0 tensor(-0.0028)\n",
            "\tgrad:  6.0 36.0 tensor(0.0157)\n",
            "progress: 3 tensor(1.4901e-08)\n",
            "\tgrad:  1.0 1.0 tensor(0.)\n",
            "\tgrad:  2.0 4.0 tensor(-0.0002)\n",
            "\tgrad:  3.0 9.0 tensor(-0.0027)\n",
            "\tgrad:  4.0 16.0 tensor(-0.0108)\n",
            "\tgrad:  5.0 25.0 tensor(-0.0008)\n",
            "\tgrad:  6.0 36.0 tensor(0.0039)\n",
            "progress: 4 tensor(9.3132e-10)\n",
            "\tgrad:  1.0 1.0 tensor(0.)\n",
            "\tgrad:  2.0 4.0 tensor(-5.2883e-05)\n",
            "\tgrad:  3.0 9.0 tensor(-0.0007)\n",
            "\tgrad:  4.0 16.0 tensor(-0.0027)\n",
            "\tgrad:  5.0 25.0 tensor(0.)\n",
            "\tgrad:  6.0 36.0 tensor(0.)\n",
            "progress: 5 tensor(0.)\n",
            "\tgrad:  1.0 1.0 tensor(0.)\n",
            "\tgrad:  2.0 4.0 tensor(0.)\n",
            "\tgrad:  3.0 9.0 tensor(0.)\n",
            "\tgrad:  4.0 16.0 tensor(0.)\n",
            "\tgrad:  5.0 25.0 tensor(0.)\n",
            "\tgrad:  6.0 36.0 tensor(0.)\n",
            "progress: 6 tensor(0.)\n",
            "\tgrad:  1.0 1.0 tensor(0.)\n",
            "\tgrad:  2.0 4.0 tensor(0.)\n",
            "\tgrad:  3.0 9.0 tensor(0.)\n",
            "\tgrad:  4.0 16.0 tensor(0.)\n",
            "\tgrad:  5.0 25.0 tensor(0.)\n",
            "\tgrad:  6.0 36.0 tensor(0.)\n",
            "progress: 7 tensor(0.)\n",
            "\tgrad:  1.0 1.0 tensor(0.)\n",
            "\tgrad:  2.0 4.0 tensor(0.)\n",
            "\tgrad:  3.0 9.0 tensor(0.)\n",
            "\tgrad:  4.0 16.0 tensor(0.)\n",
            "\tgrad:  5.0 25.0 tensor(0.)\n",
            "\tgrad:  6.0 36.0 tensor(0.)\n",
            "progress: 8 tensor(0.)\n",
            "\tgrad:  1.0 1.0 tensor(0.)\n",
            "\tgrad:  2.0 4.0 tensor(0.)\n",
            "\tgrad:  3.0 9.0 tensor(0.)\n",
            "\tgrad:  4.0 16.0 tensor(0.)\n",
            "\tgrad:  5.0 25.0 tensor(0.)\n",
            "\tgrad:  6.0 36.0 tensor(0.)\n",
            "progress: 9 tensor(0.)\n"
          ],
          "name": "stdout"
        }
      ]
    },
    {
      "cell_type": "markdown",
      "metadata": {
        "id": "UnXW7hUWMaVH"
      },
      "source": [
        "#After learning"
      ]
    },
    {
      "cell_type": "code",
      "metadata": {
        "colab": {
          "base_uri": "https://localhost:8080/"
        },
        "id": "E4KHzkJxry-T",
        "outputId": "3e6ef313-1f7e-4826-f81a-a4ca6287c470"
      },
      "source": [
        "# After training\n",
        "print(\"predict (after training)\")\n",
        "print(\"input: 4\")\n",
        "print(\"model prediction (after training): \", nforward(10).data[0], \" -- correct answer: 100\")"
      ],
      "execution_count": 15,
      "outputs": [
        {
          "output_type": "stream",
          "text": [
            "predict (after training)\n",
            "input: 4\n",
            "model prediction (after training):  tensor(100.)  -- correct answer: 100\n"
          ],
          "name": "stdout"
        }
      ]
    },
    {
      "cell_type": "markdown",
      "metadata": {
        "id": "PxVZaD6Klh2v"
      },
      "source": [
        "## Exercise II:\n",
        "\n"
      ]
    },
    {
      "cell_type": "markdown",
      "metadata": {
        "id": "knPfe0vXlh2w"
      },
      "source": [
        "Use the above method for\n",
        "\n",
        "$y = 5x+3$\n",
        "\n",
        "**Hint:** You need to learn two values: $w$ and $b$. And your prediction\n",
        "function is\n",
        "\n",
        "$y_{pred} = w*x + b$\n",
        "\n",
        "and your gradient descent looks something like this:\n",
        "\n",
        "![img](https://media.giphy.com/media/O9rcZVmRcEGqI/giphy.gif \"alt text\")\n",
        "\n"
      ]
    },
    {
      "cell_type": "code",
      "metadata": {
        "id": "jA9EHCJ3A5Yr"
      },
      "source": [
        "# We know our model is linear\n",
        "# initialize the exponent. but we will learn this weight in the process below.\n",
        "w = Variable(torch.Tensor([3.0]),  requires_grad=True) \n",
        "b = Variable(torch.Tensor([3.0]),  requires_grad=True)\n",
        "# our model forward pass\n",
        "# this is actually our y_pred as we defined above\n",
        "def forward(x):\n",
        "   return x*w+b"
      ],
      "execution_count": 16,
      "outputs": []
    },
    {
      "cell_type": "markdown",
      "metadata": {
        "id": "ZgvZESeECIPw"
      },
      "source": [
        "#Define the loss function of two parameters"
      ]
    },
    {
      "cell_type": "code",
      "metadata": {
        "id": "TGLpAnP7E-gL"
      },
      "source": [
        "import numpy as np\n",
        "# Loss function\n",
        "def loss(x, y):\n",
        "   y_pred = forward(x)\n",
        "   return (y_pred - y) * (y_pred - y)"
      ],
      "execution_count": 17,
      "outputs": []
    },
    {
      "cell_type": "markdown",
      "metadata": {
        "id": "EMCMqnYOH8Fl"
      },
      "source": [
        "### Generate data\n"
      ]
    },
    {
      "cell_type": "code",
      "metadata": {
        "colab": {
          "base_uri": "https://localhost:8080/"
        },
        "id": "XzIWVwpQCOvA",
        "outputId": "15aeea1f-513e-461a-f35e-d3011b7e1d33"
      },
      "source": [
        "from pylab import *\n",
        "import pandas as pd\n",
        "\n",
        "x = [1.0,2.0,3.0,4.0,5.0,6.0]\n",
        "y = [xx*5+3 for xx in x]\n",
        "\n",
        "data = {'x':x, 'y':y}\n",
        "df = pd.DataFrame(data=data, index=x)\n",
        "print(\"Training Data:\")\n",
        "x_data = df['x']\n",
        "y_data = df['y']\n",
        "\n",
        "print(x_data)\n",
        "print(y_data)"
      ],
      "execution_count": 18,
      "outputs": [
        {
          "output_type": "stream",
          "text": [
            "Training Data:\n",
            "1.0    1.0\n",
            "2.0    2.0\n",
            "3.0    3.0\n",
            "4.0    4.0\n",
            "5.0    5.0\n",
            "6.0    6.0\n",
            "Name: x, dtype: float64\n",
            "1.0     8.0\n",
            "2.0    13.0\n",
            "3.0    18.0\n",
            "4.0    23.0\n",
            "5.0    28.0\n",
            "6.0    33.0\n",
            "Name: y, dtype: float64\n"
          ],
          "name": "stdout"
        }
      ]
    },
    {
      "cell_type": "markdown",
      "metadata": {
        "id": "C3nBtJnjFUB_"
      },
      "source": [
        "#Define gradient"
      ]
    },
    {
      "cell_type": "markdown",
      "metadata": {
        "id": "n1--MWtMFXYG"
      },
      "source": [
        "Derivative of **loss** with respect to $w$ is given by: \\\\\n",
        "\n",
        "`w.grad.data`\n",
        "\n",
        "Derivative of **loss** with respect to $b$ is given by: \\\\\n",
        "\n",
        "`b.grad.data`\n"
      ]
    },
    {
      "cell_type": "markdown",
      "metadata": {
        "id": "1uN9Pe1vH2U8"
      },
      "source": [
        "#Learning"
      ]
    },
    {
      "cell_type": "code",
      "metadata": {
        "id": "GzOynm08INuu"
      },
      "source": [
        "learning_rate = 0.001\n",
        "\n",
        "# Training loop\n",
        "for epoch in range(100): #n_epochs (aka iterations) are 10\n",
        "    for x_val, y_val in zip(x_data, y_data):\n",
        "        #compute loss for this step\n",
        "        l = loss(x_val, y_val)\n",
        "        #backprop\n",
        "        l.backward() \n",
        "        # alter w for this step \n",
        "        w.data = w.data - (learning_rate * w.grad.data)\n",
        "        b.data = b.data - (learning_rate * b.grad.data)\n",
        "        # Manually zero the gradients after updating weights\n",
        "        w.grad.data.zero_()\n",
        "        b.grad.data.zero_()\n"
      ],
      "execution_count": 19,
      "outputs": []
    },
    {
      "cell_type": "markdown",
      "metadata": {
        "id": "t-I0mHV1LMd6"
      },
      "source": [
        "#After learning"
      ]
    },
    {
      "cell_type": "code",
      "metadata": {
        "colab": {
          "base_uri": "https://localhost:8080/"
        },
        "id": "FbwELCKSLPRD",
        "outputId": "f59eee58-2bf7-4789-d23a-b328c3db0ba4"
      },
      "source": [
        "# After training\n",
        "print(\"predict (after training)\")\n",
        "print(\"input: 4\")\n",
        "print(\"model prediction (after training): \", forward(4).data[0], \" -- correct answer: 23\")"
      ],
      "execution_count": 20,
      "outputs": [
        {
          "output_type": "stream",
          "text": [
            "predict (after training)\n",
            "input: 4\n",
            "model prediction (after training):  tensor(23.0315)  -- correct answer: 23\n"
          ],
          "name": "stdout"
        }
      ]
    }
  ]
}