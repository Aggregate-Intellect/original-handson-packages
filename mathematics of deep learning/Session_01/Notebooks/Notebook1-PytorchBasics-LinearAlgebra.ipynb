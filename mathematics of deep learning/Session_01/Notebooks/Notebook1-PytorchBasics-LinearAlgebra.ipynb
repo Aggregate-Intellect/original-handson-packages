{
 "cells": [
  {
   "cell_type": "markdown",
   "metadata": {
    "id": "V4pQjEmEd9sm"
   },
   "source": [
    "## Introduction\n",
    "\n"
   ]
  },
  {
   "cell_type": "markdown",
   "metadata": {
    "id": "WEJWvZFdd9sp"
   },
   "source": [
    "This notebook is part of the workshop \"Mathematics of Deep Learning\" run\n",
    "by Aggregate Intellect Inc. ([https://ai.science](https://ai.science)), and is released\n",
    "under 'Creative Commons Attribution-NonCommercial-ShareAlike CC\n",
    "BY-NC-SA\" license. This material can be altered and distributed for\n",
    "non-commercial use with reference to Aggregate Intellect Inc. as the\n",
    "original owner, and any material generated from it must be released\n",
    "under similar terms.\n",
    "([https://creativecommons.org/licenses/by-nc-sa/4.0/](https://creativecommons.org/licenses/by-nc-sa/4.0/))\n",
    "\n",
    "For the first notebook we will familiarize ourselves with pytorch, particularly for linear algebra computations.  \n",
    "Jump right in and go through the following exercises. \n",
    "\n"
   ]
  },
  {
   "cell_type": "markdown",
   "metadata": {
    "id": "2ifbhxQzd9sq"
   },
   "source": [
    "## Getting Started with Pytorch\n",
    "\n"
   ]
  },
  {
   "cell_type": "code",
   "execution_count": null,
   "metadata": {
    "id": "Gv7AXM8zd9sr"
   },
   "outputs": [],
   "source": [
    "import torch # most of the functionality required for today is here\n",
    "import matplotlib.pyplot as plt\n",
    "import numpy as np"
   ]
  },
  {
   "cell_type": "markdown",
   "metadata": {
    "id": "-wlElZHsd9ss"
   },
   "source": [
    "### Define an empty tensor in PyTorch with size = 5\n",
    "\n"
   ]
  },
  {
   "cell_type": "code",
   "execution_count": null,
   "metadata": {
    "id": "3HEW_OuSd9ss"
   },
   "outputs": [],
   "source": [
    "x = \n",
    "print(x)"
   ]
  },
  {
   "cell_type": "markdown",
   "metadata": {
    "id": "C5U5dwf5d9st"
   },
   "source": [
    "### Fill a PyTorch tensor with a certain scalar\n",
    "\n"
   ]
  },
  {
   "cell_type": "code",
   "execution_count": null,
   "metadata": {
    "id": "8Xq2C1dBd9st"
   },
   "outputs": [],
   "source": [
    "# build a tensor that contains [-1,3] as its elements \n",
    "x = \n",
    "print(x)"
   ]
  },
  {
   "cell_type": "code",
   "execution_count": null,
   "metadata": {
    "id": "-tILMo5LrTYv"
   },
   "outputs": [],
   "source": [
    "# fill x with zeros on instantiation\n",
    "x = \n",
    "print(x)"
   ]
  },
  {
   "cell_type": "code",
   "execution_count": null,
   "metadata": {
    "id": "hNKOcyFmrUJn"
   },
   "outputs": [],
   "source": [
    "# fill x with ones on instantiation\n",
    "x = \n",
    "print(x)"
   ]
  },
  {
   "cell_type": "markdown",
   "metadata": {
    "id": "T_z9wqO7d9su"
   },
   "source": [
    "### Build a PyTorch tensor and fill it with a range between -2 and 2\n",
    "\n"
   ]
  },
  {
   "cell_type": "code",
   "execution_count": null,
   "metadata": {
    "id": "AbZ4LxSOd9sv"
   },
   "outputs": [],
   "source": [
    "# experiment with torch.arange\n",
    "x = \n",
    "print(x)"
   ]
  },
  {
   "cell_type": "code",
   "execution_count": null,
   "metadata": {
    "id": "bS8wnWgasP0G"
   },
   "outputs": [],
   "source": [
    "# experiment with torch.linspace\n",
    "x = \n",
    "print(x)"
   ]
  },
  {
   "cell_type": "markdown",
   "metadata": {
    "id": "DyxjSm3bd9sv"
   },
   "source": [
    "### Fill a PyTorch tensor with random numbers\n",
    "\n"
   ]
  },
  {
   "cell_type": "code",
   "execution_count": null,
   "metadata": {
    "id": "So4OO8Yfd9sw"
   },
   "outputs": [],
   "source": [
    "# experiment with torch.randn \n",
    "x = \n",
    "print(x)"
   ]
  },
  {
   "cell_type": "markdown",
   "metadata": {
    "id": "UHOtG5Wad9sw"
   },
   "source": [
    "### Define a new PyTorch tensor that has the same shape as x with type float and fill it with random numbers\n",
    "\n"
   ]
  },
  {
   "cell_type": "code",
   "execution_count": null,
   "metadata": {
    "id": "LGgzJ-39d9sy"
   },
   "outputs": [],
   "source": [
    "# experiment with torch.randn_like\n",
    "y = \n",
    "print(y)"
   ]
  },
  {
   "cell_type": "markdown",
   "metadata": {
    "id": "hHXCcKCtd9sy"
   },
   "source": [
    "### Define a new tensor that has the same type as x, but a different size and fill it with ones.\n",
    "\n"
   ]
  },
  {
   "cell_type": "code",
   "execution_count": null,
   "metadata": {
    "id": "QvqXsiWhd9s0"
   },
   "outputs": [],
   "source": [
    "#experiment with new_ones\n",
    "y = \n",
    "print(y)"
   ]
  },
  {
   "cell_type": "markdown",
   "metadata": {
    "id": "AQl8HpX8d9s0"
   },
   "source": [
    "### Find minimum value of a PyTorch tensor\n",
    "\n"
   ]
  },
  {
   "cell_type": "code",
   "execution_count": null,
   "metadata": {
    "id": "sBRfCCfPd9s1"
   },
   "outputs": [],
   "source": [
    "#Find the minimum value of the previous Pytorch tensor\n",
    "x"
   ]
  },
  {
   "cell_type": "markdown",
   "metadata": {
    "id": "7HeXwc9rd9s3"
   },
   "source": [
    "### Reshape a tensor\n",
    "\n"
   ]
  },
  {
   "cell_type": "code",
   "execution_count": null,
   "metadata": {
    "id": "B21zbOg_d9s3"
   },
   "outputs": [],
   "source": [
    "# Define a tensor\n",
    "initial_tensor = torch.tensor(\n",
    "[\n",
    "    [\n",
    "        [ 1,  2,  3,  4],\n",
    "        [ 5,  6,  7,  8]\n",
    "    ]\n",
    "    ,\n",
    "    [\n",
    "        [ 9, 10, 11, 12],\n",
    "        [13, 14, 15, 16]\n",
    "    ]\n",
    "    ,\n",
    "    [\n",
    "        [17, 18, 19, 20],\n",
    "        [21, 22, 23, 24]\n",
    "    ]\n",
    "])"
   ]
  },
  {
   "cell_type": "code",
   "execution_count": null,
   "metadata": {
    "id": "PdAo8rvAtTXn"
   },
   "outputs": [],
   "source": [
    "# check the shape of initial_tensor"
   ]
  },
  {
   "cell_type": "code",
   "execution_count": null,
   "metadata": {
    "id": "h_wbgyrttWLQ"
   },
   "outputs": [],
   "source": [
    "# update the shape and experiment with .view\n",
    "reshaped_tensor = \n",
    "print(reshaped_tensor)"
   ]
  },
  {
   "cell_type": "markdown",
   "metadata": {
    "id": "cPqsNTngd9s4"
   },
   "source": [
    "### Flatten a tensor\n",
    "\n"
   ]
  },
  {
   "cell_type": "code",
   "execution_count": null,
   "metadata": {
    "id": "xxhqubDbd9s5"
   },
   "outputs": [],
   "source": [
    "# Define a tensor\n",
    "initial_tensor = torch.tensor(\n",
    "[\n",
    "    [\n",
    "        [ 1,  2,  3,  4],\n",
    "        [ 5,  6,  7,  8]\n",
    "    ]\n",
    "    ,\n",
    "    [\n",
    "        [ 9, 10, 11, 12],\n",
    "        [13, 14, 15, 16]\n",
    "    ]\n",
    "    ,\n",
    "    [\n",
    "        [17, 18, 19, 20],\n",
    "        [21, 22, 23, 24]\n",
    "    ]\n",
    "])\n",
    "\n",
    "# flat the tensor with .view\n",
    "flattened_tensor = \n",
    "print(flattened_tensor)"
   ]
  },
  {
   "cell_type": "markdown",
   "metadata": {
    "id": "j5-Yfpppd9s6"
   },
   "source": [
    "### Convert a Py list to a PyTorch tensor and vice versa\n",
    "\n"
   ]
  },
  {
   "cell_type": "code",
   "execution_count": null,
   "metadata": {
    "id": "x3dCL_qfd9s6"
   },
   "outputs": [],
   "source": [
    "# List to a tensor\n",
    "py_list = [1,2,3,4] \n",
    "\n",
    "x = \n",
    "print(x)"
   ]
  },
  {
   "cell_type": "markdown",
   "metadata": {
    "id": "oX2uhG-8d9s7"
   },
   "source": [
    "### Convert a PyTorch tensor to a Py list\n",
    "\n"
   ]
  },
  {
   "cell_type": "code",
   "execution_count": null,
   "metadata": {
    "id": "OqGPOx8id9s8"
   },
   "outputs": [],
   "source": [
    "#Tensor to list\n",
    "x = torch.randn(10)\n",
    "\n",
    "py_list = \n",
    "print(py_list)\n",
    "print(type(py_list))"
   ]
  },
  {
   "cell_type": "markdown",
   "metadata": {
    "id": "nKW81auYd9s9"
   },
   "source": [
    "### Multiply tensors with a scalar\n",
    "\n"
   ]
  },
  {
   "cell_type": "code",
   "execution_count": null,
   "metadata": {
    "id": "1aerHlggd9s9"
   },
   "outputs": [],
   "source": [
    "# define a tensor\n",
    "x = \n",
    "\n",
    "# multiply it by 2\n",
    "x2 = \n",
    "print(x2)"
   ]
  },
  {
   "cell_type": "markdown",
   "metadata": {
    "id": "0KVavyp4d9s-"
   },
   "source": [
    "### Dot product two tensors\n",
    "\n",
    "The dot product between vectors is defined as \\\\\n",
    "$\\overrightarrow{u}=(a ,b) \\quad \\overrightarrow{v}=(x,y)$ \\\\\n",
    "$\\overrightarrow{u} \\cdot \\overrightarrow{v}=ax + by $ \\\\\n",
    "\n",
    " \\\\\n",
    " Matrix representation \\\\\n",
    "$\\begin{bmatrix}\n",
    "a & b  \\\\\n",
    "\\end{bmatrix}\\cdot $\n",
    "$\\begin{bmatrix}\n",
    "x\\\\\n",
    "y\\\\\n",
    "\\end{bmatrix}=$\n",
    "$\\begin{bmatrix}\n",
    "ax + by\\\\\n",
    "\\end{bmatrix}$ \\\\\n",
    "\n",
    "\\\\\n",
    "2 dot products between a matrix and a vector is defined as \\\\\n",
    "\n",
    "$\\begin{bmatrix}\n",
    "a & b \\\\\n",
    "c & d \\\\\n",
    "\\end{bmatrix}\\cdot $\n",
    "$\\begin{bmatrix}\n",
    "x\\\\\n",
    "y\\\\\n",
    "\\end{bmatrix}=$\n",
    "$\\begin{bmatrix}\n",
    "ax+by\\\\\n",
    "cx+dy\\\\\n",
    "\\end{bmatrix}$"
   ]
  },
  {
   "cell_type": "code",
   "execution_count": null,
   "metadata": {
    "id": "XLP9H9FKd9s-"
   },
   "outputs": [],
   "source": [
    "# define tensor a to be a vector by a defined list\n",
    "a =\n",
    "# define tensor b to be a vector by a defined list\n",
    "b =\n",
    "\n",
    "# compute dot product"
   ]
  },
  {
   "cell_type": "markdown",
   "metadata": {
    "id": "mZnr_H4Td9s-"
   },
   "source": [
    "### Matrix Multiplications in PyTorch\n",
    "\n",
    "$M^1$ is a $p$ x $m$ matrix and $M^2$ is a $m$ x $q$ matrix. The product of $M^1$ and $M^2$ is a $p$ x $q$ matrix \\\\\n",
    "\n",
    "$M^1_{pm} \\cdot M^2_{mq} = M^3_{pq}$ \\\\\n",
    " \\\\\n",
    "$M^3=[m_{ij}]$ and each element of $M^3$ is defined as \\\\\n",
    "$m_{ij}= row_i (M^1) \\cdot col_j(M^2)$\n"
   ]
  },
  {
   "cell_type": "code",
   "execution_count": null,
   "metadata": {
    "id": "XbOc_H8td9s_"
   },
   "outputs": [],
   "source": [
    "# define M1 tensor of random integers\n",
    "M1 =\n",
    "# define M2 tensor of random integers\n",
    "M2 =\n",
    "\n",
    "# NOTE: pay attention to the sizes of the matrices\n",
    "# multiply\n",
    "torch."
   ]
  },
  {
   "cell_type": "code",
   "execution_count": null,
   "metadata": {
    "id": "qjInZ1uHva_m"
   },
   "outputs": [],
   "source": [
    "# more examples\n",
    "# multiply the data tensor with itself\n",
    "data = torch.randn(5)"
   ]
  },
  {
   "cell_type": "code",
   "execution_count": null,
   "metadata": {
    "id": "Vj6y2dVNveSG"
   },
   "outputs": [],
   "source": [
    "# multiply the tensor with its transpose\n",
    "data = torch.randn(2,5)"
   ]
  },
  {
   "cell_type": "markdown",
   "metadata": {
    "id": "Wjgxr6vAd9s_"
   },
   "source": [
    "### Transpose a matrix in PyTorch\n",
    "\n",
    "$A=\\begin{bmatrix}\n",
    "a_{11} & a_{12} & ...\\quad a_{1n}\\\\\n",
    "a_{21} & a_{22} & ... \\quad a_{2n}\\\\\n",
    "\\cdot & \\cdot &\\quad\\cdot\\\\\n",
    "a_{m1} & a_{m2} & ... \\quad a_{mn}\\\\\n",
    "\\end{bmatrix}$ ;\n",
    "$A^T=\\begin{bmatrix}\n",
    "a_{11} & a_{21} & ...\\quad a_{m1}\\\\\n",
    "a_{12} & a_{22} & ... \\quad a_{m2}\\\\\n",
    "\\cdot & \\cdot &\\quad\\cdot\\\\\n",
    "a_{1n} & a_{2n} & ... \\quad a_{mn}\\\\\n",
    "\\end{bmatrix}$ \n",
    "\n"
   ]
  },
  {
   "cell_type": "code",
   "execution_count": null,
   "metadata": {
    "id": "kQdvbVIad9tA"
   },
   "outputs": [],
   "source": [
    "M1_t = torch.t(M1)\n",
    "# print(M1, M1_t)"
   ]
  },
  {
   "cell_type": "code",
   "execution_count": null,
   "metadata": {
    "id": "hjVmzvdlvs_Q"
   },
   "outputs": [],
   "source": [
    "# simulate a 2D image as a random matrix with size 200x250\n",
    "data = \n",
    "\n",
    "# build a visual feature in it by setting columns 100:120 to a constant value\n",
    "data\n",
    "\n",
    "# plot it with imshow\n",
    "plt.imshow(data)"
   ]
  },
  {
   "cell_type": "code",
   "execution_count": null,
   "metadata": {
    "id": "iavwBRZGv5TL"
   },
   "outputs": [],
   "source": [
    "# transpose it using data.t\n",
    "# replot it using imshow and see how it is rotated\n",
    "plt.imshow(torch.t(data))"
   ]
  },
  {
   "cell_type": "markdown",
   "metadata": {
    "id": "i7ewNx1Sd9tB"
   },
   "source": [
    "### Transpose Images\n",
    "\n"
   ]
  },
  {
   "cell_type": "markdown",
   "metadata": {
    "id": "26PBe8-Hd9tB"
   },
   "source": [
    "Read the image provided to you, display it, transpose it, and display it\n",
    "again.\n",
    "\n"
   ]
  },
  {
   "cell_type": "code",
   "execution_count": null,
   "metadata": {
    "id": "Sd1egglPd9tC"
   },
   "outputs": [],
   "source": [
    "# repeat the previous exercise with this image:\n",
    "!wget \"https://drive.google.com/uc?id=1DeAk2H22KadwmVmLshtbll6K-NkO5Vwb\" -O 'img.jpg'"
   ]
  },
  {
   "cell_type": "code",
   "execution_count": null,
   "metadata": {
    "id": "k8HAgnUSd9tC"
   },
   "outputs": [],
   "source": [
    "#plot the dowloaded image using imshow\n",
    "img = plt.imread('img.jpg')\n",
    "plt.imshow(img)"
   ]
  },
  {
   "cell_type": "code",
   "execution_count": null,
   "metadata": {
    "id": "y3pnsymld9tD"
   },
   "outputs": [],
   "source": [
    "# transpose and display image"
   ]
  },
  {
   "cell_type": "markdown",
   "metadata": {
    "id": "Sun-EE6id9tD"
   },
   "source": [
    "### Linear Algebra: Matrix Determinant\n",
    "\n"
   ]
  },
  {
   "cell_type": "code",
   "execution_count": null,
   "metadata": {
    "id": "0ZxBAbihd9tE"
   },
   "outputs": [],
   "source": [
    "# define a random 2x2 tensor with randn\n",
    "\n",
    "# compute the determinant with .det"
   ]
  },
  {
   "cell_type": "markdown",
   "metadata": {
    "id": "3ygK3qd0d9tE"
   },
   "source": [
    "### Linear Algebra: Eigenvalues\n",
    "\n"
   ]
  },
  {
   "cell_type": "code",
   "execution_count": null,
   "metadata": {
    "id": "1momjIQ9d9tF"
   },
   "outputs": [],
   "source": [
    "# define a diagonal 2x2 matrix\n",
    "\n",
    "# data = torch.\n",
    "\n",
    "# compute the eigenvalues and eigenvectors with torch.eig\n",
    "\n",
    "# look at it, what do you see?"
   ]
  },
  {
   "cell_type": "markdown",
   "metadata": {
    "id": "_sKaeo-fd9tF"
   },
   "source": [
    "## Hands-on Challenge Introduction\n",
    "\n"
   ]
  },
  {
   "cell_type": "markdown",
   "metadata": {
    "id": "eaXxtNhQd9tG"
   },
   "source": [
    "You are going to make a simple feed-forward neural network. It will be fully connected; that is each neuron will recieve inputs from all the neurons in the previous layer, and output to all the neurons in the next layer. This kind of network is also called a *multi-layer perceptron* or MLP. Such layers in PyTorch are called *linear* layers.  \n",
    "\n",
    "We will use the way Pytorch defines neural networks as our template. Your MLP will be implemented as a class with two methods: an *init* and a *forward* method.The *init* method will create the network, and the *forward* method is what is called to 'run' it; that is to send an instance of input data and recieve an output. We will also include a *reset* method to clear out all the outputs. You are recommended to define a class for layer, linearlayer and MLP since this would help to orgnaize better your code.\n",
    "\n",
    "Each layer in the network will also be defined in the same way. Another quirk of PyTorch is that it defines the neuron activation functions as a separate layer, right after its associated linear layer. \n",
    "\n",
    "**NOTE** You can use either PyTorch or numpy to implement your MLP. It is up to you which to use. Try and see if you can implement it in both!\n",
    "\n",
    "Here is the code template for the MLP itself.\n"
   ]
  },
  {
   "cell_type": "code",
   "execution_count": null,
   "metadata": {
    "id": "N-7nRMfKd9tH"
   },
   "outputs": [],
   "source": [
    "class layer:\n",
    "    #This could be your Base class for a single layer.\n",
    "    def __init(self, node_dim):\n",
    "        \"\"\"\n",
    "        This init should be called via super() with the number\n",
    "        of nodes as an argument.\n",
    "        \"\"\"\n",
    "        #define basics that a layer would have: input, input_grad, params\n",
    "    \n",
    "    def forward(self, x):\n",
    "        #define input as x\n",
    "    \n",
    "    def backward(self):\n",
    "        pass\n",
    "    \n",
    "    def parameters(self):\n",
    "        pass\n",
    "    \n",
    "    def zero_grad(self):\n",
    "        #clean your input_grad\n",
    "\n",
    "class linearlayer():\n",
    "    # This could be a linear layer (with inputs and outputs)\n",
    "    def __init__(self, in_dim, out_dim, bias=True):\n",
    "        #You can inherit from your base class with super() builtin function.\n",
    "        self.out = #Initialize your output\n",
    "        self.weights = #Initialize your weights\n",
    "        if bias:\n",
    "            self.b = #create tensor biases\n",
    "    \n",
    "    def forward(self, x):\n",
    "        #pass inputs and create your output (Remember W.X + b)\n",
    "    \n",
    "        return #out\n",
    "    \n",
    "class MLP():\n",
    "    \"\"\"\n",
    "    This is a MLP class structure which takes inputs (x) and pass them into the network layers.\n",
    "    You have to complete the linearlayer class above to define the linearnet and calculate the outputs for each layer.\n",
    "    \"\"\"\n",
    "    def __init__(self):\n",
    "\n",
    "        # The MLP will be a list with each layer as an item. \n",
    "        # The linearlayer class will calculate the outputs from inputs, weights and biases calling the forward method on it\n",
    "        # also this required class have to be able to define any layer just with input and output dimensions as parameters.\n",
    "        self.net = []\n",
    "        \n",
    "        # Construct the MLP by appending layers, example:\n",
    "        # self.net.append(linearlayer(dim_in, dim_out))\n",
    "\n",
    "    def forward(self, x):\n",
    "\n",
    "        # Input x for each layer in the net and return the result back into x, ready as input for the next layer. \n",
    "        for layer in self.net:\n",
    "            x = layer.forward(x) \n",
    "\n",
    "        return x\n",
    "\n",
    "    def reset(self):\n",
    "        # traverse the MLP and call each layers 'reset' method\n",
    "        for layer in self.net:\n",
    "            layer.reset()"
   ]
  }
 ],
 "metadata": {
  "colab": {
   "name": "(Notebook01)_AISC_Math_Session1_Book1.ipynb",
   "provenance": []
  },
  "kernelspec": {
   "display_name": "Python 3",
   "language": "python",
   "name": "python3"
  },
  "language_info": {
   "codemirror_mode": {
    "name": "ipython",
    "version": 3
   },
   "file_extension": ".py",
   "mimetype": "text/x-python",
   "name": "python",
   "nbconvert_exporter": "python",
   "pygments_lexer": "ipython3",
   "version": "3.8.5"
  },
  "org": null
 },
 "nbformat": 4,
 "nbformat_minor": 1
}
