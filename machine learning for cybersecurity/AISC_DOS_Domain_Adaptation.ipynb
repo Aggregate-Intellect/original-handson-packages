{
  "nbformat": 4,
  "nbformat_minor": 0,
  "metadata": {
    "colab": {
      "name": "AISC_DOS_Domain_Adaptation.ipynb",
      "provenance": [],
      "collapsed_sections": []
    },
    "kernelspec": {
      "name": "python3",
      "display_name": "Python 3"
    },
    "accelerator": "GPU"
  },
  "cells": [
    {
      "cell_type": "markdown",
      "metadata": {
        "id": "yhbTKdwDM6d_"
      },
      "source": [
        "## Preamble"
      ]
    },
    {
      "cell_type": "code",
      "metadata": {
        "id": "7kb2AifwPWSo"
      },
      "source": [
        "#Data Science Tools\n",
        "import pandas as pd\n",
        "import numpy as np\n",
        "from sklearn.metrics import precision_recall_fscore_support, accuracy_score,precision_recall_curve, roc_curve, confusion_matrix\n",
        "from sklearn.model_selection import train_test_split\n",
        "\n",
        "import seaborn as sn\n",
        "import matplotlib.pyplot as plt\n",
        "\n",
        "#Pytorch\n",
        "import torch\n",
        "from torch.utils import data\n",
        "import torch.optim as optim\n",
        "import torch.nn as nn\n",
        "import torch.nn.functional as F\n",
        "import torch.autograd as autograd\n",
        "\n",
        "#additional tools\n",
        "import os\n",
        "import copy\n",
        "from tqdm import tqdm_notebook as tqdm\n",
        "from IPython.display import clear_output"
      ],
      "execution_count": null,
      "outputs": []
    },
    {
      "cell_type": "code",
      "metadata": {
        "id": "I2QpvL_Z18pa"
      },
      "source": [
        "# helper functions\n",
        "\n",
        "# Focal loss with class weights. gamma=0 and alpha=.5 returns regular cross entropy loss.\n",
        "def binary_focal_loss(y_pred , y_true ,gamma=2.0 , alpha=.8):\n",
        "    pos_pt = y_pred[y_true==1]\n",
        "    neg_pt = 1-y_pred[y_true==0]\n",
        "    pos = alpha*(-torch.log(pos_pt+1e-9))*(1-pos_pt)**gamma\n",
        "    neg = (1-alpha)*(-torch.log(neg_pt+1e-9))*(1-neg_pt)**gamma\n",
        "\n",
        "    loss = torch.cat([pos,neg])\n",
        "    return 2*loss.mean()\n",
        "\n",
        "\n",
        "def plot_cm(test_y, pred_y):\n",
        "    # pretty confusion matrix\n",
        "    cm=(confusion_matrix(test_y, pred_y))\n",
        "    cm=pd.DataFrame(cm, index = ['True Benign', 'True DOS'],\n",
        "                    columns = ['Pred Benign', 'Pred DOS'])\n",
        "    plt.figure(figsize = (10,7))\n",
        "    fig, ax = plt.subplots(facecolor='w')\n",
        "    sn.heatmap(cm, annot=True,fmt='g')\n",
        "\n",
        "def plot_PR_Curve(true,predicted):\n",
        "    precision=[]\n",
        "    recall=[]\n",
        "    f1=[]\n",
        "    support=[]\n",
        "    thresholds=np.linspace(0,1,100)\n",
        "    for threshold in (thresholds):\n",
        "        p,r,f,s=precision_recall_fscore_support(true,(predicted>threshold).astype('int'),average='binary')\n",
        "        precision.append(p)\n",
        "        recall.append(r)\n",
        "        f1.append(f)\n",
        "   \n",
        "    precision = np.asarray(precision)\n",
        "    precision[precision==0]=np.nan\n",
        "\n",
        "    recall = np.asarray(recall)\n",
        "    recall[recall==0]=np.nan\n",
        "\n",
        "    plt.scatter(recall,precision)\n",
        "    plt.show()\n",
        "    return precision,recall,f1,thresholds\n",
        "\n",
        "\n",
        "\n"
      ],
      "execution_count": null,
      "outputs": []
    },
    {
      "cell_type": "code",
      "metadata": {
        "id": "hgJJmiJlHBoP"
      },
      "source": [
        "# Use GPU instead of CPU\n",
        "use_cuda = True"
      ],
      "execution_count": null,
      "outputs": []
    },
    {
      "cell_type": "code",
      "metadata": {
        "id": "VlIK4X0OBXHw"
      },
      "source": [
        "device = torch.device('cuda' if torch.cuda.is_available() else 'cpu')\n"
      ],
      "execution_count": null,
      "outputs": []
    },
    {
      "cell_type": "code",
      "metadata": {
        "id": "7XGVO2X7N10y",
        "colab": {
          "base_uri": "https://localhost:8080/"
        },
        "outputId": "41628d93-5d23-436b-a535-90bff9b0436e"
      },
      "source": [
        "device"
      ],
      "execution_count": null,
      "outputs": [
        {
          "output_type": "execute_result",
          "data": {
            "text/plain": [
              "device(type='cuda')"
            ]
          },
          "metadata": {
            "tags": []
          },
          "execution_count": 5
        }
      ]
    },
    {
      "cell_type": "code",
      "metadata": {
        "id": "HkX_vsqINRo2"
      },
      "source": [
        "seed = 1337\n",
        "torch.manual_seed(seed)\n",
        "if torch.cuda.is_available():\n",
        "    torch.cuda.manual_seed_all(seed)\n"
      ],
      "execution_count": null,
      "outputs": []
    },
    {
      "cell_type": "code",
      "metadata": {
        "id": "zbDWipoKFwQk",
        "colab": {
          "base_uri": "https://localhost:8080/"
        },
        "outputId": "74f0b8d9-2ae2-4809-cd50-c01edd5d874a"
      },
      "source": [
        "\n",
        "# Import files from google drive\n",
        "from google.colab import drive\n",
        "drive.mount('/content/gdrive',force_remount=False)"
      ],
      "execution_count": null,
      "outputs": [
        {
          "output_type": "stream",
          "text": [
            "Drive already mounted at /content/gdrive; to attempt to forcibly remount, call drive.mount(\"/content/gdrive\", force_remount=True).\n"
          ],
          "name": "stdout"
        }
      ]
    },
    {
      "cell_type": "code",
      "metadata": {
        "id": "2NNZ31fkH5TG"
      },
      "source": [
        "#change directory\n",
        "try:\n",
        "  os.mkdir('/content/gdrive/My Drive/Cyber_workshop') # MTR\n",
        "except:\n",
        "  pass\n",
        "os.chdir('/content/gdrive/My Drive/Cyber_workshop')\n",
        "#"
      ],
      "execution_count": null,
      "outputs": []
    },
    {
      "cell_type": "markdown",
      "metadata": {
        "id": "5_kgCnuqmb5x"
      },
      "source": [
        "## Files to be downloaded:\n",
        "Download the following four files from this link https://drive.google.com/drive/folders/1BiDNH1l99K8Ov1ZwGJ7fTrNq2heLMeXr and put them in the Cyber_workshop directory you created above.\n",
        "\n",
        "1) Monday-WorkingHours.pcap_ISCX.csv\n",
        "\n",
        "2) UNSW_NB15_testing-set.csv\n",
        "\n",
        "3) UNSW_NB15_training-set.csv\n",
        "\n",
        "4) Wednesday-workingHours.pcap_ISCX.csv\n",
        "\n"
      ]
    },
    {
      "cell_type": "markdown",
      "metadata": {
        "id": "Ou9vkxcRNA_B"
      },
      "source": [
        "## DoS Source Data"
      ]
    },
    {
      "cell_type": "code",
      "metadata": {
        "id": "Wc0FgmkzHWQg",
        "colab": {
          "base_uri": "https://localhost:8080/"
        },
        "outputId": "a21a4e06-420f-4de1-ae3a-6f70b783532f"
      },
      "source": [
        "os.listdir()"
      ],
      "execution_count": null,
      "outputs": [
        {
          "output_type": "execute_result",
          "data": {
            "text/plain": [
              "['UNSW_NB15_training-set.csv',\n",
              " 'UNSW_NB15_testing-set.csv',\n",
              " 'model_state_dict',\n",
              " 'Wednesday-workingHours.pcap_ISCX.csv',\n",
              " 'Monday-WorkingHours.pcap_ISCX.csv']"
            ]
          },
          "metadata": {
            "tags": []
          },
          "execution_count": 10
        }
      ]
    },
    {
      "cell_type": "code",
      "metadata": {
        "id": "FiVE4Jv0PYqA"
      },
      "source": [
        "# Import Source Model training and test data\n",
        "df = pd.read_csv('UNSW_NB15_training-set.csv')\n",
        "test = pd.read_csv('UNSW_NB15_testing-set.csv')"
      ],
      "execution_count": null,
      "outputs": []
    },
    {
      "cell_type": "code",
      "metadata": {
        "id": "E9oo1p_xu0Wf"
      },
      "source": [
        "# Get feature stats for normalization\n",
        "df_stats = pd.DataFrame(df.describe())"
      ],
      "execution_count": null,
      "outputs": []
    },
    {
      "cell_type": "code",
      "metadata": {
        "id": "D4PmcfqOHmzk"
      },
      "source": [
        "# features of interest\n",
        "\n",
        "\n",
        "features = [\"dur\",\"spkts\",\"dpkts\", \"sinpkt\", \"dinpkt\",\"sload\",\"dload\"]\n",
        "\n",
        "for f in features:\n",
        "\n",
        "\n",
        "  df[f] = (df[f]-df_stats[f].loc['min'])/(df_stats[f].loc['max']-df_stats[f].loc['min'])\n",
        "  test[f] = (test[f]-df_stats[f].loc['min'])/(df_stats[f].loc['max']-df_stats[f].loc['min'])\n",
        "\n",
        "  "
      ],
      "execution_count": null,
      "outputs": []
    },
    {
      "cell_type": "code",
      "metadata": {
        "id": "ujWVLnXiUYrX",
        "colab": {
          "base_uri": "https://localhost:8080/",
          "height": 309
        },
        "outputId": "74327620-5fed-438b-80ed-5951b05f20a9"
      },
      "source": [
        "df.head()"
      ],
      "execution_count": null,
      "outputs": [
        {
          "output_type": "execute_result",
          "data": {
            "text/html": [
              "<div>\n",
              "<style scoped>\n",
              "    .dataframe tbody tr th:only-of-type {\n",
              "        vertical-align: middle;\n",
              "    }\n",
              "\n",
              "    .dataframe tbody tr th {\n",
              "        vertical-align: top;\n",
              "    }\n",
              "\n",
              "    .dataframe thead th {\n",
              "        text-align: right;\n",
              "    }\n",
              "</style>\n",
              "<table border=\"1\" class=\"dataframe\">\n",
              "  <thead>\n",
              "    <tr style=\"text-align: right;\">\n",
              "      <th></th>\n",
              "      <th>id</th>\n",
              "      <th>dur</th>\n",
              "      <th>proto</th>\n",
              "      <th>service</th>\n",
              "      <th>state</th>\n",
              "      <th>spkts</th>\n",
              "      <th>dpkts</th>\n",
              "      <th>sbytes</th>\n",
              "      <th>dbytes</th>\n",
              "      <th>rate</th>\n",
              "      <th>sttl</th>\n",
              "      <th>dttl</th>\n",
              "      <th>sload</th>\n",
              "      <th>dload</th>\n",
              "      <th>sloss</th>\n",
              "      <th>dloss</th>\n",
              "      <th>sinpkt</th>\n",
              "      <th>dinpkt</th>\n",
              "      <th>sjit</th>\n",
              "      <th>djit</th>\n",
              "      <th>swin</th>\n",
              "      <th>stcpb</th>\n",
              "      <th>dtcpb</th>\n",
              "      <th>dwin</th>\n",
              "      <th>tcprtt</th>\n",
              "      <th>synack</th>\n",
              "      <th>ackdat</th>\n",
              "      <th>smean</th>\n",
              "      <th>dmean</th>\n",
              "      <th>trans_depth</th>\n",
              "      <th>response_body_len</th>\n",
              "      <th>ct_srv_src</th>\n",
              "      <th>ct_state_ttl</th>\n",
              "      <th>ct_dst_ltm</th>\n",
              "      <th>ct_src_dport_ltm</th>\n",
              "      <th>ct_dst_sport_ltm</th>\n",
              "      <th>ct_dst_src_ltm</th>\n",
              "      <th>is_ftp_login</th>\n",
              "      <th>ct_ftp_cmd</th>\n",
              "      <th>ct_flw_http_mthd</th>\n",
              "      <th>ct_src_ltm</th>\n",
              "      <th>ct_srv_dst</th>\n",
              "      <th>is_sm_ips_ports</th>\n",
              "      <th>attack_cat</th>\n",
              "      <th>label</th>\n",
              "    </tr>\n",
              "  </thead>\n",
              "  <tbody>\n",
              "    <tr>\n",
              "      <th>0</th>\n",
              "      <td>1</td>\n",
              "      <td>0.002025</td>\n",
              "      <td>tcp</td>\n",
              "      <td>-</td>\n",
              "      <td>FIN</td>\n",
              "      <td>0.000520</td>\n",
              "      <td>0.000364</td>\n",
              "      <td>258</td>\n",
              "      <td>172</td>\n",
              "      <td>74.087490</td>\n",
              "      <td>252</td>\n",
              "      <td>254</td>\n",
              "      <td>2.364553e-06</td>\n",
              "      <td>0.000379</td>\n",
              "      <td>0</td>\n",
              "      <td>0</td>\n",
              "      <td>0.000288</td>\n",
              "      <td>0.000148</td>\n",
              "      <td>30.177547</td>\n",
              "      <td>11.830604</td>\n",
              "      <td>255</td>\n",
              "      <td>621772692</td>\n",
              "      <td>2202533631</td>\n",
              "      <td>255</td>\n",
              "      <td>0.000000</td>\n",
              "      <td>0.000000</td>\n",
              "      <td>0.000000</td>\n",
              "      <td>43</td>\n",
              "      <td>43</td>\n",
              "      <td>0</td>\n",
              "      <td>0</td>\n",
              "      <td>1</td>\n",
              "      <td>0</td>\n",
              "      <td>1</td>\n",
              "      <td>1</td>\n",
              "      <td>1</td>\n",
              "      <td>1</td>\n",
              "      <td>0</td>\n",
              "      <td>0</td>\n",
              "      <td>0</td>\n",
              "      <td>1</td>\n",
              "      <td>1</td>\n",
              "      <td>0</td>\n",
              "      <td>Normal</td>\n",
              "      <td>0</td>\n",
              "    </tr>\n",
              "    <tr>\n",
              "      <th>1</th>\n",
              "      <td>2</td>\n",
              "      <td>0.010832</td>\n",
              "      <td>tcp</td>\n",
              "      <td>-</td>\n",
              "      <td>FIN</td>\n",
              "      <td>0.001352</td>\n",
              "      <td>0.003463</td>\n",
              "      <td>734</td>\n",
              "      <td>42014</td>\n",
              "      <td>78.473372</td>\n",
              "      <td>62</td>\n",
              "      <td>252</td>\n",
              "      <td>1.401989e-06</td>\n",
              "      <td>0.022458</td>\n",
              "      <td>2</td>\n",
              "      <td>17</td>\n",
              "      <td>0.000592</td>\n",
              "      <td>0.000272</td>\n",
              "      <td>61.426934</td>\n",
              "      <td>1387.778330</td>\n",
              "      <td>255</td>\n",
              "      <td>1417884146</td>\n",
              "      <td>3077387971</td>\n",
              "      <td>255</td>\n",
              "      <td>0.000000</td>\n",
              "      <td>0.000000</td>\n",
              "      <td>0.000000</td>\n",
              "      <td>52</td>\n",
              "      <td>1106</td>\n",
              "      <td>0</td>\n",
              "      <td>0</td>\n",
              "      <td>43</td>\n",
              "      <td>1</td>\n",
              "      <td>1</td>\n",
              "      <td>1</td>\n",
              "      <td>1</td>\n",
              "      <td>2</td>\n",
              "      <td>0</td>\n",
              "      <td>0</td>\n",
              "      <td>0</td>\n",
              "      <td>1</td>\n",
              "      <td>6</td>\n",
              "      <td>0</td>\n",
              "      <td>Normal</td>\n",
              "      <td>0</td>\n",
              "    </tr>\n",
              "    <tr>\n",
              "      <th>2</th>\n",
              "      <td>3</td>\n",
              "      <td>0.027052</td>\n",
              "      <td>tcp</td>\n",
              "      <td>-</td>\n",
              "      <td>FIN</td>\n",
              "      <td>0.000728</td>\n",
              "      <td>0.001458</td>\n",
              "      <td>364</td>\n",
              "      <td>13186</td>\n",
              "      <td>14.170161</td>\n",
              "      <td>62</td>\n",
              "      <td>252</td>\n",
              "      <td>2.625704e-07</td>\n",
              "      <td>0.002717</td>\n",
              "      <td>1</td>\n",
              "      <td>6</td>\n",
              "      <td>0.002748</td>\n",
              "      <td>0.001811</td>\n",
              "      <td>17179.586860</td>\n",
              "      <td>11420.926230</td>\n",
              "      <td>255</td>\n",
              "      <td>2116150707</td>\n",
              "      <td>2963114973</td>\n",
              "      <td>255</td>\n",
              "      <td>0.111897</td>\n",
              "      <td>0.061458</td>\n",
              "      <td>0.050439</td>\n",
              "      <td>46</td>\n",
              "      <td>824</td>\n",
              "      <td>0</td>\n",
              "      <td>0</td>\n",
              "      <td>7</td>\n",
              "      <td>1</td>\n",
              "      <td>2</td>\n",
              "      <td>1</td>\n",
              "      <td>1</td>\n",
              "      <td>3</td>\n",
              "      <td>0</td>\n",
              "      <td>0</td>\n",
              "      <td>0</td>\n",
              "      <td>2</td>\n",
              "      <td>6</td>\n",
              "      <td>0</td>\n",
              "      <td>Normal</td>\n",
              "      <td>0</td>\n",
              "    </tr>\n",
              "    <tr>\n",
              "      <th>3</th>\n",
              "      <td>4</td>\n",
              "      <td>0.028027</td>\n",
              "      <td>tcp</td>\n",
              "      <td>ftp</td>\n",
              "      <td>FIN</td>\n",
              "      <td>0.001144</td>\n",
              "      <td>0.001093</td>\n",
              "      <td>628</td>\n",
              "      <td>770</td>\n",
              "      <td>13.677108</td>\n",
              "      <td>62</td>\n",
              "      <td>252</td>\n",
              "      <td>4.576117e-07</td>\n",
              "      <td>0.000150</td>\n",
              "      <td>1</td>\n",
              "      <td>3</td>\n",
              "      <td>0.001812</td>\n",
              "      <td>0.001591</td>\n",
              "      <td>259.080172</td>\n",
              "      <td>4991.784669</td>\n",
              "      <td>255</td>\n",
              "      <td>1107119177</td>\n",
              "      <td>1047442890</td>\n",
              "      <td>255</td>\n",
              "      <td>0.000000</td>\n",
              "      <td>0.000000</td>\n",
              "      <td>0.000000</td>\n",
              "      <td>52</td>\n",
              "      <td>64</td>\n",
              "      <td>0</td>\n",
              "      <td>0</td>\n",
              "      <td>1</td>\n",
              "      <td>1</td>\n",
              "      <td>2</td>\n",
              "      <td>1</td>\n",
              "      <td>1</td>\n",
              "      <td>3</td>\n",
              "      <td>1</td>\n",
              "      <td>1</td>\n",
              "      <td>0</td>\n",
              "      <td>2</td>\n",
              "      <td>1</td>\n",
              "      <td>0</td>\n",
              "      <td>Normal</td>\n",
              "      <td>0</td>\n",
              "    </tr>\n",
              "    <tr>\n",
              "      <th>4</th>\n",
              "      <td>5</td>\n",
              "      <td>0.007491</td>\n",
              "      <td>tcp</td>\n",
              "      <td>-</td>\n",
              "      <td>FIN</td>\n",
              "      <td>0.000936</td>\n",
              "      <td>0.000547</td>\n",
              "      <td>534</td>\n",
              "      <td>268</td>\n",
              "      <td>33.373826</td>\n",
              "      <td>254</td>\n",
              "      <td>252</td>\n",
              "      <td>1.429776e-06</td>\n",
              "      <td>0.000178</td>\n",
              "      <td>2</td>\n",
              "      <td>1</td>\n",
              "      <td>0.000566</td>\n",
              "      <td>0.001334</td>\n",
              "      <td>2415.837634</td>\n",
              "      <td>115.807000</td>\n",
              "      <td>255</td>\n",
              "      <td>2436137549</td>\n",
              "      <td>1977154190</td>\n",
              "      <td>255</td>\n",
              "      <td>0.128381</td>\n",
              "      <td>0.071147</td>\n",
              "      <td>0.057234</td>\n",
              "      <td>53</td>\n",
              "      <td>45</td>\n",
              "      <td>0</td>\n",
              "      <td>0</td>\n",
              "      <td>43</td>\n",
              "      <td>1</td>\n",
              "      <td>2</td>\n",
              "      <td>2</td>\n",
              "      <td>1</td>\n",
              "      <td>40</td>\n",
              "      <td>0</td>\n",
              "      <td>0</td>\n",
              "      <td>0</td>\n",
              "      <td>2</td>\n",
              "      <td>39</td>\n",
              "      <td>0</td>\n",
              "      <td>Normal</td>\n",
              "      <td>0</td>\n",
              "    </tr>\n",
              "  </tbody>\n",
              "</table>\n",
              "</div>"
            ],
            "text/plain": [
              "   id       dur proto service  ... ct_srv_dst  is_sm_ips_ports  attack_cat  label\n",
              "0   1  0.002025   tcp       -  ...          1                0      Normal      0\n",
              "1   2  0.010832   tcp       -  ...          6                0      Normal      0\n",
              "2   3  0.027052   tcp       -  ...          6                0      Normal      0\n",
              "3   4  0.028027   tcp     ftp  ...          1                0      Normal      0\n",
              "4   5  0.007491   tcp       -  ...         39                0      Normal      0\n",
              "\n",
              "[5 rows x 45 columns]"
            ]
          },
          "metadata": {
            "tags": []
          },
          "execution_count": 14
        }
      ]
    },
    {
      "cell_type": "code",
      "metadata": {
        "id": "5HY5Zt9M76TM"
      },
      "source": [
        "# Filter for benign traffic and DoS attacks\n",
        "df = df[df.attack_cat.isin(['DoS','Normal'])]\n",
        "test = test[test.attack_cat.isin(['DoS','Normal'])]"
      ],
      "execution_count": null,
      "outputs": []
    },
    {
      "cell_type": "code",
      "metadata": {
        "id": "ocVvNkAK7yIx",
        "colab": {
          "base_uri": "https://localhost:8080/"
        },
        "outputId": "4b6b37a3-3c3f-4b56-8644-793c07987c40"
      },
      "source": [
        "df.attack_cat.value_counts()"
      ],
      "execution_count": null,
      "outputs": [
        {
          "output_type": "execute_result",
          "data": {
            "text/plain": [
              "Normal    56000\n",
              "DoS       12264\n",
              "Name: attack_cat, dtype: int64"
            ]
          },
          "metadata": {
            "tags": []
          },
          "execution_count": 16
        }
      ]
    },
    {
      "cell_type": "code",
      "metadata": {
        "id": "_iVqB-Wh7ZrB",
        "colab": {
          "base_uri": "https://localhost:8080/"
        },
        "outputId": "43ff8272-6411-4bec-aba1-1cb9284e6fd7"
      },
      "source": [
        "\n",
        "print(\"percentage of malicious data samples: \",len(df[df.attack_cat=='DoS'])/float(len(df)))"
      ],
      "execution_count": null,
      "outputs": [
        {
          "output_type": "stream",
          "text": [
            "percentage of malicious data samples:  0.17965545529122232\n"
          ],
          "name": "stdout"
        }
      ]
    },
    {
      "cell_type": "code",
      "metadata": {
        "id": "dJmOMcsEL1-v"
      },
      "source": [
        "train_x, val_x, train_y, val_y = \\\n",
        "train_test_split(df[features].to_numpy(), df['label'].to_numpy(), test_size=0.2, random_state=1337)"
      ],
      "execution_count": null,
      "outputs": []
    },
    {
      "cell_type": "code",
      "metadata": {
        "id": "7fWQa-tLG98v"
      },
      "source": [
        "# convert training data to pytorch tensors\n",
        "train_x = torch.tensor(train_x).type(torch.FloatTensor)\n",
        "train_y = torch.tensor(train_y).type(torch.FloatTensor)\n",
        "#create a dataloader for batch training\n",
        "train_dataset = data.TensorDataset(train_x,train_y)\n",
        "train_dataloader = data.DataLoader(train_dataset,batch_size=512,shuffle=True) \n",
        "\n",
        "# convert validation data to pytorch tensors\n",
        "\n",
        "val_x = torch.tensor(val_x).type(torch.FloatTensor)\n",
        "val_y = torch.tensor(val_y).type(torch.FloatTensor)\n",
        "val_dataset = data.TensorDataset(val_x,val_y) \n",
        "val_dataloader = data.DataLoader(val_dataset,batch_size=512,shuffle=True) "
      ],
      "execution_count": null,
      "outputs": []
    },
    {
      "cell_type": "code",
      "metadata": {
        "id": "LVhV1S7KJnq6"
      },
      "source": [
        "\n",
        "test_x = torch.tensor(test[features].to_numpy()).type(torch.FloatTensor)\n",
        "test_y = torch.tensor(test['label'].to_numpy()).type(torch.FloatTensor)"
      ],
      "execution_count": null,
      "outputs": []
    },
    {
      "cell_type": "markdown",
      "metadata": {
        "id": "eDXTHLzKMikr"
      },
      "source": [
        "## DoS Source Model"
      ]
    },
    {
      "cell_type": "code",
      "metadata": {
        "id": "SoTAuPU2zKmx"
      },
      "source": [
        "class DoS_Classifier(nn.Module):\n",
        "    def __init__(self):\n",
        "        super().__init__()\n",
        "        self.model_layers = nn.Sequential(\n",
        "            nn.Linear(7, 4),\n",
        "            nn.ReLU(),\n",
        "            # nn.BatchNorm1d(4),\n",
        "            nn.Linear(4, 4),\n",
        "            nn.ReLU(),\n",
        "        )\n",
        "\n",
        "\n",
        "        self.classifier = nn.Sequential(\n",
        "            nn.Linear(4, 1),          \n",
        "        )\n",
        "\n",
        "    \n",
        "    def forward(self, x):\n",
        "        features = self.model_layers(x)\n",
        "        classification = torch.sigmoid(self.classifier(features))\n",
        "        return classification"
      ],
      "execution_count": null,
      "outputs": []
    },
    {
      "cell_type": "code",
      "metadata": {
        "id": "_8QVrCBlxHbs"
      },
      "source": [
        ""
      ],
      "execution_count": null,
      "outputs": []
    },
    {
      "cell_type": "code",
      "metadata": {
        "id": "lYRaN2h5zI1_"
      },
      "source": [
        "gamma=2\n",
        "alpha=.8"
      ],
      "execution_count": null,
      "outputs": []
    },
    {
      "cell_type": "code",
      "metadata": {
        "id": "JSV4j5XeeX34",
        "colab": {
          "base_uri": "https://localhost:8080/",
          "height": 315
        },
        "outputId": "1d7f18b0-5b5d-4bb6-f7f1-c7b263c00ed6"
      },
      "source": [
        "# Instantiate the model\n",
        "model = DoS_Classifier().to(device) # cuda needed to ensure training on GPU. all inputs and models must be converted to cuda\n",
        "\n",
        "#Create loss function (if using BCE) and optimizer\n",
        "criterion = nn.BCELoss()\n",
        "optimizer = optim.Adam(model.parameters(), lr=0.001)\n",
        "\n",
        "# for tracking loss\n",
        "loss_history = []\n",
        "val_loss_history = []\n",
        "scheduler = optim.lr_scheduler.StepLR(optimizer, 1,gamma=.99)\n",
        "\n",
        "for epoch in (range(150)):  # loop over the dataset multiple times\n",
        "    train_epoch_loss = []\n",
        "    val_epoch_loss = []\n",
        "    for i, batch in enumerate(train_dataloader, 0):\n",
        "        # get the inputs; data is a list of [inputs, labels]\n",
        "        inputs, labels = batch\n",
        "        inputs=inputs.to(device) # cuda needed to ensure training on GPU. all inputs and models must be converted to cuda\n",
        "        labels= labels.unsqueeze(1).to(device) \n",
        "\n",
        "        ##TO BE ADDED IN FOR PART 2 - ADVERSARIAL DOMAIN ADAPTATION\n",
        "        # for p in model.parameters():\n",
        "        #     if(len(p.data)>1):\n",
        "        #         p.data.clamp_(-1.0, 1.0)\n",
        "\n",
        "\n",
        "        # zero the parameter gradients\n",
        "        optimizer.zero_grad()\n",
        "\n",
        "        # # forward \n",
        "        outputs = model(inputs)\n",
        "        #backward + optimize\n",
        "        # loss = criterion(outputs, labels)\n",
        "        # focal_loss to be used after BCE to compare performance\n",
        "        loss = binary_focal_loss(outputs,labels,gamma=gamma,alpha=alpha)\n",
        "       \n",
        "        loss.backward()\n",
        "        optimizer.step()  \n",
        "        train_epoch_loss.append(loss.item())\n",
        "\n",
        "    loss_history.append(sum(train_epoch_loss)/float(len(train_epoch_loss)))\n",
        "    \n",
        "    # Check validation data\n",
        "    for i, batch in enumerate(val_dataloader):\n",
        "        inputs, labels = batch\n",
        "        inputs = inputs.to(device)\n",
        "        labels = labels.unsqueeze(1).to(device) \n",
        "        outputs = model(inputs)\n",
        "        # val_loss = criterion(outputs, labels)\n",
        "\n",
        "        val_loss = binary_focal_loss(outputs,labels,gamma=gamma,alpha=alpha)\n",
        "        val_epoch_loss.append(val_loss.item())\n",
        "    val_loss_history.append(sum(val_epoch_loss)/float(len(val_epoch_loss)))\n",
        "    scheduler.step()\n",
        "\n",
        "    #plot every 10 epochs\n",
        "    if epoch % 10 == 0:\n",
        "\n",
        "\n",
        "        clear_output()\n",
        "        print(scheduler.get_lr())\n",
        "        print(\"epoch: \", epoch)\n",
        "        plt.plot(range(epoch+1),loss_history,range(epoch+1),val_loss_history)\n",
        "        plt.legend(['train','val'])\n",
        "        plt.title('loss')\n",
        "        plt.show()\n",
        "        "
      ],
      "execution_count": null,
      "outputs": [
        {
          "output_type": "stream",
          "text": [
            "[0.0002399924795841344]\n",
            "epoch:  140\n"
          ],
          "name": "stdout"
        },
        {
          "output_type": "display_data",
          "data": {
            "image/png": "[encoded data removed]",
            "text/plain": [
              "<Figure size 432x288 with 1 Axes>"
            ]
          },
          "metadata": {
            "tags": [],
            "needs_background": "light"
          }
        }
      ]
    },
    {
      "cell_type": "code",
      "metadata": {
        "id": "NRTMEMiPd5uX"
      },
      "source": [
        "torch.save(model.state_dict(), \"model_state_dict\")"
      ],
      "execution_count": null,
      "outputs": []
    },
    {
      "cell_type": "code",
      "metadata": {
        "id": "LyGlugHa4S1o"
      },
      "source": [
        "# Get predictions - note cuda values need to be moved off gpu and to numpy with .cpu().data.numpy()\n",
        "pred_y=model(test_x.to(device)).cpu().data.numpy()"
      ],
      "execution_count": null,
      "outputs": []
    },
    {
      "cell_type": "code",
      "metadata": {
        "id": "4vU2Yx6ZNT2a"
      },
      "source": [
        ""
      ],
      "execution_count": null,
      "outputs": []
    },
    {
      "cell_type": "code",
      "metadata": {
        "id": "JnBv_5NtpWVI"
      },
      "source": [
        "threshold=.5"
      ],
      "execution_count": null,
      "outputs": []
    },
    {
      "cell_type": "code",
      "metadata": {
        "id": "msjf1R8Pbzjf",
        "colab": {
          "base_uri": "https://localhost:8080/",
          "height": 296
        },
        "outputId": "cd96fab9-f79f-4112-8ca6-535e56ee349c"
      },
      "source": [
        "\n",
        "# Plot ROC curve, realize it's useless.\n",
        "\n",
        "fpr, tpr, _ = roc_curve(test_y, (pred_y))\n",
        "fig, ax = plt.subplots(facecolor='w')\n",
        "plt.xlabel(\"fpr\")\n",
        "plt.ylabel(\"tpr\")\n",
        "\n",
        "\n",
        "ax.plot(fpr,tpr)"
      ],
      "execution_count": null,
      "outputs": [
        {
          "output_type": "execute_result",
          "data": {
            "text/plain": [
              "[<matplotlib.lines.Line2D at 0x7ff645e71550>]"
            ]
          },
          "metadata": {
            "tags": []
          },
          "execution_count": 27
        },
        {
          "output_type": "display_data",
          "data": {
            "image/png": "[encoded data removed]",
            "text/plain": [
              "<Figure size 432x288 with 1 Axes>"
            ]
          },
          "metadata": {
            "tags": []
          }
        }
      ]
    },
    {
      "cell_type": "code",
      "metadata": {
        "id": "2fBIkJ9IsEuo",
        "colab": {
          "base_uri": "https://localhost:8080/",
          "height": 282
        },
        "outputId": "d8505ea0-0e9f-4446-d535-3ad5357399e9"
      },
      "source": [
        "plot_cm(test_y,(pred_y>.5).astype(int))"
      ],
      "execution_count": null,
      "outputs": [
        {
          "output_type": "display_data",
          "data": {
            "text/plain": [
              "<Figure size 720x504 with 0 Axes>"
            ]
          },
          "metadata": {
            "tags": []
          }
        },
        {
          "output_type": "display_data",
          "data": {
            "image/png": "[encoded data removed]",
            "text/plain": [
              "<Figure size 432x288 with 2 Axes>"
            ]
          },
          "metadata": {
            "tags": []
          }
        }
      ]
    },
    {
      "cell_type": "code",
      "metadata": {
        "id": "m9tJvMmV7Oyu",
        "colab": {
          "base_uri": "https://localhost:8080/"
        },
        "outputId": "414c4606-b69c-4239-8917-02c57a480b07"
      },
      "source": [
        "\n",
        "# Check precision, recall, F1\n",
        "precision_recall_fscore_support(test_y.cpu().data,(pred_y>.6).astype(int),average='binary')"
      ],
      "execution_count": null,
      "outputs": [
        {
          "output_type": "execute_result",
          "data": {
            "text/plain": [
              "(0.3922883487007544, 0.6867204695524578, 0.49933315550813545, None)"
            ]
          },
          "metadata": {
            "tags": []
          },
          "execution_count": 29
        }
      ]
    },
    {
      "cell_type": "code",
      "metadata": {
        "id": "PTpqyNAx2lU2",
        "colab": {
          "base_uri": "https://localhost:8080/",
          "height": 367
        },
        "outputId": "68a95ab2-8b39-42a8-e45d-1db433b75c76"
      },
      "source": [
        "plt.hist(pred_y)"
      ],
      "execution_count": null,
      "outputs": [
        {
          "output_type": "execute_result",
          "data": {
            "text/plain": [
              "(array([1.3453e+04, 1.0060e+03, 2.9600e+03, 1.5630e+04, 5.5300e+02,\n",
              "        1.6980e+03, 5.6740e+03, 1.4000e+01, 2.9000e+01, 7.2000e+01]),\n",
              " array([0.16301738, 0.24670881, 0.33040023, 0.41409168, 0.4977831 ,\n",
              "        0.58147454, 0.66516596, 0.7488574 , 0.83254886, 0.9162403 ,\n",
              "        0.9999317 ], dtype=float32),\n",
              " <a list of 10 Patch objects>)"
            ]
          },
          "metadata": {
            "tags": []
          },
          "execution_count": 30
        },
        {
          "output_type": "display_data",
          "data": {
            "image/png": "[encoded data removed]",
            "text/plain": [
              "<Figure size 432x288 with 1 Axes>"
            ]
          },
          "metadata": {
            "tags": [],
            "needs_background": "light"
          }
        }
      ]
    },
    {
      "cell_type": "code",
      "metadata": {
        "id": "1vXuA9znHOCn",
        "colab": {
          "base_uri": "https://localhost:8080/",
          "height": 319
        },
        "outputId": "f535d075-57cc-4752-f600-d9b66e3bf509"
      },
      "source": [
        "\n",
        "p,r,f,t = plot_PR_Curve(test_y.cpu().data,pred_y)"
      ],
      "execution_count": null,
      "outputs": [
        {
          "output_type": "stream",
          "text": [
            "/usr/local/lib/python3.7/dist-packages/sklearn/metrics/_classification.py:1272: UndefinedMetricWarning: Precision and F-score are ill-defined and being set to 0.0 due to no predicted samples. Use `zero_division` parameter to control this behavior.\n",
            "  _warn_prf(average, modifier, msg_start, len(result))\n"
          ],
          "name": "stderr"
        },
        {
          "output_type": "display_data",
          "data": {
            "image/png": "[encoded data removed]",
            "text/plain": [
              "<Figure size 432x288 with 1 Axes>"
            ]
          },
          "metadata": {
            "tags": [],
            "needs_background": "light"
          }
        }
      ]
    },
    {
      "cell_type": "code",
      "metadata": {
        "id": "1Dhqt_7soD6v",
        "colab": {
          "base_uri": "https://localhost:8080/",
          "height": 282
        },
        "outputId": "e16509d1-d949-45d5-e95a-0f40614b4bc4"
      },
      "source": [
        "\n",
        "plt.plot(t,f)"
      ],
      "execution_count": null,
      "outputs": [
        {
          "output_type": "execute_result",
          "data": {
            "text/plain": [
              "[<matplotlib.lines.Line2D at 0x7ff6452b9690>]"
            ]
          },
          "metadata": {
            "tags": []
          },
          "execution_count": 32
        },
        {
          "output_type": "display_data",
          "data": {
            "image/png": "[encoded data removed]",
            "text/plain": [
              "<Figure size 432x288 with 1 Axes>"
            ]
          },
          "metadata": {
            "tags": [],
            "needs_background": "light"
          }
        }
      ]
    },
    {
      "cell_type": "markdown",
      "metadata": {
        "id": "McJjPIT3_MmZ"
      },
      "source": [
        "## DoS Target data"
      ]
    },
    {
      "cell_type": "code",
      "metadata": {
        "id": "1K35RlTv_P5j"
      },
      "source": [
        "#wednesday=pd.read_csv('MachineLearningCVE/Wednesday-workingHours.pcap_ISCX.csv',low_memory=False)\n",
        "wednesday=pd.read_csv('Wednesday-workingHours.pcap_ISCX.csv',low_memory=False)"
      ],
      "execution_count": null,
      "outputs": []
    },
    {
      "cell_type": "code",
      "metadata": {
        "id": "ldO7Rg66tfLh"
      },
      "source": [
        "#monday=pd.read_csv('MachineLearningCVE/Monday-WorkingHours.pcap_ISCX.csv',low_memory=False)\n",
        "monday=pd.read_csv('Monday-WorkingHours.pcap_ISCX.csv',low_memory=False)"
      ],
      "execution_count": null,
      "outputs": []
    },
    {
      "cell_type": "code",
      "metadata": {
        "id": "L1oLKFg6t4pc",
        "colab": {
          "base_uri": "https://localhost:8080/"
        },
        "outputId": "0aa03487-ea36-479b-be72-f450b0d635a4"
      },
      "source": [
        "target=pd.concat([monday,wednesday])\n",
        "target.columns=[c.replace(\" \",'') for c in target.columns]\n",
        "target.Label[~(target.Label==\"BENIGN\")]=1\n",
        "target.Label[(target.Label==\"BENIGN\")]=0\n",
        "target.Label=target.Label.astype('int64')\n"
      ],
      "execution_count": null,
      "outputs": [
        {
          "output_type": "stream",
          "text": [
            "/usr/local/lib/python3.7/dist-packages/ipykernel_launcher.py:3: SettingWithCopyWarning: \n",
            "A value is trying to be set on a copy of a slice from a DataFrame\n",
            "\n",
            "See the caveats in the documentation: https://pandas.pydata.org/pandas-docs/stable/user_guide/indexing.html#returning-a-view-versus-a-copy\n",
            "  This is separate from the ipykernel package so we can avoid doing imports until\n",
            "/usr/local/lib/python3.7/dist-packages/ipykernel_launcher.py:4: SettingWithCopyWarning: \n",
            "A value is trying to be set on a copy of a slice from a DataFrame\n",
            "\n",
            "See the caveats in the documentation: https://pandas.pydata.org/pandas-docs/stable/user_guide/indexing.html#returning-a-view-versus-a-copy\n",
            "  after removing the cwd from sys.path.\n"
          ],
          "name": "stderr"
        }
      ]
    },
    {
      "cell_type": "code",
      "metadata": {
        "id": "SXKRI9UT9hKT"
      },
      "source": [
        ""
      ],
      "execution_count": null,
      "outputs": []
    },
    {
      "cell_type": "code",
      "metadata": {
        "id": "AUPByOGQ9RGs",
        "colab": {
          "base_uri": "https://localhost:8080/",
          "height": 224
        },
        "outputId": "ffd253fb-a846-466c-aa57-3f5be8bda22d"
      },
      "source": [
        "target.head()"
      ],
      "execution_count": null,
      "outputs": [
        {
          "output_type": "execute_result",
          "data": {
            "text/html": [
              "<div>\n",
              "<style scoped>\n",
              "    .dataframe tbody tr th:only-of-type {\n",
              "        vertical-align: middle;\n",
              "    }\n",
              "\n",
              "    .dataframe tbody tr th {\n",
              "        vertical-align: top;\n",
              "    }\n",
              "\n",
              "    .dataframe thead th {\n",
              "        text-align: right;\n",
              "    }\n",
              "</style>\n",
              "<table border=\"1\" class=\"dataframe\">\n",
              "  <thead>\n",
              "    <tr style=\"text-align: right;\">\n",
              "      <th></th>\n",
              "      <th>DestinationPort</th>\n",
              "      <th>FlowDuration</th>\n",
              "      <th>TotalFwdPackets</th>\n",
              "      <th>TotalBackwardPackets</th>\n",
              "      <th>TotalLengthofFwdPackets</th>\n",
              "      <th>TotalLengthofBwdPackets</th>\n",
              "      <th>FwdPacketLengthMax</th>\n",
              "      <th>FwdPacketLengthMin</th>\n",
              "      <th>FwdPacketLengthMean</th>\n",
              "      <th>FwdPacketLengthStd</th>\n",
              "      <th>BwdPacketLengthMax</th>\n",
              "      <th>BwdPacketLengthMin</th>\n",
              "      <th>BwdPacketLengthMean</th>\n",
              "      <th>BwdPacketLengthStd</th>\n",
              "      <th>FlowBytes/s</th>\n",
              "      <th>FlowPackets/s</th>\n",
              "      <th>FlowIATMean</th>\n",
              "      <th>FlowIATStd</th>\n",
              "      <th>FlowIATMax</th>\n",
              "      <th>FlowIATMin</th>\n",
              "      <th>FwdIATTotal</th>\n",
              "      <th>FwdIATMean</th>\n",
              "      <th>FwdIATStd</th>\n",
              "      <th>FwdIATMax</th>\n",
              "      <th>FwdIATMin</th>\n",
              "      <th>BwdIATTotal</th>\n",
              "      <th>BwdIATMean</th>\n",
              "      <th>BwdIATStd</th>\n",
              "      <th>BwdIATMax</th>\n",
              "      <th>BwdIATMin</th>\n",
              "      <th>FwdPSHFlags</th>\n",
              "      <th>BwdPSHFlags</th>\n",
              "      <th>FwdURGFlags</th>\n",
              "      <th>BwdURGFlags</th>\n",
              "      <th>FwdHeaderLength</th>\n",
              "      <th>BwdHeaderLength</th>\n",
              "      <th>FwdPackets/s</th>\n",
              "      <th>BwdPackets/s</th>\n",
              "      <th>MinPacketLength</th>\n",
              "      <th>MaxPacketLength</th>\n",
              "      <th>PacketLengthMean</th>\n",
              "      <th>PacketLengthStd</th>\n",
              "      <th>PacketLengthVariance</th>\n",
              "      <th>FINFlagCount</th>\n",
              "      <th>SYNFlagCount</th>\n",
              "      <th>RSTFlagCount</th>\n",
              "      <th>PSHFlagCount</th>\n",
              "      <th>ACKFlagCount</th>\n",
              "      <th>URGFlagCount</th>\n",
              "      <th>CWEFlagCount</th>\n",
              "      <th>ECEFlagCount</th>\n",
              "      <th>Down/UpRatio</th>\n",
              "      <th>AveragePacketSize</th>\n",
              "      <th>AvgFwdSegmentSize</th>\n",
              "      <th>AvgBwdSegmentSize</th>\n",
              "      <th>FwdHeaderLength.1</th>\n",
              "      <th>FwdAvgBytes/Bulk</th>\n",
              "      <th>FwdAvgPackets/Bulk</th>\n",
              "      <th>FwdAvgBulkRate</th>\n",
              "      <th>BwdAvgBytes/Bulk</th>\n",
              "      <th>BwdAvgPackets/Bulk</th>\n",
              "      <th>BwdAvgBulkRate</th>\n",
              "      <th>SubflowFwdPackets</th>\n",
              "      <th>SubflowFwdBytes</th>\n",
              "      <th>SubflowBwdPackets</th>\n",
              "      <th>SubflowBwdBytes</th>\n",
              "      <th>Init_Win_bytes_forward</th>\n",
              "      <th>Init_Win_bytes_backward</th>\n",
              "      <th>act_data_pkt_fwd</th>\n",
              "      <th>min_seg_size_forward</th>\n",
              "      <th>ActiveMean</th>\n",
              "      <th>ActiveStd</th>\n",
              "      <th>ActiveMax</th>\n",
              "      <th>ActiveMin</th>\n",
              "      <th>IdleMean</th>\n",
              "      <th>IdleStd</th>\n",
              "      <th>IdleMax</th>\n",
              "      <th>IdleMin</th>\n",
              "      <th>Label</th>\n",
              "    </tr>\n",
              "  </thead>\n",
              "  <tbody>\n",
              "    <tr>\n",
              "      <th>0</th>\n",
              "      <td>49188</td>\n",
              "      <td>4</td>\n",
              "      <td>2</td>\n",
              "      <td>0</td>\n",
              "      <td>12</td>\n",
              "      <td>0</td>\n",
              "      <td>6</td>\n",
              "      <td>6</td>\n",
              "      <td>6.0</td>\n",
              "      <td>0.0</td>\n",
              "      <td>0</td>\n",
              "      <td>0</td>\n",
              "      <td>0.0</td>\n",
              "      <td>0.0</td>\n",
              "      <td>3000000.0</td>\n",
              "      <td>5.000000e+05</td>\n",
              "      <td>4.0</td>\n",
              "      <td>0.0</td>\n",
              "      <td>4</td>\n",
              "      <td>4</td>\n",
              "      <td>4</td>\n",
              "      <td>4.0</td>\n",
              "      <td>0.0</td>\n",
              "      <td>4</td>\n",
              "      <td>4</td>\n",
              "      <td>0</td>\n",
              "      <td>0.0</td>\n",
              "      <td>0.0</td>\n",
              "      <td>0</td>\n",
              "      <td>0</td>\n",
              "      <td>0</td>\n",
              "      <td>0</td>\n",
              "      <td>0</td>\n",
              "      <td>0</td>\n",
              "      <td>40</td>\n",
              "      <td>0</td>\n",
              "      <td>5.000000e+05</td>\n",
              "      <td>0.0</td>\n",
              "      <td>6</td>\n",
              "      <td>6</td>\n",
              "      <td>6.0</td>\n",
              "      <td>0.0</td>\n",
              "      <td>0.0</td>\n",
              "      <td>0</td>\n",
              "      <td>0</td>\n",
              "      <td>0</td>\n",
              "      <td>0</td>\n",
              "      <td>1</td>\n",
              "      <td>1</td>\n",
              "      <td>0</td>\n",
              "      <td>0</td>\n",
              "      <td>0</td>\n",
              "      <td>9.0</td>\n",
              "      <td>6.0</td>\n",
              "      <td>0.0</td>\n",
              "      <td>40</td>\n",
              "      <td>0</td>\n",
              "      <td>0</td>\n",
              "      <td>0</td>\n",
              "      <td>0</td>\n",
              "      <td>0</td>\n",
              "      <td>0</td>\n",
              "      <td>2</td>\n",
              "      <td>12</td>\n",
              "      <td>0</td>\n",
              "      <td>0</td>\n",
              "      <td>329</td>\n",
              "      <td>-1</td>\n",
              "      <td>1</td>\n",
              "      <td>20</td>\n",
              "      <td>0.0</td>\n",
              "      <td>0.0</td>\n",
              "      <td>0</td>\n",
              "      <td>0</td>\n",
              "      <td>0.0</td>\n",
              "      <td>0.0</td>\n",
              "      <td>0</td>\n",
              "      <td>0</td>\n",
              "      <td>0</td>\n",
              "    </tr>\n",
              "    <tr>\n",
              "      <th>1</th>\n",
              "      <td>49188</td>\n",
              "      <td>1</td>\n",
              "      <td>2</td>\n",
              "      <td>0</td>\n",
              "      <td>12</td>\n",
              "      <td>0</td>\n",
              "      <td>6</td>\n",
              "      <td>6</td>\n",
              "      <td>6.0</td>\n",
              "      <td>0.0</td>\n",
              "      <td>0</td>\n",
              "      <td>0</td>\n",
              "      <td>0.0</td>\n",
              "      <td>0.0</td>\n",
              "      <td>12000000.0</td>\n",
              "      <td>2.000000e+06</td>\n",
              "      <td>1.0</td>\n",
              "      <td>0.0</td>\n",
              "      <td>1</td>\n",
              "      <td>1</td>\n",
              "      <td>1</td>\n",
              "      <td>1.0</td>\n",
              "      <td>0.0</td>\n",
              "      <td>1</td>\n",
              "      <td>1</td>\n",
              "      <td>0</td>\n",
              "      <td>0.0</td>\n",
              "      <td>0.0</td>\n",
              "      <td>0</td>\n",
              "      <td>0</td>\n",
              "      <td>0</td>\n",
              "      <td>0</td>\n",
              "      <td>0</td>\n",
              "      <td>0</td>\n",
              "      <td>40</td>\n",
              "      <td>0</td>\n",
              "      <td>2.000000e+06</td>\n",
              "      <td>0.0</td>\n",
              "      <td>6</td>\n",
              "      <td>6</td>\n",
              "      <td>6.0</td>\n",
              "      <td>0.0</td>\n",
              "      <td>0.0</td>\n",
              "      <td>0</td>\n",
              "      <td>0</td>\n",
              "      <td>0</td>\n",
              "      <td>0</td>\n",
              "      <td>1</td>\n",
              "      <td>1</td>\n",
              "      <td>0</td>\n",
              "      <td>0</td>\n",
              "      <td>0</td>\n",
              "      <td>9.0</td>\n",
              "      <td>6.0</td>\n",
              "      <td>0.0</td>\n",
              "      <td>40</td>\n",
              "      <td>0</td>\n",
              "      <td>0</td>\n",
              "      <td>0</td>\n",
              "      <td>0</td>\n",
              "      <td>0</td>\n",
              "      <td>0</td>\n",
              "      <td>2</td>\n",
              "      <td>12</td>\n",
              "      <td>0</td>\n",
              "      <td>0</td>\n",
              "      <td>329</td>\n",
              "      <td>-1</td>\n",
              "      <td>1</td>\n",
              "      <td>20</td>\n",
              "      <td>0.0</td>\n",
              "      <td>0.0</td>\n",
              "      <td>0</td>\n",
              "      <td>0</td>\n",
              "      <td>0.0</td>\n",
              "      <td>0.0</td>\n",
              "      <td>0</td>\n",
              "      <td>0</td>\n",
              "      <td>0</td>\n",
              "    </tr>\n",
              "    <tr>\n",
              "      <th>2</th>\n",
              "      <td>49188</td>\n",
              "      <td>1</td>\n",
              "      <td>2</td>\n",
              "      <td>0</td>\n",
              "      <td>12</td>\n",
              "      <td>0</td>\n",
              "      <td>6</td>\n",
              "      <td>6</td>\n",
              "      <td>6.0</td>\n",
              "      <td>0.0</td>\n",
              "      <td>0</td>\n",
              "      <td>0</td>\n",
              "      <td>0.0</td>\n",
              "      <td>0.0</td>\n",
              "      <td>12000000.0</td>\n",
              "      <td>2.000000e+06</td>\n",
              "      <td>1.0</td>\n",
              "      <td>0.0</td>\n",
              "      <td>1</td>\n",
              "      <td>1</td>\n",
              "      <td>1</td>\n",
              "      <td>1.0</td>\n",
              "      <td>0.0</td>\n",
              "      <td>1</td>\n",
              "      <td>1</td>\n",
              "      <td>0</td>\n",
              "      <td>0.0</td>\n",
              "      <td>0.0</td>\n",
              "      <td>0</td>\n",
              "      <td>0</td>\n",
              "      <td>0</td>\n",
              "      <td>0</td>\n",
              "      <td>0</td>\n",
              "      <td>0</td>\n",
              "      <td>40</td>\n",
              "      <td>0</td>\n",
              "      <td>2.000000e+06</td>\n",
              "      <td>0.0</td>\n",
              "      <td>6</td>\n",
              "      <td>6</td>\n",
              "      <td>6.0</td>\n",
              "      <td>0.0</td>\n",
              "      <td>0.0</td>\n",
              "      <td>0</td>\n",
              "      <td>0</td>\n",
              "      <td>0</td>\n",
              "      <td>0</td>\n",
              "      <td>1</td>\n",
              "      <td>1</td>\n",
              "      <td>0</td>\n",
              "      <td>0</td>\n",
              "      <td>0</td>\n",
              "      <td>9.0</td>\n",
              "      <td>6.0</td>\n",
              "      <td>0.0</td>\n",
              "      <td>40</td>\n",
              "      <td>0</td>\n",
              "      <td>0</td>\n",
              "      <td>0</td>\n",
              "      <td>0</td>\n",
              "      <td>0</td>\n",
              "      <td>0</td>\n",
              "      <td>2</td>\n",
              "      <td>12</td>\n",
              "      <td>0</td>\n",
              "      <td>0</td>\n",
              "      <td>329</td>\n",
              "      <td>-1</td>\n",
              "      <td>1</td>\n",
              "      <td>20</td>\n",
              "      <td>0.0</td>\n",
              "      <td>0.0</td>\n",
              "      <td>0</td>\n",
              "      <td>0</td>\n",
              "      <td>0.0</td>\n",
              "      <td>0.0</td>\n",
              "      <td>0</td>\n",
              "      <td>0</td>\n",
              "      <td>0</td>\n",
              "    </tr>\n",
              "    <tr>\n",
              "      <th>3</th>\n",
              "      <td>49188</td>\n",
              "      <td>1</td>\n",
              "      <td>2</td>\n",
              "      <td>0</td>\n",
              "      <td>12</td>\n",
              "      <td>0</td>\n",
              "      <td>6</td>\n",
              "      <td>6</td>\n",
              "      <td>6.0</td>\n",
              "      <td>0.0</td>\n",
              "      <td>0</td>\n",
              "      <td>0</td>\n",
              "      <td>0.0</td>\n",
              "      <td>0.0</td>\n",
              "      <td>12000000.0</td>\n",
              "      <td>2.000000e+06</td>\n",
              "      <td>1.0</td>\n",
              "      <td>0.0</td>\n",
              "      <td>1</td>\n",
              "      <td>1</td>\n",
              "      <td>1</td>\n",
              "      <td>1.0</td>\n",
              "      <td>0.0</td>\n",
              "      <td>1</td>\n",
              "      <td>1</td>\n",
              "      <td>0</td>\n",
              "      <td>0.0</td>\n",
              "      <td>0.0</td>\n",
              "      <td>0</td>\n",
              "      <td>0</td>\n",
              "      <td>0</td>\n",
              "      <td>0</td>\n",
              "      <td>0</td>\n",
              "      <td>0</td>\n",
              "      <td>40</td>\n",
              "      <td>0</td>\n",
              "      <td>2.000000e+06</td>\n",
              "      <td>0.0</td>\n",
              "      <td>6</td>\n",
              "      <td>6</td>\n",
              "      <td>6.0</td>\n",
              "      <td>0.0</td>\n",
              "      <td>0.0</td>\n",
              "      <td>0</td>\n",
              "      <td>0</td>\n",
              "      <td>0</td>\n",
              "      <td>0</td>\n",
              "      <td>1</td>\n",
              "      <td>1</td>\n",
              "      <td>0</td>\n",
              "      <td>0</td>\n",
              "      <td>0</td>\n",
              "      <td>9.0</td>\n",
              "      <td>6.0</td>\n",
              "      <td>0.0</td>\n",
              "      <td>40</td>\n",
              "      <td>0</td>\n",
              "      <td>0</td>\n",
              "      <td>0</td>\n",
              "      <td>0</td>\n",
              "      <td>0</td>\n",
              "      <td>0</td>\n",
              "      <td>2</td>\n",
              "      <td>12</td>\n",
              "      <td>0</td>\n",
              "      <td>0</td>\n",
              "      <td>329</td>\n",
              "      <td>-1</td>\n",
              "      <td>1</td>\n",
              "      <td>20</td>\n",
              "      <td>0.0</td>\n",
              "      <td>0.0</td>\n",
              "      <td>0</td>\n",
              "      <td>0</td>\n",
              "      <td>0.0</td>\n",
              "      <td>0.0</td>\n",
              "      <td>0</td>\n",
              "      <td>0</td>\n",
              "      <td>0</td>\n",
              "    </tr>\n",
              "    <tr>\n",
              "      <th>4</th>\n",
              "      <td>49486</td>\n",
              "      <td>3</td>\n",
              "      <td>2</td>\n",
              "      <td>0</td>\n",
              "      <td>12</td>\n",
              "      <td>0</td>\n",
              "      <td>6</td>\n",
              "      <td>6</td>\n",
              "      <td>6.0</td>\n",
              "      <td>0.0</td>\n",
              "      <td>0</td>\n",
              "      <td>0</td>\n",
              "      <td>0.0</td>\n",
              "      <td>0.0</td>\n",
              "      <td>4000000.0</td>\n",
              "      <td>6.666667e+05</td>\n",
              "      <td>3.0</td>\n",
              "      <td>0.0</td>\n",
              "      <td>3</td>\n",
              "      <td>3</td>\n",
              "      <td>3</td>\n",
              "      <td>3.0</td>\n",
              "      <td>0.0</td>\n",
              "      <td>3</td>\n",
              "      <td>3</td>\n",
              "      <td>0</td>\n",
              "      <td>0.0</td>\n",
              "      <td>0.0</td>\n",
              "      <td>0</td>\n",
              "      <td>0</td>\n",
              "      <td>0</td>\n",
              "      <td>0</td>\n",
              "      <td>0</td>\n",
              "      <td>0</td>\n",
              "      <td>40</td>\n",
              "      <td>0</td>\n",
              "      <td>6.666667e+05</td>\n",
              "      <td>0.0</td>\n",
              "      <td>6</td>\n",
              "      <td>6</td>\n",
              "      <td>6.0</td>\n",
              "      <td>0.0</td>\n",
              "      <td>0.0</td>\n",
              "      <td>0</td>\n",
              "      <td>0</td>\n",
              "      <td>0</td>\n",
              "      <td>0</td>\n",
              "      <td>1</td>\n",
              "      <td>1</td>\n",
              "      <td>0</td>\n",
              "      <td>0</td>\n",
              "      <td>0</td>\n",
              "      <td>9.0</td>\n",
              "      <td>6.0</td>\n",
              "      <td>0.0</td>\n",
              "      <td>40</td>\n",
              "      <td>0</td>\n",
              "      <td>0</td>\n",
              "      <td>0</td>\n",
              "      <td>0</td>\n",
              "      <td>0</td>\n",
              "      <td>0</td>\n",
              "      <td>2</td>\n",
              "      <td>12</td>\n",
              "      <td>0</td>\n",
              "      <td>0</td>\n",
              "      <td>245</td>\n",
              "      <td>-1</td>\n",
              "      <td>1</td>\n",
              "      <td>20</td>\n",
              "      <td>0.0</td>\n",
              "      <td>0.0</td>\n",
              "      <td>0</td>\n",
              "      <td>0</td>\n",
              "      <td>0.0</td>\n",
              "      <td>0.0</td>\n",
              "      <td>0</td>\n",
              "      <td>0</td>\n",
              "      <td>0</td>\n",
              "    </tr>\n",
              "  </tbody>\n",
              "</table>\n",
              "</div>"
            ],
            "text/plain": [
              "   DestinationPort  FlowDuration  TotalFwdPackets  ...  IdleMax  IdleMin  Label\n",
              "0            49188             4                2  ...        0        0      0\n",
              "1            49188             1                2  ...        0        0      0\n",
              "2            49188             1                2  ...        0        0      0\n",
              "3            49188             1                2  ...        0        0      0\n",
              "4            49486             3                2  ...        0        0      0\n",
              "\n",
              "[5 rows x 79 columns]"
            ]
          },
          "metadata": {
            "tags": []
          },
          "execution_count": 36
        }
      ]
    },
    {
      "cell_type": "code",
      "metadata": {
        "id": "U5v18cp1e4zN",
        "colab": {
          "base_uri": "https://localhost:8080/"
        },
        "outputId": "99dadea1-26e0-4144-d246-8d380c160a26"
      },
      "source": [
        "target.Label.unique()"
      ],
      "execution_count": null,
      "outputs": [
        {
          "output_type": "execute_result",
          "data": {
            "text/plain": [
              "array([0, 1])"
            ]
          },
          "metadata": {
            "tags": []
          },
          "execution_count": 37
        }
      ]
    },
    {
      "cell_type": "code",
      "metadata": {
        "id": "OHPJrtLp9OyL"
      },
      "source": [
        "target[\"dur\"] = target['FlowDuration']\n",
        "target[\"spkts\"] = target['TotalFwdPackets']\n",
        "target[\"dpkts\"] = target['TotalBackwardPackets']\n",
        "target['sinpkt'] = target['FwdIATMean']\n",
        "target['dinpkt'] = target['BwdIATMean']\n",
        "target['sload'] = target['FwdPackets/s']*target['TotalLengthofFwdPackets']/(1+target['TotalFwdPackets'])\n",
        "target['dload'] = target['FwdPackets/s']*target['TotalLengthofBwdPackets']/(1+target['TotalBackwardPackets'])\n"
      ],
      "execution_count": null,
      "outputs": []
    },
    {
      "cell_type": "code",
      "metadata": {
        "id": "Y8UunkecUj_x"
      },
      "source": [
        ""
      ],
      "execution_count": null,
      "outputs": []
    },
    {
      "cell_type": "code",
      "metadata": {
        "id": "3faXeHrVPtjT",
        "colab": {
          "base_uri": "https://localhost:8080/"
        },
        "outputId": "549b880b-6b99-4bde-c610-a77ab4ab7462"
      },
      "source": [
        "print(\"percentage of malicious data samples: \",len(target[target.Label== 1])/float(len(target)))"
      ],
      "execution_count": null,
      "outputs": [
        {
          "output_type": "stream",
          "text": [
            "percentage of malicious data samples:  0.20666420746903577\n"
          ],
          "name": "stdout"
        }
      ]
    },
    {
      "cell_type": "code",
      "metadata": {
        "id": "bFrfb6E6Ut26"
      },
      "source": [
        "df_stats_target = pd.DataFrame(target.describe())"
      ],
      "execution_count": null,
      "outputs": []
    },
    {
      "cell_type": "code",
      "metadata": {
        "id": "uXkqXHwKCshJ"
      },
      "source": [
        "# df_stats_target = df_stats"
      ],
      "execution_count": null,
      "outputs": []
    },
    {
      "cell_type": "code",
      "metadata": {
        "id": "HIVI_F_0Wjd_"
      },
      "source": [
        "features = [\"dur\",\"spkts\",\"dpkts\", \"sinpkt\", \"dinpkt\",\"sload\",\"dload\"]\n",
        "for f in features:\n",
        "  target[f] = (target[f]-df_stats_target[f].loc['min'])/(df_stats_target[f].loc['max']-df_stats_target[f].loc['min'])"
      ],
      "execution_count": null,
      "outputs": []
    },
    {
      "cell_type": "code",
      "metadata": {
        "id": "OCfVK9VqwcYv"
      },
      "source": [
        "target = target[features+['Label']]"
      ],
      "execution_count": null,
      "outputs": []
    },
    {
      "cell_type": "code",
      "metadata": {
        "id": "idOaXmPc9f1I"
      },
      "source": [
        "target = target[~(target.isnull())]"
      ],
      "execution_count": null,
      "outputs": []
    },
    {
      "cell_type": "code",
      "metadata": {
        "id": "f1hV8fViGZ2Z"
      },
      "source": [
        "train_x_target = torch.tensor(target[features].to_numpy()).type(torch.FloatTensor)\n",
        "train_y_target = torch.tensor(target['Label'].to_numpy()).type(torch.FloatTensor)\n",
        "train_dataset_target = data.TensorDataset(train_x_target,train_y_target) \n",
        "train_dataloader_target = data.DataLoader(train_dataset_target,batch_size=1024,shuffle=True) "
      ],
      "execution_count": null,
      "outputs": []
    },
    {
      "cell_type": "code",
      "metadata": {
        "id": "kZwPAQymLVg6"
      },
      "source": [
        ""
      ],
      "execution_count": null,
      "outputs": []
    },
    {
      "cell_type": "code",
      "metadata": {
        "id": "43fjIuBxGfXO"
      },
      "source": [
        "pred_y_target = model(train_x_target.cuda()).data.cpu().numpy()\n"
      ],
      "execution_count": null,
      "outputs": []
    },
    {
      "cell_type": "code",
      "metadata": {
        "id": "u1TNl8y2xCYx",
        "colab": {
          "base_uri": "https://localhost:8080/"
        },
        "outputId": "7248e934-0e5a-4855-9910-5514edab3d2a"
      },
      "source": [
        "precision_recall_fscore_support(train_y_target.cpu().data,(pred_y_target>.5).astype('int'),average='binary')"
      ],
      "execution_count": null,
      "outputs": [
        {
          "output_type": "execute_result",
          "data": {
            "text/plain": [
              "(0.3329988886144727, 0.17075892857142858, 0.22575345332775218, None)"
            ]
          },
          "metadata": {
            "tags": []
          },
          "execution_count": 47
        }
      ]
    },
    {
      "cell_type": "markdown",
      "metadata": {
        "id": "AllUmSrV4kQv"
      },
      "source": [
        "## Adversarial Domain Adaption"
      ]
    },
    {
      "cell_type": "code",
      "metadata": {
        "id": "x4EkRqAq9-wt"
      },
      "source": [
        "source_model = DoS_Classifier().to(device)\n",
        "source_model.load_state_dict(torch.load('model_state_dict'))\n",
        "source_model.eval()\n",
        "for param in source_model.parameters():\n",
        "    param.requires_grad = False\n",
        "retrained_target_model = source_model\n",
        "source_model = source_model.model_layers\n",
        "\n",
        "target_model = DoS_Classifier().to(device)\n",
        "target_model.load_state_dict(torch.load('model_state_dict'))\n",
        "target_model = target_model.model_layers\n"
      ],
      "execution_count": null,
      "outputs": []
    },
    {
      "cell_type": "code",
      "metadata": {
        "id": "0tqWBNqw9U9G",
        "colab": {
          "base_uri": "https://localhost:8080/"
        },
        "outputId": "4e3a20e8-7881-4e4c-ae0e-a6429959098e"
      },
      "source": [
        "for param in target_model.parameters():\n",
        "    print(param.requires_grad)\n",
        "\n",
        "for param in source_model.parameters():\n",
        "    print(param.requires_grad)"
      ],
      "execution_count": null,
      "outputs": [
        {
          "output_type": "stream",
          "text": [
            "True\n",
            "True\n",
            "True\n",
            "True\n",
            "False\n",
            "False\n",
            "False\n",
            "False\n"
          ],
          "name": "stdout"
        }
      ]
    },
    {
      "cell_type": "code",
      "metadata": {
        "id": "i6NBW5KUQyO2"
      },
      "source": [
        "class adaption(nn.Module):\n",
        "    def __init__(self):\n",
        "        super(adaption, self).__init__()\n",
        "        self.bn1=nn.BatchNorm1d(4)\n",
        "        # self.bn2=nn.BatchNorm1d(4)\n",
        "\n",
        "\n",
        "        self.fc1 = nn.Linear(4, 64)\n",
        "        self.fc2 = nn.Linear(64, 4)\n",
        "        self.fc3 = nn.Linear(4, 1)\n",
        "\n",
        "\n",
        "\n",
        "    def forward(self, x):\n",
        "        x = F.leaky_relu(self.fc1(x))\n",
        "       \n",
        "        x =  F.leaky_relu(self.fc2(x))\n",
        "        x = self.fc3(x)\n",
        "\n",
        "        return x\n"
      ],
      "execution_count": null,
      "outputs": []
    },
    {
      "cell_type": "code",
      "metadata": {
        "id": "wNBlKswPlm-7"
      },
      "source": [
        "\n",
        "def get_gradient_penalty(model, source_data, target_data):\n",
        "    BATCH_SIZE=len(source_data)\n",
        "    t = torch.rand(BATCH_SIZE, 1)\n",
        "    t = t.expand(source_data.size())\n",
        "    t = t.to(device)\n",
        "\n",
        "    interpolation = t * source_data + ((1 - t) * target_data)\n",
        "\n",
        "    interpolation = interpolation.to(device)\n",
        "    interpolation = autograd.Variable(interpolation, requires_grad=True)\n",
        "\n",
        "    discriminator_interpolation = model(interpolation)\n",
        "\n",
        "    gradients = autograd.grad(outputs=discriminator_interpolation, inputs=interpolation, grad_outputs=torch.ones(discriminator_interpolation.size()).to(device),create_graph=True, retain_graph=True, only_inputs=True)[0]\n",
        "\n",
        "    gradient_penalty = ((gradients.norm(2, dim=1) - 1) ** 2).mean() \n",
        "    return gradient_penalty"
      ],
      "execution_count": null,
      "outputs": []
    },
    {
      "cell_type": "code",
      "metadata": {
        "id": "fV_JNrYZSoGW",
        "colab": {
          "base_uri": "https://localhost:8080/",
          "height": 1000
        },
        "outputId": "c5ada97b-3f78-4403-f848-4e8df20bb1fe"
      },
      "source": [
        "disc_loss_history = []\n",
        "target_acc = []\n",
        "source_acc = []\n",
        "target_loss_history = []\n",
        "gp = []\n",
        "\n",
        "best_performance = 0\n",
        "best_epoch=0\n",
        "source_model = DoS_Classifier().to(device)\n",
        "source_model.load_state_dict(torch.load('model_state_dict'))\n",
        "source_model.eval()\n",
        "for param in source_model.parameters():\n",
        "    param.requires_grad = False\n",
        "retrained_target_model = source_model\n",
        "source_model = source_model.model_layers\n",
        "\n",
        "target_model = DoS_Classifier().to(device)\n",
        "target_model.load_state_dict(torch.load('model_state_dict'))\n",
        "target_model = target_model.model_layers\n",
        "\n",
        "\n",
        "\n",
        "criterion = nn.BCEWithLogitsLoss()\n",
        "optimizer_target = optim.Adam(target_model.parameters(), lr=2e-4)#, betas=(0.5, 0.9))\n",
        "\n",
        "adversarial_discriminator=adaption().to(device)\n",
        "Adver_optimizer = optim.Adam(adversarial_discriminator.parameters(), lr=1e-4)#, betas=(0.5, 0.9))\n",
        "scheduler = optim.lr_scheduler.StepLR(Adver_optimizer, 1,gamma=1)\n",
        "\n",
        "\n",
        "\n",
        "\n",
        "for epoch in range(100): \n",
        "    check_target = copy.deepcopy(retrained_target_model)\n",
        "\n",
        "    for i, batch in enumerate(train_dataloader_target):\n",
        "        inputs_target, _ = batch\n",
        "        inputs_target = inputs_target.to(device)\n",
        "\n",
        "        # randomly select sourcce data\n",
        "        rand_rows = torch.randperm(len(train_x))[:len(inputs_target)]\n",
        "        inputs_source = train_x[rand_rows,:].to(device)\n",
        "\n",
        "        # zero the parameter gradients\n",
        "        Adver_optimizer.zero_grad()\n",
        "        optimizer_target.zero_grad()\n",
        "\n",
        "        # for p in adversarial_discriminator.parameters():\n",
        "        #     if len(p.data)>1:\n",
        "        #         p.data.clamp_(-.3, .3)\n",
        "\n",
        "        # for p in target_model.parameters():\n",
        "        #     p.data.clamp_(-1.0, 1.0)\n",
        "\n",
        "        # # forward + backward + optimize\n",
        "        Vec_source = source_model(inputs_source)\n",
        "\n",
        "        Vec_target = target_model(inputs_target)\n",
        "\n",
        "        output_source = adversarial_discriminator(Vec_source.detach())\n",
        "\n",
        "        output_target = adversarial_discriminator(Vec_target.detach())\n",
        "\n",
        "  \n",
        "\n",
        "        neg_label = torch.zeros(len(output_target),1).to(device)\n",
        "        pos_label = torch.ones(len(output_source),1).to(device)\n",
        "\n",
        "        errD_source = criterion(output_source,pos_label)\n",
        "\n",
        "        errD_target = criterion(output_target,neg_label)\n",
        "\n",
        "        # errD_source = -torch.mean(output_source) \n",
        "        # errD_target = torch.mean(output_target)\n",
        "        \n",
        "        gradient_penalty = 2.5*get_gradient_penalty(adversarial_discriminator, Vec_source.data, Vec_target.data)\n",
        "        gp.append(gradient_penalty.item())\n",
        "        if epoch % 2 == 0:\n",
        "            gradient_penalty.backward()\n",
        "            errD_source.backward()\n",
        "            errD_target.backward()\n",
        "       \n",
        "\n",
        "        Adver_optimizer.step()  \n",
        "\n",
        "\n",
        "        errD = errD_target + errD_source\n",
        "\n",
        "       \n",
        "\n",
        "        output=adversarial_discriminator(Vec_target)\n",
        "\n",
        "        err_target = criterion(output,pos_label)\n",
        "        # err_target = -torch.mean(output)\n",
        "        check_target.model_layers = target_model\n",
        "        pred_y_target = check_target(inputs_target)\n",
        "        pred_spread = 0.005/torch.var(pred_y_target)\n",
        "        if epoch % 1 == 0:\n",
        "        \n",
        "            err_target.backward()\n",
        "            pred_spread.backward()\n",
        "\n",
        "            optimizer_target.step()\n",
        "\n",
        "\n",
        "        disc_loss_history.append(errD.item())\n",
        "        target_loss_history.append(err_target.item())\n",
        "        target_acc.append(accuracy_score(np.round(torch.sigmoid(output_target).data.cpu().numpy()),neg_label.data.cpu().numpy()))\n",
        "        source_acc.append(accuracy_score(np.round(torch.sigmoid(output_source).data.cpu().numpy()),pos_label.data.cpu().numpy()))\n",
        "\n",
        "\n",
        "    scheduler.step()\n",
        "\n",
        "    check_target.model_layers = target_model\n",
        "    pred_y_target = check_target(train_x_target.to(device)).cpu().data.numpy()\n",
        "    results = precision_recall_fscore_support(train_y_target.cpu().data,(pred_y_target>.5).astype('int'),average='binary')\n",
        "    if  max(results[2],best_performance) > best_performance:\n",
        "        best_epoch=epoch\n",
        "    best_performance = max(results[2],best_performance)\n",
        "    \n",
        "    if best_performance>.7:\n",
        "\n",
        "        break\n",
        "    upper_lim=.55\n",
        "    lower_lim=.45\n",
        "    if target_acc[-1] < upper_lim and target_acc[-1] > lower_lim and source_acc[-1] < upper_lim and source_acc[-1] > lower_lim:\n",
        "        break\n",
        "\n",
        "    if epoch % 1 == 0:\n",
        "        clear_output()     \n",
        "        print(scheduler.get_lr())\n",
        "        print(results)\n",
        "        print(\"best F1: \",best_performance)\n",
        "        print(\"best epoch: \", best_epoch)\n",
        "        print(\"epoch: \", epoch+1)\n",
        "\n",
        "        plt.plot(disc_loss_history)\n",
        "        plt.title('Discriminator Loss')\n",
        "        # plt.ylim(0,2)\n",
        "        plt.show()\n",
        "\n",
        "        plt.plot(target_loss_history,color='orange')\n",
        "        plt.title('Generator Loss')\n",
        "\n",
        "        plt.show()\n",
        "\n",
        "\n",
        "        plt.plot(range(len(source_acc)),source_acc,range(len(target_acc)),target_acc)\n",
        "        plt.legend(['source','target'])\n",
        "        plt.title('Discriminator Accuracy')\n",
        "\n",
        "        plt.show()\n",
        "\n",
        "        plt.plot(gp)\n",
        "        plt.show()\n",
        "\n",
        "  \n",
        " "
      ],
      "execution_count": null,
      "outputs": [
        {
          "output_type": "stream",
          "text": [
            "[0.0001]\n",
            "(0.1268585709208882, 0.35036727456940225, 0.18627277700627026, None)\n",
            "best F1:  0.30399289882175584\n",
            "best epoch:  0\n",
            "epoch:  19\n"
          ],
          "name": "stdout"
        },
        {
          "output_type": "display_data",
          "data": {
            "image/png": "[encoded data removed]",
            "text/plain": [
              "<Figure size 432x288 with 1 Axes>"
            ]
          },
          "metadata": {
            "tags": [],
            "needs_background": "light"
          }
        },
        {
          "output_type": "display_data",
          "data": {
            "image/png": "[encoded data removed]",
            "text/plain": [
              "<Figure size 432x288 with 1 Axes>"
            ]
          },
          "metadata": {
            "tags": [],
            "needs_background": "light"
          }
        },
        {
          "output_type": "display_data",
          "data": {
            "image/png": "[encoded data removed]",
            "text/plain": [
              "<Figure size 432x288 with 1 Axes>"
            ]
          },
          "metadata": {
            "tags": [],
            "needs_background": "light"
          }
        },
        {
          "output_type": "display_data",
          "data": {
            "image/png": "[encoded data removed]",
            "text/plain": [
              "<Figure size 432x288 with 1 Axes>"
            ]
          },
          "metadata": {
            "tags": [],
            "needs_background": "light"
          }
        }
      ]
    },
    {
      "cell_type": "code",
      "metadata": {
        "id": "wMhdwEs-eL5I"
      },
      "source": [
        ""
      ],
      "execution_count": null,
      "outputs": []
    },
    {
      "cell_type": "code",
      "metadata": {
        "id": "V2X6ec4heate"
      },
      "source": [
        "#  plt.xticks([e*(int(len(train_x_target)/1024) +len(train_x_target) % 1024)  for e in range(epoch+2)],range(epoch+1))\n"
      ],
      "execution_count": null,
      "outputs": []
    },
    {
      "cell_type": "code",
      "metadata": {
        "id": "PH8LxN3LgBE_"
      },
      "source": [
        ""
      ],
      "execution_count": null,
      "outputs": []
    },
    {
      "cell_type": "markdown",
      "metadata": {
        "id": "ige2hxkzNweN"
      },
      "source": [
        "## Evaluation"
      ]
    },
    {
      "cell_type": "code",
      "metadata": {
        "id": "317eCPhicKZW"
      },
      "source": [
        ""
      ],
      "execution_count": null,
      "outputs": []
    },
    {
      "cell_type": "code",
      "metadata": {
        "id": "FUMtZqbXgRw9",
        "colab": {
          "base_uri": "https://localhost:8080/"
        },
        "outputId": "445862a6-b190-4f8f-e050-770b72c6638b"
      },
      "source": [
        "source_model = DoS_Classifier().to(device)\n",
        "source_model.load_state_dict(torch.load('model_state_dict'))"
      ],
      "execution_count": null,
      "outputs": [
        {
          "output_type": "execute_result",
          "data": {
            "text/plain": [
              "<All keys matched successfully>"
            ]
          },
          "metadata": {
            "tags": []
          },
          "execution_count": 54
        }
      ]
    },
    {
      "cell_type": "code",
      "metadata": {
        "id": "lkPabpQXjAQW"
      },
      "source": [
        "retrained_target_model.model_layers=target_model"
      ],
      "execution_count": null,
      "outputs": []
    },
    {
      "cell_type": "code",
      "metadata": {
        "id": "w-wBBYzu54tA",
        "colab": {
          "base_uri": "https://localhost:8080/"
        },
        "outputId": "1f4eadc9-bb90-47d8-bbd5-1f9a56bfe44b"
      },
      "source": [
        "pred_y_target=source_model(train_x_target.to(device)).cpu().data.numpy()\n",
        "precision_recall_fscore_support(train_y_target.cpu().data,(pred_y_target>.5).astype('int'),average='binary')"
      ],
      "execution_count": null,
      "outputs": [
        {
          "output_type": "execute_result",
          "data": {
            "text/plain": [
              "(0.3329988886144727, 0.17075892857142858, 0.22575345332775218, None)"
            ]
          },
          "metadata": {
            "tags": []
          },
          "execution_count": 56
        }
      ]
    },
    {
      "cell_type": "code",
      "metadata": {
        "id": "JrI29oOKF-9K",
        "colab": {
          "base_uri": "https://localhost:8080/",
          "height": 367
        },
        "outputId": "6e7b2f5e-8085-4f55-ea03-32f4b99525e1"
      },
      "source": [
        "plt.hist(pred_y_target)"
      ],
      "execution_count": null,
      "outputs": [
        {
          "output_type": "execute_result",
          "data": {
            "text/plain": [
              "(array([177337., 121603.,  79461., 706840.,  85308.,  27364.,  14613.,\n",
              "          3877.,   4388.,   1830.]),\n",
              " array([0.16301738, 0.24671353, 0.33040968, 0.41410583, 0.497802  ,\n",
              "        0.58149815, 0.6651943 , 0.74889046, 0.8325866 , 0.9162828 ,\n",
              "        0.9999789 ], dtype=float32),\n",
              " <a list of 10 Patch objects>)"
            ]
          },
          "metadata": {
            "tags": []
          },
          "execution_count": 57
        },
        {
          "output_type": "display_data",
          "data": {
            "image/png": "[encoded data removed]",
            "text/plain": [
              "<Figure size 432x288 with 1 Axes>"
            ]
          },
          "metadata": {
            "tags": [],
            "needs_background": "light"
          }
        }
      ]
    },
    {
      "cell_type": "code",
      "metadata": {
        "id": "j6h6u1UPaXHH",
        "colab": {
          "base_uri": "https://localhost:8080/"
        },
        "outputId": "60517de1-9ea9-4132-f3e8-0da849f86007"
      },
      "source": [
        "pred_y_target=retrained_target_model(train_x_target.to(device)).cpu().data.numpy()\n",
        "precision_recall_fscore_support(train_y_target.cpu().data,(pred_y_target>.6).astype('int'),average='binary')"
      ],
      "execution_count": null,
      "outputs": [
        {
          "output_type": "execute_result",
          "data": {
            "text/plain": [
              "(0.12856510821652478, 0.3438726887031408, 0.18715703834062292, None)"
            ]
          },
          "metadata": {
            "tags": []
          },
          "execution_count": 58
        }
      ]
    },
    {
      "cell_type": "code",
      "metadata": {
        "id": "gOQqCfIbEJjl"
      },
      "source": [
        "# torch.save(retrained_target_model,'retrained_target_model.pt')"
      ],
      "execution_count": null,
      "outputs": []
    },
    {
      "cell_type": "code",
      "metadata": {
        "id": "mctVzbgR8q9Z",
        "colab": {
          "base_uri": "https://localhost:8080/"
        },
        "outputId": "b6385d49-4d31-40c4-fcfe-b2b6b737fbdd"
      },
      "source": [
        "pred_y=source_model(test_x.to(device)).cpu().data.numpy()\n",
        "precision_recall_fscore_support(test_y.cpu().data,(pred_y>.5).astype('int'),average='binary')"
      ],
      "execution_count": null,
      "outputs": [
        {
          "output_type": "execute_result",
          "data": {
            "text/plain": [
              "(0.36660029865604776, 0.7204695524578136, 0.48593814432989685, None)"
            ]
          },
          "metadata": {
            "tags": []
          },
          "execution_count": 60
        }
      ]
    },
    {
      "cell_type": "code",
      "metadata": {
        "id": "m-a8mVAhEWOG"
      },
      "source": [
        "##most optimal GAN"
      ],
      "execution_count": null,
      "outputs": []
    },
    {
      "cell_type": "code",
      "metadata": {
        "id": "Ldkpi1uFG49A"
      },
      "source": [
        "# disc_loss_history = []\n",
        "# target_acc = []\n",
        "# source_acc = []\n",
        "# target_loss_history = []\n",
        "# gp = []\n",
        "\n",
        "# best_performance = 0\n",
        "# best_epoch=0\n",
        "# source_model = DoS_Classifier().to(device)\n",
        "# source_model.load_state_dict(torch.load('model_state_dict'))\n",
        "# source_model.eval()\n",
        "# for param in source_model.parameters():\n",
        "#     param.requires_grad = False\n",
        "# retrained_target_model = source_model\n",
        "# source_model = source_model.model_layers\n",
        "\n",
        "# target_model = DoS_Classifier().to(device)\n",
        "# target_model.load_state_dict(torch.load('model_state_dict'))\n",
        "# target_model = target_model.model_layers\n",
        "\n",
        "\n",
        "\n",
        "# criterion = nn.BCEWithLogitsLoss()\n",
        "# optimizer_target = optim.Adam(target_model.parameters(), lr=2e-4)#, betas=(0.5, 0.9))\n",
        "\n",
        "# adversarial_discriminator=adaption().to(device)\n",
        "# Adver_optimizer = optim.Adam(adversarial_discriminator.parameters(), lr=1e-4)#, betas=(0.5, 0.9))\n",
        "# scheduler = optim.lr_scheduler.StepLR(Adver_optimizer, 1,gamma=1)\n",
        "\n",
        "\n",
        "\n",
        "\n",
        "# for epoch in range(100): \n",
        "#     check_target = copy.deepcopy(retrained_target_model)\n",
        "\n",
        "#     for i, batch in enumerate(train_dataloader_target):\n",
        "#         inputs_target, _ = batch\n",
        "#         inputs_target = inputs_target.to(device)\n",
        "\n",
        "#         # randomly select sourcce data\n",
        "#         rand_rows = torch.randperm(len(train_x))[:len(inputs_target)]\n",
        "#         inputs_source = train_x[rand_rows,:].to(device)\n",
        "\n",
        "#         # zero the parameter gradients\n",
        "#         Adver_optimizer.zero_grad()\n",
        "#         optimizer_target.zero_grad()\n",
        "\n",
        "#         # for p in adversarial_discriminator.parameters():\n",
        "#         #     if len(p.data)>1:\n",
        "#         #         p.data.clamp_(-.3, .3)\n",
        "\n",
        "#         # for p in target_model.parameters():\n",
        "#         #     p.data.clamp_(-1.0, 1.0)\n",
        "\n",
        "#         # # forward + backward + optimize\n",
        "#         Vec_source = source_model(inputs_source)\n",
        "\n",
        "#         Vec_target = target_model(inputs_target)\n",
        "\n",
        "#         output_source = adversarial_discriminator(Vec_source.detach())\n",
        "\n",
        "#         output_target = adversarial_discriminator(Vec_target.detach())\n",
        "\n",
        "  \n",
        "\n",
        "#         neg_label = torch.zeros(len(output_target),1).to(device)\n",
        "#         pos_label = torch.ones(len(output_source),1).to(device)\n",
        "\n",
        "#         errD_source = criterion(output_source,pos_label)\n",
        "\n",
        "#         errD_target = criterion(output_target,neg_label)\n",
        "\n",
        "#         # errD_source = -torch.mean(output_source) \n",
        "#         # errD_target = torch.mean(output_target)\n",
        "        \n",
        "#         gradient_penalty = .7*get_gradient_penalty(adversarial_discriminator, Vec_source.data, Vec_target.data)\n",
        "#         gp.append(gradient_penalty.item())\n",
        "#         if epoch % 4 == 0:\n",
        "#             gradient_penalty.backward()\n",
        "#             errD_source.backward()\n",
        "#             errD_target.backward()\n",
        "       \n",
        "\n",
        "#         Adver_optimizer.step()  \n",
        "\n",
        "\n",
        "#         errD = errD_target + errD_source\n",
        "\n",
        "       \n",
        "\n",
        "#         output=adversarial_discriminator(Vec_target)\n",
        "\n",
        "#         err_target = criterion(output,pos_label)\n",
        "#         # err_target = -torch.mean(output)\n",
        "#         check_target.model_layers = target_model\n",
        "#         pred_y_target = check_target(inputs_target)\n",
        "#         pred_spread = 0.005/torch.var(pred_y_target)\n",
        "#         if epoch % 1 == 0:\n",
        "        \n",
        "#             err_target.backward()\n",
        "#             pred_spread.backward()\n",
        "\n",
        "#             optimizer_target.step()\n",
        "\n",
        "\n",
        "#         disc_loss_history.append(errD.item())\n",
        "#         target_loss_history.append(err_target.item())\n",
        "#         target_acc.append(accuracy_score(np.round(torch.sigmoid(output_target).data.cpu().numpy()),neg_label.data.cpu().numpy()))\n",
        "#         source_acc.append(accuracy_score(np.round(torch.sigmoid(output_source).data.cpu().numpy()),pos_label.data.cpu().numpy()))\n",
        "\n",
        "\n",
        "#     scheduler.step()\n",
        "\n",
        "#     check_target.model_layers = target_model\n",
        "#     pred_y_target = check_target(train_x_target.to(device)).cpu().data.numpy()\n",
        "#     results = precision_recall_fscore_support(train_y_target.cpu().data,(pred_y_target>.5).astype('int'),average='binary')\n",
        "#     best_performance = max(results[2],best_performance)\n",
        "#     if  max(results[2],best_performance) > best_performance:\n",
        "#         best_epoch=epoch\n",
        "#     if best_performance>.7:\n",
        "\n",
        "#         break\n",
        "#     if target_acc[-1] <.55 and target_acc[-1] > .45 and source_acc[-1] <.55 and source_acc[-1] > .45:\n",
        "#         break\n",
        "\n",
        "#     if epoch % 1 == 0:\n",
        "#         clear_output()     \n",
        "#         print(scheduler.get_lr())\n",
        "#         print(results)\n",
        "#         print(\"best F1: \",best_performance)\n",
        "#         print(\"best epoch: \", best_epoch)\n",
        "#         print(\"epoch: \", epoch+1)\n",
        "\n",
        "#         plt.plot(disc_loss_history)\n",
        "#         plt.title('Discriminator Loss')\n",
        "#         # plt.ylim(0,2)\n",
        "#         plt.show()\n",
        "\n",
        "#         plt.plot(target_loss_history,color='orange')\n",
        "#         plt.title('Generator Loss')\n",
        "\n",
        "#         plt.show()\n",
        "\n",
        "\n",
        "#         plt.plot(range(len(source_acc)),source_acc,range(len(target_acc)),target_acc)\n",
        "#         plt.legend(['source','target'])\n",
        "#         plt.title('Discriminator Accuracy')\n",
        "\n",
        "#         plt.show()\n",
        "\n",
        "#         plt.plot(gp)\n",
        "#         plt.show()\n",
        "\n",
        "  \n",
        " "
      ],
      "execution_count": null,
      "outputs": []
    },
    {
      "cell_type": "code",
      "metadata": {
        "id": "ngAALwcfb8Ff"
      },
      "source": [
        ""
      ],
      "execution_count": null,
      "outputs": []
    }
  ]
}