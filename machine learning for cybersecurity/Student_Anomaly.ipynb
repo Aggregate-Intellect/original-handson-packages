{
  "nbformat": 4,
  "nbformat_minor": 0,
  "metadata": {
    "colab": {
      "name": "Student_Anomaly.ipynb",
      "provenance": [],
      "collapsed_sections": [],
      "machine_shape": "hm"
    },
    "kernelspec": {
      "name": "python3",
      "display_name": "Python 3"
    },
    "widgets": {
      "application/vnd.jupyter.widget-state+json": {
        "1805575123ef4906be2fd84a9826dded": {
          "model_module": "@jupyter-widgets/controls",
          "model_name": "HBoxModel",
          "state": {
            "_view_name": "HBoxView",
            "_dom_classes": [],
            "_model_name": "HBoxModel",
            "_view_module": "@jupyter-widgets/controls",
            "_model_module_version": "1.5.0",
            "_view_count": null,
            "_view_module_version": "1.5.0",
            "box_style": "",
            "layout": "IPY_MODEL_a9c28b18234c44249b13fd09f1cd028b",
            "_model_module": "@jupyter-widgets/controls",
            "children": [
              "IPY_MODEL_a0b9b09f10d1432a8e1e67cf5127f654",
              "IPY_MODEL_5093d29873ca4259901494cd2b4fbaa2"
            ]
          }
        },
        "a9c28b18234c44249b13fd09f1cd028b": {
          "model_module": "@jupyter-widgets/base",
          "model_name": "LayoutModel",
          "state": {
            "_view_name": "LayoutView",
            "grid_template_rows": null,
            "right": null,
            "justify_content": null,
            "_view_module": "@jupyter-widgets/base",
            "overflow": null,
            "_model_module_version": "1.2.0",
            "_view_count": null,
            "flex_flow": null,
            "width": null,
            "min_width": null,
            "border": null,
            "align_items": null,
            "bottom": null,
            "_model_module": "@jupyter-widgets/base",
            "top": null,
            "grid_column": null,
            "overflow_y": null,
            "overflow_x": null,
            "grid_auto_flow": null,
            "grid_area": null,
            "grid_template_columns": null,
            "flex": null,
            "_model_name": "LayoutModel",
            "justify_items": null,
            "grid_row": null,
            "max_height": null,
            "align_content": null,
            "visibility": null,
            "align_self": null,
            "height": null,
            "min_height": null,
            "padding": null,
            "grid_auto_rows": null,
            "grid_gap": null,
            "max_width": null,
            "order": null,
            "_view_module_version": "1.2.0",
            "grid_template_areas": null,
            "object_position": null,
            "object_fit": null,
            "grid_auto_columns": null,
            "margin": null,
            "display": null,
            "left": null
          }
        },
        "a0b9b09f10d1432a8e1e67cf5127f654": {
          "model_module": "@jupyter-widgets/controls",
          "model_name": "FloatProgressModel",
          "state": {
            "_view_name": "ProgressView",
            "style": "IPY_MODEL_252dd32d9e9c4fbd888e9b8cb82b6ead",
            "_dom_classes": [],
            "description": "100%",
            "_model_name": "FloatProgressModel",
            "bar_style": "success",
            "max": 10,
            "_view_module": "@jupyter-widgets/controls",
            "_model_module_version": "1.5.0",
            "value": 10,
            "_view_count": null,
            "_view_module_version": "1.5.0",
            "orientation": "horizontal",
            "min": 0,
            "description_tooltip": null,
            "_model_module": "@jupyter-widgets/controls",
            "layout": "IPY_MODEL_b5ba0c81f4de4140a6d3d41b469104cf"
          }
        },
        "5093d29873ca4259901494cd2b4fbaa2": {
          "model_module": "@jupyter-widgets/controls",
          "model_name": "HTMLModel",
          "state": {
            "_view_name": "HTMLView",
            "style": "IPY_MODEL_9d6b913a0ee94501b7abd2c8700646ad",
            "_dom_classes": [],
            "description": "",
            "_model_name": "HTMLModel",
            "placeholder": "​",
            "_view_module": "@jupyter-widgets/controls",
            "_model_module_version": "1.5.0",
            "value": " 10/10 [00:00&lt;00:00, 11.06it/s]",
            "_view_count": null,
            "_view_module_version": "1.5.0",
            "description_tooltip": null,
            "_model_module": "@jupyter-widgets/controls",
            "layout": "IPY_MODEL_e7c2797f2c164da196df70f0f3601503"
          }
        },
        "252dd32d9e9c4fbd888e9b8cb82b6ead": {
          "model_module": "@jupyter-widgets/controls",
          "model_name": "ProgressStyleModel",
          "state": {
            "_view_name": "StyleView",
            "_model_name": "ProgressStyleModel",
            "description_width": "initial",
            "_view_module": "@jupyter-widgets/base",
            "_model_module_version": "1.5.0",
            "_view_count": null,
            "_view_module_version": "1.2.0",
            "bar_color": null,
            "_model_module": "@jupyter-widgets/controls"
          }
        },
        "b5ba0c81f4de4140a6d3d41b469104cf": {
          "model_module": "@jupyter-widgets/base",
          "model_name": "LayoutModel",
          "state": {
            "_view_name": "LayoutView",
            "grid_template_rows": null,
            "right": null,
            "justify_content": null,
            "_view_module": "@jupyter-widgets/base",
            "overflow": null,
            "_model_module_version": "1.2.0",
            "_view_count": null,
            "flex_flow": null,
            "width": null,
            "min_width": null,
            "border": null,
            "align_items": null,
            "bottom": null,
            "_model_module": "@jupyter-widgets/base",
            "top": null,
            "grid_column": null,
            "overflow_y": null,
            "overflow_x": null,
            "grid_auto_flow": null,
            "grid_area": null,
            "grid_template_columns": null,
            "flex": null,
            "_model_name": "LayoutModel",
            "justify_items": null,
            "grid_row": null,
            "max_height": null,
            "align_content": null,
            "visibility": null,
            "align_self": null,
            "height": null,
            "min_height": null,
            "padding": null,
            "grid_auto_rows": null,
            "grid_gap": null,
            "max_width": null,
            "order": null,
            "_view_module_version": "1.2.0",
            "grid_template_areas": null,
            "object_position": null,
            "object_fit": null,
            "grid_auto_columns": null,
            "margin": null,
            "display": null,
            "left": null
          }
        },
        "9d6b913a0ee94501b7abd2c8700646ad": {
          "model_module": "@jupyter-widgets/controls",
          "model_name": "DescriptionStyleModel",
          "state": {
            "_view_name": "StyleView",
            "_model_name": "DescriptionStyleModel",
            "description_width": "",
            "_view_module": "@jupyter-widgets/base",
            "_model_module_version": "1.5.0",
            "_view_count": null,
            "_view_module_version": "1.2.0",
            "_model_module": "@jupyter-widgets/controls"
          }
        },
        "e7c2797f2c164da196df70f0f3601503": {
          "model_module": "@jupyter-widgets/base",
          "model_name": "LayoutModel",
          "state": {
            "_view_name": "LayoutView",
            "grid_template_rows": null,
            "right": null,
            "justify_content": null,
            "_view_module": "@jupyter-widgets/base",
            "overflow": null,
            "_model_module_version": "1.2.0",
            "_view_count": null,
            "flex_flow": null,
            "width": null,
            "min_width": null,
            "border": null,
            "align_items": null,
            "bottom": null,
            "_model_module": "@jupyter-widgets/base",
            "top": null,
            "grid_column": null,
            "overflow_y": null,
            "overflow_x": null,
            "grid_auto_flow": null,
            "grid_area": null,
            "grid_template_columns": null,
            "flex": null,
            "_model_name": "LayoutModel",
            "justify_items": null,
            "grid_row": null,
            "max_height": null,
            "align_content": null,
            "visibility": null,
            "align_self": null,
            "height": null,
            "min_height": null,
            "padding": null,
            "grid_auto_rows": null,
            "grid_gap": null,
            "max_width": null,
            "order": null,
            "_view_module_version": "1.2.0",
            "grid_template_areas": null,
            "object_position": null,
            "object_fit": null,
            "grid_auto_columns": null,
            "margin": null,
            "display": null,
            "left": null
          }
        }
      }
    },
    "accelerator": "GPU"
  },
  "cells": [
    {
      "cell_type": "code",
      "metadata": {
        "id": "RjoPLgnzs_1V"
      },
      "source": [
        "#Data Science Tools\n",
        "import pandas as pd\n",
        "import numpy as np\n",
        "from sklearn.metrics import precision_recall_fscore_support, accuracy_score,precision_recall_curve, precision_score, recall_score\n",
        "from sklearn.model_selection import train_test_split\n",
        "import matplotlib.pyplot as plt\n",
        "import scipy.stats as ss\n",
        "\n",
        "#Pytorch\n",
        "import torch\n",
        "from torch.utils import data\n",
        "import torch.optim as optim\n",
        "import torch.nn as nn\n",
        "import torch.nn.functional as F\n",
        "\n",
        "#additional tools\n",
        "import os\n",
        "import copy\n",
        "from tqdm.notebook import tqdm\n",
        "from IPython.display import clear_output\n",
        "\n",
        "import xgboost as xgb\n",
        "import random\n",
        "\n",
        "\n",
        "\n",
        "pd.options.mode.chained_assignment = None  # default='warn'\n",
        "\n"
      ],
      "execution_count": 1,
      "outputs": []
    },
    {
      "cell_type": "markdown",
      "metadata": {
        "id": "iF9HZ_qH7X5_"
      },
      "source": [
        "The code below download the datasets used for this notebook. You can use Colab or install the `gdown` Python package. You can also go to https://drive.google.com/drive/folders/1AGN2iagHvyzVxN2mPFj9Id12p7N-PKxW?usp=sharing and download the files in the folder `Session 2`"
      ]
    },
    {
      "cell_type": "code",
      "metadata": {
        "id": "fBB-rl4xt9fE",
        "colab": {
          "base_uri": "https://localhost:8080/"
        },
        "outputId": "87203757-caa9-4bda-86b6-4f0718c06250"
      },
      "source": [
        "!gdown https://drive.google.com/uc?id=1b7V0G_94nh-mi1D54XTjeYrk47xNp0iC -O auths.csv\n",
        "!gdown https://drive.google.com/uc?id=1eFAU0xBvNi9aspi4PtZY1TsiPgesmtIh -O redteam.txt.gz"
      ],
      "execution_count": 2,
      "outputs": [
        {
          "output_type": "stream",
          "text": [
            "Downloading...\n",
            "From: https://drive.google.com/uc?id=1b7V0G_94nh-mi1D54XTjeYrk47xNp0iC\n",
            "To: /content/auths.csv\n",
            "77.2MB [00:00, 186MB/s]\n",
            "Downloading...\n",
            "From: https://drive.google.com/uc?id=1eFAU0xBvNi9aspi4PtZY1TsiPgesmtIh\n",
            "To: /content/redteam.txt.gz\n",
            "100% 4.85k/4.85k [00:00<00:00, 9.47MB/s]\n"
          ],
          "name": "stdout"
        }
      ]
    },
    {
      "cell_type": "code",
      "metadata": {
        "id": "8XWdKdbztvYu",
        "colab": {
          "base_uri": "https://localhost:8080/"
        },
        "outputId": "041dc410-726a-4216-8a40-85eaa970f36f"
      },
      "source": [
        "os.listdir()"
      ],
      "execution_count": 3,
      "outputs": [
        {
          "output_type": "execute_result",
          "data": {
            "text/plain": [
              "['.config', 'auths.csv', '.ipynb_checkpoints', 'redteam.txt.gz', 'sample_data']"
            ]
          },
          "metadata": {
            "tags": []
          },
          "execution_count": 3
        }
      ]
    },
    {
      "cell_type": "code",
      "metadata": {
        "id": "FDOz-yzPxrDy"
      },
      "source": [
        "def get_days(t):\n",
        "    day=np.floor(t/(60*60*24))\n",
        "    return day\n",
        "\n",
        "def get_hours(t):\n",
        "    hrs = np.floor((t % (60*60*24))/(60*60))\n",
        "    return hrs"
      ],
      "execution_count": 4,
      "outputs": []
    },
    {
      "cell_type": "markdown",
      "metadata": {
        "id": "Ks9vZiF904a6"
      },
      "source": [
        "# Import Data"
      ]
    },
    {
      "cell_type": "markdown",
      "metadata": {
        "id": "mevzxCzczqHL"
      },
      "source": [
        "Let's import our data. We have logon data with auths. We also have redteam data which will serve as the anomalies.\n",
        "\n",
        "\n",
        "\n",
        "Let's also take a subset of the data. There's just too much to handle!"
      ]
    },
    {
      "cell_type": "code",
      "metadata": {
        "id": "RpCvTNeym2Je"
      },
      "source": [
        "features=['second','source_user_domain','destination_user_domain','source_computer','destination_computer','authentication_type','logon_type','authentication_orientation','success_failure']\n",
        "auths=pd.read_csv(\"auths.csv\",compression=\"gzip\",names=features)\n",
        "auths['day']=auths.second.apply(lambda x: get_days(x))\n",
        "\n",
        "\n",
        "\n",
        "#import and merge red team with auths\n",
        "readteam_cols=['second','user_domain','source_computer','destination_computer']\n",
        "redteam=pd.read_csv('redteam.txt.gz', compression='gzip',names=readteam_cols)\n",
        "redteam=redteam[['second','source_computer','destination_computer']]\n",
        "redteam['red']=1\n",
        "auths=redteam.merge(auths,left_on=['second','source_computer','destination_computer'],right_on=['second','source_computer','destination_computer'],how='right')\n",
        "auths.red[auths.red.isnull()]=0\n"
      ],
      "execution_count": 5,
      "outputs": []
    },
    {
      "cell_type": "code",
      "metadata": {
        "id": "1tmXQgcqMbq2"
      },
      "source": [
        "# get all devices\n",
        "computers=list(auths.source_computer.unique()) + list(auths.destination_computer.unique())"
      ],
      "execution_count": 6,
      "outputs": []
    },
    {
      "cell_type": "code",
      "metadata": {
        "id": "jIYxAdWaMr2z",
        "colab": {
          "base_uri": "https://localhost:8080/"
        },
        "outputId": "d8ab85c9-2e48-4b88-976c-3809dffb8fa7"
      },
      "source": [
        "computers[1:5]"
      ],
      "execution_count": 7,
      "outputs": [
        {
          "output_type": "execute_result",
          "data": {
            "text/plain": [
              "['C1710', 'C828', 'C395', 'C754']"
            ]
          },
          "metadata": {
            "tags": []
          },
          "execution_count": 7
        }
      ]
    },
    {
      "cell_type": "markdown",
      "metadata": {
        "id": "1yZUn1sr_SxT"
      },
      "source": [
        "If the Original Dataset is very large, try sample a small portion of the dataset by sampling a set of computers we consider. But this may result no positive examples since they are very rare. So we do not perform sampling here."
      ]
    },
    {
      "cell_type": "code",
      "metadata": {
        "id": "FwdUC4AuM4WN"
      },
      "source": [
        "#sample the devices\n",
        "# sample_size=16\n",
        "# auths=auths[(auths.source_computer.isin(computers[:sample_size]))&(auths.destination_computer.isin(computers[:sample_size]))]"
      ],
      "execution_count": 8,
      "outputs": []
    },
    {
      "cell_type": "markdown",
      "metadata": {
        "id": "I8yBdBvrO2R7"
      },
      "source": [
        "In order to ensure this model generalizes well, let's convert time to a more general concept: e.g day of the week and hour of the day. This has the added bonus of letting us drop a lot of duplicate data from the training set."
      ]
    },
    {
      "cell_type": "code",
      "metadata": {
        "id": "IvmvEC8QIYi_"
      },
      "source": [
        "auths['hour']=auths.second.apply(lambda x: get_hours(x))\n",
        "auths['dotw']=auths['day'] % 7\n",
        "\n",
        "\n",
        "# no need to keep \"second\" value and best not to train on it.\n",
        "\n",
        "auths.drop('second',axis=1,inplace=True)\n",
        "auths.drop_duplicates(inplace=True)\n",
        "features.remove('second')\n"
      ],
      "execution_count": 9,
      "outputs": []
    },
    {
      "cell_type": "code",
      "metadata": {
        "id": "lB_HAuAbWe9o",
        "colab": {
          "base_uri": "https://localhost:8080/",
          "height": 206
        },
        "outputId": "5b93bede-f44f-49a6-d416-393dfaec3775"
      },
      "source": [
        "auths.head()"
      ],
      "execution_count": 10,
      "outputs": [
        {
          "output_type": "execute_result",
          "data": {
            "text/html": [
              "<div>\n",
              "<style scoped>\n",
              "    .dataframe tbody tr th:only-of-type {\n",
              "        vertical-align: middle;\n",
              "    }\n",
              "\n",
              "    .dataframe tbody tr th {\n",
              "        vertical-align: top;\n",
              "    }\n",
              "\n",
              "    .dataframe thead th {\n",
              "        text-align: right;\n",
              "    }\n",
              "</style>\n",
              "<table border=\"1\" class=\"dataframe\">\n",
              "  <thead>\n",
              "    <tr style=\"text-align: right;\">\n",
              "      <th></th>\n",
              "      <th>source_computer</th>\n",
              "      <th>destination_computer</th>\n",
              "      <th>red</th>\n",
              "      <th>source_user_domain</th>\n",
              "      <th>destination_user_domain</th>\n",
              "      <th>authentication_type</th>\n",
              "      <th>logon_type</th>\n",
              "      <th>authentication_orientation</th>\n",
              "      <th>success_failure</th>\n",
              "      <th>day</th>\n",
              "      <th>hour</th>\n",
              "      <th>dotw</th>\n",
              "    </tr>\n",
              "  </thead>\n",
              "  <tbody>\n",
              "    <tr>\n",
              "      <th>0</th>\n",
              "      <td>C92</td>\n",
              "      <td>C92</td>\n",
              "      <td>0.0</td>\n",
              "      <td>U6@DOM1</td>\n",
              "      <td>U7@DOM1</td>\n",
              "      <td>Kerberos</td>\n",
              "      <td>Network</td>\n",
              "      <td>LogOn</td>\n",
              "      <td>Success</td>\n",
              "      <td>0.0</td>\n",
              "      <td>0.0</td>\n",
              "      <td>0.0</td>\n",
              "    </tr>\n",
              "    <tr>\n",
              "      <th>1</th>\n",
              "      <td>C92</td>\n",
              "      <td>C92</td>\n",
              "      <td>0.0</td>\n",
              "      <td>U7@DOM1</td>\n",
              "      <td>U6@DOM1</td>\n",
              "      <td>?</td>\n",
              "      <td>?</td>\n",
              "      <td>AuthMap</td>\n",
              "      <td>Success</td>\n",
              "      <td>0.0</td>\n",
              "      <td>0.0</td>\n",
              "      <td>0.0</td>\n",
              "    </tr>\n",
              "    <tr>\n",
              "      <th>2</th>\n",
              "      <td>C92</td>\n",
              "      <td>C92</td>\n",
              "      <td>0.0</td>\n",
              "      <td>U7@DOM1</td>\n",
              "      <td>U7@DOM1</td>\n",
              "      <td>?</td>\n",
              "      <td>Network</td>\n",
              "      <td>LogOff</td>\n",
              "      <td>Success</td>\n",
              "      <td>0.0</td>\n",
              "      <td>0.0</td>\n",
              "      <td>0.0</td>\n",
              "    </tr>\n",
              "    <tr>\n",
              "      <th>3</th>\n",
              "      <td>C92</td>\n",
              "      <td>C92</td>\n",
              "      <td>0.0</td>\n",
              "      <td>U34@DOM1</td>\n",
              "      <td>U34@DOM1</td>\n",
              "      <td>?</td>\n",
              "      <td>Network</td>\n",
              "      <td>LogOff</td>\n",
              "      <td>Success</td>\n",
              "      <td>0.0</td>\n",
              "      <td>0.0</td>\n",
              "      <td>0.0</td>\n",
              "    </tr>\n",
              "    <tr>\n",
              "      <th>4</th>\n",
              "      <td>C92</td>\n",
              "      <td>C92</td>\n",
              "      <td>0.0</td>\n",
              "      <td>U34@DOM1</td>\n",
              "      <td>U6@DOM1</td>\n",
              "      <td>?</td>\n",
              "      <td>?</td>\n",
              "      <td>AuthMap</td>\n",
              "      <td>Success</td>\n",
              "      <td>0.0</td>\n",
              "      <td>0.0</td>\n",
              "      <td>0.0</td>\n",
              "    </tr>\n",
              "  </tbody>\n",
              "</table>\n",
              "</div>"
            ],
            "text/plain": [
              "  source_computer destination_computer  red  ...  day hour dotw\n",
              "0             C92                  C92  0.0  ...  0.0  0.0  0.0\n",
              "1             C92                  C92  0.0  ...  0.0  0.0  0.0\n",
              "2             C92                  C92  0.0  ...  0.0  0.0  0.0\n",
              "3             C92                  C92  0.0  ...  0.0  0.0  0.0\n",
              "4             C92                  C92  0.0  ...  0.0  0.0  0.0\n",
              "\n",
              "[5 rows x 12 columns]"
            ]
          },
          "metadata": {
            "tags": []
          },
          "execution_count": 10
        }
      ]
    },
    {
      "cell_type": "code",
      "metadata": {
        "id": "1XNtRDRnc1C3",
        "colab": {
          "base_uri": "https://localhost:8080/"
        },
        "outputId": "9212728a-b7a6-4922-a55e-ad7d17868c68"
      },
      "source": [
        "# check number of anomalies - not many!\n",
        "print(auths[auths.red==1].shape[0])\n",
        "#compared to actual samples\n",
        "print(len(auths))"
      ],
      "execution_count": 11,
      "outputs": [
        {
          "output_type": "stream",
          "text": [
            "131\n",
            "474858\n"
          ],
          "name": "stdout"
        }
      ]
    },
    {
      "cell_type": "markdown",
      "metadata": {
        "id": "jaCyGPrL08t0"
      },
      "source": [
        " Convert to numerical encoding"
      ]
    },
    {
      "cell_type": "code",
      "metadata": {
        "id": "s0ilzAvmmJq8",
        "colab": {
          "base_uri": "https://localhost:8080/"
        },
        "outputId": "511af2c8-afde-4cb2-a803-b65469a62326"
      },
      "source": [
        "value_to_category={}\n",
        "for c in features:\n",
        "    auths[c][auths[c]=='?']=np.NaN\n",
        "    print(c)\n",
        "    feat=auths[c].astype('category')\n",
        "    d=dict(enumerate(feat.cat.categories))\n",
        "    auths[c]=feat.cat.codes\n",
        "    value_to_category[c]=d\n"
      ],
      "execution_count": 12,
      "outputs": [
        {
          "output_type": "stream",
          "text": [
            "source_user_domain\n",
            "destination_user_domain\n",
            "source_computer\n",
            "destination_computer\n",
            "authentication_type\n",
            "logon_type\n",
            "authentication_orientation\n",
            "success_failure\n"
          ],
          "name": "stdout"
        }
      ]
    },
    {
      "cell_type": "code",
      "metadata": {
        "id": "MZgoOx-u0srK"
      },
      "source": [
        "# for converting back\n",
        "category_to_value={}\n",
        "for c in value_to_category.keys():\n",
        "    dict_= value_to_category[c]\n",
        "    category_to_value[c]={v: k for k, v in dict_.items()}"
      ],
      "execution_count": 13,
      "outputs": []
    },
    {
      "cell_type": "code",
      "metadata": {
        "id": "q3IuW--rgHBQ"
      },
      "source": [
        "# include time features in features list \n",
        "features=features+['day','hour','dotw']\n"
      ],
      "execution_count": 14,
      "outputs": []
    },
    {
      "cell_type": "markdown",
      "metadata": {
        "id": "hgHDyxQg1IiP"
      },
      "source": [
        "Let's split the data into train and test. The red team event occurs in the middle of the timeline. Not great for us, but we can cheat a little because we've removed the concept of time beyond a day, so turning the red team event into our test set is ok"
      ]
    },
    {
      "cell_type": "code",
      "metadata": {
        "id": "YuYXmXursOE3"
      },
      "source": [
        "train_real=auths[features][(auths.day<8) | (auths.day>14)].copy()\n",
        "\n",
        "test=auths[(auths.day>=8) & (auths.day<=14)]\n"
      ],
      "execution_count": 15,
      "outputs": []
    },
    {
      "cell_type": "markdown",
      "metadata": {
        "id": "y-Vqxzaf2FiT"
      },
      "source": [
        "# Make negative samples"
      ]
    },
    {
      "cell_type": "markdown",
      "metadata": {
        "id": "DMoWM_Ge1jDY"
      },
      "source": [
        "Now we're going to generate the fake data. We need to know the distribution of each variable for this. It's also important that the negative samples are generated from the training data. "
      ]
    },
    {
      "cell_type": "code",
      "metadata": {
        "id": "cGlp3l6z4jsb"
      },
      "source": [
        "#you can select which features you want to perturb\n",
        "\n",
        "variable_features=[\n",
        " 'source_user_domain',\n",
        " 'destination_user_domain',\n",
        " 'source_computer',\n",
        " 'destination_computer',\n",
        " 'authentication_type',\n",
        " 'logon_type',\n",
        " 'authentication_orientation',\n",
        " 'success_failure',\n",
        " 'hour',\n",
        " 'dotw']"
      ],
      "execution_count": 16,
      "outputs": []
    },
    {
      "cell_type": "code",
      "metadata": {
        "id": "m9ErMXBFg1Na"
      },
      "source": [
        "\n",
        "distributions={}\n",
        "for c in variable_features:\n",
        "    distributions[c]=train_real[c].value_counts()\n"
      ],
      "execution_count": 17,
      "outputs": []
    },
    {
      "cell_type": "code",
      "metadata": {
        "id": "B-p-mPYxhaKo",
        "colab": {
          "base_uri": "https://localhost:8080/",
          "height": 67,
          "referenced_widgets": [
            "1805575123ef4906be2fd84a9826dded",
            "a9c28b18234c44249b13fd09f1cd028b",
            "a0b9b09f10d1432a8e1e67cf5127f654",
            "5093d29873ca4259901494cd2b4fbaa2",
            "252dd32d9e9c4fbd888e9b8cb82b6ead",
            "b5ba0c81f4de4140a6d3d41b469104cf",
            "9d6b913a0ee94501b7abd2c8700646ad",
            "e7c2797f2c164da196df70f0f3601503"
          ]
        },
        "outputId": "afd592e5-3755-435d-eff2-d4f5430aa2d7"
      },
      "source": [
        "num=int(15*len(train_real)/(len(variable_features)))\n",
        "\n",
        "\n",
        "fake_list=[]\n",
        "sampling='most probable'\n",
        "for feat in tqdm(variable_features):#[::-1]:\n",
        "    dist=(distributions[feat])\n",
        "    dist=dist/dist.sum()\n",
        "    if sampling=='uniform':\n",
        "        p=1/len(dist)*np.ones(len(dist))\n",
        "    elif sampling=='most probable':\n",
        "        p=dist.values\n",
        "    values=np.random.choice(dist.index, num,p=p)\n",
        "    random_sample=train_real.sample(num,replace=True)\n",
        "    random_sample[feat]=values\n",
        "    fake_list.append(random_sample)"
      ],
      "execution_count": 18,
      "outputs": [
        {
          "output_type": "display_data",
          "data": {
            "application/vnd.jupyter.widget-view+json": {
              "model_id": "1805575123ef4906be2fd84a9826dded",
              "version_minor": 0,
              "version_major": 2
            },
            "text/plain": [
              "HBox(children=(FloatProgress(value=0.0, max=10.0), HTML(value='')))"
            ]
          },
          "metadata": {
            "tags": []
          }
        },
        {
          "output_type": "stream",
          "text": [
            "\n"
          ],
          "name": "stdout"
        }
      ]
    },
    {
      "cell_type": "code",
      "metadata": {
        "id": "0CXICBUCvYBN"
      },
      "source": [
        "train_real['already_exists']=1"
      ],
      "execution_count": 19,
      "outputs": []
    },
    {
      "cell_type": "code",
      "metadata": {
        "id": "ZKVCIiOTvcSW"
      },
      "source": [
        "fake = pd.concat(fake_list)\n",
        "fake=fake[features].merge(train_real[features+['already_exists']],left_on=features,right_on=features, how='left'  )\n",
        "del fake_list\n",
        "fake=fake[(fake.already_exists.isnull())]"
      ],
      "execution_count": 20,
      "outputs": []
    },
    {
      "cell_type": "code",
      "metadata": {
        "id": "hOcY5y96p00k"
      },
      "source": [
        "train_real['label']=0\n",
        "fake['label']=1\n"
      ],
      "execution_count": 21,
      "outputs": []
    },
    {
      "cell_type": "code",
      "metadata": {
        "id": "Yu4tezghgn1S"
      },
      "source": [
        "train=pd.concat([train_real,fake])"
      ],
      "execution_count": 22,
      "outputs": []
    },
    {
      "cell_type": "code",
      "metadata": {
        "id": "LBBltwk6VlVh",
        "colab": {
          "base_uri": "https://localhost:8080/"
        },
        "outputId": "f6d716f7-c62c-4220-ae49-190f51545ae6"
      },
      "source": [
        "train[train.label==0].shape[0]/train[train.label==1].shape[0]"
      ],
      "execution_count": 23,
      "outputs": [
        {
          "output_type": "execute_result",
          "data": {
            "text/plain": [
              "0.11508595729331086"
            ]
          },
          "metadata": {
            "tags": []
          },
          "execution_count": 23
        }
      ]
    },
    {
      "cell_type": "code",
      "metadata": {
        "id": "JFpl8o1EHcYf"
      },
      "source": [
        "train.sort_values('day',inplace=True)"
      ],
      "execution_count": 24,
      "outputs": []
    },
    {
      "cell_type": "code",
      "metadata": {
        "id": "CghXK_YeH2hD",
        "colab": {
          "base_uri": "https://localhost:8080/",
          "height": 226
        },
        "outputId": "84d22190-9846-4d5a-b49a-2dda4ce421a8"
      },
      "source": [
        "train.head()"
      ],
      "execution_count": 25,
      "outputs": [
        {
          "output_type": "execute_result",
          "data": {
            "text/html": [
              "<div>\n",
              "<style scoped>\n",
              "    .dataframe tbody tr th:only-of-type {\n",
              "        vertical-align: middle;\n",
              "    }\n",
              "\n",
              "    .dataframe tbody tr th {\n",
              "        vertical-align: top;\n",
              "    }\n",
              "\n",
              "    .dataframe thead th {\n",
              "        text-align: right;\n",
              "    }\n",
              "</style>\n",
              "<table border=\"1\" class=\"dataframe\">\n",
              "  <thead>\n",
              "    <tr style=\"text-align: right;\">\n",
              "      <th></th>\n",
              "      <th>source_user_domain</th>\n",
              "      <th>destination_user_domain</th>\n",
              "      <th>source_computer</th>\n",
              "      <th>destination_computer</th>\n",
              "      <th>authentication_type</th>\n",
              "      <th>logon_type</th>\n",
              "      <th>authentication_orientation</th>\n",
              "      <th>success_failure</th>\n",
              "      <th>day</th>\n",
              "      <th>hour</th>\n",
              "      <th>dotw</th>\n",
              "      <th>already_exists</th>\n",
              "      <th>label</th>\n",
              "    </tr>\n",
              "  </thead>\n",
              "  <tbody>\n",
              "    <tr>\n",
              "      <th>0</th>\n",
              "      <td>13233</td>\n",
              "      <td>13672</td>\n",
              "      <td>19</td>\n",
              "      <td>17</td>\n",
              "      <td>0</td>\n",
              "      <td>3</td>\n",
              "      <td>2</td>\n",
              "      <td>1</td>\n",
              "      <td>0.0</td>\n",
              "      <td>0.0</td>\n",
              "      <td>0.0</td>\n",
              "      <td>1.0</td>\n",
              "      <td>0</td>\n",
              "    </tr>\n",
              "    <tr>\n",
              "      <th>264765</th>\n",
              "      <td>7327</td>\n",
              "      <td>13896</td>\n",
              "      <td>2</td>\n",
              "      <td>2</td>\n",
              "      <td>3</td>\n",
              "      <td>2</td>\n",
              "      <td>2</td>\n",
              "      <td>1</td>\n",
              "      <td>0.0</td>\n",
              "      <td>7.0</td>\n",
              "      <td>0.0</td>\n",
              "      <td>NaN</td>\n",
              "      <td>1</td>\n",
              "    </tr>\n",
              "    <tr>\n",
              "      <th>264741</th>\n",
              "      <td>13554</td>\n",
              "      <td>4447</td>\n",
              "      <td>3</td>\n",
              "      <td>3</td>\n",
              "      <td>-1</td>\n",
              "      <td>3</td>\n",
              "      <td>1</td>\n",
              "      <td>1</td>\n",
              "      <td>0.0</td>\n",
              "      <td>14.0</td>\n",
              "      <td>0.0</td>\n",
              "      <td>NaN</td>\n",
              "      <td>1</td>\n",
              "    </tr>\n",
              "    <tr>\n",
              "      <th>264736</th>\n",
              "      <td>12250</td>\n",
              "      <td>12750</td>\n",
              "      <td>0</td>\n",
              "      <td>0</td>\n",
              "      <td>-1</td>\n",
              "      <td>3</td>\n",
              "      <td>1</td>\n",
              "      <td>1</td>\n",
              "      <td>0.0</td>\n",
              "      <td>8.0</td>\n",
              "      <td>0.0</td>\n",
              "      <td>NaN</td>\n",
              "      <td>1</td>\n",
              "    </tr>\n",
              "    <tr>\n",
              "      <th>4003719</th>\n",
              "      <td>12579</td>\n",
              "      <td>13492</td>\n",
              "      <td>2</td>\n",
              "      <td>2</td>\n",
              "      <td>3</td>\n",
              "      <td>2</td>\n",
              "      <td>6</td>\n",
              "      <td>1</td>\n",
              "      <td>0.0</td>\n",
              "      <td>7.0</td>\n",
              "      <td>0.0</td>\n",
              "      <td>NaN</td>\n",
              "      <td>1</td>\n",
              "    </tr>\n",
              "  </tbody>\n",
              "</table>\n",
              "</div>"
            ],
            "text/plain": [
              "         source_user_domain  destination_user_domain  ...  already_exists  label\n",
              "0                     13233                    13672  ...             1.0      0\n",
              "264765                 7327                    13896  ...             NaN      1\n",
              "264741                13554                     4447  ...             NaN      1\n",
              "264736                12250                    12750  ...             NaN      1\n",
              "4003719               12579                    13492  ...             NaN      1\n",
              "\n",
              "[5 rows x 13 columns]"
            ]
          },
          "metadata": {
            "tags": []
          },
          "execution_count": 25
        }
      ]
    },
    {
      "cell_type": "markdown",
      "metadata": {
        "id": "ucbh7m3n2CIE"
      },
      "source": [
        "# Train model"
      ]
    },
    {
      "cell_type": "code",
      "metadata": {
        "id": "8l49vXtoJ_Ab"
      },
      "source": [
        "split=int(len(train)*.8)\n",
        "X_train = train.iloc[:split].sample(frac=1)\n",
        "X_val = train.iloc[split:].sample(frac=1)\n",
        "\n",
        "y_train = X_train['label'].values\n",
        "\n",
        "y_val = X_val['label'].values\n",
        "\n",
        "X_train = X_train[features].values\n",
        "X_val = X_val[features].values"
      ],
      "execution_count": 26,
      "outputs": []
    },
    {
      "cell_type": "code",
      "metadata": {
        "id": "XDsuBeyRUHdN"
      },
      "source": [
        "## experiment with different validation sets. You may find that a split with respect to time is more informative than a random split\n",
        "# X_train, X_val, y_train, y_val = train_test_split(train[features].values,train['label'].values, test_size=0.2, random_state=123,shuffle=True)\n"
      ],
      "execution_count": 27,
      "outputs": []
    },
    {
      "cell_type": "code",
      "metadata": {
        "id": "sp5D5vG5ICbA"
      },
      "source": [
        "D_train = xgb.DMatrix(X_train, label=y_train)\n",
        "D_val = xgb.DMatrix(X_val, label=y_val)\n"
      ],
      "execution_count": 28,
      "outputs": []
    },
    {
      "cell_type": "code",
      "metadata": {
        "id": "SuYqu7lAUOPl"
      },
      "source": [
        "param = {'booster' : 'dart',\n",
        "    'eta': 1, # training rate. Set to the max!\n",
        "    'rate_drop' : .1,\n",
        "    'max_depth': 3,  # larger values may cause over fitting\n",
        "    'lambda' : 4,\n",
        "    'objective': 'binary:logistic',  \n",
        "    'eval_metric': ['logloss','aucpr','map'], #various metrics to keep you informed\n",
        "    'scale_pos_weight' : .10, # class weighting that we learned last week. for the positive class so here it is small.\n",
        "    'tree_method ' : 'gpu_hist', # trains faster on gpu\n",
        "    'verbosity' : 1}  # to get updates from xgboost\n",
        "evallist = [(D_val, 'val'), (D_train, 'train')] # what to monitor\n",
        "\n",
        "num_round = 25  # The number of training iterations"
      ],
      "execution_count": 29,
      "outputs": []
    },
    {
      "cell_type": "code",
      "metadata": {
        "id": "QY8tvqeCrnJw"
      },
      "source": [
        "# Use GPU instead of CPU\n",
        "use_cuda = True"
      ],
      "execution_count": 30,
      "outputs": []
    },
    {
      "cell_type": "code",
      "metadata": {
        "id": "9pTchbkHU1GL",
        "colab": {
          "base_uri": "https://localhost:8080/"
        },
        "outputId": "e359d8e8-004e-431e-857f-90e9ada6ecd6"
      },
      "source": [
        "model = xgb.train(param, D_train, num_round,evallist)\n",
        "# "
      ],
      "execution_count": 31,
      "outputs": [
        {
          "output_type": "stream",
          "text": [
            "[0]\tval-logloss:0.869941\tval-aucpr:0.93273\tval-map:0.932669\ttrain-logloss:0.717916\ttrain-aucpr:0.940945\ttrain-map:0.941013\n",
            "[1]\tval-logloss:0.838539\tval-aucpr:0.944708\tval-map:0.944668\ttrain-logloss:0.717916\ttrain-aucpr:0.940945\ttrain-map:0.941013\n",
            "[2]\tval-logloss:0.807538\tval-aucpr:0.951643\tval-map:0.95154\ttrain-logloss:0.693147\ttrain-aucpr:0.895503\ttrain-map:0.895668\n",
            "[3]\tval-logloss:0.793537\tval-aucpr:0.952006\tval-map:0.952038\ttrain-logloss:0.664367\ttrain-aucpr:0.954373\ttrain-map:0.954385\n",
            "[4]\tval-logloss:0.805393\tval-aucpr:0.95117\tval-map:0.95111\ttrain-logloss:0.662085\ttrain-aucpr:0.954707\ttrain-map:0.954708\n",
            "[5]\tval-logloss:0.803025\tval-aucpr:0.947103\tval-map:0.947152\ttrain-logloss:0.662564\ttrain-aucpr:0.954781\ttrain-map:0.954784\n",
            "[6]\tval-logloss:0.432149\tval-aucpr:0.939312\tval-map:0.9393\ttrain-logloss:0.662166\ttrain-aucpr:0.954382\ttrain-map:0.954354\n",
            "[7]\tval-logloss:0.403618\tval-aucpr:0.941145\tval-map:0.941102\ttrain-logloss:0.652654\ttrain-aucpr:0.955676\ttrain-map:0.95567\n",
            "[8]\tval-logloss:0.428602\tval-aucpr:0.949286\tval-map:0.949251\ttrain-logloss:0.658304\ttrain-aucpr:0.955768\ttrain-map:0.955776\n",
            "[9]\tval-logloss:0.820857\tval-aucpr:0.953801\tval-map:0.953815\ttrain-logloss:0.655292\ttrain-aucpr:0.956508\ttrain-map:0.956504\n",
            "[10]\tval-logloss:0.398754\tval-aucpr:0.944185\tval-map:0.94417\ttrain-logloss:0.649604\ttrain-aucpr:0.957428\ttrain-map:0.957423\n",
            "[11]\tval-logloss:0.415908\tval-aucpr:0.951517\tval-map:0.951515\ttrain-logloss:0.652657\ttrain-aucpr:0.957355\ttrain-map:0.957362\n",
            "[12]\tval-logloss:0.414795\tval-aucpr:0.952088\tval-map:0.952066\ttrain-logloss:0.65393\ttrain-aucpr:0.957347\ttrain-map:0.957332\n",
            "[13]\tval-logloss:0.41439\tval-aucpr:0.950428\tval-map:0.950375\ttrain-logloss:0.647286\ttrain-aucpr:0.957983\ttrain-map:0.957977\n",
            "[14]\tval-logloss:0.411614\tval-aucpr:0.95192\tval-map:0.95192\ttrain-logloss:0.631419\ttrain-aucpr:0.957822\ttrain-map:0.957821\n",
            "[15]\tval-logloss:0.414689\tval-aucpr:0.953374\tval-map:0.953364\ttrain-logloss:0.655925\ttrain-aucpr:0.95807\ttrain-map:0.958072\n",
            "[16]\tval-logloss:0.408015\tval-aucpr:0.954024\tval-map:0.954033\ttrain-logloss:0.644199\ttrain-aucpr:0.959419\ttrain-map:0.959424\n",
            "[17]\tval-logloss:0.53624\tval-aucpr:0.956684\tval-map:0.956673\ttrain-logloss:0.625053\ttrain-aucpr:0.959054\ttrain-map:0.959059\n",
            "[18]\tval-logloss:0.490057\tval-aucpr:0.96448\tval-map:0.964466\ttrain-logloss:0.632701\ttrain-aucpr:0.966747\ttrain-map:0.966742\n",
            "[19]\tval-logloss:0.52377\tval-aucpr:0.955758\tval-map:0.955764\ttrain-logloss:0.639213\ttrain-aucpr:0.960093\ttrain-map:0.960085\n",
            "[20]\tval-logloss:0.509168\tval-aucpr:0.964413\tval-map:0.964398\ttrain-logloss:0.595232\ttrain-aucpr:0.967961\ttrain-map:0.96796\n",
            "[21]\tval-logloss:0.677367\tval-aucpr:0.967386\tval-map:0.96739\ttrain-logloss:0.604754\ttrain-aucpr:0.968422\ttrain-map:0.968412\n",
            "[22]\tval-logloss:0.519165\tval-aucpr:0.965417\tval-map:0.96542\ttrain-logloss:0.609051\ttrain-aucpr:0.968279\ttrain-map:0.968278\n",
            "[23]\tval-logloss:0.54929\tval-aucpr:0.965249\tval-map:0.965254\ttrain-logloss:0.612554\ttrain-aucpr:0.967604\ttrain-map:0.967603\n",
            "[24]\tval-logloss:0.562473\tval-aucpr:0.964336\tval-map:0.964335\ttrain-logloss:0.613043\ttrain-aucpr:0.968398\ttrain-map:0.968396\n"
          ],
          "name": "stdout"
        }
      ]
    },
    {
      "cell_type": "code",
      "metadata": {
        "id": "g8fTU4u-U2hH",
        "colab": {
          "base_uri": "https://localhost:8080/"
        },
        "outputId": "38ecdb4b-deeb-417c-a0d5-ec90c1683ca6"
      },
      "source": [
        "preds=(model.predict(D_val)>.1).astype(int)\n",
        "print(\"Precision = {}\".format(precision_score(y_val, preds, average='macro')))\n",
        "print(\"Recall = {}\".format(recall_score(y_val, preds, average='macro')))\n",
        "print(\"Accuracy = {}\".format(accuracy_score(y_val, preds)))"
      ],
      "execution_count": 32,
      "outputs": [
        {
          "output_type": "stream",
          "text": [
            "/usr/local/lib/python3.7/dist-packages/sklearn/metrics/_classification.py:1272: UndefinedMetricWarning: Precision is ill-defined and being set to 0.0 in labels with no predicted samples. Use `zero_division` parameter to control this behavior.\n",
            "  _warn_prf(average, modifier, msg_start, len(result))\n"
          ],
          "name": "stderr"
        },
        {
          "output_type": "stream",
          "text": [
            "Precision = 0.4509742212524303\n",
            "Recall = 0.5\n",
            "Accuracy = 0.9019484425048606\n"
          ],
          "name": "stdout"
        }
      ]
    },
    {
      "cell_type": "code",
      "metadata": {
        "id": "6pnMNutvqB2A",
        "colab": {
          "base_uri": "https://localhost:8080/",
          "height": 335
        },
        "outputId": "5859cdd7-35b9-4fdd-c691-fef2bd597223"
      },
      "source": [
        "plt.hist(preds)"
      ],
      "execution_count": 33,
      "outputs": [
        {
          "output_type": "execute_result",
          "data": {
            "text/plain": [
              "(array([     0.,      0.,      0.,      0.,      0., 786423.,      0.,\n",
              "             0.,      0.,      0.]),\n",
              " array([0.5, 0.6, 0.7, 0.8, 0.9, 1. , 1.1, 1.2, 1.3, 1.4, 1.5]),\n",
              " <a list of 10 Patch objects>)"
            ]
          },
          "metadata": {
            "tags": []
          },
          "execution_count": 33
        },
        {
          "output_type": "display_data",
          "data": {
            "image/png": "[encoded data removed]",
            "text/plain": [
              "<Figure size 432x288 with 1 Axes>"
            ]
          },
          "metadata": {
            "tags": [],
            "needs_background": "light"
          }
        }
      ]
    },
    {
      "cell_type": "markdown",
      "metadata": {
        "id": "dZEU2I7ODQ2R"
      },
      "source": [
        "# Finding Anomalies"
      ]
    },
    {
      "cell_type": "markdown",
      "metadata": {
        "id": "nC_HLKJ-DdQe"
      },
      "source": [
        "As usual, we normally don't have labels, but let's assess our performance using the red team events as labels"
      ]
    },
    {
      "cell_type": "code",
      "metadata": {
        "id": "X1TyIpWxQG7D",
        "colab": {
          "base_uri": "https://localhost:8080/"
        },
        "outputId": "af0a5ded-9fd7-4776-e4a2-6fc7742534b0"
      },
      "source": [
        "xg_test=xgb.DMatrix(test[features].values)\n",
        "pred_test=model.predict(xg_test)\n",
        "test['prediction']=pred_test\n",
        "pred_test=(pred_test>.9).astype(int)\n",
        "y_test=test.red.to_numpy()\n",
        "print(\"Precision = {}\".format(precision_score(y_test, pred_test, average='macro')))\n",
        "print(\"Recall = {}\".format(recall_score(y_test, pred_test, average='macro')))\n",
        "print(\"Accuracy = {}\".format(accuracy_score(y_test, pred_test)))\n"
      ],
      "execution_count": 34,
      "outputs": [
        {
          "output_type": "stream",
          "text": [
            "Precision = 0.49913804343102175\n",
            "Recall = 0.49997823342475295\n",
            "Accuracy = 0.9982327036736586\n"
          ],
          "name": "stdout"
        }
      ]
    },
    {
      "cell_type": "code",
      "metadata": {
        "id": "4x4SqAwQrzs3"
      },
      "source": [
        "#let's sprt our predictions and get the top N\n",
        "test.sort_values(\"prediction\",inplace=True,ascending=False)\n",
        "N=100\n",
        "top_n=test.head(N)"
      ],
      "execution_count": 35,
      "outputs": []
    },
    {
      "cell_type": "code",
      "metadata": {
        "id": "kuyhzVHTvHR5",
        "colab": {
          "base_uri": "https://localhost:8080/"
        },
        "outputId": "936a442c-090d-4541-b76d-bbc8b85a1aef"
      },
      "source": [
        "test.red.value_counts()"
      ],
      "execution_count": 36,
      "outputs": [
        {
          "output_type": "execute_result",
          "data": {
            "text/plain": [
              "0.0    68913\n",
              "1.0      119\n",
              "Name: red, dtype: int64"
            ]
          },
          "metadata": {
            "tags": []
          },
          "execution_count": 36
        }
      ]
    },
    {
      "cell_type": "code",
      "metadata": {
        "id": "JbRWKHExsELJ",
        "colab": {
          "base_uri": "https://localhost:8080/"
        },
        "outputId": "6012e106-d552-4ef1-8f14-af2202a06c39"
      },
      "source": [
        "# How many did we get right?\n",
        "top_n[top_n.red==1].shape"
      ],
      "execution_count": 37,
      "outputs": [
        {
          "output_type": "execute_result",
          "data": {
            "text/plain": [
              "(8, 13)"
            ]
          },
          "metadata": {
            "tags": []
          },
          "execution_count": 37
        }
      ]
    },
    {
      "cell_type": "markdown",
      "metadata": {
        "id": "K6HroKe5EclN"
      },
      "source": [
        "Plot the distribution of the test set predictions, as well as the red team event. The test set distribution (not the red team distribution) should be used to inform you of the quality of the anomaly detector."
      ]
    },
    {
      "cell_type": "code",
      "metadata": {
        "id": "sAjxgMpJBQOJ",
        "colab": {
          "base_uri": "https://localhost:8080/",
          "height": 283
        },
        "outputId": "1dade793-554d-4e01-b0f4-c68852105c5c"
      },
      "source": [
        "test['prediction'].hist(bins=20)"
      ],
      "execution_count": 38,
      "outputs": [
        {
          "output_type": "execute_result",
          "data": {
            "text/plain": [
              "<matplotlib.axes._subplots.AxesSubplot at 0x7fc89b6420d0>"
            ]
          },
          "metadata": {
            "tags": []
          },
          "execution_count": 38
        },
        {
          "output_type": "display_data",
          "data": {
            "image/png": "[encoded data removed]",
            "text/plain": [
              "<Figure size 432x288 with 1 Axes>"
            ]
          },
          "metadata": {
            "tags": [],
            "needs_background": "light"
          }
        }
      ]
    },
    {
      "cell_type": "code",
      "metadata": {
        "id": "zlhlFqqBBH_r",
        "colab": {
          "base_uri": "https://localhost:8080/",
          "height": 283
        },
        "outputId": "01f666dc-9d84-4cb7-984d-55500e0b50de"
      },
      "source": [
        "test['prediction'][test.red==1].hist(bins=20,color='orange')"
      ],
      "execution_count": 39,
      "outputs": [
        {
          "output_type": "execute_result",
          "data": {
            "text/plain": [
              "<matplotlib.axes._subplots.AxesSubplot at 0x7fc89792c350>"
            ]
          },
          "metadata": {
            "tags": []
          },
          "execution_count": 39
        },
        {
          "output_type": "display_data",
          "data": {
            "image/png": "[encoded data removed]",
            "text/plain": [
              "<Figure size 432x288 with 1 Axes>"
            ]
          },
          "metadata": {
            "tags": [],
            "needs_background": "light"
          }
        }
      ]
    },
    {
      "cell_type": "code",
      "metadata": {
        "id": "f85JbHAsMBFB"
      },
      "source": [
        ""
      ],
      "execution_count": 39,
      "outputs": []
    }
  ]
}