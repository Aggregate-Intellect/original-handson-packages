{
  "nbformat": 4,
  "nbformat_minor": 0,
  "metadata": {
    "colab": {
      "name": "Copy of graph_in_CS.ipynb",
      "provenance": [],
      "collapsed_sections": [],
      "machine_shape": "hm"
    },
    "kernelspec": {
      "name": "python3",
      "display_name": "Python 3"
    }
  },
  "cells": [
    {
      "cell_type": "markdown",
      "metadata": {
        "id": "CGxm7z9pEEQo"
      },
      "source": [
        "## Data\n",
        "PaySim simulates mobile money transactions based on a sample of real transactions extracted from one month of financial logs from a mobile money service implemented in an African country. The original logs were provided by a multinational company, who is the provider of the mobile financial service which is currently running in more than 14 countries all around the world.\n",
        "Data is taken from Kaggle!\n",
        "\n",
        "## Note\n",
        "If running on Colab, make sure you are using a cpu runtime! If in doubt go to Runtime/Change runtime type and make sure Hardware accelerator is set to None. CPU runtimes have higher RAM which is needed for this notebook. GPU runtimes will run out of memory and not execute!\n"
      ]
    },
    {
      "cell_type": "code",
      "metadata": {
        "id": "Kx0ot-16bZyP"
      },
      "source": [
        "#additional tools\n",
        "import os\n",
        "\n",
        "import networkx as nx\n",
        "import pandas as pd\n",
        "import numpy as np\n",
        "import random\n",
        "from gensim.models import Word2Vec\n",
        "import itertools\n",
        "import math\n",
        "import random\n",
        "\n",
        "import matplotlib.pyplot as plt\n",
        "%matplotlib inline"
      ],
      "execution_count": 1,
      "outputs": []
    },
    {
      "cell_type": "code",
      "metadata": {
        "id": "9ypYu1o5h0Wk"
      },
      "source": [
        "# download data needed for this example\n",
        "from pathlib import Path\n",
        "if not Path('paysim.csv').is_file():\n",
        "  import gdown\n",
        "  url = 'https://drive.google.com/uc?id=1SjY6aflQZAGKzq2aUqJq2rQCb7xM6htq'\n",
        "  output = 'paysim.csv'\n",
        "  gdown.download(url, output, quiet=True)\n"
      ],
      "execution_count": 2,
      "outputs": []
    },
    {
      "cell_type": "code",
      "metadata": {
        "id": "wD6qQUpGJV8B",
        "colab": {
          "base_uri": "https://localhost:8080/",
          "height": 224
        },
        "outputId": "715b80ac-21fb-4ca2-deff-c66230129c96"
      },
      "source": [
        "df = pd.read_csv('paysim.csv') #loading the dataset\n",
        "df.head()\n",
        "##Columns\n",
        "#step - maps a unit of time in the real world. In this case 1 step is 1 hour of time. Total steps 744 (30 days simulation).\n",
        "#type - CASH-IN, CASH-OUT, DEBIT, PAYMENT and TRANSFER.\n",
        "#amount - amount of the transaction in local currency.\n",
        "#nameOrig - customer who started the transaction\n",
        "#oldbalanceOrg - initial balance before the transaction\n",
        "#newbalanceOrig - new balance after the transaction\n",
        "#nameDest - customer who is the recipient of the transaction\n",
        "#oldbalanceDest - initial balance recipient before the transaction. Note that there is not information for customers that start with M (Merchants).\n",
        "#newbalanceDest - new balance recipient after the transaction. Note that there is not information for customers that start with M (Merchants).\n",
        "#isFraud - This is the transactions made by the fraudulent agents inside the simulation. In this specific dataset the fraudulent behavior of the agents aims to profit by taking control or customers accounts and try to empty the funds by transferring to another account and then cashing out of the system.\n",
        "#isFlaggedFraud - The business model aims to control massive transfers from one account to another and flags illegal attempts. An illegal attempt in this dataset is an attempt to transfer more than 200.000 in a single transaction."
      ],
      "execution_count": 3,
      "outputs": [
        {
          "output_type": "execute_result",
          "data": {
            "text/html": [
              "<div>\n",
              "<style scoped>\n",
              "    .dataframe tbody tr th:only-of-type {\n",
              "        vertical-align: middle;\n",
              "    }\n",
              "\n",
              "    .dataframe tbody tr th {\n",
              "        vertical-align: top;\n",
              "    }\n",
              "\n",
              "    .dataframe thead th {\n",
              "        text-align: right;\n",
              "    }\n",
              "</style>\n",
              "<table border=\"1\" class=\"dataframe\">\n",
              "  <thead>\n",
              "    <tr style=\"text-align: right;\">\n",
              "      <th></th>\n",
              "      <th>step</th>\n",
              "      <th>type</th>\n",
              "      <th>amount</th>\n",
              "      <th>nameOrig</th>\n",
              "      <th>oldbalanceOrg</th>\n",
              "      <th>newbalanceOrig</th>\n",
              "      <th>nameDest</th>\n",
              "      <th>oldbalanceDest</th>\n",
              "      <th>newbalanceDest</th>\n",
              "      <th>isFraud</th>\n",
              "      <th>isFlaggedFraud</th>\n",
              "    </tr>\n",
              "  </thead>\n",
              "  <tbody>\n",
              "    <tr>\n",
              "      <th>0</th>\n",
              "      <td>1</td>\n",
              "      <td>PAYMENT</td>\n",
              "      <td>9839.64</td>\n",
              "      <td>C1231006815</td>\n",
              "      <td>170136.0</td>\n",
              "      <td>160296.36</td>\n",
              "      <td>M1979787155</td>\n",
              "      <td>0.0</td>\n",
              "      <td>0.0</td>\n",
              "      <td>0</td>\n",
              "      <td>0</td>\n",
              "    </tr>\n",
              "    <tr>\n",
              "      <th>1</th>\n",
              "      <td>1</td>\n",
              "      <td>PAYMENT</td>\n",
              "      <td>1864.28</td>\n",
              "      <td>C1666544295</td>\n",
              "      <td>21249.0</td>\n",
              "      <td>19384.72</td>\n",
              "      <td>M2044282225</td>\n",
              "      <td>0.0</td>\n",
              "      <td>0.0</td>\n",
              "      <td>0</td>\n",
              "      <td>0</td>\n",
              "    </tr>\n",
              "    <tr>\n",
              "      <th>2</th>\n",
              "      <td>1</td>\n",
              "      <td>TRANSFER</td>\n",
              "      <td>181.00</td>\n",
              "      <td>C1305486145</td>\n",
              "      <td>181.0</td>\n",
              "      <td>0.00</td>\n",
              "      <td>C553264065</td>\n",
              "      <td>0.0</td>\n",
              "      <td>0.0</td>\n",
              "      <td>1</td>\n",
              "      <td>0</td>\n",
              "    </tr>\n",
              "    <tr>\n",
              "      <th>3</th>\n",
              "      <td>1</td>\n",
              "      <td>CASH_OUT</td>\n",
              "      <td>181.00</td>\n",
              "      <td>C840083671</td>\n",
              "      <td>181.0</td>\n",
              "      <td>0.00</td>\n",
              "      <td>C38997010</td>\n",
              "      <td>21182.0</td>\n",
              "      <td>0.0</td>\n",
              "      <td>1</td>\n",
              "      <td>0</td>\n",
              "    </tr>\n",
              "    <tr>\n",
              "      <th>4</th>\n",
              "      <td>1</td>\n",
              "      <td>PAYMENT</td>\n",
              "      <td>11668.14</td>\n",
              "      <td>C2048537720</td>\n",
              "      <td>41554.0</td>\n",
              "      <td>29885.86</td>\n",
              "      <td>M1230701703</td>\n",
              "      <td>0.0</td>\n",
              "      <td>0.0</td>\n",
              "      <td>0</td>\n",
              "      <td>0</td>\n",
              "    </tr>\n",
              "  </tbody>\n",
              "</table>\n",
              "</div>"
            ],
            "text/plain": [
              "   step      type    amount  ... newbalanceDest  isFraud  isFlaggedFraud\n",
              "0     1   PAYMENT   9839.64  ...            0.0        0               0\n",
              "1     1   PAYMENT   1864.28  ...            0.0        0               0\n",
              "2     1  TRANSFER    181.00  ...            0.0        1               0\n",
              "3     1  CASH_OUT    181.00  ...            0.0        1               0\n",
              "4     1   PAYMENT  11668.14  ...            0.0        0               0\n",
              "\n",
              "[5 rows x 11 columns]"
            ]
          },
          "metadata": {
            "tags": []
          },
          "execution_count": 3
        }
      ]
    },
    {
      "cell_type": "code",
      "metadata": {
        "id": "36LSSfhUJ4AF",
        "colab": {
          "base_uri": "https://localhost:8080/"
        },
        "outputId": "0cd79abc-fb90-47ff-b6c7-fcb1eb7dceb3"
      },
      "source": [
        "## Understanding the data\n",
        "print('\\n The types of fraudulent transactions are {}'.format(\\\n",
        "list(df.loc[df.isFraud == 1].type.drop_duplicates().values))) \n",
        "\n",
        "print('\\n The types of flagged fraudulent transactions are {}'.format(\\\n",
        "list(df.loc[df.isFlaggedFraud == 1].type.drop_duplicates().values))) \n",
        "\n",
        "dfFraudTransfer = df.loc[(df.isFraud == 1) & (df.type == 'TRANSFER')]\n",
        "dfFraudCashout = df.loc[(df.isFraud == 1) & (df.type == 'CASH_OUT')]\n",
        "dfFraudTransferFlagged = df.loc[(df.isFlaggedFraud == 1) & (df.type == 'TRANSFER')]\n",
        "\n",
        "print ('\\n The number of fraudulent TRANSFERs = {}'.format(len(dfFraudTransfer))) \n",
        "print ('\\n The number of flagged TRANSFERs = {}'.format(len(dfFraudTransferFlagged))) \n",
        "print ('\\n The number of fraudulent CASH_OUTs = {}'.format(len(dfFraudCashout))) "
      ],
      "execution_count": 4,
      "outputs": [
        {
          "output_type": "stream",
          "text": [
            "\n",
            " The types of fraudulent transactions are ['TRANSFER', 'CASH_OUT']\n",
            "\n",
            " The types of flagged fraudulent transactions are ['TRANSFER']\n",
            "\n",
            " The number of fraudulent TRANSFERs = 4097\n",
            "\n",
            " The number of flagged TRANSFERs = 16\n",
            "\n",
            " The number of fraudulent CASH_OUTs = 4116\n"
          ],
          "name": "stdout"
        }
      ]
    },
    {
      "cell_type": "markdown",
      "metadata": {
        "id": "XaugZSojNUo4"
      },
      "source": [
        "Given the fact that the flagged transactions are 16 out of 6M data, and apperantly (based on extensive data analysis on this dataset on kaggle) there is no logic behind why this 16 transactions are marked fraud, we can safley ignore those values. "
      ]
    },
    {
      "cell_type": "code",
      "metadata": {
        "id": "MEPI8-srKcV5"
      },
      "source": [
        "## Reducing some data. \n",
        "\n",
        "\n",
        "df_select = df.loc[(df['type']=='TRANSFER') | (df['type']=='CASH_OUT')] \n",
        "\n",
        "\n",
        "list_of_senders = list(df_select[\"nameOrig\"])\n",
        "list_of_dest = list(df_select['nameDest'])\n",
        "\n",
        "dd_fraud = df_select.loc[df_select['isFraud']==1] \n",
        "list_of_senders_victom = list(dd_fraud[\"nameOrig\"])\n",
        "list_of_dest_fraud=list(dd_fraud['nameDest'])\n",
        "\n",
        "dd_benign = df_select.loc[df_select['isFraud']==0] \n",
        "list_of_senders_benign = list(dd_benign[\"nameOrig\"])\n",
        "list_of_dest_benign=list(dd_benign['nameDest'])\n",
        "\n",
        "\n"
      ],
      "execution_count": 5,
      "outputs": []
    },
    {
      "cell_type": "code",
      "metadata": {
        "id": "LIIJ6OfQxSlS",
        "colab": {
          "base_uri": "https://localhost:8080/",
          "height": 224
        },
        "outputId": "8f91fe0a-5f10-4f22-e3d7-3ab563de3f82"
      },
      "source": [
        "df_select.head()"
      ],
      "execution_count": 6,
      "outputs": [
        {
          "output_type": "execute_result",
          "data": {
            "text/html": [
              "<div>\n",
              "<style scoped>\n",
              "    .dataframe tbody tr th:only-of-type {\n",
              "        vertical-align: middle;\n",
              "    }\n",
              "\n",
              "    .dataframe tbody tr th {\n",
              "        vertical-align: top;\n",
              "    }\n",
              "\n",
              "    .dataframe thead th {\n",
              "        text-align: right;\n",
              "    }\n",
              "</style>\n",
              "<table border=\"1\" class=\"dataframe\">\n",
              "  <thead>\n",
              "    <tr style=\"text-align: right;\">\n",
              "      <th></th>\n",
              "      <th>step</th>\n",
              "      <th>type</th>\n",
              "      <th>amount</th>\n",
              "      <th>nameOrig</th>\n",
              "      <th>oldbalanceOrg</th>\n",
              "      <th>newbalanceOrig</th>\n",
              "      <th>nameDest</th>\n",
              "      <th>oldbalanceDest</th>\n",
              "      <th>newbalanceDest</th>\n",
              "      <th>isFraud</th>\n",
              "      <th>isFlaggedFraud</th>\n",
              "    </tr>\n",
              "  </thead>\n",
              "  <tbody>\n",
              "    <tr>\n",
              "      <th>2</th>\n",
              "      <td>1</td>\n",
              "      <td>TRANSFER</td>\n",
              "      <td>181.00</td>\n",
              "      <td>C1305486145</td>\n",
              "      <td>181.0</td>\n",
              "      <td>0.0</td>\n",
              "      <td>C553264065</td>\n",
              "      <td>0.0</td>\n",
              "      <td>0.00</td>\n",
              "      <td>1</td>\n",
              "      <td>0</td>\n",
              "    </tr>\n",
              "    <tr>\n",
              "      <th>3</th>\n",
              "      <td>1</td>\n",
              "      <td>CASH_OUT</td>\n",
              "      <td>181.00</td>\n",
              "      <td>C840083671</td>\n",
              "      <td>181.0</td>\n",
              "      <td>0.0</td>\n",
              "      <td>C38997010</td>\n",
              "      <td>21182.0</td>\n",
              "      <td>0.00</td>\n",
              "      <td>1</td>\n",
              "      <td>0</td>\n",
              "    </tr>\n",
              "    <tr>\n",
              "      <th>15</th>\n",
              "      <td>1</td>\n",
              "      <td>CASH_OUT</td>\n",
              "      <td>229133.94</td>\n",
              "      <td>C905080434</td>\n",
              "      <td>15325.0</td>\n",
              "      <td>0.0</td>\n",
              "      <td>C476402209</td>\n",
              "      <td>5083.0</td>\n",
              "      <td>51513.44</td>\n",
              "      <td>0</td>\n",
              "      <td>0</td>\n",
              "    </tr>\n",
              "    <tr>\n",
              "      <th>19</th>\n",
              "      <td>1</td>\n",
              "      <td>TRANSFER</td>\n",
              "      <td>215310.30</td>\n",
              "      <td>C1670993182</td>\n",
              "      <td>705.0</td>\n",
              "      <td>0.0</td>\n",
              "      <td>C1100439041</td>\n",
              "      <td>22425.0</td>\n",
              "      <td>0.00</td>\n",
              "      <td>0</td>\n",
              "      <td>0</td>\n",
              "    </tr>\n",
              "    <tr>\n",
              "      <th>24</th>\n",
              "      <td>1</td>\n",
              "      <td>TRANSFER</td>\n",
              "      <td>311685.89</td>\n",
              "      <td>C1984094095</td>\n",
              "      <td>10835.0</td>\n",
              "      <td>0.0</td>\n",
              "      <td>C932583850</td>\n",
              "      <td>6267.0</td>\n",
              "      <td>2719172.89</td>\n",
              "      <td>0</td>\n",
              "      <td>0</td>\n",
              "    </tr>\n",
              "  </tbody>\n",
              "</table>\n",
              "</div>"
            ],
            "text/plain": [
              "    step      type     amount  ... newbalanceDest  isFraud  isFlaggedFraud\n",
              "2      1  TRANSFER     181.00  ...           0.00        1               0\n",
              "3      1  CASH_OUT     181.00  ...           0.00        1               0\n",
              "15     1  CASH_OUT  229133.94  ...       51513.44        0               0\n",
              "19     1  TRANSFER  215310.30  ...           0.00        0               0\n",
              "24     1  TRANSFER  311685.89  ...     2719172.89        0               0\n",
              "\n",
              "[5 rows x 11 columns]"
            ]
          },
          "metadata": {
            "tags": []
          },
          "execution_count": 6
        }
      ]
    },
    {
      "cell_type": "code",
      "metadata": {
        "id": "yTxoVBIlQGb3",
        "colab": {
          "base_uri": "https://localhost:8080/"
        },
        "outputId": "7854f5c8-ea4e-4e93-f28c-616099bf9602"
      },
      "source": [
        "##Creating Graph\n",
        "G = nx.from_pandas_edgelist(df_select, \"nameOrig\", \"nameDest\", ['amount'], create_using=nx.Graph()) \n",
        "######If you want non-directed graph you do not need to provide both source and distination\n",
        "######If you want all other columns work as an attribute use edge_attr=True\n",
        "# len(G) 9073900  (if we keep all data) 3277509 (if we keep transfer and cash out)\n",
        "print(nx.info(G))"
      ],
      "execution_count": 7,
      "outputs": [
        {
          "output_type": "stream",
          "text": [
            "Name: \n",
            "Type: Graph\n",
            "Number of nodes: 3277509\n",
            "Number of edges: 2770409\n",
            "Average degree:   1.6906\n"
          ],
          "name": "stdout"
        }
      ]
    },
    {
      "cell_type": "markdown",
      "metadata": {
        "id": "x05CppENnECQ"
      },
      "source": [
        "For visulization of graph you can use the following commands. But do not attempt during the class, it will crash your session. "
      ]
    },
    {
      "cell_type": "code",
      "metadata": {
        "id": "iaDbIqy7TFUg"
      },
      "source": [
        "# Uncomment these three lines:\n",
        "# pos1 = nx.spring_layout(G)\n",
        "# plt.axis(off)\n",
        "# nx.draw_networkx(G, pos=pos1, with_labels= False, node_size=20)\n",
        "\n",
        "#ignore\n",
        "#nx.draw(G) \n",
        "#labels=nx.draw_networkx_labels(G,pos=nx.spring_layout(G))\n",
        "#edge_labels=nx.draw_networkx_edge_labels(G,pos=nx.spring_layout(G))\n",
        "#plt.show()"
      ],
      "execution_count": 8,
      "outputs": []
    },
    {
      "cell_type": "markdown",
      "metadata": {
        "id": "vxn_MMKP51DD"
      },
      "source": [
        "The first and quick detection that we can get from graphs is using egonet. \n",
        "practically we can assume any nodes that fraudester send money are related to fraud... "
      ]
    },
    {
      "cell_type": "code",
      "metadata": {
        "id": "T-9E8WCD6vHE"
      },
      "source": [
        "##Create Ego network \n",
        "egog= nx.ego_graph(G, 'C553264065', radius=1, center=True, undirected=False)\n"
      ],
      "execution_count": 9,
      "outputs": []
    },
    {
      "cell_type": "code",
      "metadata": {
        "id": "v1bzIR5xNYA9",
        "colab": {
          "base_uri": "https://localhost:8080/",
          "height": 319
        },
        "outputId": "9f01a283-9dd6-4e5d-ef55-190e0a4215f7"
      },
      "source": [
        "# show ego network\n",
        "nx.draw(egog)\n",
        "labels=nx.draw_networkx_labels(egog,pos=nx.spring_layout(egog))\n",
        "plt.show()"
      ],
      "execution_count": 10,
      "outputs": [
        {
          "output_type": "display_data",
          "data": {
            "image/png": "[encoded data removed]",
            "text/plain": [
              "<Figure size 432x288 with 1 Axes>"
            ]
          },
          "metadata": {
            "tags": []
          }
        }
      ]
    },
    {
      "cell_type": "code",
      "metadata": {
        "id": "TbJJkphgd4RX",
        "colab": {
          "base_uri": "https://localhost:8080/"
        },
        "outputId": "d89b925b-f9aa-4cc7-c97d-8afc4115ba9e"
      },
      "source": [
        "# test and flagged results \n",
        "list_of_flaged=nx.nodes(egog)\n",
        "flagged=set(list_of_flaged)\n",
        "fraud=set(list_of_dest_fraud)\n",
        "fraud.intersection(flagged)"
      ],
      "execution_count": 11,
      "outputs": [
        {
          "output_type": "execute_result",
          "data": {
            "text/plain": [
              "{'C553264065'}"
            ]
          },
          "metadata": {
            "tags": []
          },
          "execution_count": 11
        }
      ]
    },
    {
      "cell_type": "markdown",
      "metadata": {
        "id": "lCKhrsiT95BP"
      },
      "source": [
        "The other good way to detect fraud, is looking at the second shortest path \n",
        "between two nodes ... but it is really time confusing so we do not try it here .... "
      ]
    },
    {
      "cell_type": "markdown",
      "metadata": {
        "id": "mXc7xY98yhsV"
      },
      "source": [
        "One of the best techniques and the most used one in the industry is page rank ... page rank is coming in all sorts of techniques ... "
      ]
    },
    {
      "cell_type": "code",
      "metadata": {
        "id": "luQUA6eRmfRU"
      },
      "source": [
        "## measuring page rank\n",
        "pr = nx.pagerank(G, alpha=0.85)"
      ],
      "execution_count": 12,
      "outputs": []
    },
    {
      "cell_type": "code",
      "metadata": {
        "id": "wHBBRJ4UUbty",
        "colab": {
          "base_uri": "https://localhost:8080/"
        },
        "outputId": "8f6b46ba-6c91-4efa-8896-2c99dde2d6de"
      },
      "source": [
        "# display the first couple entries\n",
        "tuple(zip(pr.items()))[:5]"
      ],
      "execution_count": 13,
      "outputs": [
        {
          "output_type": "execute_result",
          "data": {
            "text/plain": [
              "((('C1305486145', 5.537177212373224e-08),),\n",
              " (('C553264065', 7.048035566035064e-06),),\n",
              " (('C840083671', 5.41323776193169e-08),),\n",
              " (('C38997010', 8.085408766230703e-06),),\n",
              " (('C905080434', 5.502872543054585e-08),))"
            ]
          },
          "metadata": {
            "tags": []
          },
          "execution_count": 13
        }
      ]
    },
    {
      "cell_type": "markdown",
      "metadata": {
        "id": "OY6iWRVKbNPy"
      },
      "source": [
        "Now first we analyse ratio of page rank between each sender and recepients ... "
      ]
    },
    {
      "cell_type": "code",
      "metadata": {
        "id": "pSFYYSKdz5Ig"
      },
      "source": [
        "#Finding pairwise ratio \n",
        "\n",
        "distances_pr= [ pr[x[0]]/pr[x[1]] for x in zip(list_of_senders,list_of_dest)]\n",
        "distances_pr_f= [ pr[x[0]]/pr[x[1]] for x in zip(list_of_senders_victom,list_of_dest_fraud)]\n",
        "distances_pr_n= [ pr[x[0]]/pr[x[1]] for x in zip(list_of_senders_benign,list_of_dest_benign)]"
      ],
      "execution_count": 14,
      "outputs": []
    },
    {
      "cell_type": "code",
      "metadata": {
        "id": "2NPEUoWrXxCx",
        "colab": {
          "base_uri": "https://localhost:8080/",
          "height": 367
        },
        "outputId": "4ac5b6b1-a3de-4a31-9b7b-621939505253"
      },
      "source": [
        "plt.hist(np.abs(np.log(distances_pr)),density=True)"
      ],
      "execution_count": 15,
      "outputs": [
        {
          "output_type": "execute_result",
          "data": {
            "text/plain": [
              "(array([0.07743422, 0.09594614, 0.00063965, 0.20625069, 0.1977777 ,\n",
              "        0.26223723, 0.37999131, 0.3177054 , 0.12784854, 0.00596205]),\n",
              " array([0.        , 0.5981602 , 1.1963204 , 1.79448061, 2.39264081,\n",
              "        2.99080101, 3.58896121, 4.18712142, 4.78528162, 5.38344182,\n",
              "        5.98160202]),\n",
              " <a list of 10 Patch objects>)"
            ]
          },
          "metadata": {
            "tags": []
          },
          "execution_count": 15
        },
        {
          "output_type": "display_data",
          "data": {
            "image/png": "[encoded data removed]",
            "text/plain": [
              "<Figure size 432x288 with 1 Axes>"
            ]
          },
          "metadata": {
            "tags": [],
            "needs_background": "light"
          }
        }
      ]
    },
    {
      "cell_type": "code",
      "metadata": {
        "id": "H2u9ujTDNCxQ",
        "colab": {
          "base_uri": "https://localhost:8080/",
          "height": 367
        },
        "outputId": "ff032c7f-5fcd-4af2-b7fb-11d5d6c5d6d0"
      },
      "source": [
        "plt.hist(np.abs(np.log(distances_pr_n)),density=True)"
      ],
      "execution_count": 16,
      "outputs": [
        {
          "output_type": "execute_result",
          "data": {
            "text/plain": [
              "(array([0.07579003, 0.09569397, 0.00063913, 0.20621513, 0.19791607,\n",
              "        0.2625727 , 0.380571  , 0.31829659, 0.12812639, 0.00597191]),\n",
              " array([0.        , 0.5981602 , 1.1963204 , 1.79448061, 2.39264081,\n",
              "        2.99080101, 3.58896121, 4.18712142, 4.78528162, 5.38344182,\n",
              "        5.98160202]),\n",
              " <a list of 10 Patch objects>)"
            ]
          },
          "metadata": {
            "tags": []
          },
          "execution_count": 16
        },
        {
          "output_type": "display_data",
          "data": {
            "image/png": "[encoded data removed]",
            "text/plain": [
              "<Figure size 432x288 with 1 Axes>"
            ]
          },
          "metadata": {
            "tags": [],
            "needs_background": "light"
          }
        }
      ]
    },
    {
      "cell_type": "code",
      "metadata": {
        "id": "-HG_i9y-MkGu",
        "colab": {
          "base_uri": "https://localhost:8080/",
          "height": 367
        },
        "outputId": "690634e5-cd24-446d-fdb8-a909fd3eb6cc"
      },
      "source": [
        "plt.hist(np.abs(np.log(distances_pr_f)),density=True)"
      ],
      "execution_count": 17,
      "outputs": [
        {
          "output_type": "execute_result",
          "data": {
            "text/plain": [
              "(array([0.66479495, 0.00214866, 0.19015628, 0.12505193, 0.19552793,\n",
              "        0.17941299, 0.19058601, 0.13708441, 0.06746788, 0.01246222]),\n",
              " array([0.        , 0.56667072, 1.13334144, 1.70001216, 2.26668288,\n",
              "        2.8333536 , 3.40002432, 3.96669504, 4.53336576, 5.10003649,\n",
              "        5.66670721]),\n",
              " <a list of 10 Patch objects>)"
            ]
          },
          "metadata": {
            "tags": []
          },
          "execution_count": 17
        },
        {
          "output_type": "display_data",
          "data": {
            "image/png": "[encoded data removed]",
            "text/plain": [
              "<Figure size 432x288 with 1 Axes>"
            ]
          },
          "metadata": {
            "tags": [],
            "needs_background": "light"
          }
        }
      ]
    },
    {
      "cell_type": "markdown",
      "metadata": {
        "id": "eu8o1IB4lMRe"
      },
      "source": [
        "So what we can conclude the fraudulant activity is most likly to happen for log(pr ratio)~0 \n",
        "#########################\n"
      ]
    },
    {
      "cell_type": "markdown",
      "metadata": {
        "id": "pEJOsktZ3RCs"
      },
      "source": [
        "We can also measure weighted page rank. \n",
        "Depends on your data, and insight you have from your models you can use total money sent, or number of interactions between two nodes, etc as a weight for your page rank. "
      ]
    },
    {
      "cell_type": "code",
      "metadata": {
        "id": "PGApOPYW0eBx"
      },
      "source": [
        "new_df= df_select.groupby(['nameOrig','nameDest'], as_index=False).agg({\"amount\": \"sum\", \"isFraud\": \"unique\"})\n"
      ],
      "execution_count": 18,
      "outputs": []
    },
    {
      "cell_type": "code",
      "metadata": {
        "id": "K7FuzIkd01r_",
        "colab": {
          "base_uri": "https://localhost:8080/",
          "height": 204
        },
        "outputId": "104a9d7a-24e3-46de-99cd-fd9c6b4a533b"
      },
      "source": [
        "new_df['log_amount'] = np.log10(new_df['amount']+1)\n",
        "new_df.head()"
      ],
      "execution_count": 19,
      "outputs": [
        {
          "output_type": "execute_result",
          "data": {
            "text/html": [
              "<div>\n",
              "<style scoped>\n",
              "    .dataframe tbody tr th:only-of-type {\n",
              "        vertical-align: middle;\n",
              "    }\n",
              "\n",
              "    .dataframe tbody tr th {\n",
              "        vertical-align: top;\n",
              "    }\n",
              "\n",
              "    .dataframe thead th {\n",
              "        text-align: right;\n",
              "    }\n",
              "</style>\n",
              "<table border=\"1\" class=\"dataframe\">\n",
              "  <thead>\n",
              "    <tr style=\"text-align: right;\">\n",
              "      <th></th>\n",
              "      <th>nameOrig</th>\n",
              "      <th>nameDest</th>\n",
              "      <th>amount</th>\n",
              "      <th>isFraud</th>\n",
              "      <th>log_amount</th>\n",
              "    </tr>\n",
              "  </thead>\n",
              "  <tbody>\n",
              "    <tr>\n",
              "      <th>0</th>\n",
              "      <td>C1000000639</td>\n",
              "      <td>C785826240</td>\n",
              "      <td>244486.46</td>\n",
              "      <td>[0]</td>\n",
              "      <td>5.388257</td>\n",
              "    </tr>\n",
              "    <tr>\n",
              "      <th>1</th>\n",
              "      <td>C1000004053</td>\n",
              "      <td>C1128041097</td>\n",
              "      <td>211189.64</td>\n",
              "      <td>[0]</td>\n",
              "      <td>5.324675</td>\n",
              "    </tr>\n",
              "    <tr>\n",
              "      <th>2</th>\n",
              "      <td>C1000004530</td>\n",
              "      <td>C1643839147</td>\n",
              "      <td>93865.13</td>\n",
              "      <td>[0]</td>\n",
              "      <td>4.972509</td>\n",
              "    </tr>\n",
              "    <tr>\n",
              "      <th>3</th>\n",
              "      <td>C1000005353</td>\n",
              "      <td>C292963054</td>\n",
              "      <td>3228390.11</td>\n",
              "      <td>[0]</td>\n",
              "      <td>6.508986</td>\n",
              "    </tr>\n",
              "    <tr>\n",
              "      <th>4</th>\n",
              "      <td>C1000005555</td>\n",
              "      <td>C1091802600</td>\n",
              "      <td>233109.79</td>\n",
              "      <td>[0]</td>\n",
              "      <td>5.367562</td>\n",
              "    </tr>\n",
              "  </tbody>\n",
              "</table>\n",
              "</div>"
            ],
            "text/plain": [
              "      nameOrig     nameDest      amount isFraud  log_amount\n",
              "0  C1000000639   C785826240   244486.46     [0]    5.388257\n",
              "1  C1000004053  C1128041097   211189.64     [0]    5.324675\n",
              "2  C1000004530  C1643839147    93865.13     [0]    4.972509\n",
              "3  C1000005353   C292963054  3228390.11     [0]    6.508986\n",
              "4  C1000005555  C1091802600   233109.79     [0]    5.367562"
            ]
          },
          "metadata": {
            "tags": []
          },
          "execution_count": 19
        }
      ]
    },
    {
      "cell_type": "code",
      "metadata": {
        "id": "d51RqUWz0hvP",
        "colab": {
          "base_uri": "https://localhost:8080/"
        },
        "outputId": "a3b85687-336b-42a1-807e-224991375a2c"
      },
      "source": [
        "#measuring weighted page rank, here we use amount of money sent as weight\n",
        "G2 = nx.from_pandas_edgelist(new_df, \"nameOrig\", \"nameDest\", ['log_amount'], create_using=nx.Graph()) \n",
        "print(nx.info(G2))\n",
        "wpr = nx.pagerank(G2, alpha=0.85,weight='weight')"
      ],
      "execution_count": 20,
      "outputs": [
        {
          "output_type": "stream",
          "text": [
            "Name: \n",
            "Type: Graph\n",
            "Number of nodes: 3277509\n",
            "Number of edges: 2770409\n",
            "Average degree:   1.6906\n"
          ],
          "name": "stdout"
        }
      ]
    },
    {
      "cell_type": "markdown",
      "metadata": {
        "id": "XBeNjviG5Rx8"
      },
      "source": [
        "We run similar analysis to page rank before "
      ]
    },
    {
      "cell_type": "code",
      "metadata": {
        "id": "eVm5LLlEww8m"
      },
      "source": [
        "distances_wpr= [ wpr[x[0]]/wpr[x[1]] for x in zip(list_of_senders,list_of_dest)]\n",
        "distances_wpr_f= [ wpr[x[0]]/wpr[x[1]] for x in zip(list_of_senders_victom,list_of_dest_fraud)]\n",
        "distances_wpr_n= [ wpr[x[0]]/wpr[x[1]] for x in zip(list_of_senders_benign,list_of_dest_benign)]"
      ],
      "execution_count": 21,
      "outputs": []
    },
    {
      "cell_type": "code",
      "metadata": {
        "id": "RoDCzPdCkwZQ",
        "colab": {
          "base_uri": "https://localhost:8080/",
          "height": 367
        },
        "outputId": "71825235-d1f2-452b-b502-7c7733c45eaa"
      },
      "source": [
        "plt.hist(np.abs(np.log(distances_wpr)),density=True)"
      ],
      "execution_count": 22,
      "outputs": [
        {
          "output_type": "execute_result",
          "data": {
            "text/plain": [
              "(array([0.07743422, 0.09594614, 0.00063965, 0.20625069, 0.1977777 ,\n",
              "        0.26223723, 0.37999131, 0.3177054 , 0.12784854, 0.00596205]),\n",
              " array([0.        , 0.5981602 , 1.1963204 , 1.79448061, 2.39264081,\n",
              "        2.99080101, 3.58896121, 4.18712142, 4.78528162, 5.38344182,\n",
              "        5.98160202]),\n",
              " <a list of 10 Patch objects>)"
            ]
          },
          "metadata": {
            "tags": []
          },
          "execution_count": 22
        },
        {
          "output_type": "display_data",
          "data": {
            "image/png": "[encoded data removed]",
            "text/plain": [
              "<Figure size 432x288 with 1 Axes>"
            ]
          },
          "metadata": {
            "tags": [],
            "needs_background": "light"
          }
        }
      ]
    },
    {
      "cell_type": "code",
      "metadata": {
        "id": "CSFaUXZTksLx",
        "colab": {
          "base_uri": "https://localhost:8080/",
          "height": 367
        },
        "outputId": "23fe617a-97c8-4bf2-ccb8-60e9c47251e7"
      },
      "source": [
        "plt.hist(np.abs(np.log(distances_wpr_f)),density=True)"
      ],
      "execution_count": 23,
      "outputs": [
        {
          "output_type": "execute_result",
          "data": {
            "text/plain": [
              "(array([0.66479495, 0.00214866, 0.19015628, 0.12505193, 0.19552793,\n",
              "        0.17941299, 0.19058601, 0.13708441, 0.06746788, 0.01246222]),\n",
              " array([0.        , 0.56667072, 1.13334144, 1.70001216, 2.26668288,\n",
              "        2.8333536 , 3.40002432, 3.96669504, 4.53336576, 5.10003649,\n",
              "        5.66670721]),\n",
              " <a list of 10 Patch objects>)"
            ]
          },
          "metadata": {
            "tags": []
          },
          "execution_count": 23
        },
        {
          "output_type": "display_data",
          "data": {
            "image/png": "[encoded data removed]",
            "text/plain": [
              "<Figure size 432x288 with 1 Axes>"
            ]
          },
          "metadata": {
            "tags": [],
            "needs_background": "light"
          }
        }
      ]
    },
    {
      "cell_type": "code",
      "metadata": {
        "id": "a7y38DTck1mC",
        "colab": {
          "base_uri": "https://localhost:8080/",
          "height": 367
        },
        "outputId": "26940795-847b-4355-e860-3b8bb63f2759"
      },
      "source": [
        "plt.hist(np.abs(np.log(distances_wpr_n)),density=True)"
      ],
      "execution_count": 24,
      "outputs": [
        {
          "output_type": "execute_result",
          "data": {
            "text/plain": [
              "(array([0.07579003, 0.09569397, 0.00063913, 0.20621513, 0.19791607,\n",
              "        0.2625727 , 0.380571  , 0.31829659, 0.12812639, 0.00597191]),\n",
              " array([0.        , 0.5981602 , 1.1963204 , 1.79448061, 2.39264081,\n",
              "        2.99080101, 3.58896121, 4.18712142, 4.78528162, 5.38344182,\n",
              "        5.98160202]),\n",
              " <a list of 10 Patch objects>)"
            ]
          },
          "metadata": {
            "tags": []
          },
          "execution_count": 24
        },
        {
          "output_type": "display_data",
          "data": {
            "image/png": "[encoded data removed]",
            "text/plain": [
              "<Figure size 432x288 with 1 Axes>"
            ]
          },
          "metadata": {
            "tags": [],
            "needs_background": "light"
          }
        }
      ]
    },
    {
      "cell_type": "code",
      "metadata": {
        "id": "l9v5xlH-GS9D",
        "colab": {
          "base_uri": "https://localhost:8080/"
        },
        "outputId": "51948e23-dd50-4c9d-e32d-14e5ccbe5904"
      },
      "source": [
        "target_list = [x for x in zip(list_of_senders,list_of_dest) if np.log(wpr[x[0]]/wpr[x[1]]) < 0.5]\n",
        "flagged=set(target_list)\n",
        "fraud=set(list_of_dest_fraud)\n",
        "fraud.intersection(flagged)"
      ],
      "execution_count": 25,
      "outputs": [
        {
          "output_type": "execute_result",
          "data": {
            "text/plain": [
              "set()"
            ]
          },
          "metadata": {
            "tags": []
          },
          "execution_count": 25
        }
      ]
    },
    {
      "cell_type": "markdown",
      "metadata": {
        "id": "4Rvk9LgQtH9J"
      },
      "source": [
        "## Deepwalk\n"
      ]
    },
    {
      "cell_type": "code",
      "metadata": {
        "id": "serXN8ZY4kiS",
        "colab": {
          "base_uri": "https://localhost:8080/"
        },
        "outputId": "2fb7faeb-b4b8-4b3c-9099-5568f4a5345b"
      },
      "source": [
        "!git clone https://github.com/shenweichen/GraphEmbedding"
      ],
      "execution_count": 26,
      "outputs": [
        {
          "output_type": "stream",
          "text": [
            "Cloning into 'GraphEmbedding'...\n",
            "remote: Enumerating objects: 171, done.\u001b[K\n",
            "remote: Counting objects: 100% (25/25), done.\u001b[K\n",
            "remote: Compressing objects: 100% (22/22), done.\u001b[K\n",
            "remote: Total 171 (delta 6), reused 15 (delta 3), pack-reused 146\u001b[K\n",
            "Receiving objects: 100% (171/171), 673.49 KiB | 1.28 MiB/s, done.\n",
            "Resolving deltas: 100% (71/71), done.\n"
          ],
          "name": "stdout"
        }
      ]
    },
    {
      "cell_type": "code",
      "metadata": {
        "id": "MF5p2AK5-Bqc",
        "colab": {
          "base_uri": "https://localhost:8080/"
        },
        "outputId": "f59bf787-cf7e-4cd3-89c9-dfba533271ac"
      },
      "source": [
        "# # takes a lot of time and RAM to run... This will not work in Colab\n",
        "# from GraphEmbedding.ge.models import DeepWalk\n",
        "# model = DeepWalk(G,walk_length=10,num_walks=80,workers=1)#init model\n",
        "# model.train(window_size=5,iter=3)# train model\n",
        "# embeddings = model.get_embeddings()# get embedding vectors"
      ],
      "execution_count": null,
      "outputs": [
        {
          "output_type": "stream",
          "text": [
            "[Parallel(n_jobs=1)]: Using backend SequentialBackend with 1 concurrent workers.\n"
          ],
          "name": "stderr"
        }
      ]
    }
  ]
}