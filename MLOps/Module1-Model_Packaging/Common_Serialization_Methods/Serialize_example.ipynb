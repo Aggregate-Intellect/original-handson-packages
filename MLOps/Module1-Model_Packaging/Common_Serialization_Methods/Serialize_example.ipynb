{
  "nbformat": 4,
  "nbformat_minor": 0,
  "metadata": {
    "colab": {
      "name": "serialize_example.ipynb",
      "provenance": [],
      "collapsed_sections": [],
      "include_colab_link": true
    },
    "kernelspec": {
      "name": "python3",
      "display_name": "Python 3"
    },
    "accelerator": "GPU"
  },
  "cells": [
    {
      "cell_type": "markdown",
      "metadata": {
        "id": "view-in-github",
        "colab_type": "text"
      },
      "source": [
        "<a href=\"https://colab.research.google.com/github/Aggregate-Intellect/original-handson-packages/blob/main/MLOps/Module1-Model_Packaging/Common_Serialization_Methods/Serialize_example.ipynb\" target=\"_parent\"><img src=\"https://colab.research.google.com/assets/colab-badge.svg\" alt=\"Open In Colab\"/></a>"
      ]
    },
    {
      "cell_type": "markdown",
      "metadata": {
        "id": "rlCnxoGB9KoO"
      },
      "source": [
        "# Model Serialization Example\n",
        "\n",
        "This is a simple model used for illustrating the fragile nature of serializing object with Python's Pickle format."
      ]
    },
    {
      "cell_type": "code",
      "metadata": {
        "id": "LsXt1MZV9QRx"
      },
      "source": [
        "import numpy as np\n",
        "import pandas as pd\n",
        "import torch\n",
        "import torch.nn as nn\n",
        "import torch.optim as optim\n",
        "from torch.nn import functional as F\n",
        "from sklearn import preprocessing\n",
        "from sklearn.model_selection import train_test_split\n",
        "\n",
        "import warnings\n",
        "warnings.filterwarnings('ignore')"
      ],
      "execution_count": null,
      "outputs": []
    },
    {
      "cell_type": "code",
      "metadata": {
        "id": "UfRBsUug-fpu",
        "colab": {
          "base_uri": "https://localhost:8080/",
          "height": 224
        },
        "outputId": "1ba5b482-28a4-4c63-df89-948a7f8ac53f"
      },
      "source": [
        "# Download the csv to the content directory in colab\n",
        "! wget https://gist.githubusercontent.com/netj/8836201/raw/6f9306ad21398ea43cba4f7d537619d0e07d5ae3/iris.csv"
      ],
      "execution_count": null,
      "outputs": [
        {
          "output_type": "stream",
          "text": [
            "--2020-03-08 21:48:01--  https://gist.githubusercontent.com/netj/8836201/raw/6f9306ad21398ea43cba4f7d537619d0e07d5ae3/iris.csv\n",
            "Resolving gist.githubusercontent.com (gist.githubusercontent.com)... 151.101.0.133, 151.101.64.133, 151.101.128.133, ...\n",
            "Connecting to gist.githubusercontent.com (gist.githubusercontent.com)|151.101.0.133|:443... connected.\n",
            "HTTP request sent, awaiting response... 200 OK\n",
            "Length: 3975 (3.9K) [text/plain]\n",
            "Saving to: ‘iris.csv’\n",
            "\n",
            "\riris.csv              0%[                    ]       0  --.-KB/s               \riris.csv            100%[===================>]   3.88K  --.-KB/s    in 0s      \n",
            "\n",
            "2020-03-08 21:48:02 (108 MB/s) - ‘iris.csv’ saved [3975/3975]\n",
            "\n"
          ],
          "name": "stdout"
        }
      ]
    },
    {
      "cell_type": "markdown",
      "metadata": {
        "id": "rQ_prRPT_v2u"
      },
      "source": [
        "# Data Prep"
      ]
    },
    {
      "cell_type": "code",
      "metadata": {
        "id": "4znwwejN_F1h"
      },
      "source": [
        "iris_df = pd.read_csv('/content/iris.csv')\n",
        "\n",
        "# Change label strings to ints - for an actual model, a label_encoder would be used here\n",
        "species = {'Setosa': 0,'Versicolor': 1, 'Virginica': 2}\n",
        "iris_df['variety'] = [species[item] for item in iris_df['variety']] "
      ],
      "execution_count": null,
      "outputs": []
    },
    {
      "cell_type": "code",
      "metadata": {
        "id": "eGEWO_9Yx-Ym",
        "colab": {
          "base_uri": "https://localhost:8080/",
          "height": 85
        },
        "outputId": "b390fc2a-5375-41cc-909c-824208b253cf"
      },
      "source": [
        "iris_df['variety'].value_counts()"
      ],
      "execution_count": null,
      "outputs": [
        {
          "output_type": "execute_result",
          "data": {
            "text/plain": [
              "2    50\n",
              "1    50\n",
              "0    50\n",
              "Name: variety, dtype: int64"
            ]
          },
          "metadata": {
            "tags": []
          },
          "execution_count": 4
        }
      ]
    },
    {
      "cell_type": "code",
      "metadata": {
        "id": "25gsnahH_J76",
        "colab": {
          "base_uri": "https://localhost:8080/",
          "height": 221
        },
        "outputId": "ecd415cc-589f-4be4-a65e-b80be1033ed2"
      },
      "source": [
        "print(iris_df.shape)\n",
        "iris_df.head()"
      ],
      "execution_count": null,
      "outputs": [
        {
          "output_type": "stream",
          "text": [
            "(150, 5)\n"
          ],
          "name": "stdout"
        },
        {
          "output_type": "execute_result",
          "data": {
            "text/html": [
              "<div>\n",
              "<style scoped>\n",
              "    .dataframe tbody tr th:only-of-type {\n",
              "        vertical-align: middle;\n",
              "    }\n",
              "\n",
              "    .dataframe tbody tr th {\n",
              "        vertical-align: top;\n",
              "    }\n",
              "\n",
              "    .dataframe thead th {\n",
              "        text-align: right;\n",
              "    }\n",
              "</style>\n",
              "<table border=\"1\" class=\"dataframe\">\n",
              "  <thead>\n",
              "    <tr style=\"text-align: right;\">\n",
              "      <th></th>\n",
              "      <th>sepal.length</th>\n",
              "      <th>sepal.width</th>\n",
              "      <th>petal.length</th>\n",
              "      <th>petal.width</th>\n",
              "      <th>variety</th>\n",
              "    </tr>\n",
              "  </thead>\n",
              "  <tbody>\n",
              "    <tr>\n",
              "      <th>0</th>\n",
              "      <td>5.1</td>\n",
              "      <td>3.5</td>\n",
              "      <td>1.4</td>\n",
              "      <td>0.2</td>\n",
              "      <td>0</td>\n",
              "    </tr>\n",
              "    <tr>\n",
              "      <th>1</th>\n",
              "      <td>4.9</td>\n",
              "      <td>3.0</td>\n",
              "      <td>1.4</td>\n",
              "      <td>0.2</td>\n",
              "      <td>0</td>\n",
              "    </tr>\n",
              "    <tr>\n",
              "      <th>2</th>\n",
              "      <td>4.7</td>\n",
              "      <td>3.2</td>\n",
              "      <td>1.3</td>\n",
              "      <td>0.2</td>\n",
              "      <td>0</td>\n",
              "    </tr>\n",
              "    <tr>\n",
              "      <th>3</th>\n",
              "      <td>4.6</td>\n",
              "      <td>3.1</td>\n",
              "      <td>1.5</td>\n",
              "      <td>0.2</td>\n",
              "      <td>0</td>\n",
              "    </tr>\n",
              "    <tr>\n",
              "      <th>4</th>\n",
              "      <td>5.0</td>\n",
              "      <td>3.6</td>\n",
              "      <td>1.4</td>\n",
              "      <td>0.2</td>\n",
              "      <td>0</td>\n",
              "    </tr>\n",
              "  </tbody>\n",
              "</table>\n",
              "</div>"
            ],
            "text/plain": [
              "   sepal.length  sepal.width  petal.length  petal.width  variety\n",
              "0           5.1          3.5           1.4          0.2        0\n",
              "1           4.9          3.0           1.4          0.2        0\n",
              "2           4.7          3.2           1.3          0.2        0\n",
              "3           4.6          3.1           1.5          0.2        0\n",
              "4           5.0          3.6           1.4          0.2        0"
            ]
          },
          "metadata": {
            "tags": []
          },
          "execution_count": 5
        }
      ]
    },
    {
      "cell_type": "code",
      "metadata": {
        "id": "rMJHpdyl_mZq"
      },
      "source": [
        "# Create features / labels and train / test splits\n",
        "iris_x = iris_df.drop('variety', axis = 1)\n",
        "iris_y = iris_df[['variety']]\n",
        "\n",
        "X_train, x_test, Y_train, y_test = train_test_split(iris_x,\n",
        "                                                    iris_y,\n",
        "                                                    test_size=0.3,\n",
        "                                                    random_state=0)"
      ],
      "execution_count": null,
      "outputs": []
    },
    {
      "cell_type": "code",
      "metadata": {
        "id": "l4s-pZfR_-CD"
      },
      "source": [
        "# Convert to tensors\n",
        "X_train = torch.from_numpy(X_train.values).float()\n",
        "X_test = torch.from_numpy(x_test.values).float()\n",
        "y_train = torch.from_numpy(Y_train.values).view(1,-1)[0]\n",
        "y_test = torch.from_numpy(y_test.values).view(1,-1)[0]"
      ],
      "execution_count": null,
      "outputs": []
    },
    {
      "cell_type": "markdown",
      "metadata": {
        "id": "IQD1elZA_r8x"
      },
      "source": [
        "# Model"
      ]
    },
    {
      "cell_type": "code",
      "metadata": {
        "id": "iNHE-rlk9Zpo"
      },
      "source": [
        "# Simple MLP for demonstration serialization\n",
        "\n",
        "input_size = 4\n",
        "output_size = 3\n",
        "hidden_size = 30\n",
        "\n",
        "class IrisNet(nn.Module):\n",
        "    def __init__(self):\n",
        "        super(IrisNet, self).__init__()\n",
        "        self.fc1 = nn.Linear(input_size, hidden_size)\n",
        "        self.fc2 = nn.Linear(hidden_size, hidden_size)\n",
        "        self.fc3 = nn.Linear(hidden_size, output_size)\n",
        "\n",
        "    def forward(self, X):\n",
        "        X = torch.sigmoid((self.fc1(X)))\n",
        "        X = torch.sigmoid(self.fc2(X))\n",
        "        X = self.fc3(X)\n",
        "\n",
        "        return F.log_softmax(X, dim=-1)"
      ],
      "execution_count": null,
      "outputs": []
    },
    {
      "cell_type": "code",
      "metadata": {
        "id": "TITSQdwc9fNQ"
      },
      "source": [
        "# initialize the network and define the optimizer and loss function\n",
        "model = IrisNet()\n",
        "optimizer = optim.Adam(model.parameters(), lr = 0.03)\n",
        "loss_fn = nn.NLLLoss()"
      ],
      "execution_count": null,
      "outputs": []
    },
    {
      "cell_type": "code",
      "metadata": {
        "id": "lxaZAGlTBgpk",
        "colab": {
          "base_uri": "https://localhost:8080/",
          "height": 102
        },
        "outputId": "8a2e24f4-03fc-4db1-9ef0-08397ef1296f"
      },
      "source": [
        "# Train the model\n",
        "\n",
        "epochs = 500\n",
        "\n",
        "for epoch in range(epochs):\n",
        "    optimizer.zero_grad()\n",
        "    y_pred = model(X_train)\n",
        "    loss = loss_fn(y_pred , y_train)\n",
        "    loss.backward()\n",
        "    optimizer.step()\n",
        "\n",
        "    if epoch % 100 == 0:\n",
        "        print(f'Epoch: {epoch} loss: {loss.item()}')"
      ],
      "execution_count": null,
      "outputs": [
        {
          "output_type": "stream",
          "text": [
            "Epoch: 0 loss: 1.10524320602417\n",
            "Epoch: 100 loss: 0.022699834778904915\n",
            "Epoch: 200 loss: 0.017987484112381935\n",
            "Epoch: 300 loss: 0.014632522128522396\n",
            "Epoch: 400 loss: 0.011214395053684711\n"
          ],
          "name": "stdout"
        }
      ]
    },
    {
      "cell_type": "code",
      "metadata": {
        "id": "cp6gJ3G4C3Ud"
      },
      "source": [
        "def inference(model, input):\n",
        "  \"\"\"Conduct inference for a model\"\"\"\n",
        "\n",
        "  return torch.argmax(model(input))"
      ],
      "execution_count": null,
      "outputs": []
    },
    {
      "cell_type": "code",
      "metadata": {
        "id": "s3vzh38jLWn4",
        "colab": {
          "base_uri": "https://localhost:8080/",
          "height": 34
        },
        "outputId": "78751e04-11a0-43ef-d6de-8ecad03e2af7"
      },
      "source": [
        "example = torch.tensor([5.1, 3.5, 1.4, 0.2])\n",
        "\n",
        "pred = inference(model, example)\n",
        "print(pred)"
      ],
      "execution_count": null,
      "outputs": [
        {
          "output_type": "stream",
          "text": [
            "tensor(0)\n"
          ],
          "name": "stdout"
        }
      ]
    },
    {
      "cell_type": "markdown",
      "metadata": {
        "id": "Ie4aquJeD3qC"
      },
      "source": [
        "# Serialize the model"
      ]
    },
    {
      "cell_type": "code",
      "metadata": {
        "id": "gFrtCZjcJGZt",
        "colab": {
          "base_uri": "https://localhost:8080/",
          "height": 34
        },
        "outputId": "edfcf837-0c5b-4157-b9e1-b2c3ca1cdb1a"
      },
      "source": [
        "# Mount to google drive in order to save there\n",
        "\n",
        "from google.colab import drive\n",
        "drive.mount('/content/gdrive', force_remount=True)"
      ],
      "execution_count": null,
      "outputs": [
        {
          "output_type": "stream",
          "text": [
            "Mounted at /content/gdrive\n"
          ],
          "name": "stdout"
        }
      ]
    },
    {
      "cell_type": "code",
      "metadata": {
        "id": "PTWNNyvXJawC"
      },
      "source": [
        "model_name = 'iris_model.pt'\n",
        "model_path = f\"/content/gdrive/My Drive/MLOPS/hands_on/serialization/models/{model_name}\" "
      ],
      "execution_count": null,
      "outputs": []
    },
    {
      "cell_type": "code",
      "metadata": {
        "id": "Kxd7RHgzKnMa"
      },
      "source": [
        "# Save the model\n",
        "torch.save(model, model_path)"
      ],
      "execution_count": null,
      "outputs": []
    },
    {
      "cell_type": "code",
      "metadata": {
        "id": "rismSe1sKO14",
        "colab": {
          "base_uri": "https://localhost:8080/",
          "height": 34
        },
        "outputId": "893c593c-d8a0-40eb-acd3-0acc2b4f926f"
      },
      "source": [
        "# Ensure the model was saved\n",
        "! ls /content/gdrive/My\\ Drive/MLOPS/hands_on/serialization/models/"
      ],
      "execution_count": null,
      "outputs": [
        {
          "output_type": "stream",
          "text": [
            "iris_model.pt\n"
          ],
          "name": "stdout"
        }
      ]
    },
    {
      "cell_type": "code",
      "metadata": {
        "id": "QQw-tCz5FNyX"
      },
      "source": [
        "# Load the model\n",
        "new_model = torch.load(model_path)"
      ],
      "execution_count": null,
      "outputs": []
    },
    {
      "cell_type": "code",
      "metadata": {
        "id": "W8V75WFMCsiE",
        "colab": {
          "base_uri": "https://localhost:8080/",
          "height": 102
        },
        "outputId": "8cde1456-5ecf-4bf2-b1ad-8ae45cc07502"
      },
      "source": [
        "new_model"
      ],
      "execution_count": null,
      "outputs": [
        {
          "output_type": "execute_result",
          "data": {
            "text/plain": [
              "IrisNet(\n",
              "  (fc1): Linear(in_features=4, out_features=30, bias=True)\n",
              "  (fc2): Linear(in_features=30, out_features=30, bias=True)\n",
              "  (fc3): Linear(in_features=30, out_features=3, bias=True)\n",
              ")"
            ]
          },
          "metadata": {
            "tags": []
          },
          "execution_count": 21
        }
      ]
    },
    {
      "cell_type": "code",
      "metadata": {
        "id": "wD1drMwaK7bf",
        "colab": {
          "base_uri": "https://localhost:8080/",
          "height": 34
        },
        "outputId": "36314d4c-825b-450b-a70b-da1978c72bdf"
      },
      "source": [
        "example = torch.tensor([5.1, 3.5, 1.4, 0.2])\n",
        "pred = inference(new_model, example)\n",
        "print(pred)"
      ],
      "execution_count": null,
      "outputs": [
        {
          "output_type": "stream",
          "text": [
            "tensor(0)\n"
          ],
          "name": "stdout"
        }
      ]
    },
    {
      "cell_type": "markdown",
      "metadata": {
        "id": "-n8fnv3KLkel"
      },
      "source": [
        "# state_dict"
      ]
    },
    {
      "cell_type": "code",
      "metadata": {
        "id": "kCv8WY3yJVyx",
        "colab": {
          "base_uri": "https://localhost:8080/",
          "height": 1000
        },
        "outputId": "f078a5ee-3e68-4e87-856d-4b1c1fbebd4d"
      },
      "source": [
        "model.state_dict()"
      ],
      "execution_count": null,
      "outputs": [
        {
          "output_type": "execute_result",
          "data": {
            "text/plain": [
              "OrderedDict([('fc1.weight', tensor([[-0.1933, -1.1438,  0.9321,  0.7992],\n",
              "                      [ 0.8488, -0.0461, -1.1099, -1.1657],\n",
              "                      [ 0.7280, -0.9130, -0.5639, -0.6317],\n",
              "                      [-0.2330, -0.8349,  1.1358,  1.8528],\n",
              "                      [ 0.3182, -1.3219,  0.6499,  0.5758],\n",
              "                      [ 0.0064, -1.1606,  1.0093,  0.0978],\n",
              "                      [ 0.6477, -0.0620, -1.0373, -0.5128],\n",
              "                      [-0.7987, -0.0450,  1.0813,  0.9355],\n",
              "                      [-0.4320, -0.4130,  1.0069,  0.3191],\n",
              "                      [-0.1041, -1.1976,  1.0155,  0.6686],\n",
              "                      [ 0.5000,  0.1730, -0.7202, -1.2627],\n",
              "                      [-0.0262,  1.1659, -0.7866, -0.6987],\n",
              "                      [-0.4091, -0.3475,  0.9222,  0.4675],\n",
              "                      [ 0.1547,  0.2475, -0.6214, -0.6809],\n",
              "                      [ 0.9046, -0.0538, -1.0953, -1.0928],\n",
              "                      [ 0.2168,  0.8815, -1.0541, -0.2723],\n",
              "                      [ 0.1715, -1.0511,  0.0466, -0.5265],\n",
              "                      [ 0.1423,  0.5602, -0.7250, -0.8584],\n",
              "                      [ 0.6089,  0.8411, -1.2239, -1.1530],\n",
              "                      [ 0.8812, -0.0489, -1.2085, -0.8208],\n",
              "                      [ 0.6546,  0.4187, -1.1494, -0.9983],\n",
              "                      [-0.2317, -0.8671,  1.1171,  0.1278],\n",
              "                      [-0.3211, -0.4752,  0.7825,  0.8980],\n",
              "                      [ 0.0532,  0.9727, -0.8179, -0.9065],\n",
              "                      [ 0.1377,  0.8460, -1.0418, -0.2269],\n",
              "                      [-0.1203, -0.3807, -0.3860, -0.0316],\n",
              "                      [ 0.1058,  0.5829, -0.8635, -0.0639],\n",
              "                      [-0.2260, -0.7589,  0.7669,  0.8064],\n",
              "                      [ 0.4217,  0.9100, -1.0381, -0.9267],\n",
              "                      [ 0.6389,  0.1980, -1.1056, -0.4945]])),\n",
              "             ('fc1.bias',\n",
              "              tensor([-0.1707,  1.2434,  0.5084, -1.2745, -0.9129, -0.5278,  1.1641, -0.8330,\n",
              "                      -0.7293, -0.8414,  0.7729,  0.4308, -0.8799,  1.2994,  0.6597,  0.5870,\n",
              "                       0.8680,  1.3825,  1.0332,  1.0158,  1.3256, -0.6925, -0.9283,  1.1889,\n",
              "                       1.0932, -0.2030,  0.7412,  0.1944,  0.3320,  0.8084])),\n",
              "             ('fc2.weight',\n",
              "              tensor([[ 1.0265e+00, -4.4943e-01,  1.3176e-01,  8.8556e-01,  1.1485e+00,\n",
              "                        6.0016e-01, -2.2902e-03,  9.7953e-01,  1.0328e+00,  1.0580e+00,\n",
              "                       -5.3137e-01, -7.1090e-01,  9.4716e-01, -3.4422e-01, -2.8021e-01,\n",
              "                       -7.2605e-01,  8.8085e-01, -2.5387e-01, -4.6910e-01, -2.9620e-01,\n",
              "                       -4.9174e-01,  1.0080e+00,  1.1478e+00, -4.3535e-01, -5.7693e-01,\n",
              "                        1.7381e-01, -4.2152e-01,  1.3660e+00, -5.0541e-01,  2.9045e-01],\n",
              "                      [-1.0990e+00,  1.4989e+00,  1.7555e+00,  1.3964e-01, -7.1046e-01,\n",
              "                       -4.3030e-01,  1.5320e+00, -1.3369e+00, -7.6412e-01, -1.2733e+00,\n",
              "                        1.3015e+00,  1.1669e+00, -9.3517e-01,  1.5111e+00,  1.6059e+00,\n",
              "                        1.5824e+00,  6.7277e-01,  1.3573e+00,  1.4181e+00,  1.5589e+00,\n",
              "                        1.5161e+00, -3.6975e-01, -1.0366e+00,  1.0954e+00,  1.5009e+00,\n",
              "                        3.6620e-01,  8.8570e-01, -5.3241e-01,  1.2062e+00,  6.6803e-01],\n",
              "                      [-6.9467e-01,  7.0443e-01,  8.6075e-01,  3.1221e-02, -3.6956e-01,\n",
              "                       -2.4693e-01,  1.3361e+00, -5.8998e-01, -7.6274e-01, -6.0680e-01,\n",
              "                        8.5676e-01,  9.8827e-01, -4.7814e-01,  1.3407e+00,  1.2010e+00,\n",
              "                        9.0414e-01,  3.3211e-01,  1.1209e+00,  6.6019e-01,  9.6352e-01,\n",
              "                        9.6222e-01, -4.8206e-01, -6.9248e-01,  6.0833e-01,  1.0349e+00,\n",
              "                       -3.1427e-01,  2.5598e-01, -3.7340e-01,  6.3296e-01,  9.4741e-02],\n",
              "                      [-1.0987e+00,  1.3304e+00,  1.6264e+00,  1.5537e-01, -4.1244e-01,\n",
              "                       -1.4159e-01,  1.6651e+00, -1.3787e+00, -8.6203e-01, -1.1652e+00,\n",
              "                        1.2530e+00,  1.1369e+00, -9.9382e-01,  1.7991e+00,  1.6212e+00,\n",
              "                        1.2572e+00,  5.5708e-01,  1.4984e+00,  1.0788e+00,  1.4034e+00,\n",
              "                        1.1429e+00, -3.7045e-01, -1.1698e+00,  1.1996e+00,  1.3736e+00,\n",
              "                        1.3814e-01,  1.1658e+00, -8.3503e-01,  1.1526e+00,  7.1825e-01],\n",
              "                      [ 9.7755e-01, -1.2623e+00, -1.6085e+00,  1.6902e-01,  6.1211e-01,\n",
              "                        4.7572e-01, -1.7967e+00,  1.1471e+00,  6.8118e-01,  9.2376e-01,\n",
              "                       -1.1965e+00, -1.1790e+00,  8.0184e-01, -1.7489e+00, -1.6591e+00,\n",
              "                       -1.2350e+00, -7.5725e-01, -1.5826e+00, -1.2596e+00, -1.4592e+00,\n",
              "                       -1.2520e+00,  3.2191e-01,  9.8481e-01, -1.0303e+00, -1.3861e+00,\n",
              "                       -8.4405e-02, -9.0769e-01,  7.0326e-01, -1.1941e+00, -6.4697e-01],\n",
              "                      [ 9.8005e-01, -1.4701e+00, -1.3400e+00, -4.6560e-02,  6.6909e-01,\n",
              "                        3.5247e-01, -1.7620e+00,  1.0734e+00,  9.1458e-01,  7.7915e-01,\n",
              "                       -1.5005e+00, -1.0911e+00,  9.5858e-01, -1.4775e+00, -1.4291e+00,\n",
              "                       -1.4028e+00, -6.3523e-01, -1.2549e+00, -1.2051e+00, -1.5085e+00,\n",
              "                       -1.0990e+00,  4.1971e-01,  9.9624e-01, -1.2865e+00, -1.5210e+00,\n",
              "                       -6.8468e-02, -7.6721e-01,  5.1529e-01, -1.2181e+00, -4.1522e-01],\n",
              "                      [-8.2894e-01,  1.9674e+00,  1.9457e+00, -2.8686e-01, -5.2521e-01,\n",
              "                       -5.6361e-01,  1.7819e+00, -1.4677e+00, -7.6449e-01, -1.2622e+00,\n",
              "                        1.4010e+00,  1.3084e+00, -9.3786e-01,  1.3889e+00,  1.9961e+00,\n",
              "                        1.7628e+00,  7.1574e-01,  1.5793e+00,  1.6736e+00,  1.9975e+00,\n",
              "                        1.6204e+00, -6.6699e-01, -1.0047e+00,  1.4604e+00,  1.5771e+00,\n",
              "                        2.5900e-01,  1.2905e+00, -6.2283e-01,  1.2980e+00,  4.3577e-01],\n",
              "                      [-8.4619e-01,  1.8629e-01, -3.6099e-01, -6.9263e-01, -7.6459e-01,\n",
              "                       -5.5801e-01, -7.1725e-02, -8.4654e-01, -9.9236e-01, -8.8576e-01,\n",
              "                        4.4377e-01,  5.0559e-01, -5.8377e-01,  3.9267e-01,  2.3642e-01,\n",
              "                        4.8035e-01, -3.4150e-01,  6.2097e-01,  2.9426e-01,  1.6310e-01,\n",
              "                        5.7199e-01, -5.7723e-01, -8.2183e-01,  4.7199e-01,  4.1775e-01,\n",
              "                       -1.5127e-01,  1.5811e-01, -1.3399e+00,  3.7991e-01, -1.5737e-01],\n",
              "                      [ 3.5313e-01, -7.1914e-01, -1.0711e+00,  6.1760e-02,  3.0575e-01,\n",
              "                        3.0124e-01, -8.0493e-01,  5.4890e-01,  7.1401e-01,  1.7864e-01,\n",
              "                       -9.3721e-01, -8.0012e-01,  3.8637e-01, -4.7767e-01, -1.1445e+00,\n",
              "                       -6.6429e-01, -3.8129e-01, -6.0853e-01, -7.6480e-01, -7.4629e-01,\n",
              "                       -7.3945e-01,  2.5336e-01,  5.6745e-01, -6.3237e-01, -6.6729e-01,\n",
              "                       -1.7656e-01, -3.9995e-01,  6.1758e-01, -3.9293e-01, -2.2761e-01],\n",
              "                      [-1.1260e+00,  1.7957e+00,  1.5990e+00, -8.1146e-02, -4.8860e-01,\n",
              "                       -6.3965e-01,  1.8397e+00, -1.1525e+00, -8.9516e-01, -1.3017e+00,\n",
              "                        1.3986e+00,  1.3602e+00, -9.3802e-01,  1.6466e+00,  1.9370e+00,\n",
              "                        1.6655e+00,  9.0260e-01,  1.5996e+00,  1.3781e+00,  1.5957e+00,\n",
              "                        1.6165e+00, -5.3016e-01, -9.5134e-01,  1.4723e+00,  1.7499e+00,\n",
              "                        2.8349e-01,  1.0313e+00, -7.1173e-01,  1.3641e+00,  5.6862e-01],\n",
              "                      [-9.1814e-01,  1.3932e+00,  1.4749e+00, -3.5012e-01, -6.9245e-01,\n",
              "                       -4.6875e-01,  1.8186e+00, -1.0071e+00, -7.0524e-01, -8.5471e-01,\n",
              "                        1.6917e+00,  1.3232e+00, -8.2927e-01,  1.6235e+00,  1.8116e+00,\n",
              "                        1.3990e+00,  1.8329e-01,  1.4261e+00,  1.1637e+00,  1.6613e+00,\n",
              "                        1.3719e+00, -5.8316e-01, -9.1728e-01,  1.2404e+00,  1.7309e+00,\n",
              "                        9.4423e-03,  5.8125e-01, -5.5768e-01,  1.3007e+00,  3.7602e-01],\n",
              "                      [-8.8588e-01,  8.2200e-01,  1.4286e+00, -1.7907e-01, -2.2898e-01,\n",
              "                       -2.7811e-01,  1.3071e+00, -8.7362e-01, -5.9219e-01, -6.8058e-01,\n",
              "                        1.2873e+00,  1.0070e+00, -5.2536e-01,  1.2336e+00,  1.3449e+00,\n",
              "                        1.1940e+00,  2.5443e-01,  1.0044e+00,  1.0622e+00,  1.0959e+00,\n",
              "                        9.7589e-01, -3.8935e-01, -7.9814e-01,  7.9983e-01,  9.9929e-01,\n",
              "                       -2.1533e-01,  4.6017e-01, -6.1410e-01,  9.8484e-01,  2.3131e-01],\n",
              "                      [-7.5366e-01,  2.4206e-01, -3.7584e-01, -6.7606e-01, -6.9224e-01,\n",
              "                       -4.6627e-01,  8.8192e-02, -5.9744e-01, -1.1222e+00, -6.3075e-01,\n",
              "                        4.9409e-01,  4.5363e-01, -6.1575e-01,  3.4392e-01,  3.0322e-01,\n",
              "                        3.6002e-01, -3.8431e-01,  5.5019e-01,  4.2235e-01,  1.2211e-01,\n",
              "                        5.6382e-01, -6.4390e-01, -9.7724e-01,  5.2311e-01,  3.3330e-01,\n",
              "                       -1.4994e-01, -6.6961e-02, -1.1475e+00,  5.8173e-01, -1.7930e-01],\n",
              "                      [-1.8579e-01, -2.2794e-01, -3.6835e-01, -3.8976e-01, -5.1053e-01,\n",
              "                       -4.8588e-01, -4.4893e-01, -4.0343e-01, -1.9696e-01, -1.7819e-01,\n",
              "                       -2.6228e-01, -1.8361e-01, -4.3641e-01, -3.0580e-01, -7.3537e-02,\n",
              "                       -4.4637e-01, -4.8843e-01, -3.0030e-01, -3.6353e-01, -4.3982e-01,\n",
              "                       -2.7162e-01, -4.6276e-01, -1.5738e-01, -4.4169e-01, -3.1535e-01,\n",
              "                       -2.9084e-01, -5.1398e-01, -2.6084e-01, -2.0289e-01, -4.7272e-01],\n",
              "                      [ 9.5344e-01, -4.2574e-01,  1.6367e-01,  6.4795e-01,  9.7137e-01,\n",
              "                        7.7763e-01, -3.3906e-02,  1.0725e+00,  1.3155e+00,  9.7592e-01,\n",
              "                       -5.8036e-01, -5.3291e-01,  1.1510e+00, -3.6115e-01, -4.0793e-01,\n",
              "                       -7.2581e-01,  1.2347e+00, -3.0161e-01, -2.7696e-01, -2.0089e-01,\n",
              "                       -4.3525e-01,  1.0126e+00,  8.7841e-01, -6.5552e-01, -5.3631e-01,\n",
              "                        3.5185e-01, -4.6367e-01,  1.1204e+00, -4.9348e-01,  3.5281e-01],\n",
              "                      [ 3.7208e-01, -7.7171e-01, -1.3406e+00, -9.0353e-03,  5.3694e-01,\n",
              "                        2.1669e-01, -1.1138e+00,  7.5983e-01,  7.1820e-01,  4.2214e-01,\n",
              "                       -1.0052e+00, -7.5495e-01,  4.8374e-01, -6.9685e-01, -1.1037e+00,\n",
              "                       -8.9938e-01, -4.6572e-01, -1.0577e+00, -9.2226e-01, -9.9824e-01,\n",
              "                       -1.2183e+00,  2.0501e-01,  8.8341e-01, -6.6100e-01, -8.6335e-01,\n",
              "                       -2.6458e-01, -5.1761e-01,  6.4518e-01, -4.6051e-01, -2.7490e-01],\n",
              "                      [ 7.1746e-01, -1.3455e+00, -1.6563e+00,  2.5531e-01,  7.2680e-01,\n",
              "                        3.9037e-01, -1.6507e+00,  1.1443e+00,  6.4416e-01,  8.5793e-01,\n",
              "                       -1.2283e+00, -1.0515e+00,  8.8103e-01, -1.4295e+00, -1.6172e+00,\n",
              "                       -1.3920e+00, -6.2615e-01, -1.3686e+00, -1.0942e+00, -1.5224e+00,\n",
              "                       -1.3680e+00,  6.5420e-01,  7.0919e-01, -1.3002e+00, -1.4144e+00,\n",
              "                        1.6971e-02, -8.4327e-01,  3.5063e-01, -1.1899e+00, -3.5545e-01],\n",
              "                      [-1.1135e+00,  1.5681e+00,  1.8200e+00, -2.3042e-02, -6.0163e-01,\n",
              "                       -3.8019e-01,  1.8124e+00, -1.1182e+00, -1.0480e+00, -1.1322e+00,\n",
              "                        1.3991e+00,  1.2009e+00, -8.1266e-01,  1.7963e+00,  1.3612e+00,\n",
              "                        1.3101e+00,  7.0555e-01,  1.5552e+00,  1.2360e+00,  1.5099e+00,\n",
              "                        1.1525e+00, -2.5217e-01, -1.1512e+00,  1.3513e+00,  1.4815e+00,\n",
              "                        1.7740e-01,  1.1116e+00, -8.1017e-01,  1.0898e+00,  7.4677e-01],\n",
              "                      [ 4.3591e-01,  7.4288e-02,  1.5164e-01,  4.7821e-01,  5.1077e-01,\n",
              "                        3.3296e-01,  3.7961e-02,  3.6601e-01,  7.1202e-01,  4.1790e-01,\n",
              "                       -2.6141e-01, -6.0177e-01,  3.3653e-01, -4.3249e-01, -6.3402e-02,\n",
              "                       -6.3685e-01,  4.0035e-01, -5.7155e-01, -1.1013e-01,  7.9037e-02,\n",
              "                       -3.5881e-01,  1.8017e-01,  3.7449e-01, -1.0348e-01, -6.2322e-01,\n",
              "                        9.0299e-02, -2.5522e-01,  8.5533e-01, -9.7917e-02,  2.1005e-01],\n",
              "                      [ 9.6457e-01, -4.7451e-01,  1.7671e-01,  6.8908e-01,  1.2838e+00,\n",
              "                        9.4329e-01, -3.1893e-01,  7.3975e-01,  1.1528e+00,  9.3560e-01,\n",
              "                       -5.0327e-01, -6.0836e-01,  1.1925e+00, -8.5712e-02, -3.4811e-01,\n",
              "                       -3.7676e-01,  7.6694e-01, -4.8447e-01, -4.3974e-01, -3.1730e-01,\n",
              "                       -5.4525e-01,  1.0770e+00,  1.0190e+00, -5.0803e-01, -6.3573e-01,\n",
              "                        3.2075e-01, -3.9580e-01,  1.4101e+00, -4.3882e-01,  4.5599e-01],\n",
              "                      [-8.0572e-01,  4.3001e-01, -1.6012e-01, -4.8724e-01, -8.4529e-01,\n",
              "                       -6.0985e-01, -2.0747e-02, -8.6779e-01, -1.0508e+00, -8.0861e-01,\n",
              "                        5.2949e-01,  3.3474e-01, -9.7653e-01, -2.2343e-01,  2.4746e-01,\n",
              "                        4.9450e-01, -3.8467e-01,  3.0063e-01,  6.0343e-01,  2.4106e-01,\n",
              "                        5.7492e-01, -3.6147e-01, -9.5539e-01,  5.5971e-01,  4.8972e-01,\n",
              "                       -2.3846e-01,  1.6183e-01, -1.4827e+00,  5.1622e-01, -2.7321e-01],\n",
              "                      [-7.7308e-01,  1.4289e+00,  1.2426e+00, -2.8849e-01, -5.9213e-01,\n",
              "                       -2.8255e-01,  1.6612e+00, -1.0794e+00, -5.3323e-01, -7.1601e-01,\n",
              "                        1.1442e+00,  9.7181e-01, -8.9857e-01,  1.6031e+00,  1.4427e+00,\n",
              "                        1.0712e+00,  5.9054e-01,  1.3083e+00,  1.2980e+00,  1.4330e+00,\n",
              "                        1.4049e+00, -4.3336e-01, -8.0123e-01,  8.9632e-01,  1.1690e+00,\n",
              "                       -8.1249e-02,  7.4818e-01, -3.7111e-01,  1.1464e+00,  2.3548e-01],\n",
              "                      [ 1.0191e+00, -2.6280e-01,  4.2257e-01,  9.2533e-01,  9.9293e-01,\n",
              "                        8.2421e-01,  2.5658e-02,  6.9569e-01,  9.8435e-01,  1.0016e+00,\n",
              "                       -6.4658e-01, -7.9404e-01,  9.9254e-01, -2.1347e-01, -2.8007e-01,\n",
              "                       -5.3533e-01,  9.9453e-01, -3.3725e-01, -4.4663e-01, -3.1552e-01,\n",
              "                       -5.5088e-01,  7.2680e-01,  9.6290e-01, -4.6720e-01, -7.4910e-01,\n",
              "                        1.0051e-01, -3.4301e-01,  1.2830e+00, -5.2851e-01,  4.0892e-01],\n",
              "                      [-9.1642e-01,  1.4940e+00,  1.4408e+00, -2.7733e-01, -4.8352e-01,\n",
              "                       -4.7836e-01,  1.5216e+00, -9.9860e-01, -7.4616e-01, -1.1341e+00,\n",
              "                        1.6084e+00,  1.4099e+00, -8.6663e-01,  1.4668e+00,  1.7846e+00,\n",
              "                        1.4605e+00,  3.6884e-01,  1.7320e+00,  1.3597e+00,  1.4659e+00,\n",
              "                        1.3636e+00, -5.3891e-01, -1.1473e+00,  1.1336e+00,  1.4983e+00,\n",
              "                       -1.9238e-01,  7.1466e-01, -4.7920e-01,  1.3244e+00,  4.3140e-01],\n",
              "                      [ 1.1358e+00, -1.2909e-01,  3.7641e-01,  9.2406e-01,  8.5078e-01,\n",
              "                        6.1764e-01, -2.1784e-01,  1.0429e+00,  9.6196e-01,  1.1021e+00,\n",
              "                       -5.3744e-01, -5.8433e-01,  9.3028e-01, -2.9456e-01, -4.4073e-01,\n",
              "                       -5.2845e-01,  1.0933e+00, -4.2857e-01, -6.1045e-01, -2.0283e-01,\n",
              "                       -3.7438e-01,  8.0352e-01,  9.0215e-01, -6.4848e-01, -7.1154e-01,\n",
              "                        2.1078e-01, -1.3054e-01,  1.2030e+00, -3.1865e-01,  3.0256e-01],\n",
              "                      [ 9.7571e-01, -2.8493e-01,  3.0929e-01,  9.0240e-01,  8.9117e-01,\n",
              "                        7.9986e-01, -2.3636e-01,  9.6849e-01,  1.3175e+00,  1.1249e+00,\n",
              "                       -3.4541e-01, -8.7313e-01,  1.1018e+00, -2.9822e-01, -4.4940e-01,\n",
              "                       -6.8749e-01,  1.1190e+00, -5.1328e-01, -4.9672e-01, -3.2142e-01,\n",
              "                       -3.5527e-01,  8.5681e-01,  1.1638e+00, -4.3469e-01, -5.5952e-01,\n",
              "                        2.7648e-01, -2.9540e-01,  1.1716e+00, -3.4414e-01,  5.4144e-01],\n",
              "                      [-1.0439e+00,  1.8448e+00,  1.7476e+00, -2.6289e-01, -5.5751e-01,\n",
              "                       -3.1448e-01,  1.8577e+00, -1.3635e+00, -7.9046e-01, -1.3084e+00,\n",
              "                        1.3149e+00,  1.2799e+00, -1.0353e+00,  1.4914e+00,  1.8979e+00,\n",
              "                        1.5821e+00,  9.2735e-01,  1.2419e+00,  1.3618e+00,  1.8546e+00,\n",
              "                        1.6673e+00, -6.7577e-01, -7.9351e-01,  1.2839e+00,  1.6415e+00,\n",
              "                        3.5681e-01,  1.2460e+00, -7.3952e-01,  1.4692e+00,  5.1739e-01],\n",
              "                      [-8.1851e-01, -7.7551e-02,  1.6006e-01, -9.7088e-01, -1.2429e+00,\n",
              "                       -5.4846e-01,  4.5187e-01, -7.6331e-01, -2.0523e+00, -8.2539e-01,\n",
              "                        1.1059e+00,  5.6120e-01, -8.6300e-01,  2.3416e+00,  4.5869e-01,\n",
              "                        3.6564e-01, -3.6927e-01,  1.0565e+00,  1.9490e-01, -1.3323e-01,\n",
              "                        3.0281e-01, -8.5712e-01, -1.5210e+00,  7.5604e-02,  4.8401e-01,\n",
              "                       -2.3547e-01,  5.6065e-02, -3.7244e+00,  9.7137e-02, -1.3306e-01],\n",
              "                      [ 7.0373e-01, -1.3240e+00, -1.5662e+00,  3.9061e-01,  4.0799e-01,\n",
              "                        3.6795e-01, -1.4788e+00,  1.0367e+00,  9.3856e-01,  8.1461e-01,\n",
              "                       -1.4693e+00, -1.0363e+00,  6.9440e-01, -1.4573e+00, -1.7238e+00,\n",
              "                       -1.2433e+00, -6.6708e-01, -1.3993e+00, -1.3520e+00, -1.3440e+00,\n",
              "                       -1.5232e+00,  3.7899e-01,  9.3409e-01, -1.0331e+00, -1.2245e+00,\n",
              "                       -2.4643e-03, -5.4596e-01,  5.5354e-01, -1.1446e+00, -2.9654e-01],\n",
              "                      [ 1.0858e+00, -4.3749e-01,  6.0988e-02,  6.4284e-01,  1.1035e+00,\n",
              "                        3.8797e-01, -1.4906e-01,  1.0826e+00,  1.3369e+00,  7.5129e-01,\n",
              "                       -3.8037e-01, -5.3642e-01,  8.1066e-01, -1.3061e-01, -5.4551e-01,\n",
              "                       -5.5492e-01,  3.6787e-01, -2.3930e-01, -5.4899e-01, -2.9236e-01,\n",
              "                       -3.9076e-01,  8.3797e-01,  1.2669e+00, -3.2789e-01, -5.9608e-01,\n",
              "                       -1.3846e-01, -2.3765e-01,  1.2809e+00, -3.1306e-01,  3.4637e-01]])),\n",
              "             ('fc2.bias',\n",
              "              tensor([ 0.6536,  0.0752, -0.0487,  0.2692,  0.0416,  0.0763, -0.2372, -0.3429,\n",
              "                       0.0467, -0.1530, -0.1014, -0.0028, -0.5518, -0.3261,  0.6158,  0.0817,\n",
              "                       0.2352,  0.1643, -0.0029,  0.4763, -0.3483, -0.3094,  0.5517,  0.0126,\n",
              "                       0.4480,  0.3532, -0.0039, -0.5339,  0.1685,  0.3298])),\n",
              "             ('fc3.weight',\n",
              "              tensor([[-1.2084,  0.7472,  0.8479,  0.7596, -0.6427, -0.7251,  0.9813,  1.1103,\n",
              "                       -0.2473,  0.5404,  0.6851,  0.9236,  1.0849, -0.0909, -1.2131, -0.3523,\n",
              "                       -0.7792,  0.7148, -0.6399, -1.1567,  1.0897,  0.6254, -1.2701,  0.5371,\n",
              "                       -1.2537, -1.0077,  0.7532,  0.9593, -0.6435, -1.1235],\n",
              "                      [ 0.3887,  0.6470,  0.0177,  0.6744, -0.6488, -0.7479,  1.1109, -0.5921,\n",
              "                       -0.2700,  0.6556,  0.5175,  0.2575, -0.4554, -0.0565,  0.3681, -0.5836,\n",
              "                       -0.6760,  0.6504,  0.1121,  0.3688, -0.5965,  0.5371,  0.1854,  0.3586,\n",
              "                        0.3196,  0.3835,  0.8135, -0.7712, -0.8683,  0.3525],\n",
              "                      [ 0.8335, -1.5186, -1.1370, -1.5553,  1.5415,  1.5786, -2.2068, -0.5810,\n",
              "                        0.9656, -1.6467, -1.1985, -1.1687, -0.5169, -0.0403,  0.9379,  1.2617,\n",
              "                        1.5172, -1.5544,  0.3750,  0.9628, -0.9414, -1.3210,  0.8022, -1.4170,\n",
              "                        0.8790,  0.9208, -1.8781, -0.2159,  1.5935,  0.9357]])),\n",
              "             ('fc3.bias', tensor([-0.0466,  0.0712,  0.1694]))])"
            ]
          },
          "metadata": {
            "tags": []
          },
          "execution_count": 23
        }
      ]
    },
    {
      "cell_type": "code",
      "metadata": {
        "id": "RusVflSxJsu3"
      },
      "source": [
        "model_name = 'iris_model_state_dict.pt'\n",
        "model_path = f\"/content/gdrive/My Drive/MLOPS/hands_on/serialization/models/{model_name}\" \n",
        "\n",
        "# Save the models state_dict\n",
        "torch.save(model.state_dict(), model_path)"
      ],
      "execution_count": null,
      "outputs": []
    },
    {
      "cell_type": "code",
      "metadata": {
        "id": "o9aWdGmsM754",
        "colab": {
          "base_uri": "https://localhost:8080/",
          "height": 34
        },
        "outputId": "d137c158-e0e6-43a9-f143-d2fd975de7e4"
      },
      "source": [
        "! ls /content/gdrive/My\\ Drive/MLOPS/hands_on/serialization/models/"
      ],
      "execution_count": null,
      "outputs": [
        {
          "output_type": "stream",
          "text": [
            "iris_model.pt  iris_model_state_dict.pt\n"
          ],
          "name": "stdout"
        }
      ]
    },
    {
      "cell_type": "code",
      "metadata": {
        "id": "-Pr0QjV9M8vw",
        "colab": {
          "base_uri": "https://localhost:8080/",
          "height": 34
        },
        "outputId": "fd7c5c47-dbb9-481a-8553-5f95997aca74"
      },
      "source": [
        "model_name = 'iris_model_state_dict.pt'\n",
        "model_path = f\"/content/gdrive/My Drive/MLOPS/hands_on/serialization/models/{model_name}\" \n",
        "\n",
        "model.load_state_dict(torch.load(model_path))"
      ],
      "execution_count": null,
      "outputs": [
        {
          "output_type": "execute_result",
          "data": {
            "text/plain": [
              "<All keys matched successfully>"
            ]
          },
          "metadata": {
            "tags": []
          },
          "execution_count": 26
        }
      ]
    },
    {
      "cell_type": "code",
      "metadata": {
        "id": "VmxqQalnC0JL",
        "colab": {
          "base_uri": "https://localhost:8080/",
          "height": 34
        },
        "outputId": "fdaaf97e-5d53-487e-dfee-d8f57e4eb873"
      },
      "source": [
        "example = torch.tensor([5.1, 3.5, 1.4, 0.2])\n",
        "pred = inference(new_model, example)\n",
        "print(pred)"
      ],
      "execution_count": null,
      "outputs": [
        {
          "output_type": "stream",
          "text": [
            "tensor(0)\n"
          ],
          "name": "stdout"
        }
      ]
    },
    {
      "cell_type": "code",
      "metadata": {
        "id": "2iXCZSI2LIhU"
      },
      "source": [
        ""
      ],
      "execution_count": null,
      "outputs": []
    }
  ]
}