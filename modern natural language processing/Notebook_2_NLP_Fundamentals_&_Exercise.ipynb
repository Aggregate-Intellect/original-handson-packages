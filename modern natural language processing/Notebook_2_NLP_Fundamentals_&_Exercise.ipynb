{
 "cells": [
  {
   "cell_type": "markdown",
   "metadata": {
    "id": "SZFqVKl93cF9"
   },
   "source": [
    "# Session 2 NLP Fundamentals\n",
    "---\n",
    "##Learning Outcomes\n",
    "- nltk.book dataset\n",
    "- Concordance\n",
    "- Word similarity\n",
    "- Lexical statistics\n",
    "- Lexical dispersion\n",
    "- Layers of natural language"
   ]
  },
  {
   "cell_type": "markdown",
   "metadata": {
    "id": "zchJMdDr3nWh"
   },
   "source": [
    "## NLTK Corpora"
   ]
  },
  {
   "cell_type": "code",
   "execution_count": null,
   "metadata": {
    "colab": {
     "base_uri": "https://localhost:8080/"
    },
    "id": "jLEQFJRorBpr",
    "outputId": "90c99d4e-21b3-49e6-ef51-3f83a8204255"
   },
   "outputs": [
    {
     "name": "stdout",
     "output_type": "stream",
     "text": [
      "NLTK Downloader\n",
      "---------------------------------------------------------------------------\n",
      "    d) Download   l) List    u) Update   c) Config   h) Help   q) Quit\n",
      "---------------------------------------------------------------------------\n",
      "Downloader> d\n",
      "\n",
      "Download which package (l=list; x=cancel)?\n",
      "  Identifier> x\n",
      "\n",
      "---------------------------------------------------------------------------\n",
      "    d) Download   l) List    u) Update   c) Config   h) Help   q) Quit\n",
      "---------------------------------------------------------------------------\n",
      "Downloader> d\n",
      "\n",
      "Download which package (l=list; x=cancel)?\n",
      "  Identifier> book\n",
      "    Downloading collection 'book'\n",
      "       | \n",
      "       | Downloading package abc to /root/nltk_data...\n",
      "       |   Unzipping corpora/abc.zip.\n",
      "       | Downloading package brown to /root/nltk_data...\n",
      "       |   Unzipping corpora/brown.zip.\n",
      "       | Downloading package chat80 to /root/nltk_data...\n",
      "       |   Unzipping corpora/chat80.zip.\n",
      "       | Downloading package cmudict to /root/nltk_data...\n",
      "       |   Unzipping corpora/cmudict.zip.\n",
      "       | Downloading package conll2000 to /root/nltk_data...\n",
      "       |   Unzipping corpora/conll2000.zip.\n",
      "       | Downloading package conll2002 to /root/nltk_data...\n",
      "       |   Unzipping corpora/conll2002.zip.\n",
      "       | Downloading package dependency_treebank to /root/nltk_data...\n",
      "       |   Unzipping corpora/dependency_treebank.zip.\n",
      "       | Downloading package genesis to /root/nltk_data...\n",
      "       |   Unzipping corpora/genesis.zip.\n",
      "       | Downloading package gutenberg to /root/nltk_data...\n",
      "       |   Unzipping corpora/gutenberg.zip.\n",
      "       | Downloading package ieer to /root/nltk_data...\n",
      "       |   Unzipping corpora/ieer.zip.\n",
      "       | Downloading package inaugural to /root/nltk_data...\n",
      "       |   Unzipping corpora/inaugural.zip.\n",
      "       | Downloading package movie_reviews to /root/nltk_data...\n",
      "       |   Unzipping corpora/movie_reviews.zip.\n",
      "       | Downloading package nps_chat to /root/nltk_data...\n",
      "       |   Unzipping corpora/nps_chat.zip.\n",
      "       | Downloading package names to /root/nltk_data...\n",
      "       |   Unzipping corpora/names.zip.\n",
      "       | Downloading package ppattach to /root/nltk_data...\n",
      "       |   Unzipping corpora/ppattach.zip.\n",
      "       | Downloading package reuters to /root/nltk_data...\n",
      "       | Downloading package senseval to /root/nltk_data...\n",
      "       |   Unzipping corpora/senseval.zip.\n",
      "       | Downloading package state_union to /root/nltk_data...\n",
      "       |   Unzipping corpora/state_union.zip.\n",
      "       | Downloading package stopwords to /root/nltk_data...\n",
      "       |   Unzipping corpora/stopwords.zip.\n",
      "       | Downloading package swadesh to /root/nltk_data...\n",
      "       |   Unzipping corpora/swadesh.zip.\n",
      "       | Downloading package timit to /root/nltk_data...\n",
      "       |   Unzipping corpora/timit.zip.\n",
      "       | Downloading package treebank to /root/nltk_data...\n",
      "       |   Unzipping corpora/treebank.zip.\n",
      "       | Downloading package toolbox to /root/nltk_data...\n",
      "       |   Unzipping corpora/toolbox.zip.\n",
      "       | Downloading package udhr to /root/nltk_data...\n",
      "       |   Unzipping corpora/udhr.zip.\n",
      "       | Downloading package udhr2 to /root/nltk_data...\n",
      "       |   Unzipping corpora/udhr2.zip.\n",
      "       | Downloading package unicode_samples to /root/nltk_data...\n",
      "       |   Unzipping corpora/unicode_samples.zip.\n",
      "       | Downloading package webtext to /root/nltk_data...\n",
      "       |   Unzipping corpora/webtext.zip.\n",
      "       | Downloading package wordnet to /root/nltk_data...\n",
      "       |   Unzipping corpora/wordnet.zip.\n",
      "       | Downloading package wordnet_ic to /root/nltk_data...\n",
      "       |   Unzipping corpora/wordnet_ic.zip.\n",
      "       | Downloading package words to /root/nltk_data...\n",
      "       |   Unzipping corpora/words.zip.\n",
      "       | Downloading package maxent_treebank_pos_tagger to\n",
      "       |     /root/nltk_data...\n",
      "       |   Unzipping taggers/maxent_treebank_pos_tagger.zip.\n",
      "       | Downloading package maxent_ne_chunker to /root/nltk_data...\n",
      "       |   Unzipping chunkers/maxent_ne_chunker.zip.\n",
      "       | Downloading package universal_tagset to /root/nltk_data...\n",
      "       |   Unzipping taggers/universal_tagset.zip.\n",
      "       | Downloading package punkt to /root/nltk_data...\n",
      "       |   Unzipping tokenizers/punkt.zip.\n",
      "       | Downloading package book_grammars to /root/nltk_data...\n",
      "       |   Unzipping grammars/book_grammars.zip.\n",
      "       | Downloading package city_database to /root/nltk_data...\n",
      "       |   Unzipping corpora/city_database.zip.\n",
      "       | Downloading package tagsets to /root/nltk_data...\n",
      "       |   Unzipping help/tagsets.zip.\n",
      "       | Downloading package panlex_swadesh to /root/nltk_data...\n",
      "       | Downloading package averaged_perceptron_tagger to\n",
      "       |     /root/nltk_data...\n",
      "       |   Unzipping taggers/averaged_perceptron_tagger.zip.\n",
      "       | \n",
      "     Done downloading collection book\n",
      "\n",
      "---------------------------------------------------------------------------\n",
      "    d) Download   l) List    u) Update   c) Config   h) Help   q) Quit\n",
      "---------------------------------------------------------------------------\n",
      "Downloader> q\n"
     ]
    },
    {
     "data": {
      "text/plain": [
       "True"
      ]
     },
     "execution_count": 1,
     "metadata": {
      "tags": []
     },
     "output_type": "execute_result"
    }
   ],
   "source": [
    "import nltk\n",
    "# Let's download an NLTK collection of corpora\n",
    "nltk.download()"
   ]
  },
  {
   "cell_type": "code",
   "execution_count": null,
   "metadata": {
    "colab": {
     "base_uri": "https://localhost:8080/"
    },
    "id": "c5VFd067rUcw",
    "outputId": "a6361cbf-9dd2-4552-be48-e6ab524116cc"
   },
   "outputs": [
    {
     "name": "stdout",
     "output_type": "stream",
     "text": [
      "*** Introductory Examples for the NLTK Book ***\n",
      "Loading text1, ..., text9 and sent1, ..., sent9\n",
      "Type the name of the text or sentence to view it.\n",
      "Type: 'texts()' or 'sents()' to list the materials.\n",
      "text1: Moby Dick by Herman Melville 1851\n",
      "text2: Sense and Sensibility by Jane Austen 1811\n",
      "text3: The Book of Genesis\n",
      "text4: Inaugural Address Corpus\n",
      "text5: Chat Corpus\n",
      "text6: Monty Python and the Holy Grail\n",
      "text7: Wall Street Journal\n",
      "text8: Personals Corpus\n",
      "text9: The Man Who Was Thursday by G . K . Chesterton 1908\n",
      "<Text: Moby Dick by Herman Melville 1851>\n",
      "<Text: Sense and Sensibility by Jane Austen 1811>\n",
      "<Text: The Man Who Was Thursday by G . K . Chesterton 1908>\n"
     ]
    }
   ],
   "source": [
    "# Let us import all the texts in the collection we downloaded\n",
    "from nltk.book import *\n",
    "print(text1)\n",
    "print(text2)\n",
    "print(text9)"
   ]
  },
  {
   "cell_type": "code",
   "execution_count": null,
   "metadata": {
    "colab": {
     "base_uri": "https://localhost:8080/"
    },
    "id": "GadQ8dT61boN",
    "outputId": "0045c7dc-4cd4-4ab5-8e1f-576f13d88af9"
   },
   "outputs": [
    {
     "data": {
      "text/plain": [
       "nltk.text.Text"
      ]
     },
     "execution_count": 3,
     "metadata": {
      "tags": []
     },
     "output_type": "execute_result"
    }
   ],
   "source": [
    "# What is the type of a text object?\n",
    "type(text1)"
   ]
  },
  {
   "cell_type": "markdown",
   "metadata": {
    "id": "C1ob5YnY0jwX"
   },
   "source": [
    "## **Concordance**"
   ]
  },
  {
   "cell_type": "code",
   "execution_count": null,
   "metadata": {
    "colab": {
     "base_uri": "https://localhost:8080/"
    },
    "id": "6SypoPpv14Eg",
    "outputId": "a6cad4c0-510c-428f-ec79-c6b145e28a83"
   },
   "outputs": [
    {
     "name": "stdout",
     "output_type": "stream",
     "text": [
      "Displaying 25 of 81 matches:\n",
      "when I go to sea , I go as a simple sailor , right before the mast , plumb dow\n",
      "sure you , from a schoolmaster to a sailor , and requires a strong decoction o\n",
      "t . Again , I always go to sea as a sailor , because they make a point of payi\n",
      "! Finally , I always go to sea as a sailor , because of the wholesome exercise\n",
      "eatedly smelt the sea as a merchant sailor , I should now take it into my head\n",
      "there any earthly reason why I as a sailor should sleep two in a bed , more th\n",
      "llow - tailed coat , girdled with a sailor - belt and sheath - knife . Here co\n",
      "ung girls breathe such musk , their sailor sweethearts smell them miles off sh\n",
      "ery great favourite . He had been a sailor and a harpooneer in his youth , but\n",
      "ook upwards , and then with a truly sailor - like but still reverential dexter\n",
      "further hinting them . I had seen a sailor who had visited that very island , \n",
      "uod ?\" \" Aye , among some of us old sailor chaps , he goes by that name . Ye h\n",
      " ' s fashion , upon this ragged old sailor ; and agreed that he was nothing bu\n",
      "ble dinner , no doubt , like a good sailor , he took it to be a sort of call o\n",
      "s of discernment . So that no white sailor seriously contradicted him when he \n",
      " usual with him of late , calling a sailor of the watch , he sent him below fo\n",
      "sides , if it were so that any mere sailor of the Pequod had a grudge against \n",
      "sk ' s official capacity , all that sailor had to do , in order to obtain ampl\n",
      "ain ' s commanded .-- 1ST NANTUCKET SAILOR . Oh , boys , don ' t be sentimenta\n",
      "lls there , forward ! 2ND NANTUCKET SAILOR . Avast the chorus ! Eight bells th\n",
      "lls there below ! Tumble up ! DUTCH SAILOR . Grand snoozing to - night , maty \n",
      "th eating Amsterdam butter . FRENCH SAILOR . Hist , boys ! let ' s have a jig \n",
      ") Don ' t know where it is . FRENCH SAILOR . Beat thy belly , then , and wag t\n",
      " yourselves ! Legs ! legs ! ICELAND SAILOR . I don ' t like your floor , maty \n",
      "e subject ; but excuse me . MALTESE SAILOR . Me too ; where ' s your girls ? W\n"
     ]
    }
   ],
   "source": [
    "# if we define context to be the words occuring before and after word_i, we can observe the contexts word_i occurs in by looking at its \"concordance\"\n",
    "text1.concordance(\"sailor\")"
   ]
  },
  {
   "cell_type": "markdown",
   "metadata": {
    "id": "wgHeEifUmcCz"
   },
   "source": [
    "## Word Similarity based on Context Sharing"
   ]
  },
  {
   "cell_type": "code",
   "execution_count": null,
   "metadata": {
    "colab": {
     "base_uri": "https://localhost:8080/"
    },
    "id": "Omy_NBGT2aGI",
    "outputId": "ab3dcc04-5fc0-4b28-9939-7401862b5eab"
   },
   "outputs": [
    {
     "name": "stdout",
     "output_type": "stream",
     "text": [
      "man whale ship captain thing boat line world mast sea other head time\n",
      "hand fish tail way wind voyage stroke\n"
     ]
    }
   ],
   "source": [
    "# The \"similar()\" function will return lists other words that appear in contexts similar to the context word_i occurs in\n",
    "text1.similar(\"sailor\")"
   ]
  },
  {
   "cell_type": "code",
   "execution_count": null,
   "metadata": {
    "colab": {
     "base_uri": "https://localhost:8080/"
    },
    "id": "ovutLBQx4QIc",
    "outputId": "9993ac8b-4b37-4c28-d7c6-74692bd5bbe5"
   },
   "outputs": [
    {
     "name": "stdout",
     "output_type": "stream",
     "text": [
      "a_should a_who old_and a_of a_what the_for a_s a_takes first_that\n",
      "the_to the_at\n"
     ]
    }
   ],
   "source": [
    "# The above words indeed belong to a context similar to our word_i that is \"sailor\". \n",
    "# Now, what if we'd like to know what contexts are shared among a few words? Here's how:\n",
    "text1.common_contexts([\"sailor\", \"man\"])"
   ]
  },
  {
   "cell_type": "markdown",
   "metadata": {
    "id": "jFmpgakKnn1v"
   },
   "source": [
    "## Lexical Dispersion"
   ]
  },
  {
   "cell_type": "code",
   "execution_count": null,
   "metadata": {
    "colab": {
     "base_uri": "https://localhost:8080/",
     "height": 295
    },
    "id": "pXR3dHufWYLw",
    "outputId": "27208280-c63f-4c4a-a691-fd7fe9b8c385"
   },
   "outputs": [
    {
     "data": {
      "image/png": "[encoded data removed]",
      "text/plain": [
       "<Figure size 432x288 with 1 Axes>"
      ]
     },
     "metadata": {
      "needs_background": "light",
      "tags": []
     },
     "output_type": "display_data"
    }
   ],
   "source": [
    "# You can also plot the chronological frequency of a particular word throughout a document/corpus. \n",
    "# Useful for legal or financial documents\n",
    "# Let's take a look at the above words for example:\n",
    "text1.dispersion_plot([\"sailor\", \"man\", \"woman\", \"whale\", \"ship\", \"sad\"])"
   ]
  },
  {
   "cell_type": "markdown",
   "metadata": {
    "id": "JvQxTXwYn4xQ"
   },
   "source": [
    "##Lexical Diversity"
   ]
  },
  {
   "cell_type": "code",
   "execution_count": null,
   "metadata": {
    "colab": {
     "base_uri": "https://localhost:8080/"
    },
    "id": "yC1vtWuAXScX",
    "outputId": "c993d5e5-74d3-4e94-f9d1-ea7ed568ddbc"
   },
   "outputs": [
    {
     "name": "stdout",
     "output_type": "stream",
     "text": [
      "260819\n"
     ]
    }
   ],
   "source": [
    "# Number of tokens in a corpus:\n",
    "token_size = len(text1)\n",
    "print(token_size)"
   ]
  },
  {
   "cell_type": "code",
   "execution_count": null,
   "metadata": {
    "colab": {
     "base_uri": "https://localhost:8080/"
    },
    "id": "VrtJjGhbYbXq",
    "outputId": "c048a335-4bb5-499b-b6e1-66151af1d6bb"
   },
   "outputs": [
    {
     "name": "stdout",
     "output_type": "stream",
     "text": [
      "19317\n"
     ]
    }
   ],
   "source": [
    "# The vocabulary size of a corpus\n",
    "vocab_size = len(set(text1))\n",
    "print(vocab_size)"
   ]
  },
  {
   "cell_type": "code",
   "execution_count": null,
   "metadata": {
    "colab": {
     "base_uri": "https://localhost:8080/"
    },
    "id": "SyGPb_tAYibG",
    "outputId": "48f28f73-1827-483c-ac8a-28faf09736c6"
   },
   "outputs": [
    {
     "name": "stdout",
     "output_type": "stream",
     "text": [
      "0.07406285585022564\n"
     ]
    }
   ],
   "source": [
    "# The Type-Token Ratio (TTR) is an indicator of lexical diversity\n",
    "TTR = vocab_size/token_size\n",
    "print(TTR)"
   ]
  },
  {
   "cell_type": "markdown",
   "metadata": {
    "id": "5MTSyvKh4Jf2"
   },
   "source": [
    "## Lexical Statistics"
   ]
  },
  {
   "cell_type": "code",
   "execution_count": null,
   "metadata": {
    "colab": {
     "base_uri": "https://localhost:8080/"
    },
    "id": "qh8EhAMqZHYd",
    "outputId": "a3b57f5f-5f18-44d8-ec2d-f80c52ea13f8"
   },
   "outputs": [
    {
     "data": {
      "text/plain": [
       "49"
      ]
     },
     "execution_count": 11,
     "metadata": {
      "tags": []
     },
     "output_type": "execute_result"
    }
   ],
   "source": [
    "# Compute the frequency of a certain word in a corpus\n",
    "text1.count(\"sailor\")"
   ]
  },
  {
   "cell_type": "code",
   "execution_count": null,
   "metadata": {
    "colab": {
     "base_uri": "https://localhost:8080/"
    },
    "id": "zbNaMgfYpxuz",
    "outputId": "e0dd30d5-6943-4c7d-f4c0-ab5c824555b3"
   },
   "outputs": [
    {
     "data": {
      "text/plain": [
       "1.5640968673628082"
      ]
     },
     "execution_count": 23,
     "metadata": {
      "tags": []
     },
     "output_type": "execute_result"
    }
   ],
   "source": [
    "# Compute what percentage of a document a word constitutes\n",
    "def word_percentage(word, corpus):\n",
    "  percentage = 100 * corpus.count(word) / len(corpus)\n",
    "  return percentage\n",
    "\n",
    "word_percentage(\"lol\", text5)"
   ]
  },
  {
   "cell_type": "code",
   "execution_count": null,
   "metadata": {
    "colab": {
     "base_uri": "https://localhost:8080/",
     "height": 35
    },
    "id": "caZfZcxa7kUi",
    "outputId": "a19d94fb-e583-4dbb-bd31-7efe0e1c27d3"
   },
   "outputs": [
    {
     "data": {
      "application/vnd.google.colaboratory.intrinsic+json": {
       "type": "string"
      },
      "text/plain": [
       "'In'"
      ]
     },
     "execution_count": 25,
     "metadata": {
      "tags": []
     },
     "output_type": "execute_result"
    }
   ],
   "source": [
    "text3[0]"
   ]
  },
  {
   "cell_type": "markdown",
   "metadata": {
    "id": "grfnlxiIxmp5"
   },
   "source": [
    "\n",
    "# Exercise 2: \n",
    "  ## a. How many times does the word \"lol\" occur in text5?  \n",
    "  ## b. How many times does it occur in text 4?\n",
    "  ## c. Is there a difference? If so, why?\n",
    "  ## d. Can you write a function that computes Lexical Diversity automatically? Call it **lex_div()**\n",
    "  ## e. What is the type of the word \"lol\" in the Python programming language?\n",
    "  ## f. If you use indexing on the word \"lol\" what will you retrieve? Wrtie the code to verify your guess. What will \"lol\"[2] return?\n",
    "  ## g. Can you print the corpus in text1 from token 1,000 up to and including the token 1,100?\n",
    "  ## h. what is the difference between a word and a token?\n",
    "  ## i. what is the difference between a token and a type?\n",
    "  ## j. How many alphanumeric word types exist in text2?\n",
    "  ## K. How many sentences with length greater than 15 words exist in text3?\n",
    "  ## L. What is the highest layer in the Natural Language Understanding hierarchy? Hint: the highest layer is inherently dependent on the lower layers.\n",
    "## Use the cell below to compute and jot down your answers"
   ]
  },
  {
   "cell_type": "code",
   "execution_count": null,
   "metadata": {
    "id": "3BzqYHPvqvBV"
   },
   "outputs": [],
   "source": []
  }
 ],
 "metadata": {
  "colab": {
   "collapsed_sections": [],
   "name": "Notebook_2_NLP_Fundamentals_&_Exercise.ipynb",
   "provenance": [],
   "toc_visible": true
  },
  "kernelspec": {
   "display_name": "Python 3",
   "language": "python",
   "name": "python3"
  },
  "language_info": {
   "codemirror_mode": {
    "name": "ipython",
    "version": 3
   },
   "file_extension": ".py",
   "mimetype": "text/x-python",
   "name": "python",
   "nbconvert_exporter": "python",
   "pygments_lexer": "ipython3",
   "version": "3.7.3"
  }
 },
 "nbformat": 4,
 "nbformat_minor": 1
}
