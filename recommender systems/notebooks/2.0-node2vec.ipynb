{
 "cells": [
  {
   "cell_type": "code",
   "execution_count": 1,
   "metadata": {
    "colab": {},
    "colab_type": "code",
    "id": "IS3VyEkcUW8N"
   },
   "outputs": [],
   "source": [
    "import numpy as np\n",
    "import torch\n",
    "import matplotlib.pyplot as plt\n",
    "from collections import defaultdict\n",
    "\n",
    "SEED = 1\n",
    "torch.random.manual_seed(SEED)\n",
    "np.random.seed(SEED)"
   ]
  },
  {
   "cell_type": "markdown",
   "metadata": {
    "colab_type": "text",
    "id": "LEukdBMLUW8I"
   },
   "source": [
    "# Atomic Experiments\n",
    "\n",
    "## Node2Vec\n",
    "\n",
    "In order to gain better insight on Node2Vec let's design an atomic experiment. \n",
    "\n",
    "Suppose that we have the following graph\n",
    "\n",
    "\n"
   ]
  },
  {
   "cell_type": "markdown",
   "metadata": {},
   "source": [
    "![](../figures/graph.png)"
   ]
  },
  {
   "cell_type": "markdown",
   "metadata": {
    "colab_type": "text",
    "id": "FoCQ1yoMWpf-"
   },
   "source": [
    "and we would like to create the Node2Vec embedding. Try answering the following questions before running the code:\n",
    "\n",
    "1. What is a good choice for the embedding dimension?\n",
    "2. What do you expect to find in the vector representations?\n",
    "3. How long do you expect this to take training? why?\n",
    "4. What is a good window size?\n",
    "5. How do you think the weights A, B, C, and D affect the results?\n",
    "\n",
    "### A math question:\n",
    "\n",
    "- How to transform weights into probabilities?\n",
    "\n",
    "# Creating the embeddings\n",
    "\n",
    "We need to do several things:\n",
    "\n",
    "0. Imports, seeds\n",
    "1. Create a way of representing the graph and the weights.\n",
    "2. Create the random walks.\n",
    "3. Use the word2vec embeddings. \n",
    "\n",
    "# 0. Preparations\n",
    "\n",
    "We import the needed packages and set the random seeds."
   ]
  },
  {
   "cell_type": "markdown",
   "metadata": {
    "colab_type": "text",
    "id": "UHQa6gkUUW8T"
   },
   "source": [
    "## 1. Encoding the Graph\n",
    "\n",
    "There are many ways of encoding a graph. We will use a simple way where we keep a dictionary of current nodes to the nodes that it reaches and their corresponding weights."
   ]
  },
  {
   "cell_type": "code",
   "execution_count": 2,
   "metadata": {
    "colab": {},
    "colab_type": "code",
    "id": "YPuuum1nUW8U"
   },
   "outputs": [],
   "source": [
    "def create_graph(A: int=1, B: int=2, C: int=3, D: int=4) -> dict:\n",
    "    '''\n",
    "    Function that generates graph of figure above based on weights. Graph captured as a dictionary \n",
    "    In the graph shown above:\n",
    "    Yellow = Y\n",
    "    Blue = B\n",
    "    Green = G\n",
    "    Red = R\n",
    "    Soft Yellow = SY\n",
    "    Soft Blue = SB\n",
    "    Soft Green = SG\n",
    "    '''\n",
    "    \n",
    "    graph = {}\n",
    "    graph[\"G\"] = {\"B\": A, \"Y\": C}\n",
    "    graph[\"B\"] = {\"G\": A, \"Y\": B}\n",
    "    graph[\"Y\"] = {\"B\": B, \"G\": C, \"R\":D}\n",
    "    \n",
    "    graph[\"R\"] = {\"Y\": D, \"SY\": D}\n",
    "    \n",
    "    graph[\"SG\"] = {\"SB\": A, \"SY\": C}\n",
    "    graph[\"SB\"] = {\"SG\": A, \"SY\": B}\n",
    "    graph[\"SY\"] = {\"SB\": B, \"SG\": C, \"R\":D}\n",
    "    \n",
    "    return graph"
   ]
  },
  {
   "cell_type": "code",
   "execution_count": 3,
   "metadata": {
    "colab": {},
    "colab_type": "code",
    "id": "mavRuNivUW8Y"
   },
   "outputs": [],
   "source": [
    "graph = create_graph()"
   ]
  },
  {
   "cell_type": "markdown",
   "metadata": {
    "colab_type": "text",
    "id": "x3IM8XY4UW8b"
   },
   "source": [
    "## 2. Creating the random walks\n",
    "\n",
    "We need to create a large collection of walks. We will leave the number of steps and the number of samples as parameters."
   ]
  },
  {
   "cell_type": "code",
   "execution_count": 4,
   "metadata": {
    "colab": {},
    "colab_type": "code",
    "id": "Mx2iLtxrUW8d"
   },
   "outputs": [],
   "source": [
    "# Returns what node to go next\n",
    "def next_node(graph: dict, node: str) -> str:\n",
    "    \"\"\"\n",
    "    Function that takes a graph in the form of a dictionary and a node and returns what node to go next\n",
    "    args:\n",
    "        graph : dictionary capturing:\n",
    "            keys - nodes \n",
    "            values - dictionary of next node to move to and corresponding weight\n",
    "        node : string capturing current node where the walker is located\n",
    "    returns: string captring what node to go next from current node\n",
    "    \"\"\"\n",
    "    \n",
    "    # ===== Write your code here (HARD) ========\n",
    "    neighbors = graph[node]\n",
    "    \n",
    "    n = []\n",
    "    dist = []\n",
    "    total = 0\n",
    "    for key, val in neighbors.items():\n",
    "        n.append(key)\n",
    "        dist.append(val)\n",
    "        total += val\n",
    "    \n",
    "    dist = [p/total for p in dist]\n",
    "    # =========================================== \n",
    "    \n",
    "    return np.random.choice(n,1,p=dist)[0]\n",
    "    \n",
    "\n",
    "def walk_from_node(graph: dict, node: str, steps: int=5) -> list:\n",
    "    \"\"\"\n",
    "    Function that returns a random walk as a list based on a starting node and the whole graph given as a dictionary\n",
    "    args:\n",
    "        graph : dictionary capturing:\n",
    "            keys - nodes \n",
    "            values - dictionary of next node to move to and corresponding weight\n",
    "        node : string capturing current node where the walker is located\n",
    "        steps : integer representing number of steps the walker will take before it stops at the end node\n",
    "    returns: walk - random walk in the form of a list\n",
    "        \n",
    "    \"\"\"\n",
    "    \n",
    "    walk = []\n",
    "    \n",
    "    # =========== Write your code here ===========\n",
    "    for step in range(steps):\n",
    "        walk.append(node)\n",
    "        node = next_node(graph, node)\n",
    "    # ===========================================    \n",
    "    \n",
    "    return walk\n",
    "\n",
    "\n",
    "def create_random_walks(graph: dict, walker_steps: int=5, num_walkers: int=3) -> list:\n",
    "    \"\"\"\n",
    "    Function that generates a list of random walks. Each random walk in the list is a list in itself\n",
    "    args:\n",
    "        graph : dictionary capturing:\n",
    "            keys - nodes \n",
    "            values - dictionary of next node to move to and corresponding weight\n",
    "        walker_steps : integer representing number of steps each walker in the list of walkes will take before it stops\n",
    "                    this is also the length of each walker in the list of walkers\n",
    "        num_walkers : integer representing the number of walkers to be generated\n",
    "        \n",
    "    returns: walks_list - list of random walkers\n",
    "    \"\"\"\n",
    "    \n",
    "    walks_list = []\n",
    "    \n",
    "    # =========== Write your code here ===========\n",
    "    for _ in range(num_walkers):\n",
    "        for node in [\"G\", \"B\", \"Y\", \"R\", \"SG\", \"SB\", \"SY\"]:\n",
    "            walks_list.append(walk_from_node(graph, node, walker_steps))\n",
    "    # ===========================================        \n",
    "    \n",
    "    return walks_list"
   ]
  },
  {
   "cell_type": "markdown",
   "metadata": {
    "colab_type": "text",
    "id": "xjLjAjBqUW8h"
   },
   "source": [
    "We can get some example with the next line"
   ]
  },
  {
   "cell_type": "code",
   "execution_count": 5,
   "metadata": {
    "colab": {
     "base_uri": "https://localhost:8080/",
     "height": 192
    },
    "colab_type": "code",
    "executionInfo": {
     "elapsed": 666,
     "status": "ok",
     "timestamp": 1573691394321,
     "user": {
      "displayName": "Felipe Perez",
      "photoUrl": "https://lh3.googleusercontent.com/a-/AAuE7mAlzl1P5N6zcpeIpQs5IsiUkcxTSQSPDhTtpHRG=s64",
      "userId": "00425449054874410322"
     },
     "user_tz": 300
    },
    "id": "BSF5SS8ZUW8j",
    "outputId": "225b67e2-5a11-4e91-8f52-d48fdf852722"
   },
   "outputs": [
    {
     "data": {
      "text/plain": [
       "[['G', 'Y', 'R', 'Y', 'G', 'B', 'G', 'B', 'Y', 'G'],\n",
       " ['B', 'Y', 'R', 'Y', 'R', 'Y', 'R', 'Y', 'R', 'Y'],\n",
       " ['Y', 'R', 'SY', 'SG', 'SY', 'R', 'SY', 'SB', 'SG', 'SB'],\n",
       " ['R', 'Y', 'G', 'Y', 'G', 'Y', 'G', 'Y', 'R', 'Y'],\n",
       " ['SG', 'SY', 'R', 'Y', 'R', 'Y', 'G', 'Y', 'G', 'Y'],\n",
       " ['SB', 'SG', 'SY', 'SB', 'SG', 'SY', 'SB', 'SY', 'SB', 'SY'],\n",
       " ['SY', 'SB', 'SY', 'R', 'Y', 'B', 'Y', 'R', 'SY', 'R'],\n",
       " ['G', 'Y', 'B', 'G', 'Y', 'G', 'B', 'Y', 'G', 'Y'],\n",
       " ['B', 'Y', 'R', 'SY', 'SG', 'SY', 'R', 'Y', 'R', 'SY'],\n",
       " ['Y', 'B', 'Y', 'G', 'Y', 'G', 'B', 'Y', 'R', 'Y']]"
      ]
     },
     "execution_count": 5,
     "metadata": {},
     "output_type": "execute_result"
    }
   ],
   "source": [
    "sentences = create_random_walks(graph, 10, 100)\n",
    "sentences[:10]"
   ]
  },
  {
   "cell_type": "markdown",
   "metadata": {
    "colab_type": "text",
    "id": "OEnQSJkBUW8n"
   },
   "source": [
    "## 3. Creating the Embedings\n",
    "Now that we have the \"sentences\" we need to transform them into numerical labels that represent the one-hot encoding."
   ]
  },
  {
   "cell_type": "code",
   "execution_count": 6,
   "metadata": {
    "colab": {},
    "colab_type": "code",
    "id": "m6GNETU6UW8o"
   },
   "outputs": [],
   "source": [
    "node2idx = {\"G\": 0, \"B\": 1, \"Y\":2, \"R\":3, \"SG\":4, \"SB\":5, \"SY\":6}\n",
    "# geneate idx2node programmatically \n",
    "idx2node = dict((v,k) for k,v in node2idx.items())"
   ]
  },
  {
   "cell_type": "code",
   "execution_count": 7,
   "metadata": {},
   "outputs": [
    {
     "data": {
      "text/plain": [
       "{'G': 0, 'B': 1, 'Y': 2, 'R': 3, 'SG': 4, 'SB': 5, 'SY': 6}"
      ]
     },
     "execution_count": 7,
     "metadata": {},
     "output_type": "execute_result"
    }
   ],
   "source": [
    "node2idx"
   ]
  },
  {
   "cell_type": "code",
   "execution_count": 8,
   "metadata": {},
   "outputs": [
    {
     "data": {
      "text/plain": [
       "{0: 'G', 1: 'B', 2: 'Y', 3: 'R', 4: 'SG', 5: 'SB', 6: 'SY'}"
      ]
     },
     "execution_count": 8,
     "metadata": {},
     "output_type": "execute_result"
    }
   ],
   "source": [
    "idx2node"
   ]
  },
  {
   "cell_type": "markdown",
   "metadata": {
    "colab_type": "text",
    "id": "2pa9Pqf3UW8r"
   },
   "source": [
    "Next we create the skip-gram model. First the pairs"
   ]
  },
  {
   "cell_type": "code",
   "execution_count": 9,
   "metadata": {
    "colab": {},
    "colab_type": "code",
    "id": "XTRui-bhUW8r"
   },
   "outputs": [],
   "source": [
    "def create_pairs(sentence: list, window: int) -> list:\n",
    "    \"\"\"\n",
    "    Function that returns a list of pairs. Each pair is a list in itself represents the indices resulting from\n",
    "    the skip-gram approach for word2vec\n",
    "    args:\n",
    "         sentence: list capturing the \"sentences\" generated by the random walkers\n",
    "         window: integer used in the skip-gram method - it is the maximum context location at which the words\n",
    "                  need to be predicted\n",
    "    returns: list of pairs the indices resulting from the skip-gram approach for word2vec\n",
    "    \"\"\"\n",
    "    \n",
    "    assert window>0, \"The window size should be greater than 0\"\n",
    "    pairs_list = []\n",
    "    \n",
    "    # =========== Write your code here ===========\n",
    "    l = len(sentence)\n",
    "    for i in range(l):\n",
    "        for j in range(max(i-window,0), min(i+window+1, l)):\n",
    "            if i!=j:\n",
    "                pairs_list.append([sentence[i], sentence[j]])\n",
    "    # ===========================================     \n",
    "    \n",
    "    return pairs_list"
   ]
  },
  {
   "cell_type": "markdown",
   "metadata": {
    "colab_type": "text",
    "id": "TBuhnpLYUW8u"
   },
   "source": [
    "We can use this to generate our data"
   ]
  },
  {
   "cell_type": "code",
   "execution_count": 10,
   "metadata": {
    "colab": {},
    "colab_type": "code",
    "id": "2N8HchLbUW8v"
   },
   "outputs": [],
   "source": [
    "data = []\n",
    "for sentence in sentences:\n",
    "    pair_ = create_pairs([node2idx[node] for node in sentence], 1)\n",
    "    data += pair_"
   ]
  },
  {
   "cell_type": "code",
   "execution_count": 11,
   "metadata": {
    "colab": {
     "base_uri": "https://localhost:8080/",
     "height": 34
    },
    "colab_type": "code",
    "executionInfo": {
     "elapsed": 368,
     "status": "ok",
     "timestamp": 1573691628656,
     "user": {
      "displayName": "Felipe Perez",
      "photoUrl": "https://lh3.googleusercontent.com/a-/AAuE7mAlzl1P5N6zcpeIpQs5IsiUkcxTSQSPDhTtpHRG=s64",
      "userId": "00425449054874410322"
     },
     "user_tz": 300
    },
    "id": "gz6MsDviVHyS",
    "outputId": "de7d4abc-55ab-4a61-cf18-7e9e8fb1a53b"
   },
   "outputs": [
    {
     "data": {
      "text/plain": [
       "[[0, 2], [2, 0], [2, 3], [3, 2], [3, 2]]"
      ]
     },
     "execution_count": 11,
     "metadata": {},
     "output_type": "execute_result"
    }
   ],
   "source": [
    "data[:5]"
   ]
  },
  {
   "cell_type": "markdown",
   "metadata": {
    "colab_type": "text",
    "id": "kBKslBbFUW8x"
   },
   "source": [
    "and then create our embeddings. "
   ]
  },
  {
   "cell_type": "code",
   "execution_count": 12,
   "metadata": {
    "colab": {},
    "colab_type": "code",
    "id": "f2DJz6_UUW8y"
   },
   "outputs": [],
   "source": [
    "emb_center = torch.nn.Embedding(7,3)\n",
    "emb_context = torch.nn.Embedding(7,3)"
   ]
  },
  {
   "cell_type": "markdown",
   "metadata": {
    "colab_type": "text",
    "id": "6iXZvV1vUW81"
   },
   "source": [
    "We do the training in a particular way to introduce the concept of schedule learning rate. "
   ]
  },
  {
   "cell_type": "code",
   "execution_count": 13,
   "metadata": {
    "colab": {
     "base_uri": "https://localhost:8080/",
     "height": 87
    },
    "colab_type": "code",
    "executionInfo": {
     "elapsed": 21341,
     "status": "ok",
     "timestamp": 1573692058491,
     "user": {
      "displayName": "Felipe Perez",
      "photoUrl": "https://lh3.googleusercontent.com/a-/AAuE7mAlzl1P5N6zcpeIpQs5IsiUkcxTSQSPDhTtpHRG=s64",
      "userId": "00425449054874410322"
     },
     "user_tz": 300
    },
    "id": "haK6ZFD8UW82",
    "outputId": "a915e750-8bff-448c-f262-398fe8897d0d"
   },
   "outputs": [
    {
     "name": "stdout",
     "output_type": "stream",
     "text": [
      "Using Learning rate of  0.1\n",
      "Using Learning rate of  0.01\n",
      "Using Learning rate of  0.001\n",
      "Using Learning rate of  1e-05\n"
     ]
    }
   ],
   "source": [
    "losses = []\n",
    "\n",
    "learning_rates = {'schedule_1': 0.1, 'schedule_2': 0.01, 'schedule_3': 0.001, 'schedule_4': 0.00001}\n",
    "\n",
    "print(\"Using Learning rate of \", learning_rates['schedule_1'])\n",
    "for pair in data:\n",
    "    a, b = pair\n",
    "    emb_center.zero_grad()\n",
    "    emb_context.zero_grad()\n",
    "    a_against_all = torch.matmul(\n",
    "        emb_context(torch.tensor([0, 1, 2, 3, 4, 5, 6])),\n",
    "        emb_center(torch.tensor([a])).transpose(0,1))\n",
    "    result = torch.nn.functional.log_softmax(a_against_all, dim=0)\n",
    "    loss = torch.nn.functional.nll_loss(\n",
    "        result.view(1, -1), torch.tensor([b]))\n",
    "    loss.backward()\n",
    "\n",
    "    losses.append(loss.item())\n",
    "    for param in emb_center.parameters():\n",
    "         param.data -= learning_rates['schedule_1']*param.grad\n",
    "    for param in emb_context.parameters():\n",
    "         param.data -= learning_rates['schedule_1']*param.grad\n",
    "\n",
    "print(\"Using Learning rate of \", learning_rates['schedule_2'])\n",
    "for pair in data:\n",
    "    a, b = pair\n",
    "    emb_center.zero_grad()\n",
    "    emb_context.zero_grad()\n",
    "    a_against_all = torch.matmul(\n",
    "        emb_context(torch.tensor([0, 1, 2, 3, 4, 5, 6])),\n",
    "        emb_center(torch.tensor([a])).transpose(0,1))\n",
    "    result = torch.nn.functional.log_softmax(a_against_all, dim=0)\n",
    "    loss = torch.nn.functional.nll_loss(\n",
    "        result.view(1, -1), torch.tensor([b]))\n",
    "    loss.backward()\n",
    "\n",
    "    losses.append(loss.item())\n",
    "    for param in emb_center.parameters():\n",
    "         param.data -= learning_rates['schedule_2']*param.grad\n",
    "    for param in emb_context.parameters():\n",
    "         param.data -= learning_rates['schedule_2']*param.grad\n",
    "\n",
    "            \n",
    "print(\"Using Learning rate of \", learning_rates['schedule_3'])\n",
    "for pair in data:\n",
    "    a, b = pair\n",
    "    emb_center.zero_grad()\n",
    "    emb_context.zero_grad()\n",
    "    a_against_all = torch.matmul(\n",
    "        emb_context(torch.tensor([0, 1, 2, 3, 4, 5, 6])),\n",
    "        emb_center(torch.tensor([a])).transpose(0,1))\n",
    "    result = torch.nn.functional.log_softmax(a_against_all, dim=0)\n",
    "    loss = torch.nn.functional.nll_loss(\n",
    "        result.view(1, -1), torch.tensor([b]))\n",
    "    loss.backward()\n",
    "\n",
    "    losses.append(loss.item())\n",
    "    for param in emb_center.parameters():\n",
    "         param.data -= learning_rates['schedule_3']*param.grad\n",
    "    for param in emb_context.parameters():\n",
    "         param.data -= learning_rates['schedule_3']*param.grad\n",
    "\n",
    "print(\"Using Learning rate of \", learning_rates['schedule_4'])\n",
    "for pair in data:\n",
    "    a, b = pair\n",
    "    emb_center.zero_grad()\n",
    "    emb_context.zero_grad()\n",
    "    a_against_all = torch.matmul(\n",
    "        emb_context(torch.tensor([0, 1, 2, 3, 4, 5, 6])),\n",
    "        emb_center(torch.tensor([a])).transpose(0,1))\n",
    "    result = torch.nn.functional.log_softmax(a_against_all, dim=0)\n",
    "    loss = torch.nn.functional.nll_loss(\n",
    "        result.view(1, -1), torch.tensor([b]))\n",
    "    loss.backward()\n",
    "\n",
    "    # print(a,b,\"\\n\",result, result[b])\n",
    "    losses.append(loss.item())\n",
    "    for param in emb_center.parameters():\n",
    "         param.data -= learning_rates['schedule_4']*param.grad\n",
    "    for param in emb_context.parameters():\n",
    "         param.data -= learning_rates['schedule_4']*param.grad\n"
   ]
  },
  {
   "cell_type": "markdown",
   "metadata": {
    "colab_type": "text",
    "id": "3MkkOR00UW84"
   },
   "source": [
    "Let's take a look at the losses"
   ]
  },
  {
   "cell_type": "code",
   "execution_count": 14,
   "metadata": {
    "colab": {
     "base_uri": "https://localhost:8080/",
     "height": 265
    },
    "colab_type": "code",
    "executionInfo": {
     "elapsed": 1704,
     "status": "ok",
     "timestamp": 1573308960285,
     "user": {
      "displayName": "Felipe Perez",
      "photoUrl": "https://lh3.googleusercontent.com/a-/AAuE7mAlzl1P5N6zcpeIpQs5IsiUkcxTSQSPDhTtpHRG=s64",
      "userId": "00425449054874410322"
     },
     "user_tz": 300
    },
    "id": "6N6B7JZXUW85",
    "outputId": "6fc96b08-e91a-4554-b72f-fc48ca12414b"
   },
   "outputs": [
    {
     "data": {
      "image/png": "[encoded data removed]",
      "text/plain": [
       "<Figure size 432x288 with 1 Axes>"
      ]
     },
     "metadata": {
      "needs_background": "light"
     },
     "output_type": "display_data"
    }
   ],
   "source": [
    "# Note: this code is not working properly\n",
    "plt.plot(losses)\n",
    "plt.show()"
   ]
  },
  {
   "cell_type": "markdown",
   "metadata": {
    "colab_type": "text",
    "id": "iBtjLonsUW88"
   },
   "source": [
    "and the resulting probability distributions"
   ]
  },
  {
   "cell_type": "code",
   "execution_count": 15,
   "metadata": {
    "colab": {
     "base_uri": "https://localhost:8080/",
     "height": 157
    },
    "colab_type": "code",
    "executionInfo": {
     "elapsed": 346,
     "status": "ok",
     "timestamp": 1573692456497,
     "user": {
      "displayName": "Felipe Perez",
      "photoUrl": "https://lh3.googleusercontent.com/a-/AAuE7mAlzl1P5N6zcpeIpQs5IsiUkcxTSQSPDhTtpHRG=s64",
      "userId": "00425449054874410322"
     },
     "user_tz": 300
    },
    "id": "iQt0iBTOUW89",
    "outputId": "62b79620-9148-4f5d-c158-35b6e28db033"
   },
   "outputs": [
    {
     "data": {
      "text/plain": [
       "tensor([[0.0050, 0.3160, 0.3240, 0.0010, 0.0000, 0.0010, 0.0020],\n",
       "        [0.2640, 0.0060, 0.2530, 0.0010, 0.0000, 0.0000, 0.0010],\n",
       "        [0.7280, 0.6740, 0.0010, 0.5210, 0.0030, 0.0030, 0.0000],\n",
       "        [0.0000, 0.0000, 0.4190, 0.0000, 0.0000, 0.0000, 0.4200],\n",
       "        [0.0000, 0.0010, 0.0020, 0.0010, 0.0060, 0.3500, 0.3260],\n",
       "        [0.0000, 0.0000, 0.0010, 0.0010, 0.2920, 0.0060, 0.2490],\n",
       "        [0.0020, 0.0030, 0.0000, 0.4760, 0.6990, 0.6390, 0.0020]],\n",
       "       grad_fn=<DivBackward0>)"
      ]
     },
     "execution_count": 15,
     "metadata": {},
     "output_type": "execute_result"
    }
   ],
   "source": [
    "prob_dist = torch.nn.functional.softmax(\n",
    "    torch.matmul( emb_context(torch.tensor([0,1,2,3,4,5,6])),\n",
    "                 emb_center(torch.tensor([0,1,2,3,4,5,6])).transpose(0,1)),\n",
    "    dim = 0)\n",
    "(1000*prob_dist).round()/1000"
   ]
  },
  {
   "cell_type": "markdown",
   "metadata": {
    "colab_type": "text",
    "id": "02VU_ij_UW9A"
   },
   "source": [
    "and in order to run some experiments let's get the individual vector representations"
   ]
  },
  {
   "cell_type": "code",
   "execution_count": 16,
   "metadata": {
    "colab": {
     "base_uri": "https://localhost:8080/",
     "height": 157
    },
    "colab_type": "code",
    "executionInfo": {
     "elapsed": 308,
     "status": "ok",
     "timestamp": 1573692464820,
     "user": {
      "displayName": "Felipe Perez",
      "photoUrl": "https://lh3.googleusercontent.com/a-/AAuE7mAlzl1P5N6zcpeIpQs5IsiUkcxTSQSPDhTtpHRG=s64",
      "userId": "00425449054874410322"
     },
     "user_tz": 300
    },
    "id": "kezru53MUW9B",
    "outputId": "fbd96d00-2c2b-45ea-db47-83890bda96ff"
   },
   "outputs": [
    {
     "data": {
      "text/plain": [
       "Parameter containing:\n",
       "tensor([[-1.9218,  1.6399,  0.3617],\n",
       "        [-0.7324, -0.4179,  2.4045],\n",
       "        [-1.5934, -1.3765, -0.4126],\n",
       "        [ 0.4154,  1.6028,  1.3406],\n",
       "        [ 1.2257,  1.9169, -1.0491],\n",
       "        [ 2.2683, -0.1371,  1.0720],\n",
       "        [ 0.9944, -1.1212, -1.5599]], requires_grad=True)"
      ]
     },
     "execution_count": 16,
     "metadata": {},
     "output_type": "execute_result"
    }
   ],
   "source": [
    "[G, B, Y, R, SG, SB, SY] = emb_center.weight\n",
    "emb_center.weight"
   ]
  },
  {
   "cell_type": "markdown",
   "metadata": {
    "colab_type": "text",
    "id": "i-SE5NsHUW9E"
   },
   "source": [
    "## Analogies\n",
    "\n",
    "It is clear from the graph that there are cluster that are similar, we could think of them as analogies. We need something else first. \n",
    "\n",
    "### Finding the closest one\n",
    "\n",
    "We need to a function to find the closest point (in cosine distance) to a given one"
   ]
  },
  {
   "cell_type": "code",
   "execution_count": 17,
   "metadata": {
    "colab": {},
    "colab_type": "code",
    "id": "7eAZM4SPUW9F"
   },
   "outputs": [],
   "source": [
    "def cosine_distance(a: torch.Tensor, b: torch.Tensor) -> float:\n",
    "    \"\"\"\n",
    "    Function that computes the cosine distance between two tensors\n",
    "    args: a, b - tensors\n",
    "    returns: cosine distance \n",
    "    \"\"\"\n",
    "    \n",
    "    # =========== Write your code here ===========\n",
    "    d = 1-torch.mul(a,b).sum()/torch.sqrt(torch.mul(a,a).sum() * torch.mul(b,b).sum())\n",
    "    # ============================================\n",
    "    \n",
    "    return d\n",
    "\n",
    "def closest(a: torch.Tensor) -> tuple:\n",
    "    \"\"\"\n",
    "    Function that, based on a node embeding, returns tuple capuring the string with the closest node and distance to\n",
    "    closest node\n",
    "    \n",
    "    \"\"\"\n",
    "    \n",
    "    min_distance = float(\"inf\")\n",
    "    mini_at = None \n",
    "    \n",
    "    # =========== Write your code here ===========\n",
    "    for node, label in node2idx.items():\n",
    "        if cosine_distance(a, emb_center.weight[label]) < min_distance:\n",
    "            min_distance = cosine_distance(a, emb_center.weight[label])\n",
    "            mini_at = node\n",
    "    # ============================================\n",
    "    \n",
    "    return mini_at, min_distance"
   ]
  },
  {
   "cell_type": "markdown",
   "metadata": {
    "colab_type": "text",
    "id": "1rDdX_QtUW9I"
   },
   "source": [
    "we can check that this is well defined if the following returns (Y,0)"
   ]
  },
  {
   "cell_type": "code",
   "execution_count": 18,
   "metadata": {
    "colab": {
     "base_uri": "https://localhost:8080/",
     "height": 34
    },
    "colab_type": "code",
    "executionInfo": {
     "elapsed": 442,
     "status": "ok",
     "timestamp": 1573692484098,
     "user": {
      "displayName": "Felipe Perez",
      "photoUrl": "https://lh3.googleusercontent.com/a-/AAuE7mAlzl1P5N6zcpeIpQs5IsiUkcxTSQSPDhTtpHRG=s64",
      "userId": "00425449054874410322"
     },
     "user_tz": 300
    },
    "id": "vfkwS5-fUW9I",
    "outputId": "9437ad0a-1404-44af-f916-ee3853661569"
   },
   "outputs": [
    {
     "data": {
      "text/plain": [
       "('Y', tensor(0., grad_fn=<RsubBackward1>))"
      ]
     },
     "execution_count": 18,
     "metadata": {},
     "output_type": "execute_result"
    }
   ],
   "source": [
    "closest(Y)"
   ]
  },
  {
   "cell_type": "markdown",
   "metadata": {
    "colab_type": "text",
    "id": "9aTpu5LuUW9L"
   },
   "source": [
    "### Some analogies\n",
    "\n",
    "Let's see if we can get some analogies."
   ]
  },
  {
   "cell_type": "code",
   "execution_count": 19,
   "metadata": {
    "colab": {
     "base_uri": "https://localhost:8080/",
     "height": 34
    },
    "colab_type": "code",
    "executionInfo": {
     "elapsed": 348,
     "status": "ok",
     "timestamp": 1573692499377,
     "user": {
      "displayName": "Felipe Perez",
      "photoUrl": "https://lh3.googleusercontent.com/a-/AAuE7mAlzl1P5N6zcpeIpQs5IsiUkcxTSQSPDhTtpHRG=s64",
      "userId": "00425449054874410322"
     },
     "user_tz": 300
    },
    "id": "N1mww1uuUW9M",
    "outputId": "b45f7746-8c0b-4106-c286-42be54ef8b71"
   },
   "outputs": [
    {
     "data": {
      "text/plain": [
       "('SG', tensor(0.0015, grad_fn=<RsubBackward1>))"
      ]
     },
     "execution_count": 19,
     "metadata": {},
     "output_type": "execute_result"
    }
   ],
   "source": [
    "closest(SB-B+G)"
   ]
  },
  {
   "cell_type": "code",
   "execution_count": 20,
   "metadata": {
    "colab": {
     "base_uri": "https://localhost:8080/",
     "height": 34
    },
    "colab_type": "code",
    "executionInfo": {
     "elapsed": 572,
     "status": "ok",
     "timestamp": 1573692508549,
     "user": {
      "displayName": "Felipe Perez",
      "photoUrl": "https://lh3.googleusercontent.com/a-/AAuE7mAlzl1P5N6zcpeIpQs5IsiUkcxTSQSPDhTtpHRG=s64",
      "userId": "00425449054874410322"
     },
     "user_tz": 300
    },
    "id": "Myz9GQQ8UW9T",
    "outputId": "07a4918c-0c80-4af4-e2bb-e5dc852779d0"
   },
   "outputs": [
    {
     "data": {
      "text/plain": [
       "('SB', tensor(0.0013, grad_fn=<RsubBackward1>))"
      ]
     },
     "execution_count": 20,
     "metadata": {},
     "output_type": "execute_result"
    }
   ],
   "source": [
    "closest(SG-G+B)"
   ]
  },
  {
   "cell_type": "code",
   "execution_count": 21,
   "metadata": {
    "colab": {
     "base_uri": "https://localhost:8080/",
     "height": 34
    },
    "colab_type": "code",
    "executionInfo": {
     "elapsed": 336,
     "status": "ok",
     "timestamp": 1573692518886,
     "user": {
      "displayName": "Felipe Perez",
      "photoUrl": "https://lh3.googleusercontent.com/a-/AAuE7mAlzl1P5N6zcpeIpQs5IsiUkcxTSQSPDhTtpHRG=s64",
      "userId": "00425449054874410322"
     },
     "user_tz": 300
    },
    "id": "HrNn0ACqUW9a",
    "outputId": "7c50fcab-c135-4b03-cf66-b94aa7acd49d"
   },
   "outputs": [
    {
     "data": {
      "text/plain": [
       "('SG', tensor(0.0242, grad_fn=<RsubBackward1>))"
      ]
     },
     "execution_count": 21,
     "metadata": {},
     "output_type": "execute_result"
    }
   ],
   "source": [
    "closest(SY-Y+G)"
   ]
  },
  {
   "cell_type": "markdown",
   "metadata": {
    "colab_type": "text",
    "id": "WIbMOIvHUW9d"
   },
   "source": [
    "# Some Remarks/Questions\n",
    "\n",
    "## From counts to probability distributions\n",
    "\n",
    "We can get the expected results by a simple count as we did in our previous experiment. Make sure that you understand how the following relates to the results\n"
   ]
  },
  {
   "cell_type": "code",
   "execution_count": 22,
   "metadata": {
    "colab": {
     "base_uri": "https://localhost:8080/",
     "height": 306
    },
    "colab_type": "code",
    "executionInfo": {
     "elapsed": 594,
     "status": "ok",
     "timestamp": 1573273457383,
     "user": {
      "displayName": "Felipe Perez",
      "photoUrl": "https://lh3.googleusercontent.com/a-/AAuE7mAlzl1P5N6zcpeIpQs5IsiUkcxTSQSPDhTtpHRG=s64",
      "userId": "00425449054874410322"
     },
     "user_tz": 300
    },
    "id": "G4MSin56UW9e",
    "outputId": "dca2a342-0c03-4d5e-f37e-2e0b40f1d58e"
   },
   "outputs": [
    {
     "data": {
      "text/plain": [
       "defaultdict(int,\n",
       "            {(0, 2): 959,\n",
       "             (2, 0): 959,\n",
       "             (2, 3): 1243,\n",
       "             (3, 2): 1243,\n",
       "             (0, 1): 353,\n",
       "             (1, 0): 353,\n",
       "             (1, 2): 686,\n",
       "             (2, 1): 686,\n",
       "             (3, 6): 1194,\n",
       "             (6, 3): 1194,\n",
       "             (6, 4): 892,\n",
       "             (4, 6): 892,\n",
       "             (6, 5): 628,\n",
       "             (5, 6): 628,\n",
       "             (5, 4): 345,\n",
       "             (4, 5): 345})"
      ]
     },
     "execution_count": 22,
     "metadata": {},
     "output_type": "execute_result"
    }
   ],
   "source": [
    "counts = defaultdict(int)\n",
    "for d in data:\n",
    "    counts[tuple(d)]+=1\n",
    "counts"
   ]
  },
  {
   "cell_type": "markdown",
   "metadata": {
    "colab_type": "text",
    "id": "PhKlVXNcUW9g"
   },
   "source": [
    "## Embedding dimension \n",
    "\n",
    "The embedding dimension here is a tricky business. Try to use dim = 2 and see what happens? Can you get the analogy results? (Hard) Why do you think that happens? \n",
    "\n",
    "## Different seeds\n",
    "\n",
    "What happens if we change the random seed to 13, or 42. Do we get the same results? what conclusions can you gather about this?\n",
    "\n",
    "## Loss function\n",
    "\n",
    "Look at the loss function. Make sure that you understand why the LR change creates a decrease in the loss. Can you ever get a loss of zero? why?"
   ]
  },
  {
   "cell_type": "code",
   "execution_count": null,
   "metadata": {},
   "outputs": [],
   "source": []
  }
 ],
 "metadata": {
  "colab": {
   "name": "Node to Vector.ipynb",
   "provenance": []
  },
  "kernelspec": {
   "display_name": "recsys",
   "language": "python",
   "name": "recsys"
  },
  "language_info": {
   "codemirror_mode": {
    "name": "ipython",
    "version": 3
   },
   "file_extension": ".py",
   "mimetype": "text/x-python",
   "name": "python",
   "nbconvert_exporter": "python",
   "pygments_lexer": "ipython3",
   "version": "3.7.4"
  }
 },
 "nbformat": 4,
 "nbformat_minor": 4
}
