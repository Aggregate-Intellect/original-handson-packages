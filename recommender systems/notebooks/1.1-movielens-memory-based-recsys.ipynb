{
 "cells": [
  {
   "cell_type": "markdown",
   "metadata": {
    "colab_type": "text",
    "id": "jQYas5y7nls5"
   },
   "source": [
    "# Some Memory Based RecSys Examples\n",
    "\n",
    "Let's start with the most basic approach using a popular\n",
    "(light-weight) dataset [MovieLens](http://files.grouplens.org/datasets/movielens/ml-20m.zip)"
   ]
  },
  {
   "cell_type": "code",
   "execution_count": 7,
   "metadata": {
    "colab": {},
    "colab_type": "code",
    "id": "hc01TY47Vdnv"
   },
   "outputs": [],
   "source": [
    "import numpy as np\n",
    "import pandas as pd\n",
    "from collections import defaultdict"
   ]
  },
  {
   "cell_type": "markdown",
   "metadata": {
    "colab_type": "text",
    "id": "A3d88NDr6YqL"
   },
   "source": [
    "## Load MovieLens Data"
   ]
  },
  {
   "cell_type": "code",
   "execution_count": 2,
   "metadata": {
    "colab": {
     "base_uri": "https://localhost:8080/",
     "height": 34
    },
    "colab_type": "code",
    "executionInfo": {
     "elapsed": 2323,
     "status": "ok",
     "timestamp": 1572480960961,
     "user": {
      "displayName": "Ella Chen",
      "photoUrl": "https://lh3.googleusercontent.com/a-/AAuE7mDkHxBI3MfubseoYi1ejs9VfrRF0XXcAX0H7Y529g=s64",
      "userId": "06766956205880688168"
     },
     "user_tz": 240
    },
    "id": "xgF3el8PDegU",
    "outputId": "c99be214-2738-4926-a39d-4dbd0fb04532"
   },
   "outputs": [],
   "source": [
    "data_dir = \"../data/ml-20m\"\n",
    "ratings = pd.read_csv(f\"{data_dir}/ratings.csv\")"
   ]
  },
  {
   "cell_type": "markdown",
   "metadata": {
    "colab_type": "text",
    "id": "t1UamLrcWeGN"
   },
   "source": [
    "## Similar users\n",
    "\n",
    "We work under the assumption that users are similar if they have rated similar movies in a similar way. So given two users $u$ and $u'$. We consider a distance between $d(u,u')$. There are many possible distances, but for this part let's just use the cosine distance defined as $$d(u, u') = \\frac{\\sum_i r_{ui} r_{u'i}}{\\sqrt{\\sum_i r_{ui}^2}\\sqrt{\\sum_i r_{u'i}^2}}$$\n",
    "\n",
    "Now let's recommend movies to an user, this should be easy, right? Well, not really, the naive approaches for this require large amount of memory and computer resources. \n",
    "\n",
    "**Important:** Why?\n",
    "\n",
    "So let's focus only on the 100 most popular movies (ranked more often by users).\n",
    "\n",
    "### Exercise:\n",
    "\n",
    "Try to collect the users that have rated any of the top 100 movies. The solution is below because we need that data, but make sure to give it a try before reading it. "
   ]
  },
  {
   "cell_type": "code",
   "execution_count": null,
   "metadata": {
    "colab": {},
    "colab_type": "code",
    "id": "9pu398afWgHK"
   },
   "outputs": [],
   "source": []
  },
  {
   "cell_type": "markdown",
   "metadata": {
    "colab_type": "text",
    "id": "v-BQbBVpWgzK"
   },
   "source": [
    "In case that you didn't solve the problem, here is a solution:"
   ]
  },
  {
   "cell_type": "code",
   "execution_count": 3,
   "metadata": {
    "colab": {},
    "colab_type": "code",
    "id": "ohWWFpwLWivx"
   },
   "outputs": [],
   "source": [
    "popular = ratings[['movieId', 'userId']].groupby('movieId', as_index=False).agg(len).sort_values('userId').tail(100)\n",
    "ratings_small = ratings[ratings['movieId'].isin(popular['movieId'].values)].copy(deep=True)"
   ]
  },
  {
   "cell_type": "markdown",
   "metadata": {
    "colab_type": "text",
    "id": "aTSTIPvUXwtl"
   },
   "source": [
    "Note that the number of users that we have now is "
   ]
  },
  {
   "cell_type": "code",
   "execution_count": 4,
   "metadata": {
    "colab": {
     "base_uri": "https://localhost:8080/",
     "height": 102
    },
    "colab_type": "code",
    "executionInfo": {
     "elapsed": 1284,
     "status": "ok",
     "timestamp": 1572366927178,
     "user": {
      "displayName": "Ella Chen",
      "photoUrl": "https://lh3.googleusercontent.com/a-/AAuE7mDkHxBI3MfubseoYi1ejs9VfrRF0XXcAX0H7Y529g=s64",
      "userId": "06766956205880688168"
     },
     "user_tz": 240
    },
    "id": "Pf9ydZLdXtL3",
    "jupyter": {
     "source_hidden": true
    },
    "outputId": "144be515-8416-4a13-926c-dd3beb9be25b"
   },
   "outputs": [
    {
     "data": {
      "text/plain": [
       "userId        134428\n",
       "movieId          100\n",
       "rating            10\n",
       "timestamp    2956091\n",
       "dtype: int64"
      ]
     },
     "execution_count": 4,
     "metadata": {},
     "output_type": "execute_result"
    }
   ],
   "source": [
    "ratings_small.nunique()"
   ]
  },
  {
   "cell_type": "markdown",
   "metadata": {
    "colab_type": "text",
    "id": "HU0usczbX2Jr"
   },
   "source": [
    "Now, suppose that we have an user and we want to find the most similar users. \n",
    "\n",
    "### Exercise:\n",
    "- What is the computation complexity of this? \n",
    "- Is it the same if there are 1000 products, a million?\n",
    "- What if you want to compute the similariy between all users?\n",
    "\n",
    "The following is a naive implementation for finding the similarity score:"
   ]
  },
  {
   "cell_type": "code",
   "execution_count": 5,
   "metadata": {
    "colab": {},
    "colab_type": "code",
    "id": "SgF1tT6lX0AJ"
   },
   "outputs": [],
   "source": [
    "def score_for_user_naive(userId, ratings):\n",
    "    \n",
    "    \n",
    "    def prod(row):\n",
    "        \n",
    "        movieId = int(row['movieId'])\n",
    "        \n",
    "        if movieId in user_vec:\n",
    "            return user_vec[movieId] * row['rating']\n",
    "        else:\n",
    "            return 0.0\n",
    "        \n",
    "    user_ratings = ratings[ratings['userId'] == userId]\n",
    "    \n",
    "    user_vec = {int(movieId):rating for movieId, rating in user_ratings[['movieId', 'rating']].values}\n",
    "    user_vec = defaultdict(float, user_vec)\n",
    "    user_vec_norm = (user_ratings.rating ** 2).sum()\n",
    "    \n",
    "    ratings['rating_squared'] = ratings['rating'] ** 2\n",
    "    \n",
    "    ratings['rating_prod'] = ratings[['movieId', 'rating']].apply(prod, axis=1)\n",
    "    \n",
    "    scores = ratings.groupby('userId', as_index=False).agg({'rating_squared':sum, 'rating_prod':sum})\n",
    "    \n",
    "    scores[\"cosine\"] = scores[\"rating_prod\"]/np.sqrt(scores['rating_squared'] * user_vec_norm)\n",
    "    \n",
    "    # Exercise: How does the following scale? what can you do instead of this? \n",
    "    # Hint: Think on how the data is going to be used\n",
    "    scores = scores.sort_values('cosine')\n",
    "    \n",
    "    return scores[['userId', 'cosine']]\n",
    "    "
   ]
  },
  {
   "cell_type": "markdown",
   "metadata": {
    "colab_type": "text",
    "id": "ts0D0gOrX91n"
   },
   "source": [
    "And the score for the users to userId = 1.0"
   ]
  },
  {
   "cell_type": "code",
   "execution_count": 8,
   "metadata": {
    "colab": {},
    "colab_type": "code",
    "id": "SiXm3xYdX5Q7"
   },
   "outputs": [],
   "source": [
    "scores = score_for_user_naive(1.0, ratings_small)"
   ]
  },
  {
   "cell_type": "markdown",
   "metadata": {
    "colab_type": "text",
    "id": "jWovRzm7YKlv"
   },
   "source": [
    "There's another approach which consists of doing a matrix multiplication. \n",
    "\n",
    "### Exercise:\n",
    "- Implement the matrix multiplication approach\n",
    "- Did you encounter any problem?\n"
   ]
  },
  {
   "cell_type": "code",
   "execution_count": null,
   "metadata": {
    "colab": {},
    "colab_type": "code",
    "id": "C4UYiDQBYJAB"
   },
   "outputs": [],
   "source": []
  },
  {
   "cell_type": "markdown",
   "metadata": {
    "colab_type": "text",
    "id": "mNSIFOLiYOWd"
   },
   "source": [
    "**Advanced:**\n",
    "- Implement the sparse version of the above. Hint: Think about sparse row_matrix and multiprocessing if you want to speed this up. How fast can you make it run?\n",
    "\n",
    "The results will be sorted, so we obtain the last 11"
   ]
  },
  {
   "cell_type": "code",
   "execution_count": null,
   "metadata": {
    "colab": {
     "base_uri": "https://localhost:8080/",
     "height": 390
    },
    "colab_type": "code",
    "executionInfo": {
     "elapsed": 444,
     "status": "ok",
     "timestamp": 1572367065140,
     "user": {
      "displayName": "Ella Chen",
      "photoUrl": "https://lh3.googleusercontent.com/a-/AAuE7mDkHxBI3MfubseoYi1ejs9VfrRF0XXcAX0H7Y529g=s64",
      "userId": "06766956205880688168"
     },
     "user_tz": 240
    },
    "id": "5M5CjEgrYQks",
    "outputId": "bc32a455-8e8b-497c-965c-c38c32083817"
   },
   "outputs": [
    {
     "data": {
      "text/html": [
       "<div>\n",
       "<style scoped>\n",
       "    .dataframe tbody tr th:only-of-type {\n",
       "        vertical-align: middle;\n",
       "    }\n",
       "\n",
       "    .dataframe tbody tr th {\n",
       "        vertical-align: top;\n",
       "    }\n",
       "\n",
       "    .dataframe thead th {\n",
       "        text-align: right;\n",
       "    }\n",
       "</style>\n",
       "<table border=\"1\" class=\"dataframe\">\n",
       "  <thead>\n",
       "    <tr style=\"text-align: right;\">\n",
       "      <th></th>\n",
       "      <th>userId</th>\n",
       "      <th>cosine</th>\n",
       "    </tr>\n",
       "  </thead>\n",
       "  <tbody>\n",
       "    <tr>\n",
       "      <th>123178</th>\n",
       "      <td>126885</td>\n",
       "      <td>0.756793</td>\n",
       "    </tr>\n",
       "    <tr>\n",
       "      <th>28058</th>\n",
       "      <td>28916</td>\n",
       "      <td>0.757676</td>\n",
       "    </tr>\n",
       "    <tr>\n",
       "      <th>8258</th>\n",
       "      <td>8508</td>\n",
       "      <td>0.758243</td>\n",
       "    </tr>\n",
       "    <tr>\n",
       "      <th>24488</th>\n",
       "      <td>25236</td>\n",
       "      <td>0.760611</td>\n",
       "    </tr>\n",
       "    <tr>\n",
       "      <th>20547</th>\n",
       "      <td>21174</td>\n",
       "      <td>0.763546</td>\n",
       "    </tr>\n",
       "    <tr>\n",
       "      <th>8863</th>\n",
       "      <td>9129</td>\n",
       "      <td>0.766365</td>\n",
       "    </tr>\n",
       "    <tr>\n",
       "      <th>78833</th>\n",
       "      <td>81275</td>\n",
       "      <td>0.768049</td>\n",
       "    </tr>\n",
       "    <tr>\n",
       "      <th>110283</th>\n",
       "      <td>113612</td>\n",
       "      <td>0.770371</td>\n",
       "    </tr>\n",
       "    <tr>\n",
       "      <th>21221</th>\n",
       "      <td>21870</td>\n",
       "      <td>0.777655</td>\n",
       "    </tr>\n",
       "    <tr>\n",
       "      <th>118841</th>\n",
       "      <td>122435</td>\n",
       "      <td>0.790843</td>\n",
       "    </tr>\n",
       "    <tr>\n",
       "      <th>0</th>\n",
       "      <td>1</td>\n",
       "      <td>1.000000</td>\n",
       "    </tr>\n",
       "  </tbody>\n",
       "</table>\n",
       "</div>"
      ],
      "text/plain": [
       "        userId    cosine\n",
       "123178  126885  0.756793\n",
       "28058    28916  0.757676\n",
       "8258      8508  0.758243\n",
       "24488    25236  0.760611\n",
       "20547    21174  0.763546\n",
       "8863      9129  0.766365\n",
       "78833    81275  0.768049\n",
       "110283  113612  0.770371\n",
       "21221    21870  0.777655\n",
       "118841  122435  0.790843\n",
       "0            1  1.000000"
      ]
     },
     "execution_count": 19,
     "metadata": {
      "tags": []
     },
     "output_type": "execute_result"
    }
   ],
   "source": [
    "scores.tail(11)"
   ]
  },
  {
   "cell_type": "markdown",
   "metadata": {
    "colab_type": "text",
    "id": "GECdls0KYWeK"
   },
   "source": [
    "Let's check what user 1 and user 122435 have in common."
   ]
  },
  {
   "cell_type": "code",
   "execution_count": null,
   "metadata": {
    "colab": {
     "base_uri": "https://localhost:8080/",
     "height": 173
    },
    "colab_type": "code",
    "executionInfo": {
     "elapsed": 572,
     "status": "ok",
     "timestamp": 1572367083110,
     "user": {
      "displayName": "Ella Chen",
      "photoUrl": "https://lh3.googleusercontent.com/a-/AAuE7mDkHxBI3MfubseoYi1ejs9VfrRF0XXcAX0H7Y529g=s64",
      "userId": "06766956205880688168"
     },
     "user_tz": 240
    },
    "id": "JILFS1ZCYW6m",
    "outputId": "53d71522-eefe-4fd3-8278-45e638415f09"
   },
   "outputs": [
    {
     "data": {
      "text/html": [
       "<div>\n",
       "<style scoped>\n",
       "    .dataframe tbody tr th:only-of-type {\n",
       "        vertical-align: middle;\n",
       "    }\n",
       "\n",
       "    .dataframe tbody tr th {\n",
       "        vertical-align: top;\n",
       "    }\n",
       "\n",
       "    .dataframe thead tr th {\n",
       "        text-align: left;\n",
       "    }\n",
       "\n",
       "    .dataframe thead tr:last-of-type th {\n",
       "        text-align: right;\n",
       "    }\n",
       "</style>\n",
       "<table border=\"1\" class=\"dataframe\">\n",
       "  <thead>\n",
       "    <tr>\n",
       "      <th></th>\n",
       "      <th colspan=\"2\" halign=\"left\">movieId</th>\n",
       "    </tr>\n",
       "    <tr>\n",
       "      <th></th>\n",
       "      <th>list</th>\n",
       "      <th>len</th>\n",
       "    </tr>\n",
       "    <tr>\n",
       "      <th>userId</th>\n",
       "      <th></th>\n",
       "      <th></th>\n",
       "    </tr>\n",
       "  </thead>\n",
       "  <tbody>\n",
       "    <tr>\n",
       "      <th>1</th>\n",
       "      <td>[32, 47, 50, 253, 260, 293, 296, 318, 367, 541...</td>\n",
       "      <td>36</td>\n",
       "    </tr>\n",
       "    <tr>\n",
       "      <th>122435</th>\n",
       "      <td>[32, 47, 50, 110, 150, 165, 253, 260, 293, 296...</td>\n",
       "      <td>46</td>\n",
       "    </tr>\n",
       "  </tbody>\n",
       "</table>\n",
       "</div>"
      ],
      "text/plain": [
       "                                                  movieId    \n",
       "                                                     list len\n",
       "userId                                                       \n",
       "1       [32, 47, 50, 253, 260, 293, 296, 318, 367, 541...  36\n",
       "122435  [32, 47, 50, 110, 150, 165, 253, 260, 293, 296...  46"
      ]
     },
     "execution_count": 20,
     "metadata": {
      "tags": []
     },
     "output_type": "execute_result"
    }
   ],
   "source": [
    "two_users = ratings_small[(ratings_small['userId'] == 1) | (ratings_small['userId'] == 122435)] \\\n",
    ".groupby('userId').agg({'movieId':(list,len)})\n",
    "two_users"
   ]
  },
  {
   "cell_type": "code",
   "execution_count": null,
   "metadata": {
    "colab": {
     "base_uri": "https://localhost:8080/",
     "height": 34
    },
    "colab_type": "code",
    "executionInfo": {
     "elapsed": 415,
     "status": "ok",
     "timestamp": 1572367091753,
     "user": {
      "displayName": "Ella Chen",
      "photoUrl": "https://lh3.googleusercontent.com/a-/AAuE7mDkHxBI3MfubseoYi1ejs9VfrRF0XXcAX0H7Y529g=s64",
      "userId": "06766956205880688168"
     },
     "user_tz": 240
    },
    "id": "W2GtGuSoYaPT",
    "outputId": "d99400ca-0242-49eb-e3c3-cbb30f729205"
   },
   "outputs": [
    {
     "data": {
      "text/plain": [
       "31"
      ]
     },
     "execution_count": 21,
     "metadata": {
      "tags": []
     },
     "output_type": "execute_result"
    }
   ],
   "source": [
    "len(set(two_users.values[0][0]).intersection(set(two_users.values[1][0])))"
   ]
  },
  {
   "cell_type": "markdown",
   "metadata": {
    "colab_type": "text",
    "id": "yOK7yv0RYeZN"
   },
   "source": [
    "So they share 31 different rated movies. \n",
    "\n",
    "### Exercise: \n",
    "\n",
    "Investigate the relation of the ratings? That is, do they rate movies in a similar way?"
   ]
  },
  {
   "cell_type": "markdown",
   "metadata": {
    "colab_type": "text",
    "id": "gi9QmyIDYfoA"
   },
   "source": [
    "We could use user 122435 to help user 1 choose the next item, by simply recommending the highest rated product that user 122435 has seen and user 1 hasn't. But there are more users, and more ratings. We can leverage everyone's information by computing an score for each movie according to all users, weighted by how similar the user $u'$ is to user $u$.\n",
    "$$\\hat{r}_{ui} = \\frac{\\sum\\limits_{u'} sim(u, u') r_{u'i}}{\\sum\\limits_{u'}|sim(u, u')|}$$\n",
    "\n",
    "**Coding exercise:** \n",
    "\n",
    "Find a recommendation for user 1 using the previous approach.\n",
    "\n",
    "**Coding challenge:** \n",
    "\n",
    "Can you do the same with 10000 movies? With all the movies? How fast does your code run? What about if you use C++ or Java? \n",
    "\n",
    "**Extra Questions:** \n",
    "\n",
    "If you were able to finish the exercises above, try exploring/coding the following.\n",
    "\n",
    "- Potential problems of this approach?\n",
    "- How to validate?\n",
    "- What if we only choose the top k closest?\n",
    "- What happens if we need to recommend to every user?\n"
   ]
  },
  {
   "cell_type": "code",
   "execution_count": null,
   "metadata": {
    "colab": {},
    "colab_type": "code",
    "id": "TY2J1IAzYcZD"
   },
   "outputs": [],
   "source": []
  },
  {
   "cell_type": "code",
   "execution_count": null,
   "metadata": {
    "colab": {},
    "colab_type": "code",
    "id": "f95DZPbiYgvW"
   },
   "outputs": [],
   "source": []
  }
 ],
 "metadata": {
  "colab": {
   "name": "Copy of Session_1.1.ipynb",
   "provenance": [],
   "toc_visible": true
  },
  "kernelspec": {
   "display_name": "Python 3",
   "language": "python",
   "name": "python3"
  },
  "language_info": {
   "codemirror_mode": {
    "name": "ipython",
    "version": 3
   },
   "file_extension": ".py",
   "mimetype": "text/x-python",
   "name": "python",
   "nbconvert_exporter": "python",
   "pygments_lexer": "ipython3",
   "version": "3.8.5"
  }
 },
 "nbformat": 4,
 "nbformat_minor": 4
}
