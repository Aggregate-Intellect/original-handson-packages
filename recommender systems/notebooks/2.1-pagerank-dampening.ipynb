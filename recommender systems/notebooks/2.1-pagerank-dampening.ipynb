{
 "cells": [
  {
   "cell_type": "markdown",
   "metadata": {},
   "source": [
    "# PageRank Dampening"
   ]
  },
  {
   "cell_type": "code",
   "execution_count": 1,
   "metadata": {
    "colab": {},
    "colab_type": "code",
    "id": "dOJmYjzC9bhI"
   },
   "outputs": [],
   "source": [
    "import numpy as np\n",
    "import matplotlib.pyplot as plt\n",
    "np.random.seed(13)"
   ]
  },
  {
   "cell_type": "markdown",
   "metadata": {
    "colab_type": "text",
    "id": "zqPlvMMA-Nzr"
   },
   "source": [
    "In this notebook we explore the effect of dampening in page rank. We start by creating a fake world, let's say with 10 webpages."
   ]
  },
  {
   "cell_type": "code",
   "execution_count": 2,
   "metadata": {
    "colab": {
     "base_uri": "https://localhost:8080/",
     "height": 187
    },
    "colab_type": "code",
    "executionInfo": {
     "elapsed": 664,
     "status": "ok",
     "timestamp": 1572753530900,
     "user": {
      "displayName": "Felipe Perez",
      "photoUrl": "https://lh3.googleusercontent.com/a-/AAuE7mAlzl1P5N6zcpeIpQs5IsiUkcxTSQSPDhTtpHRG=s64",
      "userId": "00425449054874410322"
     },
     "user_tz": 240
    },
    "id": "vCfeVmYP9jjM",
    "outputId": "08f787fe-9867-4e27-d176-7e0253ce6e20"
   },
   "outputs": [
    {
     "data": {
      "text/plain": [
       "{0: array([3, 5, 7]),\n",
       " 1: array([4, 8, 0, 3, 1]),\n",
       " 2: array([4]),\n",
       " 3: array([1, 7, 8, 9, 0, 3, 5, 4, 2]),\n",
       " 4: array([6, 0, 4, 3, 2, 5]),\n",
       " 5: array([7, 1, 4, 5]),\n",
       " 6: array([2, 6, 8, 9, 1, 7, 0]),\n",
       " 7: array([5, 9, 7, 8]),\n",
       " 8: array([0]),\n",
       " 9: array([8, 7, 6, 5])}"
      ]
     },
     "execution_count": 2,
     "metadata": {},
     "output_type": "execute_result"
    }
   ],
   "source": [
    "size = 10\n",
    "pages = list(range(size))\n",
    "links_from = {}\n",
    "for i in range(size):\n",
    "  j = np.random.randint(1,size)\n",
    "  links_from[i] = np.random.choice(list(range(size)), j, replace=False)\n",
    "links_from"
   ]
  },
  {
   "cell_type": "markdown",
   "metadata": {
    "colab_type": "text",
    "id": "jXAOuHSNEcbr"
   },
   "source": [
    "So, we need to build the associated matrices and vectors"
   ]
  },
  {
   "cell_type": "code",
   "execution_count": 3,
   "metadata": {
    "colab": {},
    "colab_type": "code",
    "id": "3qswTUSrBl5A"
   },
   "outputs": [],
   "source": [
    "PR = 1/size * np.ones(size)\n",
    "def create_transiction(links_from, d):\n",
    "  M = np.zeros((size, size))\n",
    "  for i in range(size):\n",
    "    for j in links_from[i]:\n",
    "      M[j, i] = 1/links_from[i].shape[0]\n",
    "  E = 1/size * np.ones((size, size))\n",
    "  transiction = (1-d) * E + d * M\n",
    "  return transiction\n",
    "\n",
    "transiction = create_transiction(links_from, d=0.8)"
   ]
  },
  {
   "cell_type": "code",
   "execution_count": 4,
   "metadata": {
    "colab": {
     "base_uri": "https://localhost:8080/",
     "height": 51
    },
    "colab_type": "code",
    "executionInfo": {
     "elapsed": 645,
     "status": "ok",
     "timestamp": 1572753530901,
     "user": {
      "displayName": "Felipe Perez",
      "photoUrl": "https://lh3.googleusercontent.com/a-/AAuE7mAlzl1P5N6zcpeIpQs5IsiUkcxTSQSPDhTtpHRG=s64",
      "userId": "00425449054874410322"
     },
     "user_tz": 240
    },
    "id": "isKWGQYvBtlO",
    "outputId": "f9b180a3-2d19-43fc-b765-967db2679ca1"
   },
   "outputs": [
    {
     "data": {
      "text/plain": [
       "array([0.1453081 , 0.07293561, 0.05604334, 0.10075965, 0.12955118,\n",
       "       0.15178695, 0.06056115, 0.13809201, 0.08461815, 0.06034386])"
      ]
     },
     "execution_count": 4,
     "metadata": {},
     "output_type": "execute_result"
    }
   ],
   "source": [
    "for i in range(2):\n",
    "  PR = np.matmul(transiction , PR)\n",
    "PR"
   ]
  },
  {
   "cell_type": "code",
   "execution_count": 5,
   "metadata": {
    "colab": {},
    "colab_type": "code",
    "id": "uurVQQYxJe1n"
   },
   "outputs": [],
   "source": [
    "rank = {i: [] for i in range(10)}\n",
    "\n",
    "for d in np.linspace(0.01, 1, num=100):\n",
    "  transiction = create_transiction(links_from, d=d)\n",
    "  PR = 1/size * np.ones(size)\n",
    "  for i in range(10):\n",
    "    PR = np.matmul(transiction , PR)\n",
    "  for i in range(10):\n",
    "    args_sorted = np.argsort(-PR)\n",
    "    rank[i].append(args_sorted[i])\n"
   ]
  },
  {
   "cell_type": "code",
   "execution_count": 6,
   "metadata": {
    "colab": {
     "base_uri": "https://localhost:8080/",
     "height": 585
    },
    "colab_type": "code",
    "executionInfo": {
     "elapsed": 2148,
     "status": "ok",
     "timestamp": 1572754059711,
     "user": {
      "displayName": "Felipe Perez",
      "photoUrl": "https://lh3.googleusercontent.com/a-/AAuE7mAlzl1P5N6zcpeIpQs5IsiUkcxTSQSPDhTtpHRG=s64",
      "userId": "00425449054874410322"
     },
     "user_tz": 240
    },
    "id": "qdhw_NaQTKnC",
    "outputId": "ca551942-08c1-4e8f-bf7f-39db5f8117ef"
   },
   "outputs": [
    {
     "data": {
      "image/png": "[encoded data removed]",
      "text/plain": [
       "<Figure size 1440x576 with 10 Axes>"
      ]
     },
     "metadata": {
      "needs_background": "light"
     },
     "output_type": "display_data"
    }
   ],
   "source": [
    "fig, axs = plt.subplots(2, 5, figsize=(20, 8))\n",
    "for i in range(5):\n",
    "  for j in range(2):\n",
    "    axs[j, i].scatter(np.linspace(0.01, 1, num=100), rank[j * 5 + i])\n",
    "    axs[j, i].set_title('rank {}'.format(j * 5 + i + 1)) \n",
    "    axs[j, i].set_ylim(0,10)\n",
    "plt.tight_layout()\n",
    "plt.show()"
   ]
  },
  {
   "cell_type": "code",
   "execution_count": null,
   "metadata": {
    "colab": {},
    "colab_type": "code",
    "id": "TG9bMNtfJhUv"
   },
   "outputs": [],
   "source": []
  }
 ],
 "metadata": {
  "colab": {
   "name": "PageRank.ipynb",
   "provenance": []
  },
  "kernelspec": {
   "display_name": "Python 3",
   "language": "python",
   "name": "python3"
  },
  "language_info": {
   "codemirror_mode": {
    "name": "ipython",
    "version": 3
   },
   "file_extension": ".py",
   "mimetype": "text/x-python",
   "name": "python",
   "nbconvert_exporter": "python",
   "pygments_lexer": "ipython3",
   "version": "3.8.5"
  }
 },
 "nbformat": 4,
 "nbformat_minor": 4
}
