{
 "cells": [
  {
   "cell_type": "markdown",
   "metadata": {},
   "source": [
    "# Variational autoencoder for collaborative filtering"
   ]
  },
  {
   "cell_type": "code",
   "execution_count": 1,
   "metadata": {
    "colab": {
     "base_uri": "https://localhost:8080/",
     "height": 54
    },
    "colab_type": "code",
    "executionInfo": {
     "elapsed": 579,
     "status": "ok",
     "timestamp": 1573694376879,
     "user": {
      "displayName": "Felipe Perez",
      "photoUrl": "https://lh3.googleusercontent.com/a-/AAuE7mAlzl1P5N6zcpeIpQs5IsiUkcxTSQSPDhTtpHRG=s64",
      "userId": "00425449054874410322"
     },
     "user_tz": 300
    },
    "id": "Mx66azivlsmQ",
    "outputId": "05ee028e-9c08-4ea3-a077-6e317acf24f3"
   },
   "outputs": [],
   "source": [
    "import torch\n",
    "import torch.nn as nn\n",
    "from torch.utils.data import DataLoader\n",
    "import numpy as np\n",
    "import matplotlib.pyplot as plt\n",
    "import pandas as pd\n",
    "from tqdm import tqdm"
   ]
  },
  {
   "cell_type": "markdown",
   "metadata": {
    "colab_type": "text",
    "id": "gVA1E7aBmM0l"
   },
   "source": [
    "Parts of this notebook are based on the paper [Variational Autoencoders for collaborativge filtering](https://arxiv.org/pdf/1802.05814.pdf) and on the notebook in [here](https://github.com/MaurizioFD/RecSys2019_DeepLearning_Evaluation/blob/989e57faf048eb76221cad851ff224ccca02fa81/Conferences/WWW/MultiVAE_github/VAE_ML20M_WWW2018.ipynb). As in the paper we want to consider it as implicit feedback, so we want to change the rating to a 0, 1 point system. Anything we score 4 or higher will be make into a 1, anythin else will be zero. We also only consider the users that have more than five ratings and the top 100 most rated movies."
   ]
  },
  {
   "cell_type": "code",
   "execution_count": 2,
   "metadata": {
    "colab": {},
    "colab_type": "code",
    "id": "zsZLieA3mpRh"
   },
   "outputs": [],
   "source": [
    "movielens = pd.read_csv(\"../data/ml-20m/ratings.csv\").drop(\"timestamp\", axis=1)\n",
    "\n",
    "# Get the user with at least 5 ratings\n",
    "relevant_users = movielens.groupby(\"userId\", as_index=False).agg({'movieId':len})\n",
    "releant_users = relevant_users[relevant_users.movieId > 4].drop('movieId', axis=1)\n",
    "\n",
    "dataset = movielens.merge(releant_users)\n",
    "\n",
    "# Get 100 most rated movies\n",
    "top_100 = movielens.movieId.value_counts()[:100].index.values\n",
    "dataset = dataset[dataset['movieId'].isin(top_100)]\n",
    "\n",
    "# Change to implicit feedback \n",
    "dataset['rating'] = dataset['rating'].apply(lambda r: 0 if r<4 else 1)"
   ]
  },
  {
   "cell_type": "markdown",
   "metadata": {
    "colab_type": "text",
    "id": "hDSsGbfgM9ZZ"
   },
   "source": [
    "To make our life easier we will reindex the userId and the movieId"
   ]
  },
  {
   "cell_type": "code",
   "execution_count": 3,
   "metadata": {
    "colab": {},
    "colab_type": "code",
    "id": "KIcnPsq8niZt"
   },
   "outputs": [],
   "source": [
    "idx2movie = dataset.movieId.unique()\n",
    "movie2idx = {movie:idx for idx, movie in enumerate(idx2movie)}\n",
    "\n",
    "dataset['movieId'] = dataset['movieId'].apply(lambda movie: movie2idx[movie])\n",
    "\n",
    "idx2user = dataset.userId.unique()\n",
    "user2idx = {user:idx for idx, user in enumerate(idx2user)}\n",
    "dataset['userId'] = dataset['userId'].apply(lambda user: user2idx[user])"
   ]
  },
  {
   "cell_type": "markdown",
   "metadata": {
    "colab_type": "text",
    "id": "vg-xl0SGOux1"
   },
   "source": [
    "We build our model next. A conceptual graphical representation is displayed below "
   ]
  },
  {
   "cell_type": "markdown",
   "metadata": {},
   "source": [
    "![caption](../figures/MVAE.png)"
   ]
  },
  {
   "cell_type": "code",
   "execution_count": 4,
   "metadata": {
    "colab": {},
    "colab_type": "code",
    "id": "TUCuYI4ooJZI"
   },
   "outputs": [],
   "source": [
    "class MultiVAE(nn.Module):\n",
    "    \n",
    "    def __init__(self,p_dims=[80, 40], nb_items=100, minibatch_size=100):   \n",
    "        super(MultiVAE, self).__init__()\n",
    "        self.encoder = nn.Sequential(\n",
    "            nn.Linear(nb_items, p_dims[0]), \n",
    "            nn.Tanh(), \n",
    "            nn.Linear(p_dims[0], p_dims[1]),\n",
    "            nn.Tanh(),\n",
    "        )\n",
    "        \n",
    "        self.decoder = nn.Sequential(\n",
    "            nn.Linear(p_dims[1]//2, p_dims[0]),\n",
    "            nn.Tanh(),\n",
    "            nn.Linear(p_dims[0], nb_items),\n",
    "            nn.Tanh(),\n",
    "        )\n",
    "        self.minibatch_size = minibatch_size\n",
    "    \n",
    "    \n",
    "    def reparametrize(self, mu, logvar):\n",
    "        std = torch.exp(0.5*logvar)\n",
    "        eps = torch.normal(torch.zeros_like(mu), torch.ones_like(mu))\n",
    "        \n",
    "        return mu + eps*std\n",
    "\n",
    "    \n",
    "    def forward(self, users):\n",
    "        # users are bz x nb_items with only zeros and ones\n",
    "        latent_rep = self.encoder(users)\n",
    "        emb_size = latent_rep.size(1)//2\n",
    "        mu = latent_rep[:, :emb_size] \n",
    "        logvar = latent_rep[:, emb_size:]\n",
    "\n",
    "        z = self.reparametrize(mu, logvar) \n",
    "\n",
    "        logits = self.decoder(z)\n",
    "\n",
    "        # This is the KL between q(z|x_i) and p(z). That is tries to keep \n",
    "        # the distributions within the p(z) region\n",
    "        KLD = -0.5 * torch.sum(1 + logvar - mu.pow(2) - logvar.exp(), dim=1)\n",
    "\n",
    "        # This corresponds to the sampling\n",
    "        reconstruction = -(torch.log_softmax(logits, dim=1)*users).sum(dim=1)\n",
    "\n",
    "        loss = (self.minibatch_size*reconstruction + KLD).mean()\n",
    "        \n",
    "        return loss\n",
    "\n",
    "    \n",
    "    def reconstruct(self, users):\n",
    "        self.eval()\n",
    "\n",
    "        latent_rep = self.encoder(users)\n",
    "        emb_size = latent_rep.size(1)//2\n",
    "        mu = latent_rep[:, :emb_size] \n",
    "        logvar = latent_rep[:, emb_size:]\n",
    "\n",
    "        z = self.reparametrize(mu, logvar) \n",
    "\n",
    "        logits = self.decoder(z)\n",
    "\n",
    "        return torch.softmax(logits, dim=1).detach().numpy()\n"
   ]
  },
  {
   "cell_type": "code",
   "execution_count": 6,
   "metadata": {},
   "outputs": [],
   "source": [
    "# MODEL \n",
    "m_vae = MultiVAE(minibatch_size=200)"
   ]
  },
  {
   "cell_type": "markdown",
   "metadata": {
    "colab_type": "text",
    "id": "ZLN3_-xcBz9x"
   },
   "source": [
    "Before training, we need the dataloader\n",
    "\n"
   ]
  },
  {
   "cell_type": "code",
   "execution_count": 7,
   "metadata": {
    "colab": {},
    "colab_type": "code",
    "id": "R_Ht2sy7pCBB"
   },
   "outputs": [],
   "source": [
    "data = torch.zeros(len(user2idx), 100)\n",
    "movie_lists = dataset.groupby('userId', as_index=False).agg({'movieId':list})\n",
    "for user_row in movie_lists.iterrows():\n",
    "    data[user_row[1]['userId']][user_row[1]['movieId']] = 1\n",
    "dataloader = DataLoader(data, batch_size=50, shuffle=True)"
   ]
  },
  {
   "cell_type": "markdown",
   "metadata": {
    "colab_type": "text",
    "id": "Y6Ssj2LwD-QV"
   },
   "source": [
    "We also need an optimizer and we are ready to train"
   ]
  },
  {
   "cell_type": "code",
   "execution_count": 8,
   "metadata": {
    "colab": {
     "base_uri": "https://localhost:8080/",
     "height": 34
    },
    "colab_type": "code",
    "executionInfo": {
     "elapsed": 64672,
     "status": "ok",
     "timestamp": 1573695892759,
     "user": {
      "displayName": "Felipe Perez",
      "photoUrl": "https://lh3.googleusercontent.com/a-/AAuE7mAlzl1P5N6zcpeIpQs5IsiUkcxTSQSPDhTtpHRG=s64",
      "userId": "00425449054874410322"
     },
     "user_tz": 300
    },
    "id": "E2UiqoqPCSTX",
    "outputId": "58aa5fcb-a98a-4a43-b4ce-430d304eefbb"
   },
   "outputs": [
    {
     "name": "stderr",
     "output_type": "stream",
     "text": [
      "100%|████████████████████████████████████████████████████████████████████████████████████| 5/5 [00:32<00:00,  6.56s/it]\n"
     ]
    }
   ],
   "source": [
    "optim = torch.optim.Adam(m_vae.parameters())\n",
    "losses = []\n",
    "from tqdm import trange\n",
    "for i in trange(5):\n",
    "    for users in dataloader: #tqdm(dataloader, total=len(dataloader)):\n",
    "        optim.zero_grad()\n",
    "        loss = m_vae(users)\n",
    "        loss.backward()\n",
    "        optim.step()\n",
    "        losses.append(loss.item())\n"
   ]
  },
  {
   "cell_type": "code",
   "execution_count": 9,
   "metadata": {},
   "outputs": [
    {
     "data": {
      "image/png": "[encoded data removed]",
      "text/plain": [
       "<Figure size 432x288 with 1 Axes>"
      ]
     },
     "metadata": {
      "needs_background": "light"
     },
     "output_type": "display_data"
    }
   ],
   "source": [
    "plt.plot(losses)\n",
    "plt.show()"
   ]
  },
  {
   "cell_type": "markdown",
   "metadata": {},
   "source": [
    "## Visualization and similarity for reconstructed data"
   ]
  },
  {
   "cell_type": "markdown",
   "metadata": {},
   "source": [
    "We now reconstruct a subset of the data"
   ]
  },
  {
   "cell_type": "code",
   "execution_count": 10,
   "metadata": {},
   "outputs": [],
   "source": [
    "# size of subset to be recunstructed\n",
    "subset_size = 20"
   ]
  },
  {
   "cell_type": "code",
   "execution_count": 11,
   "metadata": {},
   "outputs": [],
   "source": [
    "# recunstruction \n",
    "rec = m_vae.reconstruct(data[:subset_size])"
   ]
  },
  {
   "cell_type": "markdown",
   "metadata": {},
   "source": [
    "The following shows, respectively, the original data and its reconstructed counterpart"
   ]
  },
  {
   "cell_type": "code",
   "execution_count": 12,
   "metadata": {},
   "outputs": [
    {
     "data": {
      "image/png": "[encoded data removed]",
      "text/plain": [
       "<Figure size 2880x1440 with 2 Axes>"
      ]
     },
     "metadata": {
      "needs_background": "light"
     },
     "output_type": "display_data"
    }
   ],
   "source": [
    "_, ax = plt.subplots(2, 1, figsize=(40,subset_size))\n",
    "ax[0].imshow(data[:subset_size])\n",
    "ax[1].imshow(rec)\n",
    "plt.show()"
   ]
  },
  {
   "cell_type": "markdown",
   "metadata": {},
   "source": [
    "We can also show the comparison with the binarized version of the reconstructed counterpart.\n",
    "\n",
    "Note how the plot of the reconstructed data changes as the threshold for the binarized version is relaxed"
   ]
  },
  {
   "cell_type": "code",
   "execution_count": 13,
   "metadata": {},
   "outputs": [
    {
     "data": {
      "image/png": "[encoded data removed]",
      "text/plain": [
       "<Figure size 2880x1440 with 2 Axes>"
      ]
     },
     "metadata": {
      "needs_background": "light"
     },
     "output_type": "display_data"
    }
   ],
   "source": [
    "rec_threshold_hard = 0.5\n",
    "rec_binarized_hard = np.where(rec>=rec_threshold_hard, 1, 0)\n",
    "_, ax = plt.subplots(2, 1, figsize=(40,subset_size))\n",
    "ax[0].imshow(data[:subset_size])\n",
    "ax[1].imshow(rec_binarized_hard)\n",
    "plt.show()"
   ]
  },
  {
   "cell_type": "code",
   "execution_count": 14,
   "metadata": {},
   "outputs": [
    {
     "data": {
      "image/png": "[encoded data removed]",
      "text/plain": [
       "<Figure size 2880x1440 with 2 Axes>"
      ]
     },
     "metadata": {
      "needs_background": "light"
     },
     "output_type": "display_data"
    }
   ],
   "source": [
    "rec_threshold_soft = 0.01\n",
    "rec_binarized_soft = np.where(rec>=rec_threshold_soft, 1, 0)\n",
    "_, ax = plt.subplots(2, 1, figsize=(40,subset_size))\n",
    "ax[0].imshow(data[:subset_size])\n",
    "ax[1].imshow(rec_binarized_soft)\n",
    "plt.show()"
   ]
  },
  {
   "cell_type": "markdown",
   "metadata": {},
   "source": [
    "## Similarities between original and reconstructed data"
   ]
  },
  {
   "cell_type": "markdown",
   "metadata": {},
   "source": [
    "Graphically speaking, the plots above are informative to have a global view of how the reconstructed data compares with the original data.\n",
    "\n",
    "It is a good idea, however, to assign a numeric similarity to the comparison. The following functions allow for such comparison"
   ]
  },
  {
   "cell_type": "code",
   "execution_count": 15,
   "metadata": {},
   "outputs": [],
   "source": [
    "def abs_similarity(a: torch.Tensor, b: np.array):\n",
    "    # sum of the absolute value difference between two matrices.\n",
    "    # the closer the value is to zero, the more similar the matrices are\n",
    "    simil_ = sum(sum(abs(a - b)))\n",
    "    return simil_"
   ]
  },
  {
   "cell_type": "code",
   "execution_count": 16,
   "metadata": {},
   "outputs": [],
   "source": [
    "def max_similarity(a: torch.Tensor, b: np.array):\n",
    "    # maximum of the difference in absolute value of matrices\n",
    "    # the closer the value is to zero, the more similar the matrices are\n",
    "    simil_ = ((abs(a - b))).max()\n",
    "    return simil_"
   ]
  },
  {
   "cell_type": "code",
   "execution_count": 17,
   "metadata": {},
   "outputs": [],
   "source": [
    "def Frobenius_similarity(a: torch.Tensor, b: np.array):\n",
    "    # sum of the absolute value squared difference between two matrices\n",
    "    # (also sum of the singular values of the difference matrix)\n",
    "    # the closer the value is to zero, the more similar the matrices are\n",
    "    simil_ = np.linalg.norm(a - b)\n",
    "    return simil_"
   ]
  },
  {
   "cell_type": "markdown",
   "metadata": {},
   "source": [
    "#### Similarities for raw reconstructed data"
   ]
  },
  {
   "cell_type": "code",
   "execution_count": 18,
   "metadata": {},
   "outputs": [
    {
     "data": {
      "text/plain": [
       "tensor(489.0396)"
      ]
     },
     "execution_count": 18,
     "metadata": {},
     "output_type": "execute_result"
    }
   ],
   "source": [
    "abs_similarity(data[:subset_size], rec)"
   ]
  },
  {
   "cell_type": "code",
   "execution_count": 19,
   "metadata": {},
   "outputs": [
    {
     "data": {
      "text/plain": [
       "tensor(0.9982)"
      ]
     },
     "execution_count": 19,
     "metadata": {},
     "output_type": "execute_result"
    }
   ],
   "source": [
    "max_similarity(data[:subset_size], rec)"
   ]
  },
  {
   "cell_type": "code",
   "execution_count": 20,
   "metadata": {},
   "outputs": [
    {
     "data": {
      "text/plain": [
       "21.665173"
      ]
     },
     "execution_count": 20,
     "metadata": {},
     "output_type": "execute_result"
    }
   ],
   "source": [
    "Frobenius_similarity(data[:subset_size], rec)"
   ]
  },
  {
   "cell_type": "markdown",
   "metadata": {},
   "source": [
    "#### Similarities for hard-binarized reconstructed data"
   ]
  },
  {
   "cell_type": "code",
   "execution_count": 21,
   "metadata": {},
   "outputs": [
    {
     "data": {
      "text/plain": [
       "tensor(487., dtype=torch.float64)"
      ]
     },
     "execution_count": 21,
     "metadata": {},
     "output_type": "execute_result"
    }
   ],
   "source": [
    "abs_similarity(data[:subset_size], rec_binarized_hard)"
   ]
  },
  {
   "cell_type": "code",
   "execution_count": 22,
   "metadata": {},
   "outputs": [
    {
     "data": {
      "text/plain": [
       "tensor(1., dtype=torch.float64)"
      ]
     },
     "execution_count": 22,
     "metadata": {},
     "output_type": "execute_result"
    }
   ],
   "source": [
    "max_similarity(data[:subset_size], rec_binarized_hard)"
   ]
  },
  {
   "cell_type": "code",
   "execution_count": 23,
   "metadata": {},
   "outputs": [
    {
     "data": {
      "text/plain": [
       "22.06807649071391"
      ]
     },
     "execution_count": 23,
     "metadata": {},
     "output_type": "execute_result"
    }
   ],
   "source": [
    "Frobenius_similarity(data[:subset_size], rec_binarized_hard)"
   ]
  },
  {
   "cell_type": "markdown",
   "metadata": {},
   "source": [
    "#### Similarities for soft-binarized reconstructed data"
   ]
  },
  {
   "cell_type": "code",
   "execution_count": 24,
   "metadata": {},
   "outputs": [
    {
     "data": {
      "text/plain": [
       "tensor(357., dtype=torch.float64)"
      ]
     },
     "execution_count": 24,
     "metadata": {},
     "output_type": "execute_result"
    }
   ],
   "source": [
    "abs_similarity(data[:subset_size], rec_binarized_soft)"
   ]
  },
  {
   "cell_type": "code",
   "execution_count": 25,
   "metadata": {},
   "outputs": [
    {
     "data": {
      "text/plain": [
       "tensor(1., dtype=torch.float64)"
      ]
     },
     "execution_count": 25,
     "metadata": {},
     "output_type": "execute_result"
    }
   ],
   "source": [
    "max_similarity(data[:subset_size], rec_binarized_soft)"
   ]
  },
  {
   "cell_type": "code",
   "execution_count": 26,
   "metadata": {},
   "outputs": [
    {
     "data": {
      "text/plain": [
       "18.894443627691185"
      ]
     },
     "execution_count": 26,
     "metadata": {},
     "output_type": "execute_result"
    }
   ],
   "source": [
    "Frobenius_similarity(data[:subset_size], rec_binarized_soft)"
   ]
  }
 ],
 "metadata": {
  "colab": {
   "name": "VAE for CF.ipynb",
   "provenance": []
  },
  "kernelspec": {
   "display_name": "recsys",
   "language": "python",
   "name": "recsys"
  },
  "language_info": {
   "codemirror_mode": {
    "name": "ipython",
    "version": 3
   },
   "file_extension": ".py",
   "mimetype": "text/x-python",
   "name": "python",
   "nbconvert_exporter": "python",
   "pygments_lexer": "ipython3",
   "version": "3.7.4"
  }
 },
 "nbformat": 4,
 "nbformat_minor": 4
}
