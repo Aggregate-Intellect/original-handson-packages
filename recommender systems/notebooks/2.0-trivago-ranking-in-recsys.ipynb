{
 "cells": [
  {
   "cell_type": "markdown",
   "metadata": {},
   "source": [
    "# Ranking in RecSys"
   ]
  },
  {
   "cell_type": "code",
   "execution_count": 1,
   "metadata": {
    "colab": {},
    "colab_type": "code",
    "id": "eOmzKZynDbQ3"
   },
   "outputs": [],
   "source": [
    "import os\n",
    "from time import time\n",
    "import numpy as np\n",
    "import pandas as pd\n",
    "import matplotlib.pyplot as plt\n",
    "from multiprocessing import cpu_count, Pool"
   ]
  },
  {
   "cell_type": "markdown",
   "metadata": {
    "colab_type": "text",
    "id": "MoVfH-ttH8NM"
   },
   "source": [
    "As always we first mount the folder where the dat is contained"
   ]
  },
  {
   "cell_type": "code",
   "execution_count": 2,
   "metadata": {
    "colab": {
     "base_uri": "https://localhost:8080/",
     "height": 34
    },
    "colab_type": "code",
    "executionInfo": {
     "elapsed": 4018,
     "status": "ok",
     "timestamp": 1573088099134,
     "user": {
      "displayName": "Serena McDonnell",
      "photoUrl": "https://lh6.googleusercontent.com/-JmIrApkMmrs/AAAAAAAAAAI/AAAAAAAAAX4/aDzVFsN0DI8/s64/photo.jpg",
      "userId": "16211942504315209678"
     },
     "user_tz": 300
    },
    "id": "NtVoo8xwDml3",
    "outputId": "9e8a56ab-f6d6-4cc2-ebd4-b439ce418265"
   },
   "outputs": [
    {
     "data": {
      "text/plain": [
       "['first_half.csv', 'half_day.csv', 'second_half.csv']"
      ]
     },
     "execution_count": 2,
     "metadata": {},
     "output_type": "execute_result"
    }
   ],
   "source": [
    "data_dir = \"../data/trivago\"\n",
    "\n",
    "os.listdir(data_dir)"
   ]
  },
  {
   "cell_type": "markdown",
   "metadata": {
    "colab_type": "text",
    "id": "XxWlxKC5ITS6"
   },
   "source": [
    "We load the data we will be playing with next. (If you are running this locally with the original dataset run the commented script)"
   ]
  },
  {
   "cell_type": "code",
   "execution_count": 3,
   "metadata": {
    "colab": {},
    "colab_type": "code",
    "id": "xgF3el8PDegU"
   },
   "outputs": [],
   "source": [
    "# df = pd.read_csv(os.path.join(data_dir, \"train.csv\"))\n",
    "# start_time = df['timestamp'].min()\n",
    "# end_time = start_time + 43200  # Half day in seconds\n",
    "# half_day = df[(df['timestamp'] >= start_time) & (df['timestamp'] < end_time)]\n",
    "# half_day.to_csv(\"../data/trivago/half_day.csv\", index=False)\n",
    "\n",
    "df = pd.read_csv(os.path.join(data_dir, \"half_day.csv\"))"
   ]
  },
  {
   "cell_type": "markdown",
   "metadata": {
    "colab_type": "text",
    "id": "i3zPTlZQI-HB"
   },
   "source": [
    "As always it is a good idea to understand the data a little bit. We collect some simple stats. The rows look as follows"
   ]
  },
  {
   "cell_type": "code",
   "execution_count": 4,
   "metadata": {
    "colab": {
     "base_uri": "https://localhost:8080/",
     "height": 924
    },
    "colab_type": "code",
    "executionInfo": {
     "elapsed": 568,
     "status": "ok",
     "timestamp": 1573088122695,
     "user": {
      "displayName": "Serena McDonnell",
      "photoUrl": "https://lh6.googleusercontent.com/-JmIrApkMmrs/AAAAAAAAAAI/AAAAAAAAAX4/aDzVFsN0DI8/s64/photo.jpg",
      "userId": "16211942504315209678"
     },
     "user_tz": 300
    },
    "id": "qGJRcQifHltg",
    "outputId": "214d5489-4e20-48dc-8de9-18935d707905"
   },
   "outputs": [
    {
     "data": {
      "text/html": [
       "<div>\n",
       "<style scoped>\n",
       "    .dataframe tbody tr th:only-of-type {\n",
       "        vertical-align: middle;\n",
       "    }\n",
       "\n",
       "    .dataframe tbody tr th {\n",
       "        vertical-align: top;\n",
       "    }\n",
       "\n",
       "    .dataframe thead th {\n",
       "        text-align: right;\n",
       "    }\n",
       "</style>\n",
       "<table border=\"1\" class=\"dataframe\">\n",
       "  <thead>\n",
       "    <tr style=\"text-align: right;\">\n",
       "      <th></th>\n",
       "      <th>user_id</th>\n",
       "      <th>session_id</th>\n",
       "      <th>timestamp</th>\n",
       "      <th>step</th>\n",
       "      <th>action_type</th>\n",
       "      <th>reference</th>\n",
       "      <th>platform</th>\n",
       "      <th>city</th>\n",
       "      <th>device</th>\n",
       "      <th>current_filters</th>\n",
       "      <th>impressions</th>\n",
       "      <th>prices</th>\n",
       "    </tr>\n",
       "  </thead>\n",
       "  <tbody>\n",
       "    <tr>\n",
       "      <td>423941</td>\n",
       "      <td>CG4D90N17198</td>\n",
       "      <td>156e113947af4</td>\n",
       "      <td>1541048048</td>\n",
       "      <td>66</td>\n",
       "      <td>interaction item image</td>\n",
       "      <td>63806</td>\n",
       "      <td>MX</td>\n",
       "      <td>Lake Buena Vista, USA</td>\n",
       "      <td>mobile</td>\n",
       "      <td>NaN</td>\n",
       "      <td>NaN</td>\n",
       "      <td>NaN</td>\n",
       "    </tr>\n",
       "    <tr>\n",
       "      <td>720572</td>\n",
       "      <td>FPT7670KJDTH</td>\n",
       "      <td>d1f7a7b22f586</td>\n",
       "      <td>1541037522</td>\n",
       "      <td>7</td>\n",
       "      <td>interaction item image</td>\n",
       "      <td>6380124</td>\n",
       "      <td>BR</td>\n",
       "      <td>Tamandaré, Brazil</td>\n",
       "      <td>mobile</td>\n",
       "      <td>NaN</td>\n",
       "      <td>NaN</td>\n",
       "      <td>NaN</td>\n",
       "    </tr>\n",
       "    <tr>\n",
       "      <td>697404</td>\n",
       "      <td>ECEHO26IBLL7</td>\n",
       "      <td>587c34e834833</td>\n",
       "      <td>1541037005</td>\n",
       "      <td>115</td>\n",
       "      <td>interaction item image</td>\n",
       "      <td>312776</td>\n",
       "      <td>BR</td>\n",
       "      <td>Aracaju, Brazil</td>\n",
       "      <td>mobile</td>\n",
       "      <td>NaN</td>\n",
       "      <td>NaN</td>\n",
       "      <td>NaN</td>\n",
       "    </tr>\n",
       "    <tr>\n",
       "      <td>171858</td>\n",
       "      <td>43H0HGR4RHY3</td>\n",
       "      <td>894435a8f0077</td>\n",
       "      <td>1541031587</td>\n",
       "      <td>5</td>\n",
       "      <td>clickout item</td>\n",
       "      <td>5766136</td>\n",
       "      <td>EC</td>\n",
       "      <td>Piura, Peru</td>\n",
       "      <td>mobile</td>\n",
       "      <td>NaN</td>\n",
       "      <td>107687|107852|1036474|5766136|2709810|2651196|...</td>\n",
       "      <td>61|67|59|36|33|41|40|18|30|25|49|40|38|40|49|5...</td>\n",
       "    </tr>\n",
       "    <tr>\n",
       "      <td>262489</td>\n",
       "      <td>EPY6GCLAJ3D0</td>\n",
       "      <td>a47a5f2b94ee4</td>\n",
       "      <td>1541055832</td>\n",
       "      <td>64</td>\n",
       "      <td>interaction item info</td>\n",
       "      <td>666841</td>\n",
       "      <td>JP</td>\n",
       "      <td>Sydney, Australia</td>\n",
       "      <td>mobile</td>\n",
       "      <td>NaN</td>\n",
       "      <td>NaN</td>\n",
       "      <td>NaN</td>\n",
       "    </tr>\n",
       "    <tr>\n",
       "      <td>74056</td>\n",
       "      <td>DZ2BVCVEQD9L</td>\n",
       "      <td>d26814a3d450e</td>\n",
       "      <td>1541059295</td>\n",
       "      <td>14</td>\n",
       "      <td>interaction item image</td>\n",
       "      <td>127172</td>\n",
       "      <td>UK</td>\n",
       "      <td>Nairn, United Kingdom</td>\n",
       "      <td>desktop</td>\n",
       "      <td>NaN</td>\n",
       "      <td>NaN</td>\n",
       "      <td>NaN</td>\n",
       "    </tr>\n",
       "    <tr>\n",
       "      <td>22043</td>\n",
       "      <td>G0ID1VAYKJ21</td>\n",
       "      <td>e1cc12d3914a7</td>\n",
       "      <td>1541043011</td>\n",
       "      <td>84</td>\n",
       "      <td>interaction item image</td>\n",
       "      <td>5708390</td>\n",
       "      <td>MY</td>\n",
       "      <td>Pantai Cenang, Malaysia</td>\n",
       "      <td>mobile</td>\n",
       "      <td>NaN</td>\n",
       "      <td>NaN</td>\n",
       "      <td>NaN</td>\n",
       "    </tr>\n",
       "    <tr>\n",
       "      <td>651136</td>\n",
       "      <td>WD7NHB3OKXZH</td>\n",
       "      <td>3b10d24ce32f0</td>\n",
       "      <td>1541054228</td>\n",
       "      <td>141</td>\n",
       "      <td>interaction item image</td>\n",
       "      <td>106760</td>\n",
       "      <td>PE</td>\n",
       "      <td>Lima, Peru</td>\n",
       "      <td>tablet</td>\n",
       "      <td>NaN</td>\n",
       "      <td>NaN</td>\n",
       "      <td>NaN</td>\n",
       "    </tr>\n",
       "    <tr>\n",
       "      <td>42737</td>\n",
       "      <td>X4LA56QUVIT3</td>\n",
       "      <td>5b0b693721939</td>\n",
       "      <td>1541041402</td>\n",
       "      <td>90</td>\n",
       "      <td>interaction item image</td>\n",
       "      <td>1038148</td>\n",
       "      <td>AR</td>\n",
       "      <td>Rome, Italy</td>\n",
       "      <td>desktop</td>\n",
       "      <td>NaN</td>\n",
       "      <td>NaN</td>\n",
       "      <td>NaN</td>\n",
       "    </tr>\n",
       "    <tr>\n",
       "      <td>389749</td>\n",
       "      <td>G267K6TZG41L</td>\n",
       "      <td>cc00d3e3cd58f</td>\n",
       "      <td>1541064049</td>\n",
       "      <td>42</td>\n",
       "      <td>interaction item image</td>\n",
       "      <td>100829</td>\n",
       "      <td>RU</td>\n",
       "      <td>Moscow, Russia</td>\n",
       "      <td>mobile</td>\n",
       "      <td>NaN</td>\n",
       "      <td>NaN</td>\n",
       "      <td>NaN</td>\n",
       "    </tr>\n",
       "    <tr>\n",
       "      <td>275071</td>\n",
       "      <td>FEPLLTCCIYP9</td>\n",
       "      <td>63684b870f2b3</td>\n",
       "      <td>1541044329</td>\n",
       "      <td>7</td>\n",
       "      <td>clickout item</td>\n",
       "      <td>42794</td>\n",
       "      <td>US</td>\n",
       "      <td>Ensenada, Mexico</td>\n",
       "      <td>desktop</td>\n",
       "      <td>Excellent Rating</td>\n",
       "      <td>42794|7937984|4667176|9931284|9931342|9880486|...</td>\n",
       "      <td>188|97|116|228|198|194|419|168|102|119|167|124...</td>\n",
       "    </tr>\n",
       "    <tr>\n",
       "      <td>595057</td>\n",
       "      <td>UV4QKI4PODXA</td>\n",
       "      <td>81b0d3c2cb2fe</td>\n",
       "      <td>1541072178</td>\n",
       "      <td>7</td>\n",
       "      <td>filter selection</td>\n",
       "      <td>Swimming Pool (Combined Filter)</td>\n",
       "      <td>SG</td>\n",
       "      <td>Jakarta, Indonesia</td>\n",
       "      <td>mobile</td>\n",
       "      <td>Good Rating|5 Star|Free WiFi (Combined)|Swimmi...</td>\n",
       "      <td>NaN</td>\n",
       "      <td>NaN</td>\n",
       "    </tr>\n",
       "    <tr>\n",
       "      <td>542332</td>\n",
       "      <td>SA5PT7963DP1</td>\n",
       "      <td>5c3182477da35</td>\n",
       "      <td>1541042662</td>\n",
       "      <td>38</td>\n",
       "      <td>interaction item image</td>\n",
       "      <td>477811</td>\n",
       "      <td>BR</td>\n",
       "      <td>Brasília, Brazil</td>\n",
       "      <td>mobile</td>\n",
       "      <td>NaN</td>\n",
       "      <td>NaN</td>\n",
       "      <td>NaN</td>\n",
       "    </tr>\n",
       "    <tr>\n",
       "      <td>156365</td>\n",
       "      <td>RIJNB02Y4H82</td>\n",
       "      <td>e937c660017ac</td>\n",
       "      <td>1541036432</td>\n",
       "      <td>3</td>\n",
       "      <td>clickout item</td>\n",
       "      <td>552236</td>\n",
       "      <td>JP</td>\n",
       "      <td>Matsuyama, Japan</td>\n",
       "      <td>desktop</td>\n",
       "      <td>NaN</td>\n",
       "      <td>3546226|552281|1739045|5960770|1521097|552236|...</td>\n",
       "      <td>82|77|59|104|82|52|57|78|83|46|68|58|67|91|69|...</td>\n",
       "    </tr>\n",
       "    <tr>\n",
       "      <td>634747</td>\n",
       "      <td>0O5E4OEW8NZ6</td>\n",
       "      <td>a10940b1b3777</td>\n",
       "      <td>1541062187</td>\n",
       "      <td>13</td>\n",
       "      <td>interaction item image</td>\n",
       "      <td>6546</td>\n",
       "      <td>DE</td>\n",
       "      <td>Dresden, Germany</td>\n",
       "      <td>desktop</td>\n",
       "      <td>NaN</td>\n",
       "      <td>NaN</td>\n",
       "      <td>NaN</td>\n",
       "    </tr>\n",
       "    <tr>\n",
       "      <td>563289</td>\n",
       "      <td>V13GJY45WYJN</td>\n",
       "      <td>65c9dbf280756</td>\n",
       "      <td>1541051285</td>\n",
       "      <td>16</td>\n",
       "      <td>interaction item image</td>\n",
       "      <td>1708467</td>\n",
       "      <td>AR</td>\n",
       "      <td>Praia da Pipa, Brazil</td>\n",
       "      <td>mobile</td>\n",
       "      <td>NaN</td>\n",
       "      <td>NaN</td>\n",
       "      <td>NaN</td>\n",
       "    </tr>\n",
       "    <tr>\n",
       "      <td>651320</td>\n",
       "      <td>WD7NHB3OKXZH</td>\n",
       "      <td>3b10d24ce32f0</td>\n",
       "      <td>1541055571</td>\n",
       "      <td>325</td>\n",
       "      <td>interaction item image</td>\n",
       "      <td>102979</td>\n",
       "      <td>PE</td>\n",
       "      <td>Lima, Peru</td>\n",
       "      <td>tablet</td>\n",
       "      <td>NaN</td>\n",
       "      <td>NaN</td>\n",
       "      <td>NaN</td>\n",
       "    </tr>\n",
       "    <tr>\n",
       "      <td>871696</td>\n",
       "      <td>YAIVRII5SPQ1</td>\n",
       "      <td>e0de7fb4fa6e0</td>\n",
       "      <td>1541059144</td>\n",
       "      <td>289</td>\n",
       "      <td>interaction item image</td>\n",
       "      <td>48460</td>\n",
       "      <td>HU</td>\n",
       "      <td>Paris, France</td>\n",
       "      <td>mobile</td>\n",
       "      <td>NaN</td>\n",
       "      <td>NaN</td>\n",
       "      <td>NaN</td>\n",
       "    </tr>\n",
       "    <tr>\n",
       "      <td>71643</td>\n",
       "      <td>PSEZI35ZXLOQ</td>\n",
       "      <td>948ff283efc03</td>\n",
       "      <td>1541055971</td>\n",
       "      <td>1</td>\n",
       "      <td>interaction item image</td>\n",
       "      <td>771843</td>\n",
       "      <td>DE</td>\n",
       "      <td>Gerolstein, Germany</td>\n",
       "      <td>mobile</td>\n",
       "      <td>NaN</td>\n",
       "      <td>NaN</td>\n",
       "      <td>NaN</td>\n",
       "    </tr>\n",
       "    <tr>\n",
       "      <td>842292</td>\n",
       "      <td>P5IO6KZE7148</td>\n",
       "      <td>701ae6dbcde3d</td>\n",
       "      <td>1541055178</td>\n",
       "      <td>50</td>\n",
       "      <td>interaction item image</td>\n",
       "      <td>110623</td>\n",
       "      <td>AU</td>\n",
       "      <td>Barcelona, Spain</td>\n",
       "      <td>desktop</td>\n",
       "      <td>NaN</td>\n",
       "      <td>NaN</td>\n",
       "      <td>NaN</td>\n",
       "    </tr>\n",
       "  </tbody>\n",
       "</table>\n",
       "</div>"
      ],
      "text/plain": [
       "             user_id     session_id   timestamp  step             action_type  \\\n",
       "423941  CG4D90N17198  156e113947af4  1541048048    66  interaction item image   \n",
       "720572  FPT7670KJDTH  d1f7a7b22f586  1541037522     7  interaction item image   \n",
       "697404  ECEHO26IBLL7  587c34e834833  1541037005   115  interaction item image   \n",
       "171858  43H0HGR4RHY3  894435a8f0077  1541031587     5           clickout item   \n",
       "262489  EPY6GCLAJ3D0  a47a5f2b94ee4  1541055832    64   interaction item info   \n",
       "74056   DZ2BVCVEQD9L  d26814a3d450e  1541059295    14  interaction item image   \n",
       "22043   G0ID1VAYKJ21  e1cc12d3914a7  1541043011    84  interaction item image   \n",
       "651136  WD7NHB3OKXZH  3b10d24ce32f0  1541054228   141  interaction item image   \n",
       "42737   X4LA56QUVIT3  5b0b693721939  1541041402    90  interaction item image   \n",
       "389749  G267K6TZG41L  cc00d3e3cd58f  1541064049    42  interaction item image   \n",
       "275071  FEPLLTCCIYP9  63684b870f2b3  1541044329     7           clickout item   \n",
       "595057  UV4QKI4PODXA  81b0d3c2cb2fe  1541072178     7        filter selection   \n",
       "542332  SA5PT7963DP1  5c3182477da35  1541042662    38  interaction item image   \n",
       "156365  RIJNB02Y4H82  e937c660017ac  1541036432     3           clickout item   \n",
       "634747  0O5E4OEW8NZ6  a10940b1b3777  1541062187    13  interaction item image   \n",
       "563289  V13GJY45WYJN  65c9dbf280756  1541051285    16  interaction item image   \n",
       "651320  WD7NHB3OKXZH  3b10d24ce32f0  1541055571   325  interaction item image   \n",
       "871696  YAIVRII5SPQ1  e0de7fb4fa6e0  1541059144   289  interaction item image   \n",
       "71643   PSEZI35ZXLOQ  948ff283efc03  1541055971     1  interaction item image   \n",
       "842292  P5IO6KZE7148  701ae6dbcde3d  1541055178    50  interaction item image   \n",
       "\n",
       "                              reference platform                     city  \\\n",
       "423941                            63806       MX    Lake Buena Vista, USA   \n",
       "720572                          6380124       BR        Tamandaré, Brazil   \n",
       "697404                           312776       BR          Aracaju, Brazil   \n",
       "171858                          5766136       EC              Piura, Peru   \n",
       "262489                           666841       JP        Sydney, Australia   \n",
       "74056                            127172       UK    Nairn, United Kingdom   \n",
       "22043                           5708390       MY  Pantai Cenang, Malaysia   \n",
       "651136                           106760       PE               Lima, Peru   \n",
       "42737                           1038148       AR              Rome, Italy   \n",
       "389749                           100829       RU           Moscow, Russia   \n",
       "275071                            42794       US         Ensenada, Mexico   \n",
       "595057  Swimming Pool (Combined Filter)       SG       Jakarta, Indonesia   \n",
       "542332                           477811       BR         Brasília, Brazil   \n",
       "156365                           552236       JP         Matsuyama, Japan   \n",
       "634747                             6546       DE         Dresden, Germany   \n",
       "563289                          1708467       AR    Praia da Pipa, Brazil   \n",
       "651320                           102979       PE               Lima, Peru   \n",
       "871696                            48460       HU            Paris, France   \n",
       "71643                            771843       DE      Gerolstein, Germany   \n",
       "842292                           110623       AU         Barcelona, Spain   \n",
       "\n",
       "         device                                    current_filters  \\\n",
       "423941   mobile                                                NaN   \n",
       "720572   mobile                                                NaN   \n",
       "697404   mobile                                                NaN   \n",
       "171858   mobile                                                NaN   \n",
       "262489   mobile                                                NaN   \n",
       "74056   desktop                                                NaN   \n",
       "22043    mobile                                                NaN   \n",
       "651136   tablet                                                NaN   \n",
       "42737   desktop                                                NaN   \n",
       "389749   mobile                                                NaN   \n",
       "275071  desktop                                   Excellent Rating   \n",
       "595057   mobile  Good Rating|5 Star|Free WiFi (Combined)|Swimmi...   \n",
       "542332   mobile                                                NaN   \n",
       "156365  desktop                                                NaN   \n",
       "634747  desktop                                                NaN   \n",
       "563289   mobile                                                NaN   \n",
       "651320   tablet                                                NaN   \n",
       "871696   mobile                                                NaN   \n",
       "71643    mobile                                                NaN   \n",
       "842292  desktop                                                NaN   \n",
       "\n",
       "                                              impressions  \\\n",
       "423941                                                NaN   \n",
       "720572                                                NaN   \n",
       "697404                                                NaN   \n",
       "171858  107687|107852|1036474|5766136|2709810|2651196|...   \n",
       "262489                                                NaN   \n",
       "74056                                                 NaN   \n",
       "22043                                                 NaN   \n",
       "651136                                                NaN   \n",
       "42737                                                 NaN   \n",
       "389749                                                NaN   \n",
       "275071  42794|7937984|4667176|9931284|9931342|9880486|...   \n",
       "595057                                                NaN   \n",
       "542332                                                NaN   \n",
       "156365  3546226|552281|1739045|5960770|1521097|552236|...   \n",
       "634747                                                NaN   \n",
       "563289                                                NaN   \n",
       "651320                                                NaN   \n",
       "871696                                                NaN   \n",
       "71643                                                 NaN   \n",
       "842292                                                NaN   \n",
       "\n",
       "                                                   prices  \n",
       "423941                                                NaN  \n",
       "720572                                                NaN  \n",
       "697404                                                NaN  \n",
       "171858  61|67|59|36|33|41|40|18|30|25|49|40|38|40|49|5...  \n",
       "262489                                                NaN  \n",
       "74056                                                 NaN  \n",
       "22043                                                 NaN  \n",
       "651136                                                NaN  \n",
       "42737                                                 NaN  \n",
       "389749                                                NaN  \n",
       "275071  188|97|116|228|198|194|419|168|102|119|167|124...  \n",
       "595057                                                NaN  \n",
       "542332                                                NaN  \n",
       "156365  82|77|59|104|82|52|57|78|83|46|68|58|67|91|69|...  \n",
       "634747                                                NaN  \n",
       "563289                                                NaN  \n",
       "651320                                                NaN  \n",
       "871696                                                NaN  \n",
       "71643                                                 NaN  \n",
       "842292                                                NaN  "
      ]
     },
     "execution_count": 4,
     "metadata": {},
     "output_type": "execute_result"
    }
   ],
   "source": [
    "df.sample(20)"
   ]
  },
  {
   "cell_type": "markdown",
   "metadata": {
    "colab_type": "text",
    "id": "uAqQgKI-JRpE"
   },
   "source": [
    "Let's count the different session_id's that we have as well as the user_id's."
   ]
  },
  {
   "cell_type": "code",
   "execution_count": 5,
   "metadata": {
    "colab": {
     "base_uri": "https://localhost:8080/",
     "height": 238
    },
    "colab_type": "code",
    "executionInfo": {
     "elapsed": 1392,
     "status": "ok",
     "timestamp": 1573088125770,
     "user": {
      "displayName": "Serena McDonnell",
      "photoUrl": "https://lh6.googleusercontent.com/-JmIrApkMmrs/AAAAAAAAAAI/AAAAAAAAAX4/aDzVFsN0DI8/s64/photo.jpg",
      "userId": "16211942504315209678"
     },
     "user_tz": 300
    },
    "id": "TJ-G2HTrJFP7",
    "outputId": "a6f842cf-cb61-4bf5-aa78-e723031a56ab"
   },
   "outputs": [
    {
     "data": {
      "text/plain": [
       "user_id            54270\n",
       "session_id         58308\n",
       "timestamp          43141\n",
       "step                1756\n",
       "action_type           10\n",
       "reference          84383\n",
       "platform              55\n",
       "city               10464\n",
       "device                 3\n",
       "current_filters     7011\n",
       "impressions        68573\n",
       "prices             68776\n",
       "dtype: int64"
      ]
     },
     "execution_count": 5,
     "metadata": {},
     "output_type": "execute_result"
    }
   ],
   "source": [
    "df.nunique()"
   ]
  },
  {
   "cell_type": "markdown",
   "metadata": {
    "colab_type": "text",
    "id": "lXANvy84J9nm"
   },
   "source": [
    "With ~58K sessions, we can easily find the len distribution, in number of steps, of each session. Note the log scale."
   ]
  },
  {
   "cell_type": "code",
   "execution_count": 6,
   "metadata": {
    "colab": {
     "base_uri": "https://localhost:8080/",
     "height": 281
    },
    "colab_type": "code",
    "executionInfo": {
     "elapsed": 1914,
     "status": "ok",
     "timestamp": 1573088129348,
     "user": {
      "displayName": "Serena McDonnell",
      "photoUrl": "https://lh6.googleusercontent.com/-JmIrApkMmrs/AAAAAAAAAAI/AAAAAAAAAX4/aDzVFsN0DI8/s64/photo.jpg",
      "userId": "16211942504315209678"
     },
     "user_tz": 300
    },
    "id": "VjG44Ex4Jzux",
    "outputId": "c049b249-f8e8-4daf-a392-ca747b5d06ea"
   },
   "outputs": [
    {
     "data": {
      "image/png": "[encoded data removed]",
      "text/plain": [
       "<Figure size 432x288 with 1 Axes>"
      ]
     },
     "metadata": {
      "needs_background": "light"
     },
     "output_type": "display_data"
    }
   ],
   "source": [
    "df.groupby('session_id', as_index=False).agg({'step':len}).hist(bins=100, log=True)\n",
    "plt.show()"
   ]
  },
  {
   "cell_type": "markdown",
   "metadata": {
    "colab_type": "text",
    "id": "bsaqGnmWLsOU"
   },
   "source": [
    "Clearly, most of the sessions have a few number of steps. Let's take a look at the number of impressions that the last step has"
   ]
  },
  {
   "cell_type": "code",
   "execution_count": 7,
   "metadata": {
    "colab": {},
    "colab_type": "code",
    "id": "aF7LEmLsKQac"
   },
   "outputs": [],
   "source": [
    "last_step = df.groupby('session_id', as_index=False).agg({'step':max})\n",
    "last_step = last_step.merge(df)"
   ]
  },
  {
   "cell_type": "markdown",
   "metadata": {
    "colab_type": "text",
    "id": "ZC3WTeUuM3qN"
   },
   "source": [
    "Let's only focus on the sessions that have a clickout at the last step."
   ]
  },
  {
   "cell_type": "code",
   "execution_count": 8,
   "metadata": {
    "colab": {},
    "colab_type": "code",
    "id": "j6m9f3vYMptz"
   },
   "outputs": [],
   "source": [
    "last_step = last_step[last_step['action_type']=='clickout item']"
   ]
  },
  {
   "cell_type": "markdown",
   "metadata": {
    "colab_type": "text",
    "id": "HCOUWkW_NOXr"
   },
   "source": [
    "And we can now find the distribution of item that show up in the last step"
   ]
  },
  {
   "cell_type": "code",
   "execution_count": 9,
   "metadata": {
    "colab": {
     "base_uri": "https://localhost:8080/",
     "height": 265
    },
    "colab_type": "code",
    "executionInfo": {
     "elapsed": 869,
     "status": "ok",
     "timestamp": 1573088132744,
     "user": {
      "displayName": "Serena McDonnell",
      "photoUrl": "https://lh6.googleusercontent.com/-JmIrApkMmrs/AAAAAAAAAAI/AAAAAAAAAX4/aDzVFsN0DI8/s64/photo.jpg",
      "userId": "16211942504315209678"
     },
     "user_tz": 300
    },
    "id": "aZu0wFtDMr7-",
    "outputId": "d83f6aa8-f086-418f-edcb-cb969bfdd100"
   },
   "outputs": [
    {
     "data": {
      "image/png": "[encoded data removed]",
      "text/plain": [
       "<Figure size 432x288 with 1 Axes>"
      ]
     },
     "metadata": {
      "needs_background": "light"
     },
     "output_type": "display_data"
    }
   ],
   "source": [
    "last_step['impressions'].apply(lambda lst: len(lst.split('|'))).hist(bins=25)\n",
    "plt.show()"
   ]
  },
  {
   "cell_type": "markdown",
   "metadata": {
    "colab_type": "text",
    "id": "lTgvqKUhOtFG"
   },
   "source": [
    "We will use that list of impressions as the rank provided for trivago, let's evaluate it under the assumption that the reference is the ground truth. "
   ]
  },
  {
   "cell_type": "code",
   "execution_count": 10,
   "metadata": {
    "colab": {
     "base_uri": "https://localhost:8080/",
     "height": 80
    },
    "colab_type": "code",
    "executionInfo": {
     "elapsed": 576,
     "status": "ok",
     "timestamp": 1573088134287,
     "user": {
      "displayName": "Serena McDonnell",
      "photoUrl": "https://lh6.googleusercontent.com/-JmIrApkMmrs/AAAAAAAAAAI/AAAAAAAAAX4/aDzVFsN0DI8/s64/photo.jpg",
      "userId": "16211942504315209678"
     },
     "user_tz": 300
    },
    "id": "6-2wTAC3NnmY",
    "outputId": "d97b52e4-6052-4d09-9974-020e5bf1da00"
   },
   "outputs": [
    {
     "data": {
      "text/html": [
       "<div>\n",
       "<style scoped>\n",
       "    .dataframe tbody tr th:only-of-type {\n",
       "        vertical-align: middle;\n",
       "    }\n",
       "\n",
       "    .dataframe tbody tr th {\n",
       "        vertical-align: top;\n",
       "    }\n",
       "\n",
       "    .dataframe thead th {\n",
       "        text-align: right;\n",
       "    }\n",
       "</style>\n",
       "<table border=\"1\" class=\"dataframe\">\n",
       "  <thead>\n",
       "    <tr style=\"text-align: right;\">\n",
       "      <th></th>\n",
       "      <th>session_id</th>\n",
       "      <th>step</th>\n",
       "      <th>user_id</th>\n",
       "      <th>timestamp</th>\n",
       "      <th>action_type</th>\n",
       "      <th>reference</th>\n",
       "      <th>platform</th>\n",
       "      <th>city</th>\n",
       "      <th>device</th>\n",
       "      <th>current_filters</th>\n",
       "      <th>impressions</th>\n",
       "      <th>prices</th>\n",
       "    </tr>\n",
       "  </thead>\n",
       "  <tbody>\n",
       "    <tr>\n",
       "      <td>0</td>\n",
       "      <td>00000510f1adc</td>\n",
       "      <td>1</td>\n",
       "      <td>WT30CXPIG450</td>\n",
       "      <td>1541064087</td>\n",
       "      <td>clickout item</td>\n",
       "      <td>7281198</td>\n",
       "      <td>IN</td>\n",
       "      <td>Ganpatipule, India</td>\n",
       "      <td>desktop</td>\n",
       "      <td>NaN</td>\n",
       "      <td>2661832|9222426|7051844|4079190|5752778|468398...</td>\n",
       "      <td>46|26|16|38|12|20|21|27|13|21|36|9|144|19|8|19...</td>\n",
       "    </tr>\n",
       "  </tbody>\n",
       "</table>\n",
       "</div>"
      ],
      "text/plain": [
       "      session_id  step       user_id   timestamp    action_type reference  \\\n",
       "0  00000510f1adc     1  WT30CXPIG450  1541064087  clickout item   7281198   \n",
       "\n",
       "  platform                city   device current_filters  \\\n",
       "0       IN  Ganpatipule, India  desktop             NaN   \n",
       "\n",
       "                                         impressions  \\\n",
       "0  2661832|9222426|7051844|4079190|5752778|468398...   \n",
       "\n",
       "                                              prices  \n",
       "0  46|26|16|38|12|20|21|27|13|21|36|9|144|19|8|19...  "
      ]
     },
     "execution_count": 10,
     "metadata": {},
     "output_type": "execute_result"
    }
   ],
   "source": [
    "last_step.head(1)"
   ]
  },
  {
   "cell_type": "markdown",
   "metadata": {
    "colab_type": "text",
    "id": "evH3tkf2P0HH"
   },
   "source": [
    "**Mean Reciprocal Rank**\n",
    "\n",
    "We can easily compute the mean reciprocal rank. "
   ]
  },
  {
   "cell_type": "code",
   "execution_count": 11,
   "metadata": {
    "colab": {
     "base_uri": "https://localhost:8080/",
     "height": 34
    },
    "colab_type": "code",
    "executionInfo": {
     "elapsed": 1615,
     "status": "ok",
     "timestamp": 1573088136639,
     "user": {
      "displayName": "Serena McDonnell",
      "photoUrl": "https://lh6.googleusercontent.com/-JmIrApkMmrs/AAAAAAAAAAI/AAAAAAAAAX4/aDzVFsN0DI8/s64/photo.jpg",
      "userId": "16211942504315209678"
     },
     "user_tz": 300
    },
    "id": "CFcekQvIO4Rj",
    "outputId": "11056204-da4b-49e5-a9a4-76e323e0f315"
   },
   "outputs": [
    {
     "data": {
      "text/plain": [
       "0.5120037333107902"
      ]
     },
     "execution_count": 11,
     "metadata": {},
     "output_type": "execute_result"
    }
   ],
   "source": [
    "def reciprocal_rank(row: pd.DataFrame) -> float:\n",
    "\n",
    "  impressions = row['impressions'].split('|')\n",
    "  ref = str(row['reference'])\n",
    "\n",
    "  if ref in impressions:\n",
    "    return 1/(impressions.index(ref) + 1)\n",
    "  \n",
    "  else:\n",
    "    return 0\n",
    "\n",
    "mrr = last_step.apply(reciprocal_rank, axis=1).mean()\n",
    "mrr"
   ]
  },
  {
   "cell_type": "markdown",
   "metadata": {
    "colab_type": "text",
    "id": "ugTk98DJR1Ci"
   },
   "source": [
    "That is, the mrr of trivago ranking is ~ 0.512"
   ]
  },
  {
   "cell_type": "markdown",
   "metadata": {
    "colab_type": "text",
    "id": "unVhFkm-Stun"
   },
   "source": [
    "**Mean Average Precission**\n",
    "\n",
    "For the MAP we need interpret the list as the retrieve documents, and we only have the reference as ground truth."
   ]
  },
  {
   "cell_type": "code",
   "execution_count": null,
   "metadata": {
    "colab": {
     "base_uri": "https://localhost:8080/",
     "height": 34
    },
    "colab_type": "code",
    "executionInfo": {
     "elapsed": 1708,
     "status": "ok",
     "timestamp": 1573088140534,
     "user": {
      "displayName": "Serena McDonnell",
      "photoUrl": "https://lh6.googleusercontent.com/-JmIrApkMmrs/AAAAAAAAAAI/AAAAAAAAAX4/aDzVFsN0DI8/s64/photo.jpg",
      "userId": "16211942504315209678"
     },
     "user_tz": 300
    },
    "id": "AWs2NIodQZfr",
    "outputId": "e283fdbd-7b53-425c-8a6d-560d681816af"
   },
   "outputs": [],
   "source": [
    "def average_precission(row: pd.DataFrame) -> float:\n",
    "\n",
    "  impressions = row['impressions'].split('|')\n",
    "  ref = str(row['reference'])\n",
    "\n",
    "  if ref in impressions:\n",
    "    total = 0\n",
    "    for i in range(len(impressions)):\n",
    "      if ref == impressions[i]:\n",
    "        total += 1/(i+1)\n",
    "    return total/len(impressions)\n",
    "  else:\n",
    "    return 0\n",
    "\n",
    "mAP = last_step.apply(average_precission, axis=1).mean()\n",
    "mAP"
   ]
  },
  {
   "cell_type": "markdown",
   "metadata": {
    "colab_type": "text",
    "id": "MMMffpvCVb1J"
   },
   "source": [
    "That is the MAP is 0.0311\n",
    "\n",
    "**Questions:** \n",
    "\n",
    "- How does this compare to the MRR? \n",
    "- Is there a way to comparing them? \n",
    "- Changing only one line in the previous code, can you get MRR?"
   ]
  },
  {
   "cell_type": "markdown",
   "metadata": {
    "colab_type": "text",
    "id": "VPX0CKJCauY6"
   },
   "source": [
    "**Feature Generation**\n",
    "\n",
    "Note that in order to create the ranking that Trivago has, they had to generate features. Let's create some features associated to the sessions:\n",
    "\n",
    "A multiprocessing trick: \n",
    "\n",
    "1. Split the dataset on the number of cpu's your enviroment has. In our case we just divide the number of sessions into the number of cpu's. "
   ]
  },
  {
   "cell_type": "code",
   "execution_count": 12,
   "metadata": {
    "colab": {
     "base_uri": "https://localhost:8080/",
     "height": 34
    },
    "colab_type": "code",
    "executionInfo": {
     "elapsed": 542,
     "status": "ok",
     "timestamp": 1573088141999,
     "user": {
      "displayName": "Serena McDonnell",
      "photoUrl": "https://lh6.googleusercontent.com/-JmIrApkMmrs/AAAAAAAAAAI/AAAAAAAAAX4/aDzVFsN0DI8/s64/photo.jpg",
      "userId": "16211942504315209678"
     },
     "user_tz": 300
    },
    "id": "vFs6ssLXQdeT",
    "outputId": "b5cdb2bb-3a64-420c-de57-cba30a885ab5"
   },
   "outputs": [
    {
     "name": "stdout",
     "output_type": "stream",
     "text": [
      "There are 8 cpus.\n"
     ]
    }
   ],
   "source": [
    "print(\"There are {} cpus.\".format(cpu_count()))"
   ]
  },
  {
   "cell_type": "markdown",
   "metadata": {
    "colab_type": "text",
    "id": "FmTryWexcCE_"
   },
   "source": [
    "As there are only two cpu's, we can split the sessions in half"
   ]
  },
  {
   "cell_type": "code",
   "execution_count": 13,
   "metadata": {
    "colab": {},
    "colab_type": "code",
    "id": "bGTy8LfCVDIE"
   },
   "outputs": [],
   "source": [
    "unique_sessions = df.session_id.unique()\n",
    "nb_unique = unique_sessions.shape[0]\n",
    "first_half = df[df.session_id.isin(unique_sessions[:nb_unique//2])]\n",
    "first_half.to_csv(os.path.join(data_dir, \"first_half.csv\"), index=False)\n",
    "second_half = df[df.session_id.isin(unique_sessions[nb_unique//2:])]\n",
    "second_half.to_csv(os.path.join(data_dir, \"second_half.csv\"), index=False)"
   ]
  },
  {
   "cell_type": "markdown",
   "metadata": {
    "colab_type": "text",
    "id": "XQnZ0My8d3Lj"
   },
   "source": [
    "2. Create the logic for processing each file, note that the process should read the file inside:\n",
    "\n",
    "**Question:**\n",
    "\n",
    "Can you pass the file to the process directly as an argument? Explore the pros and cons of this.\n"
   ]
  },
  {
   "cell_type": "code",
   "execution_count": 15,
   "metadata": {
    "colab": {},
    "colab_type": "code",
    "id": "dvrBBPacVMOl"
   },
   "outputs": [],
   "source": [
    "feature_functions = []\n",
    "feature_names = []\n",
    "\n",
    "def feature1(group):\n",
    "\n",
    "  clickouts = group['action_type'] == 'clickout item'\n",
    "  \n",
    "  return clickouts.sum()\n",
    "\n",
    "feature_functions.append(feature1)\n",
    "feature_names.append('nb_clickouts')\n",
    "\n",
    "def feature2(group):\n",
    "\n",
    "  if group['action_type'].values[-1] == 'clickout item':\n",
    "\n",
    "    impressions = {imp: 0 for imp in group['impressions'].values[-1].split('|')}\n",
    "    for ref in group['reference'][:-1]:\n",
    "      if ref in impressions:\n",
    "        impressions[ref] += 1\n",
    "\n",
    "    most_interacted = sorted(impressions, key=lambda w: impressions[w])[-1]\n",
    "\n",
    "    if impressions[most_interacted]:\n",
    "      return most_interacted\n",
    "    else:\n",
    "      return -1\n",
    "  else:\n",
    "    return -1 \n",
    "\n",
    "feature_functions.append(feature2)\n",
    "feature_names.append('most_interacted_item')\n",
    "\n",
    "#############################################################\n",
    "############## WRITE A COUPLE OF FEATURES HERE ##############\n",
    "\n",
    "# def feature3(group):\n",
    "  # Write here\n",
    "#  return 3\n",
    "\n",
    "# feature_functions.append(feature3)\n",
    "# feature_names.append('your feature 3')\n",
    "\n",
    "# def feature4(group):\n",
    "  # Write here\n",
    "#  return 4\n",
    "\n",
    "# feature_functions.append(feature4)\n",
    "# feature_names.append('your feature 4')\n",
    "\n",
    "#############################################################\n",
    "\n",
    "\n",
    "def extract_features(group):\n",
    "\n",
    "  return pd.Series([feature(group) for feature in feature_functions], index=feature_names)\n",
    "\n",
    "def process_file(file_path):\n",
    "\n",
    "  smaller_df = pd.read_csv(file_path)\n",
    "\n",
    "  return smaller_df.groupby('session_id', as_index=False).apply(extract_features)"
   ]
  },
  {
   "cell_type": "code",
   "execution_count": null,
   "metadata": {
    "colab": {},
    "colab_type": "code",
    "id": "hTSFLLT8dIn3"
   },
   "outputs": [],
   "source": [
    "pool = Pool(2)\n",
    "file_names = [os.path.join(data_dir, 'first_half.csv'), os.path.join(data_dir, 'second_half.csv')]\n",
    "features = pool.map(process_file, file_names)\n",
    "pool.terminate()"
   ]
  },
  {
   "cell_type": "code",
   "execution_count": null,
   "metadata": {
    "colab": {
     "base_uri": "https://localhost:8080/",
     "height": 204
    },
    "colab_type": "code",
    "executionInfo": {
     "elapsed": 70131,
     "status": "ok",
     "timestamp": 1572745919012,
     "user": {
      "displayName": "Felipe Perez",
      "photoUrl": "https://lh3.googleusercontent.com/a-/AAuE7mAlzl1P5N6zcpeIpQs5IsiUkcxTSQSPDhTtpHRG=s64",
      "userId": "00425449054874410322"
     },
     "user_tz": 240
    },
    "id": "_F-kkUGHdKzW",
    "outputId": "e94b8e30-5130-4a27-cc4f-2e2d8e8260ce"
   },
   "outputs": [],
   "source": [
    "features[0].head(5)"
   ]
  },
  {
   "cell_type": "markdown",
   "metadata": {
    "colab_type": "text",
    "id": "yvA3aJi8uaNi"
   },
   "source": [
    "Let's benchmark the time it takes to do this computations with and without "
   ]
  },
  {
   "cell_type": "code",
   "execution_count": null,
   "metadata": {
    "colab": {
     "base_uri": "https://localhost:8080/",
     "height": 34
    },
    "colab_type": "code",
    "executionInfo": {
     "elapsed": 123364,
     "status": "ok",
     "timestamp": 1572745972256,
     "user": {
      "displayName": "Felipe Perez",
      "photoUrl": "https://lh3.googleusercontent.com/a-/AAuE7mAlzl1P5N6zcpeIpQs5IsiUkcxTSQSPDhTtpHRG=s64",
      "userId": "00425449054874410322"
     },
     "user_tz": 240
    },
    "id": "2HaLVvnBdQTQ",
    "outputId": "a15df6de-ddb5-461b-bd26-5d1de375ba4a"
   },
   "outputs": [],
   "source": [
    "start_time = time()\n",
    "pool = Pool(2)\n",
    "file_names = [os.path.join(data_dir, 'first_half.csv'), os.path.join(data_dir, 'second_half.csv')]\n",
    "features = pool.map(process_file, file_names)\n",
    "pool.terminate()\n",
    "end_time = time()\n",
    "print(\"It took {} seconds\".format(end_time-start_time))"
   ]
  },
  {
   "cell_type": "code",
   "execution_count": null,
   "metadata": {
    "colab": {
     "base_uri": "https://localhost:8080/",
     "height": 34
    },
    "colab_type": "code",
    "executionInfo": {
     "elapsed": 189613,
     "status": "ok",
     "timestamp": 1572746038512,
     "user": {
      "displayName": "Felipe Perez",
      "photoUrl": "https://lh3.googleusercontent.com/a-/AAuE7mAlzl1P5N6zcpeIpQs5IsiUkcxTSQSPDhTtpHRG=s64",
      "userId": "00425449054874410322"
     },
     "user_tz": 240
    },
    "id": "7PrlhUabdS4X",
    "outputId": "be0e2b6e-9ae2-44d0-fd25-17af9d80a73e"
   },
   "outputs": [],
   "source": [
    "start_time = time()\n",
    "df = pd.read_csv(os.path.join(data_dir, \"half_day.csv\"))\n",
    "df.groupby('session_id', as_index=False).apply(extract_features)\n",
    "end_time = time()\n",
    "print(\"It took {} seconds\".format(end_time-start_time))"
   ]
  },
  {
   "cell_type": "markdown",
   "metadata": {
    "colab_type": "text",
    "id": "ZiSKvq7Xxqmr"
   },
   "source": [
    "So, the gain in speed is 20-25%. This increases significantly with the number of cpu's, allowing to a faster iteration process."
   ]
  },
  {
   "cell_type": "code",
   "execution_count": null,
   "metadata": {
    "colab": {},
    "colab_type": "code",
    "id": "CMYVgd9SfKxu"
   },
   "outputs": [],
   "source": []
  }
 ],
 "metadata": {
  "colab": {
   "name": "ranking.ipynb",
   "provenance": []
  },
  "kernelspec": {
   "display_name": "recsys",
   "language": "python",
   "name": "recsys"
  },
  "language_info": {
   "codemirror_mode": {
    "name": "ipython",
    "version": 3
   },
   "file_extension": ".py",
   "mimetype": "text/x-python",
   "name": "python",
   "nbconvert_exporter": "python",
   "pygments_lexer": "ipython3",
   "version": "3.7.4"
  }
 },
 "nbformat": 4,
 "nbformat_minor": 4
}
