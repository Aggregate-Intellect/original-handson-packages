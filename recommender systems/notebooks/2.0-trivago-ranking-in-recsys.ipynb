{
 "cells": [
  {
   "cell_type": "markdown",
   "metadata": {},
   "source": [
    "# Ranking in RecSys"
   ]
  },
  {
   "cell_type": "code",
   "execution_count": 1,
   "metadata": {
    "colab": {},
    "colab_type": "code",
    "id": "eOmzKZynDbQ3"
   },
   "outputs": [],
   "source": [
    "import os\n",
    "from time import time\n",
    "import numpy as np\n",
    "import pandas as pd\n",
    "import matplotlib.pyplot as plt\n",
    "from multiprocessing import cpu_count, Pool"
   ]
  },
  {
   "cell_type": "markdown",
   "metadata": {
    "colab_type": "text",
    "id": "MoVfH-ttH8NM"
   },
   "source": [
    "As always we first mount the folder where the dat is contained"
   ]
  },
  {
   "cell_type": "code",
   "execution_count": 2,
   "metadata": {
    "colab": {
     "base_uri": "https://localhost:8080/",
     "height": 34
    },
    "colab_type": "code",
    "executionInfo": {
     "elapsed": 4018,
     "status": "ok",
     "timestamp": 1573088099134,
     "user": {
      "displayName": "Serena McDonnell",
      "photoUrl": "https://lh6.googleusercontent.com/-JmIrApkMmrs/AAAAAAAAAAI/AAAAAAAAAX4/aDzVFsN0DI8/s64/photo.jpg",
      "userId": "16211942504315209678"
     },
     "user_tz": 300
    },
    "id": "NtVoo8xwDml3",
    "outputId": "9e8a56ab-f6d6-4cc2-ebd4-b439ce418265"
   },
   "outputs": [
    {
     "data": {
      "text/plain": [
       "['first_half.csv', 'half_day.csv', 'second_half.csv']"
      ]
     },
     "execution_count": 2,
     "metadata": {},
     "output_type": "execute_result"
    }
   ],
   "source": [
    "data_dir = \"../data/trivago\"\n",
    "\n",
    "os.listdir(data_dir)"
   ]
  },
  {
   "cell_type": "markdown",
   "metadata": {
    "colab_type": "text",
    "id": "XxWlxKC5ITS6"
   },
   "source": [
    "We load the data we will be playing with next. (If you are running this locally with the original dataset run the commented script)"
   ]
  },
  {
   "cell_type": "code",
   "execution_count": 3,
   "metadata": {
    "colab": {},
    "colab_type": "code",
    "id": "xgF3el8PDegU"
   },
   "outputs": [],
   "source": [
    "# df = pd.read_csv(os.paht.join(data_dir, \"train.csv\"))\n",
    "# start_time = df['timestamp'].min()\n",
    "# end_time = start_time + 43200  # Half day in seconds\n",
    "# half_day = df[(df['timestamp'] >= start_time) & (df['timestamp'] < end_time)]\n",
    "# half_day.to_csv(\"../data/trivago/half_day.csv\", index=False)\n",
    "\n",
    "df = pd.read_csv(os.path.join(data_dir, \"half_day.csv\"))"
   ]
  },
  {
   "cell_type": "markdown",
   "metadata": {
    "colab_type": "text",
    "id": "i3zPTlZQI-HB"
   },
   "source": [
    "As always it is a good idea to understand the data a little bit. We collect some simple stats. The rows look as follows"
   ]
  },
  {
   "cell_type": "code",
   "execution_count": 6,
   "metadata": {
    "colab": {
     "base_uri": "https://localhost:8080/",
     "height": 924
    },
    "colab_type": "code",
    "executionInfo": {
     "elapsed": 568,
     "status": "ok",
     "timestamp": 1573088122695,
     "user": {
      "displayName": "Serena McDonnell",
      "photoUrl": "https://lh6.googleusercontent.com/-JmIrApkMmrs/AAAAAAAAAAI/AAAAAAAAAX4/aDzVFsN0DI8/s64/photo.jpg",
      "userId": "16211942504315209678"
     },
     "user_tz": 300
    },
    "id": "qGJRcQifHltg",
    "outputId": "214d5489-4e20-48dc-8de9-18935d707905"
   },
   "outputs": [
    {
     "data": {
      "text/html": [
       "<div>\n",
       "<style scoped>\n",
       "    .dataframe tbody tr th:only-of-type {\n",
       "        vertical-align: middle;\n",
       "    }\n",
       "\n",
       "    .dataframe tbody tr th {\n",
       "        vertical-align: top;\n",
       "    }\n",
       "\n",
       "    .dataframe thead th {\n",
       "        text-align: right;\n",
       "    }\n",
       "</style>\n",
       "<table border=\"1\" class=\"dataframe\">\n",
       "  <thead>\n",
       "    <tr style=\"text-align: right;\">\n",
       "      <th></th>\n",
       "      <th>user_id</th>\n",
       "      <th>session_id</th>\n",
       "      <th>timestamp</th>\n",
       "      <th>step</th>\n",
       "      <th>action_type</th>\n",
       "      <th>reference</th>\n",
       "      <th>platform</th>\n",
       "      <th>city</th>\n",
       "      <th>device</th>\n",
       "      <th>current_filters</th>\n",
       "      <th>impressions</th>\n",
       "      <th>prices</th>\n",
       "    </tr>\n",
       "  </thead>\n",
       "  <tbody>\n",
       "    <tr>\n",
       "      <th>487135</th>\n",
       "      <td>OZK6Y8Y0PEYP</td>\n",
       "      <td>25d619d0e774c</td>\n",
       "      <td>1541052980</td>\n",
       "      <td>24</td>\n",
       "      <td>clickout item</td>\n",
       "      <td>59273</td>\n",
       "      <td>US</td>\n",
       "      <td>Anaheim, USA</td>\n",
       "      <td>desktop</td>\n",
       "      <td>NaN</td>\n",
       "      <td>68839|76794|7305266|60073|61222|64756|64771|79...</td>\n",
       "      <td>111|148|260|156|182|210|126|108|150|244|186|15...</td>\n",
       "    </tr>\n",
       "    <tr>\n",
       "      <th>502370</th>\n",
       "      <td>QJ02TVUT5C7O</td>\n",
       "      <td>20bf2517dcae9</td>\n",
       "      <td>1541041955</td>\n",
       "      <td>85</td>\n",
       "      <td>interaction item image</td>\n",
       "      <td>2264994</td>\n",
       "      <td>MY</td>\n",
       "      <td>Georgetown, Malaysia</td>\n",
       "      <td>mobile</td>\n",
       "      <td>NaN</td>\n",
       "      <td>NaN</td>\n",
       "      <td>NaN</td>\n",
       "    </tr>\n",
       "    <tr>\n",
       "      <th>246871</th>\n",
       "      <td>Q0ZSAGN6SBO0</td>\n",
       "      <td>829c543e5903e</td>\n",
       "      <td>1541058574</td>\n",
       "      <td>4</td>\n",
       "      <td>search for destination</td>\n",
       "      <td>Kulim, Malaysia</td>\n",
       "      <td>MY</td>\n",
       "      <td>Kulim, Malaysia</td>\n",
       "      <td>mobile</td>\n",
       "      <td>NaN</td>\n",
       "      <td>NaN</td>\n",
       "      <td>NaN</td>\n",
       "    </tr>\n",
       "    <tr>\n",
       "      <th>689607</th>\n",
       "      <td>UBTV6MFHM90M</td>\n",
       "      <td>fd0277bf70872</td>\n",
       "      <td>1541070491</td>\n",
       "      <td>111</td>\n",
       "      <td>interaction item image</td>\n",
       "      <td>1135904</td>\n",
       "      <td>JP</td>\n",
       "      <td>Tokyo, Japan</td>\n",
       "      <td>mobile</td>\n",
       "      <td>NaN</td>\n",
       "      <td>NaN</td>\n",
       "      <td>NaN</td>\n",
       "    </tr>\n",
       "    <tr>\n",
       "      <th>551770</th>\n",
       "      <td>N6QCQLSQ51X8</td>\n",
       "      <td>e94df541558e4</td>\n",
       "      <td>1541039516</td>\n",
       "      <td>9</td>\n",
       "      <td>clickout item</td>\n",
       "      <td>44752</td>\n",
       "      <td>CA</td>\n",
       "      <td>Toronto, Canada</td>\n",
       "      <td>desktop</td>\n",
       "      <td>NaN</td>\n",
       "      <td>44350|44351|44440|3148620|44311|44566|3053490|...</td>\n",
       "      <td>99|134|154|144|111|99|117|154|146|128|229|136|...</td>\n",
       "    </tr>\n",
       "    <tr>\n",
       "      <th>29146</th>\n",
       "      <td>M1ZFOGB8AYP1</td>\n",
       "      <td>61e13af57aab7</td>\n",
       "      <td>1541051121</td>\n",
       "      <td>68</td>\n",
       "      <td>interaction item image</td>\n",
       "      <td>6048454</td>\n",
       "      <td>BR</td>\n",
       "      <td>Natal, Brazil</td>\n",
       "      <td>mobile</td>\n",
       "      <td>NaN</td>\n",
       "      <td>NaN</td>\n",
       "      <td>NaN</td>\n",
       "    </tr>\n",
       "    <tr>\n",
       "      <th>943206</th>\n",
       "      <td>UFBCARVNIIQ3</td>\n",
       "      <td>c10e5429bda42</td>\n",
       "      <td>1541037570</td>\n",
       "      <td>24</td>\n",
       "      <td>interaction item image</td>\n",
       "      <td>42986</td>\n",
       "      <td>US</td>\n",
       "      <td>Playa del Carmen, Mexico</td>\n",
       "      <td>mobile</td>\n",
       "      <td>NaN</td>\n",
       "      <td>NaN</td>\n",
       "      <td>NaN</td>\n",
       "    </tr>\n",
       "    <tr>\n",
       "      <th>694869</th>\n",
       "      <td>ZM5OQLZSCQH0</td>\n",
       "      <td>39f74867df5bc</td>\n",
       "      <td>1541050544</td>\n",
       "      <td>1</td>\n",
       "      <td>search for destination</td>\n",
       "      <td>Kobe, Japan</td>\n",
       "      <td>JP</td>\n",
       "      <td>Kobe, Japan</td>\n",
       "      <td>mobile</td>\n",
       "      <td>NaN</td>\n",
       "      <td>NaN</td>\n",
       "      <td>NaN</td>\n",
       "    </tr>\n",
       "    <tr>\n",
       "      <th>865306</th>\n",
       "      <td>KEEM2395NPQ2</td>\n",
       "      <td>898078d2d6984</td>\n",
       "      <td>1541071131</td>\n",
       "      <td>6</td>\n",
       "      <td>search for destination</td>\n",
       "      <td>Nikko, Japan</td>\n",
       "      <td>JP</td>\n",
       "      <td>Nikko, Japan</td>\n",
       "      <td>mobile</td>\n",
       "      <td>Focus on Distance</td>\n",
       "      <td>NaN</td>\n",
       "      <td>NaN</td>\n",
       "    </tr>\n",
       "    <tr>\n",
       "      <th>765091</th>\n",
       "      <td>Q1XSYUCZN4C5</td>\n",
       "      <td>69dd25bc367dd</td>\n",
       "      <td>1541053867</td>\n",
       "      <td>1</td>\n",
       "      <td>clickout item</td>\n",
       "      <td>3201518</td>\n",
       "      <td>MX</td>\n",
       "      <td>Mazatlán, Mexico</td>\n",
       "      <td>mobile</td>\n",
       "      <td>NaN</td>\n",
       "      <td>3201518|4272778|2567004|2684702|2896424|967707...</td>\n",
       "      <td>16|21|22|22|20|15|20|20|54|65|42|49|70|52|52|6...</td>\n",
       "    </tr>\n",
       "    <tr>\n",
       "      <th>76100</th>\n",
       "      <td>UG14PLLCRNE1</td>\n",
       "      <td>0c9d7a9909ab0</td>\n",
       "      <td>1541053752</td>\n",
       "      <td>1</td>\n",
       "      <td>search for destination</td>\n",
       "      <td>Pasay, Philippines</td>\n",
       "      <td>PH</td>\n",
       "      <td>Pasay, Philippines</td>\n",
       "      <td>mobile</td>\n",
       "      <td>NaN</td>\n",
       "      <td>NaN</td>\n",
       "      <td>NaN</td>\n",
       "    </tr>\n",
       "    <tr>\n",
       "      <th>926197</th>\n",
       "      <td>B2HW9QX1XQTO</td>\n",
       "      <td>e346a6fc464ec</td>\n",
       "      <td>1541053617</td>\n",
       "      <td>78</td>\n",
       "      <td>interaction item image</td>\n",
       "      <td>2780600</td>\n",
       "      <td>MX</td>\n",
       "      <td>Bacalar, Mexico</td>\n",
       "      <td>mobile</td>\n",
       "      <td>NaN</td>\n",
       "      <td>NaN</td>\n",
       "      <td>NaN</td>\n",
       "    </tr>\n",
       "    <tr>\n",
       "      <th>374650</th>\n",
       "      <td>22CB7FK6QFVY</td>\n",
       "      <td>cd4a9d89b12f2</td>\n",
       "      <td>1541071744</td>\n",
       "      <td>2</td>\n",
       "      <td>interaction item image</td>\n",
       "      <td>1962497</td>\n",
       "      <td>AE</td>\n",
       "      <td>Fujairah, United Arab Emirates</td>\n",
       "      <td>mobile</td>\n",
       "      <td>NaN</td>\n",
       "      <td>NaN</td>\n",
       "      <td>NaN</td>\n",
       "    </tr>\n",
       "    <tr>\n",
       "      <th>829282</th>\n",
       "      <td>7BR4F2UCDXPB</td>\n",
       "      <td>e548760e3a973</td>\n",
       "      <td>1541041030</td>\n",
       "      <td>23</td>\n",
       "      <td>interaction item image</td>\n",
       "      <td>3133143</td>\n",
       "      <td>BR</td>\n",
       "      <td>Foz do Iguaçu, Brazil</td>\n",
       "      <td>mobile</td>\n",
       "      <td>NaN</td>\n",
       "      <td>NaN</td>\n",
       "      <td>NaN</td>\n",
       "    </tr>\n",
       "    <tr>\n",
       "      <th>190761</th>\n",
       "      <td>TZRN2YF391CW</td>\n",
       "      <td>25576ec089b4a</td>\n",
       "      <td>1541050817</td>\n",
       "      <td>145</td>\n",
       "      <td>interaction item image</td>\n",
       "      <td>3188122</td>\n",
       "      <td>TR</td>\n",
       "      <td>Göreme, Turkey</td>\n",
       "      <td>desktop</td>\n",
       "      <td>NaN</td>\n",
       "      <td>NaN</td>\n",
       "      <td>NaN</td>\n",
       "    </tr>\n",
       "    <tr>\n",
       "      <th>455763</th>\n",
       "      <td>R46IHXGD9EP4</td>\n",
       "      <td>b229fef99b9b9</td>\n",
       "      <td>1541039760</td>\n",
       "      <td>217</td>\n",
       "      <td>interaction item image</td>\n",
       "      <td>479266</td>\n",
       "      <td>BR</td>\n",
       "      <td>Salvador Bahia, Brazil</td>\n",
       "      <td>desktop</td>\n",
       "      <td>NaN</td>\n",
       "      <td>NaN</td>\n",
       "      <td>NaN</td>\n",
       "    </tr>\n",
       "    <tr>\n",
       "      <th>722188</th>\n",
       "      <td>TARRGD2D6761</td>\n",
       "      <td>6c7f4ebb85476</td>\n",
       "      <td>1541062258</td>\n",
       "      <td>5</td>\n",
       "      <td>filter selection</td>\n",
       "      <td>Best Value</td>\n",
       "      <td>TR</td>\n",
       "      <td>Ankara, Turkey</td>\n",
       "      <td>desktop</td>\n",
       "      <td>Best Value</td>\n",
       "      <td>NaN</td>\n",
       "      <td>NaN</td>\n",
       "    </tr>\n",
       "    <tr>\n",
       "      <th>622605</th>\n",
       "      <td>QBJ1DYF687AY</td>\n",
       "      <td>be3cbbb42d230</td>\n",
       "      <td>1541051372</td>\n",
       "      <td>2</td>\n",
       "      <td>interaction item rating</td>\n",
       "      <td>349036</td>\n",
       "      <td>MX</td>\n",
       "      <td>Guadalajara, Mexico</td>\n",
       "      <td>mobile</td>\n",
       "      <td>NaN</td>\n",
       "      <td>NaN</td>\n",
       "      <td>NaN</td>\n",
       "    </tr>\n",
       "    <tr>\n",
       "      <th>535953</th>\n",
       "      <td>DUDT1JA48T3V</td>\n",
       "      <td>6f448b7fcee45</td>\n",
       "      <td>1541066426</td>\n",
       "      <td>1</td>\n",
       "      <td>clickout item</td>\n",
       "      <td>77283</td>\n",
       "      <td>US</td>\n",
       "      <td>Tacoma, USA</td>\n",
       "      <td>mobile</td>\n",
       "      <td>NaN</td>\n",
       "      <td>77283|1078342|153900|2022941|64285|65053|66897...</td>\n",
       "      <td>134|89|82|43|91|67|122|62|63|70|71|126|75|102|...</td>\n",
       "    </tr>\n",
       "    <tr>\n",
       "      <th>377178</th>\n",
       "      <td>IJQDED0R3Z4R</td>\n",
       "      <td>42c324ec97588</td>\n",
       "      <td>1541070147</td>\n",
       "      <td>15</td>\n",
       "      <td>interaction item image</td>\n",
       "      <td>48976</td>\n",
       "      <td>FR</td>\n",
       "      <td>Honfleur, France</td>\n",
       "      <td>tablet</td>\n",
       "      <td>NaN</td>\n",
       "      <td>NaN</td>\n",
       "      <td>NaN</td>\n",
       "    </tr>\n",
       "  </tbody>\n",
       "</table>\n",
       "</div>"
      ],
      "text/plain": [
       "             user_id  ...                                             prices\n",
       "487135  OZK6Y8Y0PEYP  ...  111|148|260|156|182|210|126|108|150|244|186|15...\n",
       "502370  QJ02TVUT5C7O  ...                                                NaN\n",
       "246871  Q0ZSAGN6SBO0  ...                                                NaN\n",
       "689607  UBTV6MFHM90M  ...                                                NaN\n",
       "551770  N6QCQLSQ51X8  ...  99|134|154|144|111|99|117|154|146|128|229|136|...\n",
       "29146   M1ZFOGB8AYP1  ...                                                NaN\n",
       "943206  UFBCARVNIIQ3  ...                                                NaN\n",
       "694869  ZM5OQLZSCQH0  ...                                                NaN\n",
       "865306  KEEM2395NPQ2  ...                                                NaN\n",
       "765091  Q1XSYUCZN4C5  ...  16|21|22|22|20|15|20|20|54|65|42|49|70|52|52|6...\n",
       "76100   UG14PLLCRNE1  ...                                                NaN\n",
       "926197  B2HW9QX1XQTO  ...                                                NaN\n",
       "374650  22CB7FK6QFVY  ...                                                NaN\n",
       "829282  7BR4F2UCDXPB  ...                                                NaN\n",
       "190761  TZRN2YF391CW  ...                                                NaN\n",
       "455763  R46IHXGD9EP4  ...                                                NaN\n",
       "722188  TARRGD2D6761  ...                                                NaN\n",
       "622605  QBJ1DYF687AY  ...                                                NaN\n",
       "535953  DUDT1JA48T3V  ...  134|89|82|43|91|67|122|62|63|70|71|126|75|102|...\n",
       "377178  IJQDED0R3Z4R  ...                                                NaN\n",
       "\n",
       "[20 rows x 12 columns]"
      ]
     },
     "execution_count": 6,
     "metadata": {
      "tags": []
     },
     "output_type": "execute_result"
    }
   ],
   "source": [
    "df.sample(20)"
   ]
  },
  {
   "cell_type": "markdown",
   "metadata": {
    "colab_type": "text",
    "id": "uAqQgKI-JRpE"
   },
   "source": [
    "Let's count the different session_id's that we have as well as the user_id's."
   ]
  },
  {
   "cell_type": "code",
   "execution_count": 4,
   "metadata": {
    "colab": {
     "base_uri": "https://localhost:8080/",
     "height": 238
    },
    "colab_type": "code",
    "executionInfo": {
     "elapsed": 1392,
     "status": "ok",
     "timestamp": 1573088125770,
     "user": {
      "displayName": "Serena McDonnell",
      "photoUrl": "https://lh6.googleusercontent.com/-JmIrApkMmrs/AAAAAAAAAAI/AAAAAAAAAX4/aDzVFsN0DI8/s64/photo.jpg",
      "userId": "16211942504315209678"
     },
     "user_tz": 300
    },
    "id": "TJ-G2HTrJFP7",
    "outputId": "a6f842cf-cb61-4bf5-aa78-e723031a56ab"
   },
   "outputs": [
    {
     "data": {
      "text/plain": [
       "user_id            54270\n",
       "session_id         58308\n",
       "timestamp          43141\n",
       "step                1756\n",
       "action_type           10\n",
       "reference          84383\n",
       "platform              55\n",
       "city               10464\n",
       "device                 3\n",
       "current_filters     7011\n",
       "impressions        68573\n",
       "prices             68776\n",
       "dtype: int64"
      ]
     },
     "execution_count": 4,
     "metadata": {},
     "output_type": "execute_result"
    }
   ],
   "source": [
    "df.nunique()"
   ]
  },
  {
   "cell_type": "markdown",
   "metadata": {
    "colab_type": "text",
    "id": "lXANvy84J9nm"
   },
   "source": [
    "With ~58K sessions, we can easily find the len distribution, in number of steps, of each session. Note the log scale."
   ]
  },
  {
   "cell_type": "code",
   "execution_count": 5,
   "metadata": {
    "colab": {
     "base_uri": "https://localhost:8080/",
     "height": 281
    },
    "colab_type": "code",
    "executionInfo": {
     "elapsed": 1914,
     "status": "ok",
     "timestamp": 1573088129348,
     "user": {
      "displayName": "Serena McDonnell",
      "photoUrl": "https://lh6.googleusercontent.com/-JmIrApkMmrs/AAAAAAAAAAI/AAAAAAAAAX4/aDzVFsN0DI8/s64/photo.jpg",
      "userId": "16211942504315209678"
     },
     "user_tz": 300
    },
    "id": "VjG44Ex4Jzux",
    "outputId": "c049b249-f8e8-4daf-a392-ca747b5d06ea"
   },
   "outputs": [
    {
     "data": {
      "image/png": "[encoded data removed]",
      "text/plain": [
       "<Figure size 432x288 with 1 Axes>"
      ]
     },
     "metadata": {
      "needs_background": "light"
     },
     "output_type": "display_data"
    }
   ],
   "source": [
    "df.groupby('session_id', as_index=False).agg({'step':len}).hist(bins=100, log=True)\n",
    "plt.show()"
   ]
  },
  {
   "cell_type": "markdown",
   "metadata": {
    "colab_type": "text",
    "id": "bsaqGnmWLsOU"
   },
   "source": [
    "Clearly, most of the sessions have a few number of steps. Let's take a look at the number of impressions that the last step has"
   ]
  },
  {
   "cell_type": "code",
   "execution_count": 6,
   "metadata": {
    "colab": {},
    "colab_type": "code",
    "id": "aF7LEmLsKQac"
   },
   "outputs": [],
   "source": [
    "last_step = df.groupby('session_id', as_index=False).agg({'step':max})\n",
    "last_step = last_step.merge(df)"
   ]
  },
  {
   "cell_type": "markdown",
   "metadata": {
    "colab_type": "text",
    "id": "ZC3WTeUuM3qN"
   },
   "source": [
    "Let's only focus on the sessions that have a clickout at the last step."
   ]
  },
  {
   "cell_type": "code",
   "execution_count": 7,
   "metadata": {
    "colab": {},
    "colab_type": "code",
    "id": "j6m9f3vYMptz"
   },
   "outputs": [],
   "source": [
    "last_step = last_step[last_step['action_type']=='clickout item']"
   ]
  },
  {
   "cell_type": "markdown",
   "metadata": {
    "colab_type": "text",
    "id": "HCOUWkW_NOXr"
   },
   "source": [
    "And we can now find the distribution of item that show up in the last step"
   ]
  },
  {
   "cell_type": "code",
   "execution_count": 8,
   "metadata": {
    "colab": {
     "base_uri": "https://localhost:8080/",
     "height": 265
    },
    "colab_type": "code",
    "executionInfo": {
     "elapsed": 869,
     "status": "ok",
     "timestamp": 1573088132744,
     "user": {
      "displayName": "Serena McDonnell",
      "photoUrl": "https://lh6.googleusercontent.com/-JmIrApkMmrs/AAAAAAAAAAI/AAAAAAAAAX4/aDzVFsN0DI8/s64/photo.jpg",
      "userId": "16211942504315209678"
     },
     "user_tz": 300
    },
    "id": "aZu0wFtDMr7-",
    "outputId": "d83f6aa8-f086-418f-edcb-cb969bfdd100"
   },
   "outputs": [
    {
     "data": {
      "image/png": "[encoded data removed]",
      "text/plain": [
       "<Figure size 432x288 with 1 Axes>"
      ]
     },
     "metadata": {
      "needs_background": "light"
     },
     "output_type": "display_data"
    }
   ],
   "source": [
    "last_step['impressions'].apply(lambda lst: len(lst.split('|'))).hist(bins=25)\n",
    "plt.show()"
   ]
  },
  {
   "cell_type": "markdown",
   "metadata": {
    "colab_type": "text",
    "id": "lTgvqKUhOtFG"
   },
   "source": [
    "We will use that list of impressions as the rank provided for trivago, let's evaluate it under the assumption that the reference is the ground truth. "
   ]
  },
  {
   "cell_type": "code",
   "execution_count": 9,
   "metadata": {
    "colab": {
     "base_uri": "https://localhost:8080/",
     "height": 80
    },
    "colab_type": "code",
    "executionInfo": {
     "elapsed": 576,
     "status": "ok",
     "timestamp": 1573088134287,
     "user": {
      "displayName": "Serena McDonnell",
      "photoUrl": "https://lh6.googleusercontent.com/-JmIrApkMmrs/AAAAAAAAAAI/AAAAAAAAAX4/aDzVFsN0DI8/s64/photo.jpg",
      "userId": "16211942504315209678"
     },
     "user_tz": 300
    },
    "id": "6-2wTAC3NnmY",
    "outputId": "d97b52e4-6052-4d09-9974-020e5bf1da00"
   },
   "outputs": [
    {
     "data": {
      "text/html": [
       "<div>\n",
       "<style scoped>\n",
       "    .dataframe tbody tr th:only-of-type {\n",
       "        vertical-align: middle;\n",
       "    }\n",
       "\n",
       "    .dataframe tbody tr th {\n",
       "        vertical-align: top;\n",
       "    }\n",
       "\n",
       "    .dataframe thead th {\n",
       "        text-align: right;\n",
       "    }\n",
       "</style>\n",
       "<table border=\"1\" class=\"dataframe\">\n",
       "  <thead>\n",
       "    <tr style=\"text-align: right;\">\n",
       "      <th></th>\n",
       "      <th>session_id</th>\n",
       "      <th>step</th>\n",
       "      <th>user_id</th>\n",
       "      <th>timestamp</th>\n",
       "      <th>action_type</th>\n",
       "      <th>reference</th>\n",
       "      <th>platform</th>\n",
       "      <th>city</th>\n",
       "      <th>device</th>\n",
       "      <th>current_filters</th>\n",
       "      <th>impressions</th>\n",
       "      <th>prices</th>\n",
       "    </tr>\n",
       "  </thead>\n",
       "  <tbody>\n",
       "    <tr>\n",
       "      <th>0</th>\n",
       "      <td>00000510f1adc</td>\n",
       "      <td>1</td>\n",
       "      <td>WT30CXPIG450</td>\n",
       "      <td>1541064087</td>\n",
       "      <td>clickout item</td>\n",
       "      <td>7281198</td>\n",
       "      <td>IN</td>\n",
       "      <td>Ganpatipule, India</td>\n",
       "      <td>desktop</td>\n",
       "      <td>NaN</td>\n",
       "      <td>2661832|9222426|7051844|4079190|5752778|468398...</td>\n",
       "      <td>46|26|16|38|12|20|21|27|13|21|36|9|144|19|8|19...</td>\n",
       "    </tr>\n",
       "  </tbody>\n",
       "</table>\n",
       "</div>"
      ],
      "text/plain": [
       "      session_id  step       user_id   timestamp    action_type reference  \\\n",
       "0  00000510f1adc     1  WT30CXPIG450  1541064087  clickout item   7281198   \n",
       "\n",
       "  platform                city   device current_filters  \\\n",
       "0       IN  Ganpatipule, India  desktop             NaN   \n",
       "\n",
       "                                         impressions  \\\n",
       "0  2661832|9222426|7051844|4079190|5752778|468398...   \n",
       "\n",
       "                                              prices  \n",
       "0  46|26|16|38|12|20|21|27|13|21|36|9|144|19|8|19...  "
      ]
     },
     "execution_count": 9,
     "metadata": {},
     "output_type": "execute_result"
    }
   ],
   "source": [
    "last_step.head(1)"
   ]
  },
  {
   "cell_type": "markdown",
   "metadata": {
    "colab_type": "text",
    "id": "evH3tkf2P0HH"
   },
   "source": [
    "**Mean Reciprocal Rank**\n",
    "\n",
    "We can easily compute the mean reciprocal rank. "
   ]
  },
  {
   "cell_type": "code",
   "execution_count": 10,
   "metadata": {
    "colab": {
     "base_uri": "https://localhost:8080/",
     "height": 34
    },
    "colab_type": "code",
    "executionInfo": {
     "elapsed": 1615,
     "status": "ok",
     "timestamp": 1573088136639,
     "user": {
      "displayName": "Serena McDonnell",
      "photoUrl": "https://lh6.googleusercontent.com/-JmIrApkMmrs/AAAAAAAAAAI/AAAAAAAAAX4/aDzVFsN0DI8/s64/photo.jpg",
      "userId": "16211942504315209678"
     },
     "user_tz": 300
    },
    "id": "CFcekQvIO4Rj",
    "outputId": "11056204-da4b-49e5-a9a4-76e323e0f315"
   },
   "outputs": [
    {
     "data": {
      "text/plain": [
       "0.5120037333107902"
      ]
     },
     "execution_count": 10,
     "metadata": {},
     "output_type": "execute_result"
    }
   ],
   "source": [
    "def reciprocal_rank(row):\n",
    "\n",
    "  impressions = row['impressions'].split('|')\n",
    "  ref = str(row['reference'])\n",
    "\n",
    "  if ref in impressions:\n",
    "    return 1/(impressions.index(ref) + 1)\n",
    "  \n",
    "  else:\n",
    "    return 0\n",
    "\n",
    "mrr = last_step.apply(reciprocal_rank, axis=1).mean()\n",
    "mrr"
   ]
  },
  {
   "cell_type": "markdown",
   "metadata": {
    "colab_type": "text",
    "id": "ugTk98DJR1Ci"
   },
   "source": [
    "That is, the mrr of trivago ranking is ~ 0.512"
   ]
  },
  {
   "cell_type": "markdown",
   "metadata": {
    "colab_type": "text",
    "id": "unVhFkm-Stun"
   },
   "source": [
    "**Mean Average Precission**\n",
    "\n",
    "For the MAP we need interpret the list as the retrieve documents, and we only have the reference as ground truth."
   ]
  },
  {
   "cell_type": "code",
   "execution_count": 11,
   "metadata": {
    "colab": {
     "base_uri": "https://localhost:8080/",
     "height": 34
    },
    "colab_type": "code",
    "executionInfo": {
     "elapsed": 1708,
     "status": "ok",
     "timestamp": 1573088140534,
     "user": {
      "displayName": "Serena McDonnell",
      "photoUrl": "https://lh6.googleusercontent.com/-JmIrApkMmrs/AAAAAAAAAAI/AAAAAAAAAX4/aDzVFsN0DI8/s64/photo.jpg",
      "userId": "16211942504315209678"
     },
     "user_tz": 300
    },
    "id": "AWs2NIodQZfr",
    "outputId": "e283fdbd-7b53-425c-8a6d-560d681816af"
   },
   "outputs": [
    {
     "data": {
      "text/plain": [
       "0.031102647760853985"
      ]
     },
     "execution_count": 11,
     "metadata": {},
     "output_type": "execute_result"
    }
   ],
   "source": [
    "def average_precission(row):\n",
    "\n",
    "  impressions = row['impressions'].split('|')\n",
    "  ref = str(row['reference'])\n",
    "\n",
    "  if ref in impressions:\n",
    "    total = 0\n",
    "    for i in range(len(impressions)):\n",
    "      if ref == impressions[i]:\n",
    "        total += 1/(i+1)\n",
    "    return total/len(impressions)\n",
    "  else:\n",
    "    return 0\n",
    "\n",
    "mAP = last_step.apply(average_precission, axis=1).mean()\n",
    "mAP"
   ]
  },
  {
   "cell_type": "markdown",
   "metadata": {
    "colab_type": "text",
    "id": "MMMffpvCVb1J"
   },
   "source": [
    "That is the MAP is 0.0311\n",
    "\n",
    "**Questions:** \n",
    "\n",
    "- How does this compare to the MRR? \n",
    "- Is there a way to comparing them? \n",
    "- Changing only one line in the previous code, can you get MRR?"
   ]
  },
  {
   "cell_type": "markdown",
   "metadata": {
    "colab_type": "text",
    "id": "VPX0CKJCauY6"
   },
   "source": [
    "**Feature Generation**\n",
    "\n",
    "Note that in order to create the ranking that Trivago has, they had to generate features. Let's create some features associated to the sessions:\n",
    "\n",
    "A multiprocessing trick: \n",
    "\n",
    "1. Split the dataset on the number of cpu's your enviroment has. In our case we just divide the number of sessions into the number of cpu's. "
   ]
  },
  {
   "cell_type": "code",
   "execution_count": 12,
   "metadata": {
    "colab": {
     "base_uri": "https://localhost:8080/",
     "height": 34
    },
    "colab_type": "code",
    "executionInfo": {
     "elapsed": 542,
     "status": "ok",
     "timestamp": 1573088141999,
     "user": {
      "displayName": "Serena McDonnell",
      "photoUrl": "https://lh6.googleusercontent.com/-JmIrApkMmrs/AAAAAAAAAAI/AAAAAAAAAX4/aDzVFsN0DI8/s64/photo.jpg",
      "userId": "16211942504315209678"
     },
     "user_tz": 300
    },
    "id": "vFs6ssLXQdeT",
    "outputId": "b5cdb2bb-3a64-420c-de57-cba30a885ab5"
   },
   "outputs": [
    {
     "name": "stdout",
     "output_type": "stream",
     "text": [
      "There are 8 cpus.\n"
     ]
    }
   ],
   "source": [
    "print(\"There are {} cpus.\".format(cpu_count()))"
   ]
  },
  {
   "cell_type": "markdown",
   "metadata": {
    "colab_type": "text",
    "id": "FmTryWexcCE_"
   },
   "source": [
    "As there are only two cpu's, we can split the sessions in half"
   ]
  },
  {
   "cell_type": "code",
   "execution_count": 13,
   "metadata": {
    "colab": {},
    "colab_type": "code",
    "id": "bGTy8LfCVDIE"
   },
   "outputs": [],
   "source": [
    "unique_sessions = df.session_id.unique()\n",
    "nb_unique = unique_sessions.shape[0]\n",
    "first_half = df[df.session_id.isin(unique_sessions[:nb_unique//2])]\n",
    "first_half.to_csv(os.path.join(data_dir, \"first_half.csv\"), index=False)\n",
    "second_half = df[df.session_id.isin(unique_sessions[nb_unique//2:])]\n",
    "second_half.to_csv(os.path.join(data_dir, \"second_half.csv\"), index=False)"
   ]
  },
  {
   "cell_type": "markdown",
   "metadata": {
    "colab_type": "text",
    "id": "XQnZ0My8d3Lj"
   },
   "source": [
    "2. Create the logic for processing each file, note that the process should read the file inside:\n",
    "\n",
    "**Question:**\n",
    "\n",
    "Can you pass the file to the process directly as an argument? Explore the pros and cons of this.\n"
   ]
  },
  {
   "cell_type": "code",
   "execution_count": 14,
   "metadata": {
    "colab": {},
    "colab_type": "code",
    "id": "dvrBBPacVMOl"
   },
   "outputs": [],
   "source": [
    "feature_functions = []\n",
    "feature_names = []\n",
    "\n",
    "def feature1(group):\n",
    "\n",
    "  clickouts = group['action_type'] == 'clickout item'\n",
    "  \n",
    "  return clickouts.sum()\n",
    "\n",
    "feature_functions.append(feature1)\n",
    "feature_names.append('nb_clickouts')\n",
    "\n",
    "def feature2(group):\n",
    "\n",
    "  if group['action_type'].values[-1] == 'clickout item':\n",
    "\n",
    "    impressions = {imp: 0 for imp in group['impressions'].values[-1].split('|')}\n",
    "    for ref in group['reference'][:-1]:\n",
    "      if ref in impressions:\n",
    "        impressions[ref] += 1\n",
    "\n",
    "    most_interacted = sorted(impressions, key=lambda w: impressions[w])[-1]\n",
    "\n",
    "    if impressions[most_interacted]:\n",
    "      return most_interacted\n",
    "    else:\n",
    "      return -1\n",
    "  else:\n",
    "    return -1 \n",
    "\n",
    "feature_functions.append(feature2)\n",
    "feature_names.append('most_interacted_item')\n",
    "\n",
    "#############################################################\n",
    "############## WRITE A COUPLE OF FEATURES HERE ##############\n",
    "\n",
    "def feature3(group):\n",
    "  # Write here\n",
    "  return 3\n",
    "\n",
    "feature_functions.append(feature3)\n",
    "feature_names.append('your feature 3')\n",
    "\n",
    "def feature4(group):\n",
    "  # Write here\n",
    "  return 4\n",
    "\n",
    "feature_functions.append(feature4)\n",
    "feature_names.append('your feature 4')\n",
    "\n",
    "#############################################################\n",
    "\n",
    "\n",
    "def extract_features(group):\n",
    "\n",
    "  return pd.Series([feature(group) for feature in feature_functions], index=feature_names)\n",
    "\n",
    "def process_file(file_path):\n",
    "\n",
    "  smaller_df = pd.read_csv(file_path)\n",
    "\n",
    "  return smaller_df.groupby('session_id', as_index=False).apply(extract_features)"
   ]
  },
  {
   "cell_type": "code",
   "execution_count": null,
   "metadata": {
    "colab": {},
    "colab_type": "code",
    "id": "hTSFLLT8dIn3"
   },
   "outputs": [],
   "source": [
    "pool = Pool(2)\n",
    "file_names = [os.path.join(data_dir, 'first_half.csv'), os.path.join(data_dir, 'second_half.csv')]\n",
    "features = pool.map(process_file, file_names)\n",
    "pool.terminate()"
   ]
  },
  {
   "cell_type": "code",
   "execution_count": null,
   "metadata": {
    "colab": {
     "base_uri": "https://localhost:8080/",
     "height": 204
    },
    "colab_type": "code",
    "executionInfo": {
     "elapsed": 70131,
     "status": "ok",
     "timestamp": 1572745919012,
     "user": {
      "displayName": "Felipe Perez",
      "photoUrl": "https://lh3.googleusercontent.com/a-/AAuE7mAlzl1P5N6zcpeIpQs5IsiUkcxTSQSPDhTtpHRG=s64",
      "userId": "00425449054874410322"
     },
     "user_tz": 240
    },
    "id": "_F-kkUGHdKzW",
    "outputId": "e94b8e30-5130-4a27-cc4f-2e2d8e8260ce"
   },
   "outputs": [],
   "source": [
    "features[0].head(5)"
   ]
  },
  {
   "cell_type": "markdown",
   "metadata": {
    "colab_type": "text",
    "id": "yvA3aJi8uaNi"
   },
   "source": [
    "Let's benchmark the time it takes to do this computations with and without "
   ]
  },
  {
   "cell_type": "code",
   "execution_count": null,
   "metadata": {
    "colab": {
     "base_uri": "https://localhost:8080/",
     "height": 34
    },
    "colab_type": "code",
    "executionInfo": {
     "elapsed": 123364,
     "status": "ok",
     "timestamp": 1572745972256,
     "user": {
      "displayName": "Felipe Perez",
      "photoUrl": "https://lh3.googleusercontent.com/a-/AAuE7mAlzl1P5N6zcpeIpQs5IsiUkcxTSQSPDhTtpHRG=s64",
      "userId": "00425449054874410322"
     },
     "user_tz": 240
    },
    "id": "2HaLVvnBdQTQ",
    "outputId": "a15df6de-ddb5-461b-bd26-5d1de375ba4a"
   },
   "outputs": [],
   "source": [
    "start_time = time()\n",
    "pool = Pool(2)\n",
    "file_names = [os.path.join(data_dir, 'first_half.csv'), os.path.join(data_dir, 'second_half.csv')]\n",
    "features = pool.map(process_file, file_names)\n",
    "pool.terminate()\n",
    "end_time = time()\n",
    "print(\"It took {} seconds\".format(end_time-start_time))"
   ]
  },
  {
   "cell_type": "code",
   "execution_count": null,
   "metadata": {
    "colab": {
     "base_uri": "https://localhost:8080/",
     "height": 34
    },
    "colab_type": "code",
    "executionInfo": {
     "elapsed": 189613,
     "status": "ok",
     "timestamp": 1572746038512,
     "user": {
      "displayName": "Felipe Perez",
      "photoUrl": "https://lh3.googleusercontent.com/a-/AAuE7mAlzl1P5N6zcpeIpQs5IsiUkcxTSQSPDhTtpHRG=s64",
      "userId": "00425449054874410322"
     },
     "user_tz": 240
    },
    "id": "7PrlhUabdS4X",
    "outputId": "be0e2b6e-9ae2-44d0-fd25-17af9d80a73e"
   },
   "outputs": [],
   "source": [
    "start_time = time()\n",
    "df = pd.read_csv(os.path.join(data_dir, \"half_day.csv\"))\n",
    "df.groupby('session_id', as_index=False).apply(extract_features)\n",
    "end_time = time()\n",
    "print(\"It took {} seconds\".format(end_time-start_time))"
   ]
  },
  {
   "cell_type": "markdown",
   "metadata": {
    "colab_type": "text",
    "id": "ZiSKvq7Xxqmr"
   },
   "source": [
    "So, the gain in speed is 20-25%. This increases significantly with the number of cpu's, allowing to a faster iteration process."
   ]
  },
  {
   "cell_type": "code",
   "execution_count": null,
   "metadata": {
    "colab": {},
    "colab_type": "code",
    "id": "CMYVgd9SfKxu"
   },
   "outputs": [],
   "source": []
  }
 ],
 "metadata": {
  "colab": {
   "name": "ranking.ipynb",
   "provenance": []
  },
  "kernelspec": {
   "display_name": "Python 3",
   "language": "python",
   "name": "python3"
  },
  "language_info": {
   "codemirror_mode": {
    "name": "ipython",
    "version": 3
   },
   "file_extension": ".py",
   "mimetype": "text/x-python",
   "name": "python",
   "nbconvert_exporter": "python",
   "pygments_lexer": "ipython3",
   "version": "3.8.5"
  }
 },
 "nbformat": 4,
 "nbformat_minor": 4
}
